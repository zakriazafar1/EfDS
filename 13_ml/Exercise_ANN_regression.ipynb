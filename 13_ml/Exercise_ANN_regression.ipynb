{
 "cells": [
  {
   "cell_type": "code",
   "execution_count": 1,
   "metadata": {
    "scrolled": true
   },
   "outputs": [],
   "source": [
    "from sklearn.model_selection import train_test_split\n",
    "from sklearn.preprocessing import normalize\n",
    "import tensorflow as tf\n",
    "from sklearn.metrics import mean_squared_error\n",
    "from sklearn.metrics import accuracy_score\n",
    "from sklearn.preprocessing import StandardScaler\n",
    "from sklearn.metrics import r2_score\n",
    "import numpy as np\n",
    "import pandas as pd\n",
    "import matplotlib.pylab as plt\n",
    "import seaborn as sns\n",
    "from sklearn.utils import shuffle\n",
    "import time\n",
    "from itertools import chain, combinations, permutations\n",
    "from IPython.display import Image, display\n",
    "import urllib.request"
   ]
  },
  {
   "cell_type": "code",
   "execution_count": 2,
   "metadata": {
    "scrolled": true
   },
   "outputs": [],
   "source": [
    "import keras\n",
    "from keras.models import Sequential\n",
    "from keras.layers import Dense\n",
    "from keras.layers import Dropout\n",
    "from keras.optimizers import Adam\n",
    "from sklearn.pipeline import Pipeline"
   ]
  },
  {
   "cell_type": "markdown",
   "metadata": {},
   "source": [
    "# Challenge: Neural network regressor to predict photometric redshifts\n",
    "In observational astronomy, measuring the redshift of a galaxy tells us how far away it is, and thus provides crucial information about the structure and evolution of the universe.\n",
    "\n",
    "Traditionally, redshifts are measured using spectroscopy, which provides highly accurate values but is expensive and time-consuming — suitable only for a limited number of objects.\n",
    "\n",
    "To overcome this, astronomers often use photometric redshifts (photo-z): estimates of a galaxy’s redshift derived from its brightness (magnitude) in a few broad photometric bands (e.g., ugriz, JHK). These estimates are much faster to obtain, but less precise.\n",
    "\n",
    "Goal: Build a supervised regression model that predicts the redshift of galaxies from their photometric features using a neural network. Use the spectroscopic redshift 'z' as your label for the supervision of the model."
   ]
  },
  {
   "cell_type": "code",
   "execution_count": 3,
   "metadata": {},
   "outputs": [],
   "source": [
    "url = 'https://www.researchgate.net/profile/Yuming-Fu/publication/344192975/figure/fig1/AS:993821525565440@1613956924645/Photometric-redshift-obtained-with-XGBoost-regression-model-against-spectral-redshift-of.png'"
   ]
  },
  {
   "cell_type": "code",
   "execution_count": 4,
   "metadata": {},
   "outputs": [
    {
     "data": {
      "text/html": [
       "<img src=\"https://www.researchgate.net/profile/Yuming-Fu/publication/344192975/figure/fig1/AS:993821525565440@1613956924645/Photometric-redshift-obtained-with-XGBoost-regression-model-against-spectral-redshift-of.png\"/>"
      ],
      "text/plain": [
       "<IPython.core.display.Image object>"
      ]
     },
     "metadata": {},
     "output_type": "display_data"
    }
   ],
   "source": [
    "display(Image(url=url))\n",
    "## Example figure!!! from Yuming Fu et al 2021 ApJS 254 6 (this is not what you will reproduce, but quite similar)"
   ]
  },
  {
   "cell_type": "markdown",
   "metadata": {},
   "source": [
    "# A) The data"
   ]
  },
  {
   "cell_type": "markdown",
   "metadata": {},
   "source": [
    "The data is based on the Sloan Digital Sky Survey (SDSS) DR16. Each row is a galaxy, and it contains 66 features + the spectroscopic redshift which is our label (supervised learning)\n",
    "The features include:\n",
    "\n",
    "- u,g,r,i,z: magnitudes of the objects in the SDSS. These represent the fluxes of light measured in logarithmic units, through various bands from the ultraviolet to the infrared\n",
    "- 'ra' (right ascension) and 'dec' (declination): position of the object in the sky\n",
    "- expRad: radius of the object\n",
    "- expRadErr: error in the radius estimate\n",
    "- 'z': spectroscopic redshift (or true redshift)\n",
    "\n",
    "Please first download the training set from this link: https://drive.google.com/file/d/1C0cgPM2WkoB7m9eTYNftM3OGUO7Aqaee/view?usp=sharing"
   ]
  },
  {
   "cell_type": "code",
   "execution_count": null,
   "metadata": {
    "scrolled": true
   },
   "outputs": [],
   "source": [
    "training = pd.read_csv('DR16_trainingset.csv')\n",
    "validation = pd.read_csv('DR16_validationset.csv')\n",
    "testing = pd.read_csv('DR16_testingset.csv')"
   ]
  },
  {
   "cell_type": "code",
   "execution_count": null,
   "metadata": {},
   "outputs": [],
   "source": [
    "training.keys()"
   ]
  },
  {
   "cell_type": "markdown",
   "metadata": {},
   "source": [
    "#### Answer the following questions:\n",
    "\n",
    "- The data is already split into training, test, and validation sets. What percentage of the total corresponds to training, validation, and test?\n",
    "\n",
    "- Make a histogram of the total spectroscopic redshift 'z', as well as individual histograms of 'z' for the training, validation, and test sets. Use a log scale on the y-axis. Are these distributions similar? Do you think the splitting into training/validation/test sets was done correctly?\n",
    "\n",
    "- Generate x_train, y_train, x_test, y_test, x_valid, y_valid. Apply a StandardScaler preprocessing step."
   ]
  },
  {
   "cell_type": "markdown",
   "metadata": {},
   "source": [
    "## B) Let's train a neural network!\n",
    "The following cell provides a baseline neural network architecture. Based on this, try the following modifications:\n",
    "\n",
    "- Add more layers and/or increase the number of neurons.\n",
    "\n",
    "- Include additional Dropout layers between Dense layers.\n",
    "\n",
    "- Remove all Dropout layers.\n",
    "\n",
    "- Change the learning rate to 0.1.\n",
    "\n",
    "Observe the effect on the training and validation loss curves for each case.\n",
    "\n",
    "Additionally, how does the model perform at high redshift values (e.g., z > 3)?"
   ]
  },
  {
   "cell_type": "code",
   "execution_count": null,
   "metadata": {},
   "outputs": [],
   "source": [
    "model = keras.Sequential(\n",
    "    [\n",
    "        keras.layers.Input(shape=(66,)),\n",
    "        keras.layers.Dense(30, activation='relu'),\n",
    "        keras.layers.Dropout(0.1),\n",
    "        keras.layers.Dense(10, activation='relu'),\n",
    "        keras.layers.Dense(1, activation='relu')\n",
    "    ]\n",
    ")\n",
    "model.summary()\n",
    "model.compile(loss=tf.keras.losses.mae,\n",
    "              optimizer=tf.keras.optimizers.Adam(learning_rate=0.0001),\n",
    "              metrics=['mae']\n",
    "    )\n",
    "\n",
    "\n",
    "start = time.time()\n",
    "\n",
    "## first define x_train, y_train, x_test, y_test, x_valid, y_valid\n",
    "\n",
    "history = model.fit(x_train,y_train,validation_data=(x_valid, y_valid), batch_size=100, epochs=100, verbose = 1)\n",
    "plt.plot(history.history['loss'],c='r',label='Training')\n",
    "plt.plot(history.history['val_loss'],c='g',label='Validation')\n",
    "plt.title('MAE')\n",
    "plt.ylabel('MAE')\n",
    "plt.xlabel('epoch')\n",
    "plt.legend()\n",
    "plt.show()\n",
    "\n",
    "print('Testing \\n')\n",
    "\n",
    "y_pred = model.predict(x_test)\n",
    "plt.scatter(y_test,y_pred,alpha=0.4,marker=r'$\\clubsuit$',c='g')\n",
    "plt.xlabel('$z_{spec}$')\n",
    "plt.ylabel('$z_{phot}$')\n",
    "plt.show()\n",
    "\n",
    "rms = np.sqrt(np.mean((np.array(pd.DataFrame(y_pred)[0]) - y_test)** 2))\n",
    "print('RMS Testing: ', rms)\n",
    "print('MSE Testing: ', mean_squared_error(y_pred, y_test))\n",
    "print('R2 Testing: ', r2_score(y_test, y_pred))\n",
    "\n",
    "print('Time: ', time.time()- start)\n"
   ]
  }
 ],
 "metadata": {
  "kernelspec": {
   "display_name": "Python [conda env:base] *",
   "language": "python",
   "name": "conda-base-py"
  },
  "language_info": {
   "codemirror_mode": {
    "name": "ipython",
    "version": 3
   },
   "file_extension": ".py",
   "mimetype": "text/x-python",
   "name": "python",
   "nbconvert_exporter": "python",
   "pygments_lexer": "ipython3",
   "version": "3.12.4"
  }
 },
 "nbformat": 4,
 "nbformat_minor": 4
}
