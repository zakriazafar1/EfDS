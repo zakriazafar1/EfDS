{
 "cells": [
  {
   "cell_type": "markdown",
   "id": "ecb30146-6556-4a44-8159-b6773aa60a4c",
   "metadata": {},
   "source": [
    "# Machine learning basics: Exercises"
   ]
  },
  {
   "cell_type": "markdown",
   "id": "0fbe606a-00d4-468f-b3c6-968d841f8d38",
   "metadata": {},
   "source": [
    "## Exercise 1 MNIST data set\n",
    "The MNIST database is a well-known collection of handwritten digit images used for training and testing machine learning algorithms, particularly in the field of image recognition. MNIST stands for Modified National Institute of Standards and Technology database. The database contains 60,000 training examples and 10,000 testing examples. Each example is a grayscale image of a handwritten digit (0 to 9) with a resolution of 28x28 pixels. The images are normalized and centered, making them consistent for analysis\n",
    "\n"
   ]
  },
  {
   "cell_type": "markdown",
   "id": "a0efc9d1-0c5f-4320-a9a3-cdb0c8e6ceb4",
   "metadata": {},
   "source": [
    "#### Goal: train a classification machine learning model to predict the number of a given image\n",
    "The training set is composed of 1797 matrices of the shape 8x8. We can visualise the content of the matrix with the matplotlib function .imshow(). "
   ]
  },
  {
   "cell_type": "code",
   "execution_count": 42,
   "id": "86641d55-e7bb-4731-9b6e-712cb9a209fc",
   "metadata": {},
   "outputs": [],
   "source": [
    "import matplotlib.pyplot as plt\n",
    "import seaborn as sns\n",
    "from sklearn import datasets\n",
    "from sklearn.model_selection import train_test_split\n",
    "from sklearn.svm import SVC\n",
    "from sklearn.metrics import confusion_matrix, classification_report\n",
    "import numpy as np\n",
    "import keras \n",
    "\n",
    "import pandas as pd\n",
    "import matplotlib.pyplot as plt\n",
    "import seaborn as sb\n",
    "import keras\n",
    "from sklearn.model_selection import train_test_split\n",
    "from sklearn.preprocessing import LabelEncoder\n",
    "from sklearn.preprocessing import StandardScaler\n",
    "from sklearn.metrics import accuracy_score, confusion_matrix\n",
    "#Profile.activations()\n"
   ]
  },
  {
   "cell_type": "code",
   "execution_count": null,
   "id": "cafdd743-8ed4-42e8-a02a-b1548abbfedd",
   "metadata": {},
   "outputs": [
    {
     "data": {
      "text/plain": [
       "(360,)"
      ]
     },
     "execution_count": 17,
     "metadata": {},
     "output_type": "execute_result"
    }
   ],
   "source": [
    "digits = datasets.load_digits()\n",
    "X = digits.data  # shape: (1797, 64), each image is 8x8 pixels flattened\n",
    "y = digits.target\n",
    "class_names = digits.target_names"
   ]
  },
  {
   "cell_type": "code",
   "execution_count": 9,
   "id": "ef10e2ea-86c9-4157-bccb-55c44dd41b24",
   "metadata": {},
   "outputs": [
    {
     "data": {
      "text/plain": [
       "(1797, 64)"
      ]
     },
     "execution_count": 9,
     "metadata": {},
     "output_type": "execute_result"
    }
   ],
   "source": [
    "X.shape"
   ]
  },
  {
   "cell_type": "code",
   "execution_count": 11,
   "id": "2fcf7dc6-c1ce-48e1-a496-563fb2c30809",
   "metadata": {},
   "outputs": [
    {
     "data": {
      "image/png": "[encoded data removed]",
      "text/plain": [
       "<Figure size 1000x500 with 10 Axes>"
      ]
     },
     "metadata": {},
     "output_type": "display_data"
    }
   ],
   "source": [
    "fig, axes = plt.subplots(2, 5, figsize=(10, 5))\n",
    "for i, ax in enumerate(axes.flat):\n",
    "    ax.imshow(X[i].reshape(8, 8), cmap=\"gray\")\n",
    "    ax.set_title(f\"Number: {y[i]}\")\n",
    "    ax.axis('off')\n",
    "plt.tight_layout()\n",
    "plt.show()"
   ]
  },
  {
   "cell_type": "code",
   "execution_count": null,
   "id": "92b21e9a-01ca-45f2-8461-5fe3362e298d",
   "metadata": {},
   "outputs": [
    {
     "name": "stdout",
     "output_type": "stream",
     "text": [
      "(1437, 64) float64 0.0 16.0\n",
      "(1437,) int64 0 9\n"
     ]
    },
    {
     "data": {
      "text/plain": [
       "array([0., 0., 0., 0., 0., 0., 0., 0., 0., 1.])"
      ]
     },
     "execution_count": 35,
     "metadata": {},
     "output_type": "execute_result"
    }
   ],
   "source": [
    "# data preparation \n",
    "x_train, x_test, y_train, y_test = train_test_split(X, y, test_size=0.2, random_state=2)\n",
    "\n",
    "# rescale X \n",
    "print(x_train.shape, x_train.dtype, x_train.min(), x_train.max())\n",
    "print(y_train.shape, y_train.dtype, y_train.min(), y_train.max())\n",
    "\n",
    "x_train = x_train/16\n",
    "x_test = x_test/16\n",
    "x_train.min(), x_train.max()\n",
    "\n",
    "# reshape images \n",
    "x_train = x_train.reshape(-1, 8, 8, 1)\n",
    "x_test = x_test.reshape(-1, 8, 8, 1)\n",
    "x_train.shape, x_test.shape\n",
    "\n",
    "# one-hot encoding y \n",
    "y_train_oh = np.eye(10)[y_train]\n",
    "y_test_oh = np.eye(10)[y_test]"
   ]
  },
  {
   "cell_type": "code",
   "execution_count": 46,
   "id": "07c351ff-4de3-4004-ae46-05a460a3b067",
   "metadata": {},
   "outputs": [
    {
     "data": {
      "text/html": [
       "<pre style=\"white-space:pre;overflow-x:auto;line-height:normal;font-family:Menlo,'DejaVu Sans Mono',consolas,'Courier New',monospace\"><span style=\"font-weight: bold\">Model: \"sequential_4\"</span>\n",
       "</pre>\n"
      ],
      "text/plain": [
       "\u001b[1mModel: \"sequential_4\"\u001b[0m\n"
      ]
     },
     "metadata": {},
     "output_type": "display_data"
    },
    {
     "data": {
      "text/html": [
       "<pre style=\"white-space:pre;overflow-x:auto;line-height:normal;font-family:Menlo,'DejaVu Sans Mono',consolas,'Courier New',monospace\">┏━━━━━━━━━━━━━━━━━━━━━━━━━━━━━━━━━┳━━━━━━━━━━━━━━━━━━━━━━━━┳━━━━━━━━━━━━━━━┓\n",
       "┃<span style=\"font-weight: bold\"> Layer (type)                    </span>┃<span style=\"font-weight: bold\"> Output Shape           </span>┃<span style=\"font-weight: bold\">       Param # </span>┃\n",
       "┡━━━━━━━━━━━━━━━━━━━━━━━━━━━━━━━━━╇━━━━━━━━━━━━━━━━━━━━━━━━╇━━━━━━━━━━━━━━━┩\n",
       "│ In (<span style=\"color: #0087ff; text-decoration-color: #0087ff\">Flatten</span>)                    │ (<span style=\"color: #00d7ff; text-decoration-color: #00d7ff\">None</span>, <span style=\"color: #00af00; text-decoration-color: #00af00\">64</span>)             │             <span style=\"color: #00af00; text-decoration-color: #00af00\">0</span> │\n",
       "├─────────────────────────────────┼────────────────────────┼───────────────┤\n",
       "│ L1 (<span style=\"color: #0087ff; text-decoration-color: #0087ff\">Dense</span>)                      │ (<span style=\"color: #00d7ff; text-decoration-color: #00d7ff\">None</span>, <span style=\"color: #00af00; text-decoration-color: #00af00\">16</span>)             │         <span style=\"color: #00af00; text-decoration-color: #00af00\">1,040</span> │\n",
       "├─────────────────────────────────┼────────────────────────┼───────────────┤\n",
       "│ L2 (<span style=\"color: #0087ff; text-decoration-color: #0087ff\">Dense</span>)                      │ (<span style=\"color: #00d7ff; text-decoration-color: #00d7ff\">None</span>, <span style=\"color: #00af00; text-decoration-color: #00af00\">16</span>)             │           <span style=\"color: #00af00; text-decoration-color: #00af00\">272</span> │\n",
       "├─────────────────────────────────┼────────────────────────┼───────────────┤\n",
       "│ Out (<span style=\"color: #0087ff; text-decoration-color: #0087ff\">Dense</span>)                     │ (<span style=\"color: #00d7ff; text-decoration-color: #00d7ff\">None</span>, <span style=\"color: #00af00; text-decoration-color: #00af00\">10</span>)             │           <span style=\"color: #00af00; text-decoration-color: #00af00\">170</span> │\n",
       "└─────────────────────────────────┴────────────────────────┴───────────────┘\n",
       "</pre>\n"
      ],
      "text/plain": [
       "┏━━━━━━━━━━━━━━━━━━━━━━━━━━━━━━━━━┳━━━━━━━━━━━━━━━━━━━━━━━━┳━━━━━━━━━━━━━━━┓\n",
       "┃\u001b[1m \u001b[0m\u001b[1mLayer (type)                   \u001b[0m\u001b[1m \u001b[0m┃\u001b[1m \u001b[0m\u001b[1mOutput Shape          \u001b[0m\u001b[1m \u001b[0m┃\u001b[1m \u001b[0m\u001b[1m      Param #\u001b[0m\u001b[1m \u001b[0m┃\n",
       "┡━━━━━━━━━━━━━━━━━━━━━━━━━━━━━━━━━╇━━━━━━━━━━━━━━━━━━━━━━━━╇━━━━━━━━━━━━━━━┩\n",
       "│ In (\u001b[38;5;33mFlatten\u001b[0m)                    │ (\u001b[38;5;45mNone\u001b[0m, \u001b[38;5;34m64\u001b[0m)             │             \u001b[38;5;34m0\u001b[0m │\n",
       "├─────────────────────────────────┼────────────────────────┼───────────────┤\n",
       "│ L1 (\u001b[38;5;33mDense\u001b[0m)                      │ (\u001b[38;5;45mNone\u001b[0m, \u001b[38;5;34m16\u001b[0m)             │         \u001b[38;5;34m1,040\u001b[0m │\n",
       "├─────────────────────────────────┼────────────────────────┼───────────────┤\n",
       "│ L2 (\u001b[38;5;33mDense\u001b[0m)                      │ (\u001b[38;5;45mNone\u001b[0m, \u001b[38;5;34m16\u001b[0m)             │           \u001b[38;5;34m272\u001b[0m │\n",
       "├─────────────────────────────────┼────────────────────────┼───────────────┤\n",
       "│ Out (\u001b[38;5;33mDense\u001b[0m)                     │ (\u001b[38;5;45mNone\u001b[0m, \u001b[38;5;34m10\u001b[0m)             │           \u001b[38;5;34m170\u001b[0m │\n",
       "└─────────────────────────────────┴────────────────────────┴───────────────┘\n"
      ]
     },
     "metadata": {},
     "output_type": "display_data"
    },
    {
     "data": {
      "text/html": [
       "<pre style=\"white-space:pre;overflow-x:auto;line-height:normal;font-family:Menlo,'DejaVu Sans Mono',consolas,'Courier New',monospace\"><span style=\"font-weight: bold\"> Total params: </span><span style=\"color: #00af00; text-decoration-color: #00af00\">1,482</span> (5.79 KB)\n",
       "</pre>\n"
      ],
      "text/plain": [
       "\u001b[1m Total params: \u001b[0m\u001b[38;5;34m1,482\u001b[0m (5.79 KB)\n"
      ]
     },
     "metadata": {},
     "output_type": "display_data"
    },
    {
     "data": {
      "text/html": [
       "<pre style=\"white-space:pre;overflow-x:auto;line-height:normal;font-family:Menlo,'DejaVu Sans Mono',consolas,'Courier New',monospace\"><span style=\"font-weight: bold\"> Trainable params: </span><span style=\"color: #00af00; text-decoration-color: #00af00\">1,482</span> (5.79 KB)\n",
       "</pre>\n"
      ],
      "text/plain": [
       "\u001b[1m Trainable params: \u001b[0m\u001b[38;5;34m1,482\u001b[0m (5.79 KB)\n"
      ]
     },
     "metadata": {},
     "output_type": "display_data"
    },
    {
     "data": {
      "text/html": [
       "<pre style=\"white-space:pre;overflow-x:auto;line-height:normal;font-family:Menlo,'DejaVu Sans Mono',consolas,'Courier New',monospace\"><span style=\"font-weight: bold\"> Non-trainable params: </span><span style=\"color: #00af00; text-decoration-color: #00af00\">0</span> (0.00 B)\n",
       "</pre>\n"
      ],
      "text/plain": [
       "\u001b[1m Non-trainable params: \u001b[0m\u001b[38;5;34m0\u001b[0m (0.00 B)\n"
      ]
     },
     "metadata": {},
     "output_type": "display_data"
    },
    {
     "name": "stdout",
     "output_type": "stream",
     "text": [
      "Epoch 1/100\n",
      "\u001b[1m144/144\u001b[0m \u001b[32m━━━━━━━━━━━━━━━━━━━━\u001b[0m\u001b[37m\u001b[0m \u001b[1m1s\u001b[0m 2ms/step - accuracy: 0.1071 - loss: 2.3376 - val_accuracy: 0.1139 - val_loss: 2.3076\n",
      "Epoch 2/100\n",
      "\u001b[1m144/144\u001b[0m \u001b[32m━━━━━━━━━━━━━━━━━━━━\u001b[0m\u001b[37m\u001b[0m \u001b[1m0s\u001b[0m 1ms/step - accuracy: 0.1349 - loss: 2.3006 - val_accuracy: 0.1361 - val_loss: 2.2770\n",
      "Epoch 3/100\n",
      "\u001b[1m144/144\u001b[0m \u001b[32m━━━━━━━━━━━━━━━━━━━━\u001b[0m\u001b[37m\u001b[0m \u001b[1m0s\u001b[0m 1ms/step - accuracy: 0.1591 - loss: 2.2772 - val_accuracy: 0.1750 - val_loss: 2.2482\n",
      "Epoch 4/100\n",
      "\u001b[1m144/144\u001b[0m \u001b[32m━━━━━━━━━━━━━━━━━━━━\u001b[0m\u001b[37m\u001b[0m \u001b[1m0s\u001b[0m 1ms/step - accuracy: 0.1842 - loss: 2.2430 - val_accuracy: 0.2139 - val_loss: 2.2164\n",
      "Epoch 5/100\n",
      "\u001b[1m144/144\u001b[0m \u001b[32m━━━━━━━━━━━━━━━━━━━━\u001b[0m\u001b[37m\u001b[0m \u001b[1m0s\u001b[0m 1ms/step - accuracy: 0.2018 - loss: 2.2126 - val_accuracy: 0.2333 - val_loss: 2.1810\n",
      "Epoch 6/100\n",
      "\u001b[1m144/144\u001b[0m \u001b[32m━━━━━━━━━━━━━━━━━━━━\u001b[0m\u001b[37m\u001b[0m \u001b[1m0s\u001b[0m 1ms/step - accuracy: 0.2379 - loss: 2.1630 - val_accuracy: 0.2333 - val_loss: 2.1429\n",
      "Epoch 7/100\n",
      "\u001b[1m144/144\u001b[0m \u001b[32m━━━━━━━━━━━━━━━━━━━━\u001b[0m\u001b[37m\u001b[0m \u001b[1m0s\u001b[0m 3ms/step - accuracy: 0.2317 - loss: 2.1327 - val_accuracy: 0.2333 - val_loss: 2.1027\n",
      "Epoch 8/100\n",
      "\u001b[1m144/144\u001b[0m \u001b[32m━━━━━━━━━━━━━━━━━━━━\u001b[0m\u001b[37m\u001b[0m \u001b[1m1s\u001b[0m 4ms/step - accuracy: 0.2408 - loss: 2.0863 - val_accuracy: 0.2417 - val_loss: 2.0608\n",
      "Epoch 9/100\n",
      "\u001b[1m144/144\u001b[0m \u001b[32m━━━━━━━━━━━━━━━━━━━━\u001b[0m\u001b[37m\u001b[0m \u001b[1m0s\u001b[0m 2ms/step - accuracy: 0.2401 - loss: 2.0467 - val_accuracy: 0.2806 - val_loss: 2.0159\n",
      "Epoch 10/100\n",
      "\u001b[1m144/144\u001b[0m \u001b[32m━━━━━━━━━━━━━━━━━━━━\u001b[0m\u001b[37m\u001b[0m \u001b[1m0s\u001b[0m 1ms/step - accuracy: 0.2945 - loss: 1.9915 - val_accuracy: 0.3333 - val_loss: 1.9723\n",
      "Epoch 11/100\n",
      "\u001b[1m144/144\u001b[0m \u001b[32m━━━━━━━━━━━━━━━━━━━━\u001b[0m\u001b[37m\u001b[0m \u001b[1m0s\u001b[0m 1ms/step - accuracy: 0.3665 - loss: 1.9180 - val_accuracy: 0.3667 - val_loss: 1.9290\n",
      "Epoch 12/100\n",
      "\u001b[1m144/144\u001b[0m \u001b[32m━━━━━━━━━━━━━━━━━━━━\u001b[0m\u001b[37m\u001b[0m \u001b[1m0s\u001b[0m 1ms/step - accuracy: 0.3984 - loss: 1.8880 - val_accuracy: 0.3917 - val_loss: 1.8857\n",
      "Epoch 13/100\n",
      "\u001b[1m144/144\u001b[0m \u001b[32m━━━━━━━━━━━━━━━━━━━━\u001b[0m\u001b[37m\u001b[0m \u001b[1m0s\u001b[0m 1ms/step - accuracy: 0.4132 - loss: 1.8423 - val_accuracy: 0.4222 - val_loss: 1.8400\n",
      "Epoch 14/100\n",
      "\u001b[1m144/144\u001b[0m \u001b[32m━━━━━━━━━━━━━━━━━━━━\u001b[0m\u001b[37m\u001b[0m \u001b[1m0s\u001b[0m 1ms/step - accuracy: 0.4386 - loss: 1.7895 - val_accuracy: 0.4417 - val_loss: 1.7924\n",
      "Epoch 15/100\n",
      "\u001b[1m144/144\u001b[0m \u001b[32m━━━━━━━━━━━━━━━━━━━━\u001b[0m\u001b[37m\u001b[0m \u001b[1m0s\u001b[0m 1ms/step - accuracy: 0.4629 - loss: 1.7467 - val_accuracy: 0.4528 - val_loss: 1.7460\n",
      "Epoch 16/100\n",
      "\u001b[1m144/144\u001b[0m \u001b[32m━━━━━━━━━━━━━━━━━━━━\u001b[0m\u001b[37m\u001b[0m \u001b[1m0s\u001b[0m 1ms/step - accuracy: 0.4823 - loss: 1.6872 - val_accuracy: 0.4583 - val_loss: 1.7015\n",
      "Epoch 17/100\n",
      "\u001b[1m144/144\u001b[0m \u001b[32m━━━━━━━━━━━━━━━━━━━━\u001b[0m\u001b[37m\u001b[0m \u001b[1m0s\u001b[0m 3ms/step - accuracy: 0.4748 - loss: 1.6841 - val_accuracy: 0.4639 - val_loss: 1.6583\n",
      "Epoch 18/100\n",
      "\u001b[1m144/144\u001b[0m \u001b[32m━━━━━━━━━━━━━━━━━━━━\u001b[0m\u001b[37m\u001b[0m \u001b[1m1s\u001b[0m 3ms/step - accuracy: 0.5068 - loss: 1.6127 - val_accuracy: 0.4528 - val_loss: 1.6147\n",
      "Epoch 19/100\n",
      "\u001b[1m144/144\u001b[0m \u001b[32m━━━━━━━━━━━━━━━━━━━━\u001b[0m\u001b[37m\u001b[0m \u001b[1m0s\u001b[0m 2ms/step - accuracy: 0.5363 - loss: 1.5452 - val_accuracy: 0.4861 - val_loss: 1.5692\n",
      "Epoch 20/100\n",
      "\u001b[1m144/144\u001b[0m \u001b[32m━━━━━━━━━━━━━━━━━━━━\u001b[0m\u001b[37m\u001b[0m \u001b[1m0s\u001b[0m 2ms/step - accuracy: 0.5342 - loss: 1.5264 - val_accuracy: 0.5111 - val_loss: 1.5220\n",
      "Epoch 21/100\n",
      "\u001b[1m144/144\u001b[0m \u001b[32m━━━━━━━━━━━━━━━━━━━━\u001b[0m\u001b[37m\u001b[0m \u001b[1m0s\u001b[0m 1ms/step - accuracy: 0.5495 - loss: 1.4499 - val_accuracy: 0.5306 - val_loss: 1.4730\n",
      "Epoch 22/100\n",
      "\u001b[1m144/144\u001b[0m \u001b[32m━━━━━━━━━━━━━━━━━━━━\u001b[0m\u001b[37m\u001b[0m \u001b[1m0s\u001b[0m 1ms/step - accuracy: 0.5950 - loss: 1.4047 - val_accuracy: 0.5472 - val_loss: 1.4241\n",
      "Epoch 23/100\n",
      "\u001b[1m144/144\u001b[0m \u001b[32m━━━━━━━━━━━━━━━━━━━━\u001b[0m\u001b[37m\u001b[0m \u001b[1m0s\u001b[0m 2ms/step - accuracy: 0.6094 - loss: 1.3481 - val_accuracy: 0.5917 - val_loss: 1.3750\n",
      "Epoch 24/100\n",
      "\u001b[1m144/144\u001b[0m \u001b[32m━━━━━━━━━━━━━━━━━━━━\u001b[0m\u001b[37m\u001b[0m \u001b[1m0s\u001b[0m 2ms/step - accuracy: 0.5849 - loss: 1.3482 - val_accuracy: 0.6222 - val_loss: 1.3283\n",
      "Epoch 25/100\n",
      "\u001b[1m144/144\u001b[0m \u001b[32m━━━━━━━━━━━━━━━━━━━━\u001b[0m\u001b[37m\u001b[0m \u001b[1m0s\u001b[0m 1ms/step - accuracy: 0.6580 - loss: 1.2582 - val_accuracy: 0.6611 - val_loss: 1.2800\n",
      "Epoch 26/100\n",
      "\u001b[1m144/144\u001b[0m \u001b[32m━━━━━━━━━━━━━━━━━━━━\u001b[0m\u001b[37m\u001b[0m \u001b[1m0s\u001b[0m 1ms/step - accuracy: 0.6384 - loss: 1.2606 - val_accuracy: 0.6917 - val_loss: 1.2330\n",
      "Epoch 27/100\n",
      "\u001b[1m144/144\u001b[0m \u001b[32m━━━━━━━━━━━━━━━━━━━━\u001b[0m\u001b[37m\u001b[0m \u001b[1m0s\u001b[0m 2ms/step - accuracy: 0.7012 - loss: 1.1827 - val_accuracy: 0.6972 - val_loss: 1.1876\n",
      "Epoch 28/100\n",
      "\u001b[1m144/144\u001b[0m \u001b[32m━━━━━━━━━━━━━━━━━━━━\u001b[0m\u001b[37m\u001b[0m \u001b[1m0s\u001b[0m 1ms/step - accuracy: 0.7435 - loss: 1.1158 - val_accuracy: 0.7194 - val_loss: 1.1418\n",
      "Epoch 29/100\n",
      "\u001b[1m144/144\u001b[0m \u001b[32m━━━━━━━━━━━━━━━━━━━━\u001b[0m\u001b[37m\u001b[0m \u001b[1m0s\u001b[0m 1ms/step - accuracy: 0.7693 - loss: 1.0605 - val_accuracy: 0.7333 - val_loss: 1.0969\n",
      "Epoch 30/100\n",
      "\u001b[1m144/144\u001b[0m \u001b[32m━━━━━━━━━━━━━━━━━━━━\u001b[0m\u001b[37m\u001b[0m \u001b[1m0s\u001b[0m 1ms/step - accuracy: 0.7711 - loss: 1.0297 - val_accuracy: 0.7556 - val_loss: 1.0528\n",
      "Epoch 31/100\n",
      "\u001b[1m144/144\u001b[0m \u001b[32m━━━━━━━━━━━━━━━━━━━━\u001b[0m\u001b[37m\u001b[0m \u001b[1m0s\u001b[0m 1ms/step - accuracy: 0.7863 - loss: 1.0005 - val_accuracy: 0.7806 - val_loss: 1.0114\n",
      "Epoch 32/100\n",
      "\u001b[1m144/144\u001b[0m \u001b[32m━━━━━━━━━━━━━━━━━━━━\u001b[0m\u001b[37m\u001b[0m \u001b[1m0s\u001b[0m 1ms/step - accuracy: 0.7915 - loss: 0.9549 - val_accuracy: 0.8000 - val_loss: 0.9717\n",
      "Epoch 33/100\n",
      "\u001b[1m144/144\u001b[0m \u001b[32m━━━━━━━━━━━━━━━━━━━━\u001b[0m\u001b[37m\u001b[0m \u001b[1m0s\u001b[0m 1ms/step - accuracy: 0.8213 - loss: 0.8845 - val_accuracy: 0.8167 - val_loss: 0.9349\n",
      "Epoch 34/100\n",
      "\u001b[1m144/144\u001b[0m \u001b[32m━━━━━━━━━━━━━━━━━━━━\u001b[0m\u001b[37m\u001b[0m \u001b[1m0s\u001b[0m 2ms/step - accuracy: 0.8387 - loss: 0.8589 - val_accuracy: 0.8306 - val_loss: 0.8989\n",
      "Epoch 35/100\n",
      "\u001b[1m144/144\u001b[0m \u001b[32m━━━━━━━━━━━━━━━━━━━━\u001b[0m\u001b[37m\u001b[0m \u001b[1m0s\u001b[0m 3ms/step - accuracy: 0.8544 - loss: 0.8030 - val_accuracy: 0.8194 - val_loss: 0.8666\n",
      "Epoch 36/100\n",
      "\u001b[1m144/144\u001b[0m \u001b[32m━━━━━━━━━━━━━━━━━━━━\u001b[0m\u001b[37m\u001b[0m \u001b[1m0s\u001b[0m 1ms/step - accuracy: 0.8543 - loss: 0.7792 - val_accuracy: 0.8306 - val_loss: 0.8350\n",
      "Epoch 37/100\n",
      "\u001b[1m144/144\u001b[0m \u001b[32m━━━━━━━━━━━━━━━━━━━━\u001b[0m\u001b[37m\u001b[0m \u001b[1m0s\u001b[0m 1ms/step - accuracy: 0.8454 - loss: 0.7708 - val_accuracy: 0.8361 - val_loss: 0.8050\n",
      "Epoch 38/100\n",
      "\u001b[1m144/144\u001b[0m \u001b[32m━━━━━━━━━━━━━━━━━━━━\u001b[0m\u001b[37m\u001b[0m \u001b[1m0s\u001b[0m 1ms/step - accuracy: 0.8425 - loss: 0.7656 - val_accuracy: 0.8417 - val_loss: 0.7755\n",
      "Epoch 39/100\n",
      "\u001b[1m144/144\u001b[0m \u001b[32m━━━━━━━━━━━━━━━━━━━━\u001b[0m\u001b[37m\u001b[0m \u001b[1m0s\u001b[0m 1ms/step - accuracy: 0.8720 - loss: 0.6925 - val_accuracy: 0.8472 - val_loss: 0.7492\n",
      "Epoch 40/100\n",
      "\u001b[1m144/144\u001b[0m \u001b[32m━━━━━━━━━━━━━━━━━━━━\u001b[0m\u001b[37m\u001b[0m \u001b[1m0s\u001b[0m 1ms/step - accuracy: 0.8727 - loss: 0.6517 - val_accuracy: 0.8639 - val_loss: 0.7236\n",
      "Epoch 41/100\n",
      "\u001b[1m144/144\u001b[0m \u001b[32m━━━━━━━━━━━━━━━━━━━━\u001b[0m\u001b[37m\u001b[0m \u001b[1m0s\u001b[0m 1ms/step - accuracy: 0.8615 - loss: 0.6545 - val_accuracy: 0.8667 - val_loss: 0.6984\n",
      "Epoch 42/100\n",
      "\u001b[1m144/144\u001b[0m \u001b[32m━━━━━━━━━━━━━━━━━━━━\u001b[0m\u001b[37m\u001b[0m \u001b[1m0s\u001b[0m 1ms/step - accuracy: 0.8780 - loss: 0.6348 - val_accuracy: 0.8667 - val_loss: 0.6767\n",
      "Epoch 43/100\n",
      "\u001b[1m144/144\u001b[0m \u001b[32m━━━━━━━━━━━━━━━━━━━━\u001b[0m\u001b[37m\u001b[0m \u001b[1m0s\u001b[0m 1ms/step - accuracy: 0.8776 - loss: 0.6181 - val_accuracy: 0.8694 - val_loss: 0.6544\n",
      "Epoch 44/100\n",
      "\u001b[1m144/144\u001b[0m \u001b[32m━━━━━━━━━━━━━━━━━━━━\u001b[0m\u001b[37m\u001b[0m \u001b[1m0s\u001b[0m 1ms/step - accuracy: 0.8882 - loss: 0.5761 - val_accuracy: 0.8722 - val_loss: 0.6340\n",
      "Epoch 45/100\n",
      "\u001b[1m144/144\u001b[0m \u001b[32m━━━━━━━━━━━━━━━━━━━━\u001b[0m\u001b[37m\u001b[0m \u001b[1m0s\u001b[0m 1ms/step - accuracy: 0.8850 - loss: 0.5517 - val_accuracy: 0.8750 - val_loss: 0.6159\n",
      "Epoch 46/100\n",
      "\u001b[1m144/144\u001b[0m \u001b[32m━━━━━━━━━━━━━━━━━━━━\u001b[0m\u001b[37m\u001b[0m \u001b[1m0s\u001b[0m 1ms/step - accuracy: 0.8816 - loss: 0.5644 - val_accuracy: 0.8778 - val_loss: 0.5980\n",
      "Epoch 47/100\n",
      "\u001b[1m144/144\u001b[0m \u001b[32m━━━━━━━━━━━━━━━━━━━━\u001b[0m\u001b[37m\u001b[0m \u001b[1m0s\u001b[0m 1ms/step - accuracy: 0.8938 - loss: 0.5328 - val_accuracy: 0.8778 - val_loss: 0.5802\n",
      "Epoch 48/100\n",
      "\u001b[1m144/144\u001b[0m \u001b[32m━━━━━━━━━━━━━━━━━━━━\u001b[0m\u001b[37m\u001b[0m \u001b[1m0s\u001b[0m 1ms/step - accuracy: 0.8910 - loss: 0.4947 - val_accuracy: 0.8806 - val_loss: 0.5648\n",
      "Epoch 49/100\n",
      "\u001b[1m144/144\u001b[0m \u001b[32m━━━━━━━━━━━━━━━━━━━━\u001b[0m\u001b[37m\u001b[0m \u001b[1m0s\u001b[0m 1ms/step - accuracy: 0.9035 - loss: 0.4717 - val_accuracy: 0.8806 - val_loss: 0.5499\n",
      "Epoch 50/100\n",
      "\u001b[1m144/144\u001b[0m \u001b[32m━━━━━━━━━━━━━━━━━━━━\u001b[0m\u001b[37m\u001b[0m \u001b[1m0s\u001b[0m 1ms/step - accuracy: 0.8858 - loss: 0.4713 - val_accuracy: 0.8833 - val_loss: 0.5362\n",
      "Epoch 51/100\n",
      "\u001b[1m144/144\u001b[0m \u001b[32m━━━━━━━━━━━━━━━━━━━━\u001b[0m\u001b[37m\u001b[0m \u001b[1m0s\u001b[0m 1ms/step - accuracy: 0.9113 - loss: 0.4467 - val_accuracy: 0.8861 - val_loss: 0.5235\n",
      "Epoch 52/100\n",
      "\u001b[1m144/144\u001b[0m \u001b[32m━━━━━━━━━━━━━━━━━━━━\u001b[0m\u001b[37m\u001b[0m \u001b[1m0s\u001b[0m 1ms/step - accuracy: 0.8977 - loss: 0.4508 - val_accuracy: 0.8861 - val_loss: 0.5107\n",
      "Epoch 53/100\n",
      "\u001b[1m144/144\u001b[0m \u001b[32m━━━━━━━━━━━━━━━━━━━━\u001b[0m\u001b[37m\u001b[0m \u001b[1m0s\u001b[0m 1ms/step - accuracy: 0.9135 - loss: 0.4201 - val_accuracy: 0.8861 - val_loss: 0.4985\n",
      "Epoch 54/100\n",
      "\u001b[1m144/144\u001b[0m \u001b[32m━━━━━━━━━━━━━━━━━━━━\u001b[0m\u001b[37m\u001b[0m \u001b[1m0s\u001b[0m 1ms/step - accuracy: 0.9054 - loss: 0.4187 - val_accuracy: 0.8972 - val_loss: 0.4888\n",
      "Epoch 55/100\n",
      "\u001b[1m144/144\u001b[0m \u001b[32m━━━━━━━━━━━━━━━━━━━━\u001b[0m\u001b[37m\u001b[0m \u001b[1m0s\u001b[0m 1ms/step - accuracy: 0.9086 - loss: 0.4129 - val_accuracy: 0.8917 - val_loss: 0.4778\n",
      "Epoch 56/100\n",
      "\u001b[1m144/144\u001b[0m \u001b[32m━━━━━━━━━━━━━━━━━━━━\u001b[0m\u001b[37m\u001b[0m \u001b[1m0s\u001b[0m 1ms/step - accuracy: 0.9113 - loss: 0.3963 - val_accuracy: 0.8944 - val_loss: 0.4673\n",
      "Epoch 57/100\n",
      "\u001b[1m144/144\u001b[0m \u001b[32m━━━━━━━━━━━━━━━━━━━━\u001b[0m\u001b[37m\u001b[0m \u001b[1m0s\u001b[0m 1ms/step - accuracy: 0.9098 - loss: 0.3827 - val_accuracy: 0.8944 - val_loss: 0.4603\n",
      "Epoch 58/100\n",
      "\u001b[1m144/144\u001b[0m \u001b[32m━━━━━━━━━━━━━━━━━━━━\u001b[0m\u001b[37m\u001b[0m \u001b[1m0s\u001b[0m 1ms/step - accuracy: 0.9198 - loss: 0.3819 - val_accuracy: 0.8972 - val_loss: 0.4501\n",
      "Epoch 59/100\n",
      "\u001b[1m144/144\u001b[0m \u001b[32m━━━━━━━━━━━━━━━━━━━━\u001b[0m\u001b[37m\u001b[0m \u001b[1m0s\u001b[0m 1ms/step - accuracy: 0.9249 - loss: 0.3587 - val_accuracy: 0.9000 - val_loss: 0.4413\n",
      "Epoch 60/100\n",
      "\u001b[1m144/144\u001b[0m \u001b[32m━━━━━━━━━━━━━━━━━━━━\u001b[0m\u001b[37m\u001b[0m \u001b[1m0s\u001b[0m 2ms/step - accuracy: 0.9186 - loss: 0.3568 - val_accuracy: 0.9000 - val_loss: 0.4330\n",
      "Epoch 61/100\n",
      "\u001b[1m144/144\u001b[0m \u001b[32m━━━━━━━━━━━━━━━━━━━━\u001b[0m\u001b[37m\u001b[0m \u001b[1m0s\u001b[0m 2ms/step - accuracy: 0.9260 - loss: 0.3510 - val_accuracy: 0.9056 - val_loss: 0.4265\n",
      "Epoch 62/100\n",
      "\u001b[1m144/144\u001b[0m \u001b[32m━━━━━━━━━━━━━━━━━━━━\u001b[0m\u001b[37m\u001b[0m \u001b[1m0s\u001b[0m 2ms/step - accuracy: 0.9239 - loss: 0.3287 - val_accuracy: 0.9139 - val_loss: 0.4187\n",
      "Epoch 63/100\n",
      "\u001b[1m144/144\u001b[0m \u001b[32m━━━━━━━━━━━━━━━━━━━━\u001b[0m\u001b[37m\u001b[0m \u001b[1m0s\u001b[0m 2ms/step - accuracy: 0.9252 - loss: 0.3250 - val_accuracy: 0.9139 - val_loss: 0.4122\n",
      "Epoch 64/100\n",
      "\u001b[1m144/144\u001b[0m \u001b[32m━━━━━━━━━━━━━━━━━━━━\u001b[0m\u001b[37m\u001b[0m \u001b[1m0s\u001b[0m 3ms/step - accuracy: 0.9247 - loss: 0.3237 - val_accuracy: 0.9111 - val_loss: 0.4072\n",
      "Epoch 65/100\n",
      "\u001b[1m144/144\u001b[0m \u001b[32m━━━━━━━━━━━━━━━━━━━━\u001b[0m\u001b[37m\u001b[0m \u001b[1m0s\u001b[0m 1ms/step - accuracy: 0.9218 - loss: 0.3237 - val_accuracy: 0.9167 - val_loss: 0.3990\n",
      "Epoch 66/100\n",
      "\u001b[1m144/144\u001b[0m \u001b[32m━━━━━━━━━━━━━━━━━━━━\u001b[0m\u001b[37m\u001b[0m \u001b[1m0s\u001b[0m 1ms/step - accuracy: 0.9231 - loss: 0.3083 - val_accuracy: 0.9139 - val_loss: 0.3940\n",
      "Epoch 67/100\n",
      "\u001b[1m144/144\u001b[0m \u001b[32m━━━━━━━━━━━━━━━━━━━━\u001b[0m\u001b[37m\u001b[0m \u001b[1m0s\u001b[0m 1ms/step - accuracy: 0.9202 - loss: 0.3211 - val_accuracy: 0.9139 - val_loss: 0.3899\n",
      "Epoch 68/100\n",
      "\u001b[1m144/144\u001b[0m \u001b[32m━━━━━━━━━━━━━━━━━━━━\u001b[0m\u001b[37m\u001b[0m \u001b[1m0s\u001b[0m 1ms/step - accuracy: 0.9328 - loss: 0.3075 - val_accuracy: 0.9167 - val_loss: 0.3826\n",
      "Epoch 69/100\n",
      "\u001b[1m144/144\u001b[0m \u001b[32m━━━━━━━━━━━━━━━━━━━━\u001b[0m\u001b[37m\u001b[0m \u001b[1m0s\u001b[0m 1ms/step - accuracy: 0.9439 - loss: 0.2800 - val_accuracy: 0.9194 - val_loss: 0.3773\n",
      "Epoch 70/100\n",
      "\u001b[1m144/144\u001b[0m \u001b[32m━━━━━━━━━━━━━━━━━━━━\u001b[0m\u001b[37m\u001b[0m \u001b[1m0s\u001b[0m 1ms/step - accuracy: 0.9317 - loss: 0.2921 - val_accuracy: 0.9139 - val_loss: 0.3758\n",
      "Epoch 71/100\n",
      "\u001b[1m144/144\u001b[0m \u001b[32m━━━━━━━━━━━━━━━━━━━━\u001b[0m\u001b[37m\u001b[0m \u001b[1m0s\u001b[0m 1ms/step - accuracy: 0.9343 - loss: 0.2809 - val_accuracy: 0.9167 - val_loss: 0.3690\n",
      "Epoch 72/100\n",
      "\u001b[1m144/144\u001b[0m \u001b[32m━━━━━━━━━━━━━━━━━━━━\u001b[0m\u001b[37m\u001b[0m \u001b[1m0s\u001b[0m 2ms/step - accuracy: 0.9404 - loss: 0.2778 - val_accuracy: 0.9167 - val_loss: 0.3658\n",
      "Epoch 73/100\n",
      "\u001b[1m144/144\u001b[0m \u001b[32m━━━━━━━━━━━━━━━━━━━━\u001b[0m\u001b[37m\u001b[0m \u001b[1m0s\u001b[0m 1ms/step - accuracy: 0.9376 - loss: 0.2735 - val_accuracy: 0.9194 - val_loss: 0.3598\n",
      "Epoch 74/100\n",
      "\u001b[1m144/144\u001b[0m \u001b[32m━━━━━━━━━━━━━━━━━━━━\u001b[0m\u001b[37m\u001b[0m \u001b[1m0s\u001b[0m 1ms/step - accuracy: 0.9398 - loss: 0.2672 - val_accuracy: 0.9139 - val_loss: 0.3553\n",
      "Epoch 75/100\n",
      "\u001b[1m144/144\u001b[0m \u001b[32m━━━━━━━━━━━━━━━━━━━━\u001b[0m\u001b[37m\u001b[0m \u001b[1m0s\u001b[0m 1ms/step - accuracy: 0.9397 - loss: 0.2588 - val_accuracy: 0.9167 - val_loss: 0.3520\n",
      "Epoch 76/100\n",
      "\u001b[1m144/144\u001b[0m \u001b[32m━━━━━━━━━━━━━━━━━━━━\u001b[0m\u001b[37m\u001b[0m \u001b[1m0s\u001b[0m 1ms/step - accuracy: 0.9422 - loss: 0.2545 - val_accuracy: 0.9167 - val_loss: 0.3481\n",
      "Epoch 77/100\n",
      "\u001b[1m144/144\u001b[0m \u001b[32m━━━━━━━━━━━━━━━━━━━━\u001b[0m\u001b[37m\u001b[0m \u001b[1m0s\u001b[0m 1ms/step - accuracy: 0.9498 - loss: 0.2524 - val_accuracy: 0.9167 - val_loss: 0.3451\n",
      "Epoch 78/100\n",
      "\u001b[1m144/144\u001b[0m \u001b[32m━━━━━━━━━━━━━━━━━━━━\u001b[0m\u001b[37m\u001b[0m \u001b[1m0s\u001b[0m 1ms/step - accuracy: 0.9377 - loss: 0.2519 - val_accuracy: 0.9167 - val_loss: 0.3414\n",
      "Epoch 79/100\n",
      "\u001b[1m144/144\u001b[0m \u001b[32m━━━━━━━━━━━━━━━━━━━━\u001b[0m\u001b[37m\u001b[0m \u001b[1m0s\u001b[0m 1ms/step - accuracy: 0.9495 - loss: 0.2330 - val_accuracy: 0.9222 - val_loss: 0.3381\n",
      "Epoch 80/100\n",
      "\u001b[1m144/144\u001b[0m \u001b[32m━━━━━━━━━━━━━━━━━━━━\u001b[0m\u001b[37m\u001b[0m \u001b[1m0s\u001b[0m 1ms/step - accuracy: 0.9318 - loss: 0.2437 - val_accuracy: 0.9222 - val_loss: 0.3356\n",
      "Epoch 81/100\n",
      "\u001b[1m144/144\u001b[0m \u001b[32m━━━━━━━━━━━━━━━━━━━━\u001b[0m\u001b[37m\u001b[0m \u001b[1m0s\u001b[0m 1ms/step - accuracy: 0.9417 - loss: 0.2517 - val_accuracy: 0.9194 - val_loss: 0.3320\n",
      "Epoch 82/100\n",
      "\u001b[1m144/144\u001b[0m \u001b[32m━━━━━━━━━━━━━━━━━━━━\u001b[0m\u001b[37m\u001b[0m \u001b[1m0s\u001b[0m 1ms/step - accuracy: 0.9385 - loss: 0.2454 - val_accuracy: 0.9167 - val_loss: 0.3301\n",
      "Epoch 83/100\n",
      "\u001b[1m144/144\u001b[0m \u001b[32m━━━━━━━━━━━━━━━━━━━━\u001b[0m\u001b[37m\u001b[0m \u001b[1m0s\u001b[0m 1ms/step - accuracy: 0.9473 - loss: 0.2478 - val_accuracy: 0.9194 - val_loss: 0.3263\n",
      "Epoch 84/100\n",
      "\u001b[1m144/144\u001b[0m \u001b[32m━━━━━━━━━━━━━━━━━━━━\u001b[0m\u001b[37m\u001b[0m \u001b[1m0s\u001b[0m 1ms/step - accuracy: 0.9369 - loss: 0.2439 - val_accuracy: 0.9167 - val_loss: 0.3237\n",
      "Epoch 85/100\n",
      "\u001b[1m144/144\u001b[0m \u001b[32m━━━━━━━━━━━━━━━━━━━━\u001b[0m\u001b[37m\u001b[0m \u001b[1m0s\u001b[0m 1ms/step - accuracy: 0.9505 - loss: 0.2159 - val_accuracy: 0.9222 - val_loss: 0.3229\n",
      "Epoch 86/100\n",
      "\u001b[1m144/144\u001b[0m \u001b[32m━━━━━━━━━━━━━━━━━━━━\u001b[0m\u001b[37m\u001b[0m \u001b[1m0s\u001b[0m 1ms/step - accuracy: 0.9475 - loss: 0.2227 - val_accuracy: 0.9194 - val_loss: 0.3181\n",
      "Epoch 87/100\n",
      "\u001b[1m144/144\u001b[0m \u001b[32m━━━━━━━━━━━━━━━━━━━━\u001b[0m\u001b[37m\u001b[0m \u001b[1m0s\u001b[0m 1ms/step - accuracy: 0.9448 - loss: 0.2244 - val_accuracy: 0.9194 - val_loss: 0.3147\n",
      "Epoch 88/100\n",
      "\u001b[1m144/144\u001b[0m \u001b[32m━━━━━━━━━━━━━━━━━━━━\u001b[0m\u001b[37m\u001b[0m \u001b[1m0s\u001b[0m 1ms/step - accuracy: 0.9519 - loss: 0.2051 - val_accuracy: 0.9222 - val_loss: 0.3134\n",
      "Epoch 89/100\n",
      "\u001b[1m144/144\u001b[0m \u001b[32m━━━━━━━━━━━━━━━━━━━━\u001b[0m\u001b[37m\u001b[0m \u001b[1m0s\u001b[0m 1ms/step - accuracy: 0.9562 - loss: 0.2122 - val_accuracy: 0.9250 - val_loss: 0.3100\n",
      "Epoch 90/100\n",
      "\u001b[1m144/144\u001b[0m \u001b[32m━━━━━━━━━━━━━━━━━━━━\u001b[0m\u001b[37m\u001b[0m \u001b[1m0s\u001b[0m 2ms/step - accuracy: 0.9508 - loss: 0.2120 - val_accuracy: 0.9250 - val_loss: 0.3080\n",
      "Epoch 91/100\n",
      "\u001b[1m144/144\u001b[0m \u001b[32m━━━━━━━━━━━━━━━━━━━━\u001b[0m\u001b[37m\u001b[0m \u001b[1m0s\u001b[0m 2ms/step - accuracy: 0.9399 - loss: 0.2203 - val_accuracy: 0.9194 - val_loss: 0.3061\n",
      "Epoch 92/100\n",
      "\u001b[1m144/144\u001b[0m \u001b[32m━━━━━━━━━━━━━━━━━━━━\u001b[0m\u001b[37m\u001b[0m \u001b[1m0s\u001b[0m 2ms/step - accuracy: 0.9610 - loss: 0.1868 - val_accuracy: 0.9222 - val_loss: 0.3056\n",
      "Epoch 93/100\n",
      "\u001b[1m144/144\u001b[0m \u001b[32m━━━━━━━━━━━━━━━━━━━━\u001b[0m\u001b[37m\u001b[0m \u001b[1m0s\u001b[0m 1ms/step - accuracy: 0.9504 - loss: 0.1997 - val_accuracy: 0.9250 - val_loss: 0.3022\n",
      "Epoch 94/100\n",
      "\u001b[1m144/144\u001b[0m \u001b[32m━━━━━━━━━━━━━━━━━━━━\u001b[0m\u001b[37m\u001b[0m \u001b[1m0s\u001b[0m 1ms/step - accuracy: 0.9457 - loss: 0.2071 - val_accuracy: 0.9278 - val_loss: 0.3008\n",
      "Epoch 95/100\n",
      "\u001b[1m144/144\u001b[0m \u001b[32m━━━━━━━━━━━━━━━━━━━━\u001b[0m\u001b[37m\u001b[0m \u001b[1m0s\u001b[0m 1ms/step - accuracy: 0.9482 - loss: 0.1898 - val_accuracy: 0.9250 - val_loss: 0.2986\n",
      "Epoch 96/100\n",
      "\u001b[1m144/144\u001b[0m \u001b[32m━━━━━━━━━━━━━━━━━━━━\u001b[0m\u001b[37m\u001b[0m \u001b[1m0s\u001b[0m 1ms/step - accuracy: 0.9536 - loss: 0.2038 - val_accuracy: 0.9306 - val_loss: 0.2961\n",
      "Epoch 97/100\n",
      "\u001b[1m144/144\u001b[0m \u001b[32m━━━━━━━━━━━━━━━━━━━━\u001b[0m\u001b[37m\u001b[0m \u001b[1m0s\u001b[0m 1ms/step - accuracy: 0.9504 - loss: 0.1913 - val_accuracy: 0.9306 - val_loss: 0.2949\n",
      "Epoch 98/100\n",
      "\u001b[1m144/144\u001b[0m \u001b[32m━━━━━━━━━━━━━━━━━━━━\u001b[0m\u001b[37m\u001b[0m \u001b[1m0s\u001b[0m 1ms/step - accuracy: 0.9556 - loss: 0.1715 - val_accuracy: 0.9306 - val_loss: 0.2931\n",
      "Epoch 99/100\n",
      "\u001b[1m144/144\u001b[0m \u001b[32m━━━━━━━━━━━━━━━━━━━━\u001b[0m\u001b[37m\u001b[0m \u001b[1m0s\u001b[0m 1ms/step - accuracy: 0.9591 - loss: 0.1867 - val_accuracy: 0.9306 - val_loss: 0.2911\n",
      "Epoch 100/100\n",
      "\u001b[1m144/144\u001b[0m \u001b[32m━━━━━━━━━━━━━━━━━━━━\u001b[0m\u001b[37m\u001b[0m \u001b[1m0s\u001b[0m 1ms/step - accuracy: 0.9701 - loss: 0.1735 - val_accuracy: 0.9278 - val_loss: 0.2907\n",
      "[0.10925539582967758, 0.13709115982055664, 0.17536534368991852, 0.19206680357456207, 0.21433542668819427, 0.22964508831501007, 0.23451635241508484, 0.24286708235740662, 0.26374390721321106, 0.30897703766822815, 0.3562978506088257, 0.4050104320049286, 0.4272790551185608, 0.44328463077545166, 0.46624913811683655, 0.4794711172580719, 0.5010438561439514, 0.517745316028595, 0.5267919301986694, 0.5393180251121521, 0.5518441200256348, 0.5636743307113647, 0.5991649031639099, 0.630480170249939, 0.6534446477890015, 0.6903270483016968, 0.7216423153877258, 0.7348642945289612, 0.7592206001281738, 0.780793309211731, 0.8009742498397827, 0.8128044605255127, 0.826026439666748, 0.8392484188079834, 0.8462073802947998, 0.8503827452659607, 0.855949878692627, 0.8566457629203796, 0.8629088401794434, 0.8691718578338623, 0.8719554543495178, 0.875434935092926, 0.8803061842918396, 0.8844815492630005, 0.8837856650352478, 0.887265145778656, 0.8893527984619141, 0.8942241072654724, 0.8949199914932251, 0.899095356464386, 0.901183009147644, 0.9025748372077942, 0.9053583741188049, 0.9060542583465576, 0.9081419706344604, 0.910925567150116, 0.9123173356056213, 0.9137091040611267, 0.9171885848045349, 0.9192762970924377, 0.9171885848045349, 0.9213639497756958, 0.9206680655479431, 0.9241475462913513, 0.9262351989746094, 0.9276270270347595, 0.9297146797180176, 0.9338900446891785, 0.9352818131446838, 0.9345859289169312, 0.9359777569770813, 0.9401531219482422, 0.9394571781158447, 0.9408490061759949, 0.9415448904037476, 0.9422407746315002, 0.9429366588592529, 0.9436325430870056, 0.9436325430870056, 0.9443284869194031, 0.9471120238304138, 0.9443284869194031, 0.9471120238304138, 0.9478079080581665, 0.9498956203460693, 0.950591504573822, 0.950591504573822, 0.950591504573822, 0.9519832730293274, 0.9519832730293274, 0.9519832730293274, 0.9519832730293274, 0.9547668695449829, 0.9547668695449829, 0.9540709853172302, 0.9561586380004883, 0.9554627537727356, 0.9561586380004883, 0.9575504660606384, 0.9596381187438965] [0.11388888955116272, 0.13611111044883728, 0.17499999701976776, 0.21388888359069824, 0.23333333432674408, 0.23333333432674408, 0.23333333432674408, 0.24166665971279144, 0.2805555462837219, 0.3333333432674408, 0.36666667461395264, 0.3916666805744171, 0.42222222685813904, 0.4416666626930237, 0.45277777314186096, 0.4583333432674408, 0.46388888359069824, 0.45277777314186096, 0.4861111044883728, 0.5111111402511597, 0.5305555462837219, 0.5472221970558167, 0.5916666388511658, 0.6222222447395325, 0.6611111164093018, 0.6916666626930237, 0.6972222328186035, 0.7194444537162781, 0.7333333492279053, 0.7555555701255798, 0.7805555462837219, 0.800000011920929, 0.8166666626930237, 0.8305555582046509, 0.8194444179534912, 0.8305555582046509, 0.8361111283302307, 0.8416666388511658, 0.8472222089767456, 0.8638888597488403, 0.8666666746139526, 0.8666666746139526, 0.8694444298744202, 0.8722222447395325, 0.875, 0.8777777552604675, 0.8777777552604675, 0.8805555701255798, 0.8805555701255798, 0.8833333253860474, 0.8861111402511597, 0.8861111402511597, 0.8861111402511597, 0.8972222208976746, 0.8916666507720947, 0.894444465637207, 0.894444465637207, 0.8972222208976746, 0.8999999761581421, 0.8999999761581421, 0.9055555462837219, 0.9138888716697693, 0.9138888716697693, 0.9111111164093018, 0.9166666865348816, 0.9138888716697693, 0.9138888716697693, 0.9166666865348816, 0.9194444417953491, 0.9138888716697693, 0.9166666865348816, 0.9166666865348816, 0.9194444417953491, 0.9138888716697693, 0.9166666865348816, 0.9166666865348816, 0.9166666865348816, 0.9166666865348816, 0.9222221970558167, 0.9222221970558167, 0.9194444417953491, 0.9166666865348816, 0.9194444417953491, 0.9166666865348816, 0.9222221970558167, 0.9194444417953491, 0.9194444417953491, 0.9222221970558167, 0.925000011920929, 0.925000011920929, 0.9194444417953491, 0.9222221970558167, 0.925000011920929, 0.9277777671813965, 0.925000011920929, 0.9305555820465088, 0.9305555820465088, 0.9305555820465088, 0.9305555820465088, 0.9277777671813965] [2.3323190212249756, 2.2965495586395264, 2.266430139541626, 2.234924554824829, 2.199944257736206, 2.1611833572387695, 2.12019419670105, 2.076157331466675, 2.028735399246216, 1.9789334535598755, 1.9305962324142456, 1.8827069997787476, 1.8345850706100464, 1.7838791608810425, 1.7338452339172363, 1.6860687732696533, 1.6400456428527832, 1.5933407545089722, 1.5474523305892944, 1.4996041059494019, 1.449748158454895, 1.3995076417922974, 1.349928379058838, 1.3004127740859985, 1.2508800029754639, 1.2028000354766846, 1.1550830602645874, 1.1077492237091064, 1.061274766921997, 1.0151093006134033, 0.971041202545166, 0.929690957069397, 0.8904789686203003, 0.8537218570709229, 0.8188382387161255, 0.7868064641952515, 0.7554230093955994, 0.726124107837677, 0.6976386904716492, 0.6711941957473755, 0.6460570096969604, 0.6220213770866394, 0.5992099642753601, 0.5784000754356384, 0.5575857162475586, 0.5389958620071411, 0.5205699801445007, 0.5036166906356812, 0.4874267876148224, 0.4723217189311981, 0.4578482508659363, 0.4441046714782715, 0.4312489330768585, 0.4190916419029236, 0.4076872766017914, 0.39636871218681335, 0.38545116782188416, 0.37598004937171936, 0.3669639527797699, 0.35787731409072876, 0.34933069348335266, 0.3406381905078888, 0.33308011293411255, 0.32556113600730896, 0.318527489900589, 0.3115294277667999, 0.30490508675575256, 0.2987760305404663, 0.29274457693099976, 0.2869124412536621, 0.2817727327346802, 0.27628540992736816, 0.2711329162120819, 0.26613762974739075, 0.2617596387863159, 0.25698423385620117, 0.2526312470436096, 0.24844321608543396, 0.24450108408927917, 0.24040405452251434, 0.23673507571220398, 0.23300060629844666, 0.22926251590251923, 0.22596564888954163, 0.22240984439849854, 0.21913030743598938, 0.2163480967283249, 0.2132270783185959, 0.21016082167625427, 0.20736995339393616, 0.2041943520307541, 0.20172539353370667, 0.19947703182697296, 0.19688129425048828, 0.1940300166606903, 0.19190391898155212, 0.18929094076156616, 0.18674100935459137, 0.18494051694869995, 0.1819600760936737] [2.307577610015869, 2.27698016166687, 2.2482352256774902, 2.2163610458374023, 2.1810147762298584, 2.1428844928741455, 2.1027419567108154, 2.0608370304107666, 2.015908718109131, 1.972266435623169, 1.929020881652832, 1.88571298122406, 1.840041995048523, 1.7923572063446045, 1.7459648847579956, 1.7014625072479248, 1.6582531929016113, 1.6146879196166992, 1.5691967010498047, 1.5219982862472534, 1.4729888439178467, 1.4241020679473877, 1.3750089406967163, 1.3282803297042847, 1.2800028324127197, 1.2329580783843994, 1.1875814199447632, 1.141751766204834, 1.0968650579452515, 1.0528134107589722, 1.0114010572433472, 0.9716951847076416, 0.9348541498184204, 0.8989428877830505, 0.8665611147880554, 0.8350107073783875, 0.8050095438957214, 0.7754908800125122, 0.7492252588272095, 0.7236437201499939, 0.6983857750892639, 0.6766520738601685, 0.6544144749641418, 0.6339871287345886, 0.6158608198165894, 0.5980224013328552, 0.5802004933357239, 0.5648295879364014, 0.5498690009117126, 0.5361737608909607, 0.5235109329223633, 0.5106897354125977, 0.498501718044281, 0.4887525737285614, 0.4777733385562897, 0.46734902262687683, 0.4602545499801636, 0.45007675886154175, 0.4412672221660614, 0.4329918324947357, 0.4264659583568573, 0.41871315240859985, 0.412176251411438, 0.40719154477119446, 0.3990248441696167, 0.3939601480960846, 0.3898572623729706, 0.3826056718826294, 0.3773348927497864, 0.3757999837398529, 0.3690139055252075, 0.36581966280937195, 0.35984256863594055, 0.35530605912208557, 0.35195377469062805, 0.3481270968914032, 0.34513455629348755, 0.3413892388343811, 0.33807575702667236, 0.33560308814048767, 0.33203747868537903, 0.33013609051704407, 0.3263184726238251, 0.32373175024986267, 0.32286807894706726, 0.31807196140289307, 0.3147294223308563, 0.31335893273353577, 0.3100358247756958, 0.30795520544052124, 0.30611011385917664, 0.30558332800865173, 0.30219677090644836, 0.3007860779762268, 0.29861992597579956, 0.29607248306274414, 0.29493942856788635, 0.29314377903938293, 0.29108402132987976, 0.29071566462516785] range(1, 101)\n"
     ]
    }
   ],
   "source": [
    "# model \n",
    "model = keras.Sequential([\n",
    "    keras.layers.Input(shape=(8,8,1)),\n",
    "    keras.layers.Flatten(name='In'),\n",
    "    keras.layers.Dense(16, activation='relu', name='L1'),\n",
    "    keras.layers.Dense(16, activation='relu', name='L2'),\n",
    "    keras.layers.Dense(10, activation='softmax', name='Out')\n",
    "])\n",
    "model.summary()\n",
    "\n",
    "# compile\n",
    "model.compile(\n",
    "    loss=keras.losses.CategoricalCrossentropy(),\n",
    "    optimizer = keras.optimizers.Adam(learning_rate=0.0001),\n",
    "    metrics = [keras.metrics.CategoricalAccuracy(name=\"accuracy\"),\n",
    "    ], \n",
    ")\n",
    "\n",
    "# fit the model\n",
    "history = model.fit(x_train, y_train_oh, validation_data=(x_test, y_test_oh), \n",
    "                    batch_size=10, epochs=100, shuffle=True, verbose=1)"
   ]
  },
  {
   "cell_type": "code",
   "execution_count": 54,
   "id": "95bb36f4-007a-42a3-98f8-6c6cd4fffed8",
   "metadata": {},
   "outputs": [
    {
     "data": {
      "image/png": "[encoded data removed]",
      "text/plain": [
       "<Figure size 1200x500 with 2 Axes>"
      ]
     },
     "metadata": {},
     "output_type": "display_data"
    }
   ],
   "source": [
    "# check accuracy \n",
    "acc      = history.history['accuracy']\n",
    "val_acc  = history.history['val_accuracy']\n",
    "loss     = history.history['loss']\n",
    "val_loss = history.history['val_loss']\n",
    "epochs   = range(1, len(acc) + 1)\n",
    "\n",
    "# Plot Accuracy\n",
    "plt.figure(figsize=(12, 5))\n",
    "plt.subplot(1, 2, 1)\n",
    "plt.plot(epochs, acc, '-', label='Training accuracy')\n",
    "plt.plot(epochs, val_acc, '-', label='Validation accuracy')\n",
    "plt.title('Training and Validation Accuracy')\n",
    "plt.xlabel('Epochs')\n",
    "plt.ylabel('Accuracy')\n",
    "plt.legend()\n",
    "\n",
    "# Plot Loss\n",
    "plt.subplot(1, 2, 2)\n",
    "plt.plot(epochs, loss, '-', label='Training loss')\n",
    "plt.plot(epochs, val_loss, '-', label='Validation loss')\n",
    "plt.title('Training and Validation Loss')\n",
    "plt.xlabel('Epochs')\n",
    "plt.ylabel('Loss')\n",
    "plt.legend()\n",
    "\n",
    "plt.tight_layout()\n",
    "plt.show()\n"
   ]
  },
  {
   "cell_type": "code",
   "execution_count": 80,
   "id": "6e7bcf60",
   "metadata": {},
   "outputs": [
    {
     "name": "stdout",
     "output_type": "stream",
     "text": [
      "\u001b[1m12/12\u001b[0m \u001b[32m━━━━━━━━━━━━━━━━━━━━\u001b[0m\u001b[37m\u001b[0m \u001b[1m0s\u001b[0m 2ms/step \n",
      "\u001b[1m12/12\u001b[0m \u001b[32m━━━━━━━━━━━━━━━━━━━━\u001b[0m\u001b[37m\u001b[0m \u001b[1m0s\u001b[0m 3ms/step - accuracy: 0.9228 - loss: 0.3746 \n",
      "Percentage of misclassification: 7.222223281860352\n"
     ]
    },
    {
     "data": {
      "image/png": "[encoded data removed]",
      "text/plain": [
       "<Figure size 640x480 with 1 Axes>"
      ]
     },
     "metadata": {},
     "output_type": "display_data"
    }
   ],
   "source": [
    "# check real predictions\n",
    "predictions = model.predict(x_test)\n",
    "x_test.shape, predictions.shape\n",
    "\n",
    "np.argmax(predictions[0]) # 4 \n",
    "plt.imshow(x_test[0], cmap='Greys')\n",
    "y_test[0]\n",
    "\n",
    "# percentage of misclassifiations\n",
    "m = model.evaluate(x_test, y_test_oh)\n",
    "print(f\"Percentage of misclassification:\", (1-m[1]) * 100) "
   ]
  },
  {
   "cell_type": "code",
   "execution_count": 81,
   "id": "6b6e32e4",
   "metadata": {},
   "outputs": [
    {
     "data": {
      "image/png": "[encoded data removed]",
      "text/plain": [
       "<Figure size 600x400 with 2 Axes>"
      ]
     },
     "metadata": {},
     "output_type": "display_data"
    }
   ],
   "source": [
    "y_pred_arg = np.argmax(predictions, axis=1)\n",
    "cm = confusion_matrix(y_test, y_pred_arg)\n",
    "class_names=['1','2','3','4','5','6','7','8','9','10']\n",
    "\n",
    "plt.figure(figsize=(6, 4))\n",
    "sns.heatmap(cm, annot=True, fmt=\"d\", cmap='Blues', xticklabels=class_names, yticklabels=class_names)\n",
    "plt.xlabel('Predicted')\n",
    "plt.ylabel('True')\n",
    "plt.title('Confusion Matrix')\n",
    "plt.show()"
   ]
  },
  {
   "cell_type": "markdown",
   "id": "d09b2a8e-1275-4fae-90f1-9694ed41ae71",
   "metadata": {},
   "source": [
    "## Exercise 2: Classification of astronomical objects using Sloan Digital Sky Survey (SDSS) Data release 14\n",
    "The SDSS (https://www.sdss.org/) is imaging and spectroscopic astronomical survey that utilizes a 2.5-meter optical telescope at Apache Point Observatory in New Mexico, United States.\n",
    "\n",
    "The data release 14 (DR14) of the SDSS consists of 10,000 observations of various astronomical objects, each described by 17 feature columns and 1 class column which identifies the observation as either a star, galaxy, or quasar. "
   ]
  },
  {
   "cell_type": "markdown",
   "id": "439d1a37-756d-44ee-8fdc-a701e5df6032",
   "metadata": {},
   "source": [
    "#### Goal: build a classification algorithm that predicts if a certain object is either a star, galaxy or a quasar\n",
    "Remember to visualize your data!"
   ]
  },
  {
   "cell_type": "code",
   "execution_count": 96,
   "id": "94008da7-3d76-4000-87ae-c51225aaa65f",
   "metadata": {},
   "outputs": [],
   "source": [
    "import pandas as pd\n",
    "import seaborn as sns\n",
    "import matplotlib.pyplot as plt\n",
    "from sklearn.model_selection import train_test_split\n",
    "from sklearn.svm import SVC\n",
    "from sklearn.preprocessing import LabelEncoder\n",
    "from sklearn.metrics import confusion_matrix, classification_report\n",
    "\n",
    "# Load the dataset (assumes CSV format, e.g., sdss.csv)\n",
    "df = pd.read_csv(\"sdss.csv\")  # Replace with your path\n",
    "\n",
    "# View column names (usually includes: 'u', 'g', 'r', 'i', 'z', 'class')\n",
    "# print(df.head())\n",
    "\n",
    "# df.keys()"
   ]
  },
  {
   "cell_type": "code",
   "execution_count": 98,
   "id": "5b3367c0-8fb0-45a6-bbb2-ecaaf950d5df",
   "metadata": {},
   "outputs": [],
   "source": [
    "features = df.columns.drop('class')\n",
    "target = 'class'\n",
    "x = df[features]\n",
    "y = df[target]"
   ]
  },
  {
   "cell_type": "code",
   "execution_count": 101,
   "id": "f0e91f93",
   "metadata": {},
   "outputs": [
    {
     "data": {
      "text/plain": [
       "((8000, 17), (2000, 17), (8000,), (2000,))"
      ]
     },
     "execution_count": 101,
     "metadata": {},
     "output_type": "execute_result"
    }
   ],
   "source": [
    "x_train, x_test, y_train, y_test = train_test_split(x, y, test_size=0.2, random_state=2)\n",
    "x_train.shape, x_test.shape, y_train.shape, y_test.shape"
   ]
  },
  {
   "cell_type": "code",
   "execution_count": 104,
   "id": "8a8fb450",
   "metadata": {},
   "outputs": [],
   "source": [
    "le = LabelEncoder()\n",
    "le.fit(y_train)\n",
    "y_train = le.transform(y_train)\n",
    "y_test = le.transform(y_test)\n",
    "\n",
    "scaler = StandardScaler()\n",
    "scaler.fit(x_train)\n",
    "x_train_st = scaler.transform(x_train)\n",
    "x_test_st = scaler.transform(x_test)\n",
    "\n",
    "# one-hot / dummy matrix \n",
    "y_train_oh = keras.utils.to_categorical(y_train)\n",
    "y_test_oh = keras.utils.to_categorical(y_test)"
   ]
  },
  {
   "cell_type": "code",
   "execution_count": 108,
   "id": "3bb0ae79",
   "metadata": {},
   "outputs": [
    {
     "data": {
      "text/html": [
       "<pre style=\"white-space:pre;overflow-x:auto;line-height:normal;font-family:Menlo,'DejaVu Sans Mono',consolas,'Courier New',monospace\"><span style=\"font-weight: bold\">Model: \"sequential_8\"</span>\n",
       "</pre>\n"
      ],
      "text/plain": [
       "\u001b[1mModel: \"sequential_8\"\u001b[0m\n"
      ]
     },
     "metadata": {},
     "output_type": "display_data"
    },
    {
     "data": {
      "text/html": [
       "<pre style=\"white-space:pre;overflow-x:auto;line-height:normal;font-family:Menlo,'DejaVu Sans Mono',consolas,'Courier New',monospace\">┏━━━━━━━━━━━━━━━━━━━━━━━━━━━━━━━━━┳━━━━━━━━━━━━━━━━━━━━━━━━┳━━━━━━━━━━━━━━━┓\n",
       "┃<span style=\"font-weight: bold\"> Layer (type)                    </span>┃<span style=\"font-weight: bold\"> Output Shape           </span>┃<span style=\"font-weight: bold\">       Param # </span>┃\n",
       "┡━━━━━━━━━━━━━━━━━━━━━━━━━━━━━━━━━╇━━━━━━━━━━━━━━━━━━━━━━━━╇━━━━━━━━━━━━━━━┩\n",
       "│ L1 (<span style=\"color: #0087ff; text-decoration-color: #0087ff\">Dense</span>)                      │ (<span style=\"color: #00d7ff; text-decoration-color: #00d7ff\">None</span>, <span style=\"color: #00af00; text-decoration-color: #00af00\">25</span>)             │           <span style=\"color: #00af00; text-decoration-color: #00af00\">450</span> │\n",
       "├─────────────────────────────────┼────────────────────────┼───────────────┤\n",
       "│ L2 (<span style=\"color: #0087ff; text-decoration-color: #0087ff\">Dense</span>)                      │ (<span style=\"color: #00d7ff; text-decoration-color: #00d7ff\">None</span>, <span style=\"color: #00af00; text-decoration-color: #00af00\">25</span>)             │           <span style=\"color: #00af00; text-decoration-color: #00af00\">650</span> │\n",
       "├─────────────────────────────────┼────────────────────────┼───────────────┤\n",
       "│ Out (<span style=\"color: #0087ff; text-decoration-color: #0087ff\">Dense</span>)                     │ (<span style=\"color: #00d7ff; text-decoration-color: #00d7ff\">None</span>, <span style=\"color: #00af00; text-decoration-color: #00af00\">3</span>)              │            <span style=\"color: #00af00; text-decoration-color: #00af00\">78</span> │\n",
       "└─────────────────────────────────┴────────────────────────┴───────────────┘\n",
       "</pre>\n"
      ],
      "text/plain": [
       "┏━━━━━━━━━━━━━━━━━━━━━━━━━━━━━━━━━┳━━━━━━━━━━━━━━━━━━━━━━━━┳━━━━━━━━━━━━━━━┓\n",
       "┃\u001b[1m \u001b[0m\u001b[1mLayer (type)                   \u001b[0m\u001b[1m \u001b[0m┃\u001b[1m \u001b[0m\u001b[1mOutput Shape          \u001b[0m\u001b[1m \u001b[0m┃\u001b[1m \u001b[0m\u001b[1m      Param #\u001b[0m\u001b[1m \u001b[0m┃\n",
       "┡━━━━━━━━━━━━━━━━━━━━━━━━━━━━━━━━━╇━━━━━━━━━━━━━━━━━━━━━━━━╇━━━━━━━━━━━━━━━┩\n",
       "│ L1 (\u001b[38;5;33mDense\u001b[0m)                      │ (\u001b[38;5;45mNone\u001b[0m, \u001b[38;5;34m25\u001b[0m)             │           \u001b[38;5;34m450\u001b[0m │\n",
       "├─────────────────────────────────┼────────────────────────┼───────────────┤\n",
       "│ L2 (\u001b[38;5;33mDense\u001b[0m)                      │ (\u001b[38;5;45mNone\u001b[0m, \u001b[38;5;34m25\u001b[0m)             │           \u001b[38;5;34m650\u001b[0m │\n",
       "├─────────────────────────────────┼────────────────────────┼───────────────┤\n",
       "│ Out (\u001b[38;5;33mDense\u001b[0m)                     │ (\u001b[38;5;45mNone\u001b[0m, \u001b[38;5;34m3\u001b[0m)              │            \u001b[38;5;34m78\u001b[0m │\n",
       "└─────────────────────────────────┴────────────────────────┴───────────────┘\n"
      ]
     },
     "metadata": {},
     "output_type": "display_data"
    },
    {
     "data": {
      "text/html": [
       "<pre style=\"white-space:pre;overflow-x:auto;line-height:normal;font-family:Menlo,'DejaVu Sans Mono',consolas,'Courier New',monospace\"><span style=\"font-weight: bold\"> Total params: </span><span style=\"color: #00af00; text-decoration-color: #00af00\">1,178</span> (4.60 KB)\n",
       "</pre>\n"
      ],
      "text/plain": [
       "\u001b[1m Total params: \u001b[0m\u001b[38;5;34m1,178\u001b[0m (4.60 KB)\n"
      ]
     },
     "metadata": {},
     "output_type": "display_data"
    },
    {
     "data": {
      "text/html": [
       "<pre style=\"white-space:pre;overflow-x:auto;line-height:normal;font-family:Menlo,'DejaVu Sans Mono',consolas,'Courier New',monospace\"><span style=\"font-weight: bold\"> Trainable params: </span><span style=\"color: #00af00; text-decoration-color: #00af00\">1,178</span> (4.60 KB)\n",
       "</pre>\n"
      ],
      "text/plain": [
       "\u001b[1m Trainable params: \u001b[0m\u001b[38;5;34m1,178\u001b[0m (4.60 KB)\n"
      ]
     },
     "metadata": {},
     "output_type": "display_data"
    },
    {
     "data": {
      "text/html": [
       "<pre style=\"white-space:pre;overflow-x:auto;line-height:normal;font-family:Menlo,'DejaVu Sans Mono',consolas,'Courier New',monospace\"><span style=\"font-weight: bold\"> Non-trainable params: </span><span style=\"color: #00af00; text-decoration-color: #00af00\">0</span> (0.00 B)\n",
       "</pre>\n"
      ],
      "text/plain": [
       "\u001b[1m Non-trainable params: \u001b[0m\u001b[38;5;34m0\u001b[0m (0.00 B)\n"
      ]
     },
     "metadata": {},
     "output_type": "display_data"
    },
    {
     "name": "stdout",
     "output_type": "stream",
     "text": [
      "Epoch 1/100\n",
      "\u001b[1m2667/2667\u001b[0m \u001b[32m━━━━━━━━━━━━━━━━━━━━\u001b[0m\u001b[37m\u001b[0m \u001b[1m4s\u001b[0m 957us/step - accuracy: 0.6344 - loss: 26121396241301504.0000 - val_accuracy: 0.7770 - val_loss: 3419335133495296.0000\n",
      "Epoch 2/100\n",
      "\u001b[1m2667/2667\u001b[0m \u001b[32m━━━━━━━━━━━━━━━━━━━━\u001b[0m\u001b[37m\u001b[0m \u001b[1m2s\u001b[0m 796us/step - accuracy: 0.6567 - loss: 5552203007787008.0000 - val_accuracy: 0.7660 - val_loss: 3292076594692096.0000\n",
      "Epoch 3/100\n",
      "\u001b[1m2667/2667\u001b[0m \u001b[32m━━━━━━━━━━━━━━━━━━━━\u001b[0m\u001b[37m\u001b[0m \u001b[1m2s\u001b[0m 800us/step - accuracy: 0.6779 - loss: 3995633845272576.0000 - val_accuracy: 0.7770 - val_loss: 5407561931030528.0000\n",
      "Epoch 4/100\n",
      "\u001b[1m2667/2667\u001b[0m \u001b[32m━━━━━━━━━━━━━━━━━━━━\u001b[0m\u001b[37m\u001b[0m \u001b[1m2s\u001b[0m 766us/step - accuracy: 0.6720 - loss: 3179041913831424.0000 - val_accuracy: 0.7835 - val_loss: 3554549562343424.0000\n",
      "Epoch 5/100\n",
      "\u001b[1m2667/2667\u001b[0m \u001b[32m━━━━━━━━━━━━━━━━━━━━\u001b[0m\u001b[37m\u001b[0m \u001b[1m2s\u001b[0m 793us/step - accuracy: 0.6709 - loss: 2099298409906176.0000 - val_accuracy: 0.7825 - val_loss: 1786865040490496.0000\n",
      "Epoch 6/100\n",
      "\u001b[1m2667/2667\u001b[0m \u001b[32m━━━━━━━━━━━━━━━━━━━━\u001b[0m\u001b[37m\u001b[0m \u001b[1m2s\u001b[0m 773us/step - accuracy: 0.6587 - loss: 1181433565544448.0000 - val_accuracy: 0.7825 - val_loss: 1169972847968256.0000\n",
      "Epoch 7/100\n",
      "\u001b[1m2667/2667\u001b[0m \u001b[32m━━━━━━━━━━━━━━━━━━━━\u001b[0m\u001b[37m\u001b[0m \u001b[1m2s\u001b[0m 801us/step - accuracy: 0.6783 - loss: 804060760375296.0000 - val_accuracy: 0.4860 - val_loss: 1321283337846784.0000\n",
      "Epoch 8/100\n",
      "\u001b[1m2667/2667\u001b[0m \u001b[32m━━━━━━━━━━━━━━━━━━━━\u001b[0m\u001b[37m\u001b[0m \u001b[1m2s\u001b[0m 808us/step - accuracy: 0.6671 - loss: 414794083467264.0000 - val_accuracy: 0.4265 - val_loss: 156824858787840.0000\n",
      "Epoch 9/100\n",
      "\u001b[1m2667/2667\u001b[0m \u001b[32m━━━━━━━━━━━━━━━━━━━━\u001b[0m\u001b[37m\u001b[0m \u001b[1m2s\u001b[0m 776us/step - accuracy: 0.6015 - loss: 65642405298176.0000 - val_accuracy: 0.4860 - val_loss: 0.9366\n",
      "Epoch 10/100\n",
      "\u001b[1m2667/2667\u001b[0m \u001b[32m━━━━━━━━━━━━━━━━━━━━\u001b[0m\u001b[37m\u001b[0m \u001b[1m2s\u001b[0m 805us/step - accuracy: 0.5090 - loss: 0.9153 - val_accuracy: 0.4860 - val_loss: 0.9343\n",
      "Epoch 11/100\n",
      "\u001b[1m2667/2667\u001b[0m \u001b[32m━━━━━━━━━━━━━━━━━━━━\u001b[0m\u001b[37m\u001b[0m \u001b[1m3s\u001b[0m 1ms/step - accuracy: 0.5038 - loss: 0.9137 - val_accuracy: 0.4860 - val_loss: 0.9348\n",
      "Epoch 12/100\n",
      "\u001b[1m2667/2667\u001b[0m \u001b[32m━━━━━━━━━━━━━━━━━━━━\u001b[0m\u001b[37m\u001b[0m \u001b[1m4s\u001b[0m 2ms/step - accuracy: 0.5113 - loss: 0.9183 - val_accuracy: 0.4860 - val_loss: 0.9349\n",
      "Epoch 13/100\n",
      "\u001b[1m2667/2667\u001b[0m \u001b[32m━━━━━━━━━━━━━━━━━━━━\u001b[0m\u001b[37m\u001b[0m \u001b[1m3s\u001b[0m 1ms/step - accuracy: 0.5009 - loss: 0.9067 - val_accuracy: 0.4860 - val_loss: 0.9351\n",
      "Epoch 14/100\n",
      "\u001b[1m2667/2667\u001b[0m \u001b[32m━━━━━━━━━━━━━━━━━━━━\u001b[0m\u001b[37m\u001b[0m \u001b[1m3s\u001b[0m 932us/step - accuracy: 0.4962 - loss: 0.9200 - val_accuracy: 0.4860 - val_loss: 0.9356\n",
      "Epoch 15/100\n",
      "\u001b[1m2667/2667\u001b[0m \u001b[32m━━━━━━━━━━━━━━━━━━━━\u001b[0m\u001b[37m\u001b[0m \u001b[1m2s\u001b[0m 827us/step - accuracy: 0.5018 - loss: 0.9130 - val_accuracy: 0.4860 - val_loss: 0.9349\n",
      "Epoch 16/100\n",
      "\u001b[1m2667/2667\u001b[0m \u001b[32m━━━━━━━━━━━━━━━━━━━━\u001b[0m\u001b[37m\u001b[0m \u001b[1m3s\u001b[0m 947us/step - accuracy: 0.5087 - loss: 0.9106 - val_accuracy: 0.4860 - val_loss: 0.9350\n",
      "Epoch 17/100\n",
      "\u001b[1m2667/2667\u001b[0m \u001b[32m━━━━━━━━━━━━━━━━━━━━\u001b[0m\u001b[37m\u001b[0m \u001b[1m2s\u001b[0m 865us/step - accuracy: 0.4996 - loss: 0.9145 - val_accuracy: 0.4860 - val_loss: 0.9350\n",
      "Epoch 18/100\n",
      "\u001b[1m2667/2667\u001b[0m \u001b[32m━━━━━━━━━━━━━━━━━━━━\u001b[0m\u001b[37m\u001b[0m \u001b[1m2s\u001b[0m 832us/step - accuracy: 0.5027 - loss: 0.9155 - val_accuracy: 0.4860 - val_loss: 0.9349\n",
      "Epoch 19/100\n",
      "\u001b[1m2667/2667\u001b[0m \u001b[32m━━━━━━━━━━━━━━━━━━━━\u001b[0m\u001b[37m\u001b[0m \u001b[1m3s\u001b[0m 1ms/step - accuracy: 0.4971 - loss: 0.9244 - val_accuracy: 0.4860 - val_loss: 0.9362\n",
      "Epoch 20/100\n",
      "\u001b[1m2667/2667\u001b[0m \u001b[32m━━━━━━━━━━━━━━━━━━━━\u001b[0m\u001b[37m\u001b[0m \u001b[1m2s\u001b[0m 902us/step - accuracy: 0.5026 - loss: 0.9210 - val_accuracy: 0.4860 - val_loss: 0.9348\n",
      "Epoch 21/100\n",
      "\u001b[1m2667/2667\u001b[0m \u001b[32m━━━━━━━━━━━━━━━━━━━━\u001b[0m\u001b[37m\u001b[0m \u001b[1m2s\u001b[0m 798us/step - accuracy: 0.4917 - loss: 0.9222 - val_accuracy: 0.4860 - val_loss: 0.9361\n",
      "Epoch 22/100\n",
      "\u001b[1m2667/2667\u001b[0m \u001b[32m━━━━━━━━━━━━━━━━━━━━\u001b[0m\u001b[37m\u001b[0m \u001b[1m2s\u001b[0m 776us/step - accuracy: 0.4984 - loss: 0.9243 - val_accuracy: 0.4860 - val_loss: 0.9358\n",
      "Epoch 23/100\n",
      "\u001b[1m2667/2667\u001b[0m \u001b[32m━━━━━━━━━━━━━━━━━━━━\u001b[0m\u001b[37m\u001b[0m \u001b[1m2s\u001b[0m 843us/step - accuracy: 0.5062 - loss: 0.9150 - val_accuracy: 0.4860 - val_loss: 0.9354\n",
      "Epoch 24/100\n",
      "\u001b[1m2667/2667\u001b[0m \u001b[32m━━━━━━━━━━━━━━━━━━━━\u001b[0m\u001b[37m\u001b[0m \u001b[1m2s\u001b[0m 923us/step - accuracy: 0.5011 - loss: 0.9152 - val_accuracy: 0.4860 - val_loss: 0.9349\n",
      "Epoch 25/100\n",
      "\u001b[1m2667/2667\u001b[0m \u001b[32m━━━━━━━━━━━━━━━━━━━━\u001b[0m\u001b[37m\u001b[0m \u001b[1m3s\u001b[0m 1ms/step - accuracy: 0.4910 - loss: 0.9291 - val_accuracy: 0.4860 - val_loss: 0.9361\n",
      "Epoch 26/100\n",
      "\u001b[1m2667/2667\u001b[0m \u001b[32m━━━━━━━━━━━━━━━━━━━━\u001b[0m\u001b[37m\u001b[0m \u001b[1m3s\u001b[0m 1ms/step - accuracy: 0.5135 - loss: 0.9195 - val_accuracy: 0.4860 - val_loss: 0.9349\n",
      "Epoch 27/100\n",
      "\u001b[1m2667/2667\u001b[0m \u001b[32m━━━━━━━━━━━━━━━━━━━━\u001b[0m\u001b[37m\u001b[0m \u001b[1m2s\u001b[0m 910us/step - accuracy: 0.5064 - loss: 0.9215 - val_accuracy: 0.4860 - val_loss: 0.9349\n",
      "Epoch 28/100\n",
      "\u001b[1m2667/2667\u001b[0m \u001b[32m━━━━━━━━━━━━━━━━━━━━\u001b[0m\u001b[37m\u001b[0m \u001b[1m3s\u001b[0m 1ms/step - accuracy: 0.4970 - loss: 0.9201 - val_accuracy: 0.4860 - val_loss: 0.9355\n",
      "Epoch 29/100\n",
      "\u001b[1m2667/2667\u001b[0m \u001b[32m━━━━━━━━━━━━━━━━━━━━\u001b[0m\u001b[37m\u001b[0m \u001b[1m3s\u001b[0m 940us/step - accuracy: 0.4931 - loss: 0.9231 - val_accuracy: 0.4860 - val_loss: 0.9348\n",
      "Epoch 30/100\n",
      "\u001b[1m2667/2667\u001b[0m \u001b[32m━━━━━━━━━━━━━━━━━━━━\u001b[0m\u001b[37m\u001b[0m \u001b[1m3s\u001b[0m 1ms/step - accuracy: 0.5016 - loss: 0.9130 - val_accuracy: 0.4860 - val_loss: 0.9348\n",
      "Epoch 31/100\n",
      "\u001b[1m2667/2667\u001b[0m \u001b[32m━━━━━━━━━━━━━━━━━━━━\u001b[0m\u001b[37m\u001b[0m \u001b[1m3s\u001b[0m 928us/step - accuracy: 0.5004 - loss: 0.9170 - val_accuracy: 0.4860 - val_loss: 0.9358\n",
      "Epoch 32/100\n",
      "\u001b[1m2667/2667\u001b[0m \u001b[32m━━━━━━━━━━━━━━━━━━━━\u001b[0m\u001b[37m\u001b[0m \u001b[1m2s\u001b[0m 892us/step - accuracy: 0.4932 - loss: 0.9130 - val_accuracy: 0.4860 - val_loss: 0.9359\n",
      "Epoch 33/100\n",
      "\u001b[1m2667/2667\u001b[0m \u001b[32m━━━━━━━━━━━━━━━━━━━━\u001b[0m\u001b[37m\u001b[0m \u001b[1m2s\u001b[0m 867us/step - accuracy: 0.5012 - loss: 0.9238 - val_accuracy: 0.4860 - val_loss: 0.9354\n",
      "Epoch 34/100\n",
      "\u001b[1m2667/2667\u001b[0m \u001b[32m━━━━━━━━━━━━━━━━━━━━\u001b[0m\u001b[37m\u001b[0m \u001b[1m3s\u001b[0m 1ms/step - accuracy: 0.4998 - loss: 0.9232 - val_accuracy: 0.4860 - val_loss: 0.9353\n",
      "Epoch 35/100\n",
      "\u001b[1m2667/2667\u001b[0m \u001b[32m━━━━━━━━━━━━━━━━━━━━\u001b[0m\u001b[37m\u001b[0m \u001b[1m2s\u001b[0m 912us/step - accuracy: 0.5102 - loss: 0.9090 - val_accuracy: 0.4860 - val_loss: 0.9345\n",
      "Epoch 36/100\n",
      "\u001b[1m2667/2667\u001b[0m \u001b[32m━━━━━━━━━━━━━━━━━━━━\u001b[0m\u001b[37m\u001b[0m \u001b[1m2s\u001b[0m 817us/step - accuracy: 0.5157 - loss: 0.9086 - val_accuracy: 0.4860 - val_loss: 0.9347\n",
      "Epoch 37/100\n",
      "\u001b[1m2667/2667\u001b[0m \u001b[32m━━━━━━━━━━━━━━━━━━━━\u001b[0m\u001b[37m\u001b[0m \u001b[1m3s\u001b[0m 1ms/step - accuracy: 0.4993 - loss: 0.9226 - val_accuracy: 0.4860 - val_loss: 0.9352\n",
      "Epoch 38/100\n",
      "\u001b[1m2667/2667\u001b[0m \u001b[32m━━━━━━━━━━━━━━━━━━━━\u001b[0m\u001b[37m\u001b[0m \u001b[1m2s\u001b[0m 888us/step - accuracy: 0.4943 - loss: 0.9199 - val_accuracy: 0.4860 - val_loss: 0.9360\n",
      "Epoch 39/100\n",
      "\u001b[1m2667/2667\u001b[0m \u001b[32m━━━━━━━━━━━━━━━━━━━━\u001b[0m\u001b[37m\u001b[0m \u001b[1m3s\u001b[0m 1ms/step - accuracy: 0.5012 - loss: 0.9217 - val_accuracy: 0.4860 - val_loss: 0.9353\n",
      "Epoch 40/100\n",
      "\u001b[1m2667/2667\u001b[0m \u001b[32m━━━━━━━━━━━━━━━━━━━━\u001b[0m\u001b[37m\u001b[0m \u001b[1m3s\u001b[0m 1ms/step - accuracy: 0.5093 - loss: 0.9237 - val_accuracy: 0.4860 - val_loss: 0.9348\n",
      "Epoch 41/100\n",
      "\u001b[1m2667/2667\u001b[0m \u001b[32m━━━━━━━━━━━━━━━━━━━━\u001b[0m\u001b[37m\u001b[0m \u001b[1m2s\u001b[0m 789us/step - accuracy: 0.4986 - loss: 0.9214 - val_accuracy: 0.4860 - val_loss: 0.9356\n",
      "Epoch 42/100\n",
      "\u001b[1m2667/2667\u001b[0m \u001b[32m━━━━━━━━━━━━━━━━━━━━\u001b[0m\u001b[37m\u001b[0m \u001b[1m2s\u001b[0m 807us/step - accuracy: 0.4935 - loss: 0.9199 - val_accuracy: 0.4860 - val_loss: 0.9349\n",
      "Epoch 43/100\n",
      "\u001b[1m2667/2667\u001b[0m \u001b[32m━━━━━━━━━━━━━━━━━━━━\u001b[0m\u001b[37m\u001b[0m \u001b[1m3s\u001b[0m 1ms/step - accuracy: 0.4952 - loss: 0.9202 - val_accuracy: 0.4860 - val_loss: 0.9354\n",
      "Epoch 44/100\n",
      "\u001b[1m2667/2667\u001b[0m \u001b[32m━━━━━━━━━━━━━━━━━━━━\u001b[0m\u001b[37m\u001b[0m \u001b[1m2s\u001b[0m 844us/step - accuracy: 0.5032 - loss: 0.9190 - val_accuracy: 0.4860 - val_loss: 0.9347\n",
      "Epoch 45/100\n",
      "\u001b[1m2667/2667\u001b[0m \u001b[32m━━━━━━━━━━━━━━━━━━━━\u001b[0m\u001b[37m\u001b[0m \u001b[1m3s\u001b[0m 958us/step - accuracy: 0.5046 - loss: 0.9139 - val_accuracy: 0.4860 - val_loss: 0.9348\n",
      "Epoch 46/100\n",
      "\u001b[1m2667/2667\u001b[0m \u001b[32m━━━━━━━━━━━━━━━━━━━━\u001b[0m\u001b[37m\u001b[0m \u001b[1m2s\u001b[0m 808us/step - accuracy: 0.4984 - loss: 0.9241 - val_accuracy: 0.4860 - val_loss: 0.9354\n",
      "Epoch 47/100\n",
      "\u001b[1m2667/2667\u001b[0m \u001b[32m━━━━━━━━━━━━━━━━━━━━\u001b[0m\u001b[37m\u001b[0m \u001b[1m3s\u001b[0m 1ms/step - accuracy: 0.4957 - loss: 0.9201 - val_accuracy: 0.4860 - val_loss: 0.9353\n",
      "Epoch 48/100\n",
      "\u001b[1m2667/2667\u001b[0m \u001b[32m━━━━━━━━━━━━━━━━━━━━\u001b[0m\u001b[37m\u001b[0m \u001b[1m3s\u001b[0m 1ms/step - accuracy: 0.5042 - loss: 0.9228 - val_accuracy: 0.4860 - val_loss: 0.9351\n",
      "Epoch 49/100\n",
      "\u001b[1m2667/2667\u001b[0m \u001b[32m━━━━━━━━━━━━━━━━━━━━\u001b[0m\u001b[37m\u001b[0m \u001b[1m3s\u001b[0m 1ms/step - accuracy: 0.5031 - loss: 0.9217 - val_accuracy: 0.4860 - val_loss: 0.9352\n",
      "Epoch 50/100\n",
      "\u001b[1m2667/2667\u001b[0m \u001b[32m━━━━━━━━━━━━━━━━━━━━\u001b[0m\u001b[37m\u001b[0m \u001b[1m3s\u001b[0m 1ms/step - accuracy: 0.5040 - loss: 0.9167 - val_accuracy: 0.4860 - val_loss: 0.9353\n",
      "Epoch 51/100\n",
      "\u001b[1m2667/2667\u001b[0m \u001b[32m━━━━━━━━━━━━━━━━━━━━\u001b[0m\u001b[37m\u001b[0m \u001b[1m3s\u001b[0m 1ms/step - accuracy: 0.4902 - loss: 0.9237 - val_accuracy: 0.4860 - val_loss: 0.9361\n",
      "Epoch 52/100\n",
      "\u001b[1m2667/2667\u001b[0m \u001b[32m━━━━━━━━━━━━━━━━━━━━\u001b[0m\u001b[37m\u001b[0m \u001b[1m4s\u001b[0m 1ms/step - accuracy: 0.5084 - loss: 0.9124 - val_accuracy: 0.4860 - val_loss: 0.9348\n",
      "Epoch 53/100\n",
      "\u001b[1m2667/2667\u001b[0m \u001b[32m━━━━━━━━━━━━━━━━━━━━\u001b[0m\u001b[37m\u001b[0m \u001b[1m3s\u001b[0m 1ms/step - accuracy: 0.4960 - loss: 0.9079 - val_accuracy: 0.4860 - val_loss: 0.9349\n",
      "Epoch 54/100\n",
      "\u001b[1m2667/2667\u001b[0m \u001b[32m━━━━━━━━━━━━━━━━━━━━\u001b[0m\u001b[37m\u001b[0m \u001b[1m2s\u001b[0m 880us/step - accuracy: 0.5033 - loss: 0.9149 - val_accuracy: 0.4860 - val_loss: 0.9349\n",
      "Epoch 55/100\n",
      "\u001b[1m2667/2667\u001b[0m \u001b[32m━━━━━━━━━━━━━━━━━━━━\u001b[0m\u001b[37m\u001b[0m \u001b[1m2s\u001b[0m 837us/step - accuracy: 0.5054 - loss: 0.9117 - val_accuracy: 0.4860 - val_loss: 0.9350\n",
      "Epoch 56/100\n",
      "\u001b[1m2667/2667\u001b[0m \u001b[32m━━━━━━━━━━━━━━━━━━━━\u001b[0m\u001b[37m\u001b[0m \u001b[1m2s\u001b[0m 926us/step - accuracy: 0.5019 - loss: 0.9081 - val_accuracy: 0.4860 - val_loss: 0.9349\n",
      "Epoch 57/100\n",
      "\u001b[1m2667/2667\u001b[0m \u001b[32m━━━━━━━━━━━━━━━━━━━━\u001b[0m\u001b[37m\u001b[0m \u001b[1m3s\u001b[0m 1ms/step - accuracy: 0.5005 - loss: 0.9205 - val_accuracy: 0.4860 - val_loss: 0.9352\n",
      "Epoch 58/100\n",
      "\u001b[1m2667/2667\u001b[0m \u001b[32m━━━━━━━━━━━━━━━━━━━━\u001b[0m\u001b[37m\u001b[0m \u001b[1m4s\u001b[0m 2ms/step - accuracy: 0.5119 - loss: 0.9190 - val_accuracy: 0.4860 - val_loss: 0.9348\n",
      "Epoch 59/100\n",
      "\u001b[1m2667/2667\u001b[0m \u001b[32m━━━━━━━━━━━━━━━━━━━━\u001b[0m\u001b[37m\u001b[0m \u001b[1m4s\u001b[0m 2ms/step - accuracy: 0.5017 - loss: 0.9157 - val_accuracy: 0.4860 - val_loss: 0.9351\n",
      "Epoch 60/100\n",
      "\u001b[1m2667/2667\u001b[0m \u001b[32m━━━━━━━━━━━━━━━━━━━━\u001b[0m\u001b[37m\u001b[0m \u001b[1m3s\u001b[0m 1ms/step - accuracy: 0.4938 - loss: 0.9226 - val_accuracy: 0.4860 - val_loss: 0.9356\n",
      "Epoch 61/100\n",
      "\u001b[1m2667/2667\u001b[0m \u001b[32m━━━━━━━━━━━━━━━━━━━━\u001b[0m\u001b[37m\u001b[0m \u001b[1m3s\u001b[0m 948us/step - accuracy: 0.5071 - loss: 0.9194 - val_accuracy: 0.4860 - val_loss: 0.9352\n",
      "Epoch 62/100\n",
      "\u001b[1m2667/2667\u001b[0m \u001b[32m━━━━━━━━━━━━━━━━━━━━\u001b[0m\u001b[37m\u001b[0m \u001b[1m3s\u001b[0m 1ms/step - accuracy: 0.5033 - loss: 0.9088 - val_accuracy: 0.4860 - val_loss: 0.9355\n",
      "Epoch 63/100\n",
      "\u001b[1m2667/2667\u001b[0m \u001b[32m━━━━━━━━━━━━━━━━━━━━\u001b[0m\u001b[37m\u001b[0m \u001b[1m2s\u001b[0m 841us/step - accuracy: 0.5055 - loss: 0.9159 - val_accuracy: 0.4860 - val_loss: 0.9348\n",
      "Epoch 64/100\n",
      "\u001b[1m2667/2667\u001b[0m \u001b[32m━━━━━━━━━━━━━━━━━━━━\u001b[0m\u001b[37m\u001b[0m \u001b[1m3s\u001b[0m 987us/step - accuracy: 0.5106 - loss: 0.9118 - val_accuracy: 0.4860 - val_loss: 0.9347\n",
      "Epoch 65/100\n",
      "\u001b[1m2667/2667\u001b[0m \u001b[32m━━━━━━━━━━━━━━━━━━━━\u001b[0m\u001b[37m\u001b[0m \u001b[1m2s\u001b[0m 789us/step - accuracy: 0.5014 - loss: 0.9125 - val_accuracy: 0.4860 - val_loss: 0.9353\n",
      "Epoch 66/100\n",
      "\u001b[1m2667/2667\u001b[0m \u001b[32m━━━━━━━━━━━━━━━━━━━━\u001b[0m\u001b[37m\u001b[0m \u001b[1m2s\u001b[0m 866us/step - accuracy: 0.4993 - loss: 0.9274 - val_accuracy: 0.4860 - val_loss: 0.9354\n",
      "Epoch 67/100\n",
      "\u001b[1m2667/2667\u001b[0m \u001b[32m━━━━━━━━━━━━━━━━━━━━\u001b[0m\u001b[37m\u001b[0m \u001b[1m2s\u001b[0m 771us/step - accuracy: 0.4985 - loss: 0.9231 - val_accuracy: 0.4860 - val_loss: 0.9353\n",
      "Epoch 68/100\n",
      "\u001b[1m2667/2667\u001b[0m \u001b[32m━━━━━━━━━━━━━━━━━━━━\u001b[0m\u001b[37m\u001b[0m \u001b[1m2s\u001b[0m 811us/step - accuracy: 0.5097 - loss: 0.9213 - val_accuracy: 0.4860 - val_loss: 0.9352\n",
      "Epoch 69/100\n",
      "\u001b[1m2667/2667\u001b[0m \u001b[32m━━━━━━━━━━━━━━━━━━━━\u001b[0m\u001b[37m\u001b[0m \u001b[1m2s\u001b[0m 831us/step - accuracy: 0.5046 - loss: 0.9156 - val_accuracy: 0.4860 - val_loss: 0.9351\n",
      "Epoch 70/100\n",
      "\u001b[1m2667/2667\u001b[0m \u001b[32m━━━━━━━━━━━━━━━━━━━━\u001b[0m\u001b[37m\u001b[0m \u001b[1m2s\u001b[0m 795us/step - accuracy: 0.5088 - loss: 0.9193 - val_accuracy: 0.4860 - val_loss: 0.9348\n",
      "Epoch 71/100\n",
      "\u001b[1m2667/2667\u001b[0m \u001b[32m━━━━━━━━━━━━━━━━━━━━\u001b[0m\u001b[37m\u001b[0m \u001b[1m2s\u001b[0m 817us/step - accuracy: 0.4940 - loss: 0.9186 - val_accuracy: 0.4860 - val_loss: 0.9359\n",
      "Epoch 72/100\n",
      "\u001b[1m2667/2667\u001b[0m \u001b[32m━━━━━━━━━━━━━━━━━━━━\u001b[0m\u001b[37m\u001b[0m \u001b[1m2s\u001b[0m 805us/step - accuracy: 0.4979 - loss: 0.9176 - val_accuracy: 0.4860 - val_loss: 0.9353\n",
      "Epoch 73/100\n",
      "\u001b[1m2667/2667\u001b[0m \u001b[32m━━━━━━━━━━━━━━━━━━━━\u001b[0m\u001b[37m\u001b[0m \u001b[1m2s\u001b[0m 790us/step - accuracy: 0.5038 - loss: 0.9095 - val_accuracy: 0.4860 - val_loss: 0.9349\n",
      "Epoch 74/100\n",
      "\u001b[1m2667/2667\u001b[0m \u001b[32m━━━━━━━━━━━━━━━━━━━━\u001b[0m\u001b[37m\u001b[0m \u001b[1m2s\u001b[0m 773us/step - accuracy: 0.5027 - loss: 0.9228 - val_accuracy: 0.4860 - val_loss: 0.9354\n",
      "Epoch 75/100\n",
      "\u001b[1m2667/2667\u001b[0m \u001b[32m━━━━━━━━━━━━━━━━━━━━\u001b[0m\u001b[37m\u001b[0m \u001b[1m2s\u001b[0m 806us/step - accuracy: 0.4994 - loss: 0.9140 - val_accuracy: 0.4860 - val_loss: 0.9355\n",
      "Epoch 76/100\n",
      "\u001b[1m2667/2667\u001b[0m \u001b[32m━━━━━━━━━━━━━━━━━━━━\u001b[0m\u001b[37m\u001b[0m \u001b[1m2s\u001b[0m 783us/step - accuracy: 0.5050 - loss: 0.9152 - val_accuracy: 0.4860 - val_loss: 0.9350\n",
      "Epoch 77/100\n",
      "\u001b[1m2667/2667\u001b[0m \u001b[32m━━━━━━━━━━━━━━━━━━━━\u001b[0m\u001b[37m\u001b[0m \u001b[1m2s\u001b[0m 770us/step - accuracy: 0.5053 - loss: 0.9177 - val_accuracy: 0.4860 - val_loss: 0.9350\n",
      "Epoch 78/100\n",
      "\u001b[1m2667/2667\u001b[0m \u001b[32m━━━━━━━━━━━━━━━━━━━━\u001b[0m\u001b[37m\u001b[0m \u001b[1m2s\u001b[0m 809us/step - accuracy: 0.5024 - loss: 0.9204 - val_accuracy: 0.4860 - val_loss: 0.9354\n",
      "Epoch 79/100\n",
      "\u001b[1m2667/2667\u001b[0m \u001b[32m━━━━━━━━━━━━━━━━━━━━\u001b[0m\u001b[37m\u001b[0m \u001b[1m2s\u001b[0m 775us/step - accuracy: 0.4908 - loss: 0.9177 - val_accuracy: 0.4860 - val_loss: 0.9360\n",
      "Epoch 80/100\n",
      "\u001b[1m2667/2667\u001b[0m \u001b[32m━━━━━━━━━━━━━━━━━━━━\u001b[0m\u001b[37m\u001b[0m \u001b[1m2s\u001b[0m 774us/step - accuracy: 0.5041 - loss: 0.9167 - val_accuracy: 0.4860 - val_loss: 0.9353\n",
      "Epoch 81/100\n",
      "\u001b[1m2667/2667\u001b[0m \u001b[32m━━━━━━━━━━━━━━━━━━━━\u001b[0m\u001b[37m\u001b[0m \u001b[1m2s\u001b[0m 772us/step - accuracy: 0.5001 - loss: 0.9223 - val_accuracy: 0.4860 - val_loss: 0.9356\n",
      "Epoch 82/100\n",
      "\u001b[1m2667/2667\u001b[0m \u001b[32m━━━━━━━━━━━━━━━━━━━━\u001b[0m\u001b[37m\u001b[0m \u001b[1m2s\u001b[0m 800us/step - accuracy: 0.5051 - loss: 0.9158 - val_accuracy: 0.4860 - val_loss: 0.9350\n",
      "Epoch 83/100\n",
      "\u001b[1m2667/2667\u001b[0m \u001b[32m━━━━━━━━━━━━━━━━━━━━\u001b[0m\u001b[37m\u001b[0m \u001b[1m2s\u001b[0m 771us/step - accuracy: 0.5013 - loss: 0.9178 - val_accuracy: 0.4860 - val_loss: 0.9347\n",
      "Epoch 84/100\n",
      "\u001b[1m2667/2667\u001b[0m \u001b[32m━━━━━━━━━━━━━━━━━━━━\u001b[0m\u001b[37m\u001b[0m \u001b[1m2s\u001b[0m 790us/step - accuracy: 0.5048 - loss: 0.9127 - val_accuracy: 0.4860 - val_loss: 0.9351\n",
      "Epoch 85/100\n",
      "\u001b[1m2667/2667\u001b[0m \u001b[32m━━━━━━━━━━━━━━━━━━━━\u001b[0m\u001b[37m\u001b[0m \u001b[1m2s\u001b[0m 795us/step - accuracy: 0.5056 - loss: 0.9188 - val_accuracy: 0.4860 - val_loss: 0.9348\n",
      "Epoch 86/100\n",
      "\u001b[1m2667/2667\u001b[0m \u001b[32m━━━━━━━━━━━━━━━━━━━━\u001b[0m\u001b[37m\u001b[0m \u001b[1m2s\u001b[0m 781us/step - accuracy: 0.5017 - loss: 0.9256 - val_accuracy: 0.4860 - val_loss: 0.9353\n",
      "Epoch 87/100\n",
      "\u001b[1m2667/2667\u001b[0m \u001b[32m━━━━━━━━━━━━━━━━━━━━\u001b[0m\u001b[37m\u001b[0m \u001b[1m2s\u001b[0m 775us/step - accuracy: 0.5044 - loss: 0.9131 - val_accuracy: 0.4860 - val_loss: 0.9351\n",
      "Epoch 88/100\n",
      "\u001b[1m2667/2667\u001b[0m \u001b[32m━━━━━━━━━━━━━━━━━━━━\u001b[0m\u001b[37m\u001b[0m \u001b[1m2s\u001b[0m 796us/step - accuracy: 0.5039 - loss: 0.9109 - val_accuracy: 0.4860 - val_loss: 0.9353\n",
      "Epoch 89/100\n",
      "\u001b[1m2667/2667\u001b[0m \u001b[32m━━━━━━━━━━━━━━━━━━━━\u001b[0m\u001b[37m\u001b[0m \u001b[1m2s\u001b[0m 782us/step - accuracy: 0.5008 - loss: 0.9178 - val_accuracy: 0.4860 - val_loss: 0.9351\n",
      "Epoch 90/100\n",
      "\u001b[1m2667/2667\u001b[0m \u001b[32m━━━━━━━━━━━━━━━━━━━━\u001b[0m\u001b[37m\u001b[0m \u001b[1m2s\u001b[0m 774us/step - accuracy: 0.5047 - loss: 0.9148 - val_accuracy: 0.4860 - val_loss: 0.9353\n",
      "Epoch 91/100\n",
      "\u001b[1m2667/2667\u001b[0m \u001b[32m━━━━━━━━━━━━━━━━━━━━\u001b[0m\u001b[37m\u001b[0m \u001b[1m2s\u001b[0m 793us/step - accuracy: 0.5094 - loss: 0.9142 - val_accuracy: 0.4860 - val_loss: 0.9349\n",
      "Epoch 92/100\n",
      "\u001b[1m2667/2667\u001b[0m \u001b[32m━━━━━━━━━━━━━━━━━━━━\u001b[0m\u001b[37m\u001b[0m \u001b[1m2s\u001b[0m 774us/step - accuracy: 0.5053 - loss: 0.9196 - val_accuracy: 0.4860 - val_loss: 0.9349\n",
      "Epoch 93/100\n",
      "\u001b[1m2667/2667\u001b[0m \u001b[32m━━━━━━━━━━━━━━━━━━━━\u001b[0m\u001b[37m\u001b[0m \u001b[1m2s\u001b[0m 774us/step - accuracy: 0.5014 - loss: 0.9174 - val_accuracy: 0.4860 - val_loss: 0.9353\n",
      "Epoch 94/100\n",
      "\u001b[1m2667/2667\u001b[0m \u001b[32m━━━━━━━━━━━━━━━━━━━━\u001b[0m\u001b[37m\u001b[0m \u001b[1m2s\u001b[0m 824us/step - accuracy: 0.4979 - loss: 0.9196 - val_accuracy: 0.4860 - val_loss: 0.9352\n",
      "Epoch 95/100\n",
      "\u001b[1m2667/2667\u001b[0m \u001b[32m━━━━━━━━━━━━━━━━━━━━\u001b[0m\u001b[37m\u001b[0m \u001b[1m2s\u001b[0m 774us/step - accuracy: 0.5094 - loss: 0.9244 - val_accuracy: 0.4860 - val_loss: 0.9348\n",
      "Epoch 96/100\n",
      "\u001b[1m2667/2667\u001b[0m \u001b[32m━━━━━━━━━━━━━━━━━━━━\u001b[0m\u001b[37m\u001b[0m \u001b[1m2s\u001b[0m 781us/step - accuracy: 0.5017 - loss: 0.9175 - val_accuracy: 0.4860 - val_loss: 0.9354\n",
      "Epoch 97/100\n",
      "\u001b[1m2667/2667\u001b[0m \u001b[32m━━━━━━━━━━━━━━━━━━━━\u001b[0m\u001b[37m\u001b[0m \u001b[1m2s\u001b[0m 803us/step - accuracy: 0.4951 - loss: 0.9216 - val_accuracy: 0.4860 - val_loss: 0.9361\n",
      "Epoch 98/100\n",
      "\u001b[1m2667/2667\u001b[0m \u001b[32m━━━━━━━━━━━━━━━━━━━━\u001b[0m\u001b[37m\u001b[0m \u001b[1m2s\u001b[0m 779us/step - accuracy: 0.4918 - loss: 0.9248 - val_accuracy: 0.4860 - val_loss: 0.9359\n",
      "Epoch 99/100\n",
      "\u001b[1m2667/2667\u001b[0m \u001b[32m━━━━━━━━━━━━━━━━━━━━\u001b[0m\u001b[37m\u001b[0m \u001b[1m2s\u001b[0m 773us/step - accuracy: 0.5039 - loss: 0.9223 - val_accuracy: 0.4860 - val_loss: 0.9353\n",
      "Epoch 100/100\n",
      "\u001b[1m2667/2667\u001b[0m \u001b[32m━━━━━━━━━━━━━━━━━━━━\u001b[0m\u001b[37m\u001b[0m \u001b[1m2s\u001b[0m 797us/step - accuracy: 0.5126 - loss: 0.9150 - val_accuracy: 0.4860 - val_loss: 0.9350\n"
     ]
    }
   ],
   "source": [
    "model = keras.Sequential(\n",
    "    [\n",
    "        keras.layers.Input(shape=(17,), name=\"In\"),\n",
    "        keras.layers.Dense(25, activation='relu', name=\"L1\"),\n",
    "        keras.layers.Dense(25, activation='relu', name=\"L2\"),\n",
    "        keras.layers.Dense(3, activation='softmax', name=\"Out\")\n",
    "    ]\n",
    ")\n",
    "model.summary()\n",
    "\n",
    "model.compile(\n",
    "    loss=keras.losses.CategoricalCrossentropy(), ### loss function\n",
    "    optimizer=keras.optimizers.Adam(), ### optimizer\n",
    "    metrics=[        \n",
    "        keras.metrics.CategoricalAccuracy(name=\"accuracy\"), ## metric to assess performance\n",
    "    ],\n",
    ")\n",
    "\n",
    "history = model.fit(\n",
    "    x_train,\n",
    "    y_train_oh,\n",
    "    validation_data=(x_test, y_test_oh),\n",
    "    batch_size=3,\n",
    "    epochs=100,\n",
    "    shuffle=True,\n",
    "    verbose=1\n",
    ")\n",
    "\n",
    "\n"
   ]
  }
 ],
 "metadata": {
  "kernelspec": {
   "display_name": "Python 3",
   "language": "python",
   "name": "python3"
  },
  "language_info": {
   "codemirror_mode": {
    "name": "ipython",
    "version": 3
   },
   "file_extension": ".py",
   "mimetype": "text/x-python",
   "name": "python",
   "nbconvert_exporter": "python",
   "pygments_lexer": "ipython3",
   "version": "3.12.8"
  }
 },
 "nbformat": 4,
 "nbformat_minor": 5
}
