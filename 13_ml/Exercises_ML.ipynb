{
 "cells": [
  {
   "cell_type": "markdown",
   "id": "ecb30146-6556-4a44-8159-b6773aa60a4c",
   "metadata": {},
   "source": [
    "# Machine learning basics: Exercises"
   ]
  },
  {
   "cell_type": "markdown",
   "id": "0fbe606a-00d4-468f-b3c6-968d841f8d38",
   "metadata": {},
   "source": [
    "## Exercise 1 MNIST data set\n",
    "The MNIST database is a well-known collection of handwritten digit images used for training and testing machine learning algorithms, particularly in the field of image recognition. MNIST stands for Modified National Institute of Standards and Technology database. The database contains 60,000 training examples and 10,000 testing examples. Each example is a grayscale image of a handwritten digit (0 to 9) with a resolution of 28x28 pixels. The images are normalized and centered, making them consistent for analysis\n",
    "\n"
   ]
  },
  {
   "cell_type": "markdown",
   "id": "a0efc9d1-0c5f-4320-a9a3-cdb0c8e6ceb4",
   "metadata": {},
   "source": [
    "#### Goal: train a classification machine learning model to predict the number of a given image\n",
    "The training set is composed of 1797 matrices of the shape 8x8. We can visualise the content of the matrix with the matplotlib function .imshow(). "
   ]
  },
  {
   "cell_type": "code",
   "execution_count": 29,
   "id": "86641d55-e7bb-4731-9b6e-712cb9a209fc",
   "metadata": {},
   "outputs": [],
   "source": [
    "import matplotlib.pyplot as plt\n",
    "import seaborn as sns\n",
    "from sklearn import datasets\n",
    "from sklearn.model_selection import train_test_split\n",
    "from sklearn.svm import SVC\n",
    "from sklearn.metrics import confusion_matrix, classification_report\n"
   ]
  },
  {
   "cell_type": "code",
   "execution_count": 55,
   "id": "cafdd743-8ed4-42e8-a02a-b1548abbfedd",
   "metadata": {},
   "outputs": [],
   "source": [
    "digits = datasets.load_digits()\n",
    "X = digits.data  # shape: (1797, 64), each image is 8x8 pixels flattened\n",
    "y = digits.target\n",
    "class_names = digits.target_names\n"
   ]
  },
  {
   "cell_type": "code",
   "execution_count": 57,
   "id": "ef10e2ea-86c9-4157-bccb-55c44dd41b24",
   "metadata": {},
   "outputs": [
    {
     "data": {
      "text/plain": [
       "(1797, 64)"
      ]
     },
     "execution_count": 57,
     "metadata": {},
     "output_type": "execute_result"
    }
   ],
   "source": [
    "X.shape"
   ]
  },
  {
   "cell_type": "code",
   "execution_count": 59,
   "id": "2fcf7dc6-c1ce-48e1-a496-563fb2c30809",
   "metadata": {},
   "outputs": [
    {
     "data": {
      "image/png": "[encoded data removed]",
      "text/plain": [
       "<Figure size 1000x500 with 10 Axes>"
      ]
     },
     "metadata": {},
     "output_type": "display_data"
    }
   ],
   "source": [
    "fig, axes = plt.subplots(2, 5, figsize=(10, 5))\n",
    "for i, ax in enumerate(axes.flat):\n",
    "    ax.imshow(X[i].reshape(8, 8), cmap=\"gray\")\n",
    "    ax.set_title(f\"Number: {y[i]}\")\n",
    "    ax.axis('off')\n",
    "plt.tight_layout()\n",
    "plt.show()"
   ]
  },
  {
   "cell_type": "code",
   "execution_count": 64,
   "id": "92b21e9a-01ca-45f2-8461-5fe3362e298d",
   "metadata": {},
   "outputs": [],
   "source": [
    "### Your code here"
   ]
  },
  {
   "cell_type": "code",
   "execution_count": null,
   "id": "2bfc889a-4625-4240-bec5-4e13771fe88e",
   "metadata": {},
   "outputs": [],
   "source": []
  },
  {
   "cell_type": "code",
   "execution_count": null,
   "id": "07c351ff-4de3-4004-ae46-05a460a3b067",
   "metadata": {},
   "outputs": [],
   "source": []
  },
  {
   "cell_type": "code",
   "execution_count": null,
   "id": "95bb36f4-007a-42a3-98f8-6c6cd4fffed8",
   "metadata": {},
   "outputs": [],
   "source": []
  },
  {
   "cell_type": "markdown",
   "id": "d09b2a8e-1275-4fae-90f1-9694ed41ae71",
   "metadata": {},
   "source": [
    "## Exercise 2: Classification of astronomical objects using Sloan Digital Sky Survey (SDSS) Data release 14\n",
    "The SDSS (https://www.sdss.org/) is imaging and spectroscopic astronomical survey that utilizes a 2.5-meter optical telescope at Apache Point Observatory in New Mexico, United States.\n",
    "\n",
    "The data release 14 (DR14) of the SDSS consists of 10,000 observations of various astronomical objects, each described by 17 feature columns and 1 class column which identifies the observation as either a star, galaxy, or quasar. "
   ]
  },
  {
   "cell_type": "markdown",
   "id": "439d1a37-756d-44ee-8fdc-a701e5df6032",
   "metadata": {},
   "source": [
    "#### Goal: build a classification algorithm that predicts if a certain object is either a star, galaxy or a quasar\n",
    "Remember to visualize your data!"
   ]
  },
  {
   "cell_type": "code",
   "execution_count": 20,
   "id": "94008da7-3d76-4000-87ae-c51225aaa65f",
   "metadata": {},
   "outputs": [],
   "source": [
    "import pandas as pd\n",
    "import seaborn as sns\n",
    "import matplotlib.pyplot as plt\n",
    "from sklearn.model_selection import train_test_split\n",
    "from sklearn.svm import SVC\n",
    "from sklearn.preprocessing import LabelEncoder\n",
    "from sklearn.metrics import confusion_matrix, classification_report\n",
    "\n",
    "# Load the dataset (assumes CSV format, e.g., sdss.csv)\n",
    "df = pd.read_csv(\"sdss.csv\")  # Replace with your path\n",
    "\n",
    "# View column names (usually includes: 'u', 'g', 'r', 'i', 'z', 'class')\n",
    "##print(df.head())\n",
    "\n",
    "## df.keys()"
   ]
  },
  {
   "cell_type": "code",
   "execution_count": 1,
   "id": "5b3367c0-8fb0-45a6-bbb2-ecaaf950d5df",
   "metadata": {},
   "outputs": [],
   "source": [
    "## Your code here"
   ]
  }
 ],
 "metadata": {
  "kernelspec": {
   "display_name": "Python [conda env:base] *",
   "language": "python",
   "name": "conda-base-py"
  },
  "language_info": {
   "codemirror_mode": {
    "name": "ipython",
    "version": 3
   },
   "file_extension": ".py",
   "mimetype": "text/x-python",
   "name": "python",
   "nbconvert_exporter": "python",
   "pygments_lexer": "ipython3",
   "version": "3.12.4"
  }
 },
 "nbformat": 4,
 "nbformat_minor": 5
}
