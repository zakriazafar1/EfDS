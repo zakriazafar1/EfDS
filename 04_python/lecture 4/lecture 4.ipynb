{
 "cells": [
  {
   "cell_type": "markdown",
   "metadata": {},
   "source": [
    "# Lecture 4 - 24/2/2025"
   ]
  },
  {
   "cell_type": "markdown",
   "metadata": {},
   "source": [
    "### Key points last lecture:"
   ]
  },
  {
   "cell_type": "code",
   "execution_count": 13,
   "metadata": {},
   "outputs": [
    {
     "name": "stdout",
     "output_type": "stream",
     "text": [
      "0 -> [1]\n",
      "1 -> [1, 1]\n",
      "2 -> [1, 2, 1]\n",
      "3 -> [1, 3, 3, 1]\n",
      "4 -> [1, 4, 6, 4, 1]\n",
      "5 -> [1, 5, 10, 10, 5, 1]\n",
      "6 -> [1, 6, 15, 20, 15, 6, 1]\n",
      "7 -> [1, 7, 21, 35, 35, 21, 7, 1]\n",
      "8 -> [1, 8, 28, 56, 70, 56, 28, 8, 1]\n",
      "9 -> [1, 9, 36, 84, 126, 126, 84, 36, 9, 1]\n"
     ]
    },
    {
     "data": {
      "text/plain": [
       "[1, 10, 45, 120, 210, 252, 210, 120, 45, 10, 1]"
      ]
     },
     "execution_count": 13,
     "metadata": {},
     "output_type": "execute_result"
    }
   ],
   "source": [
    "def PascalsTriangleRow(n: int) -> list[int]:\n",
    "    \"\"\"Returns the n-th row of Pascal's Triangle as a list of integers. It raises an exception for n < 0.\"\"\"    # meer info over de code\n",
    "    if n < 0:\n",
    "        raise ValueErrror(\"n must be non-negative\")\n",
    "    \n",
    "    vs = []                             # empty list \n",
    "    for r in range(0, n+1):             # for r = 0 -> 1 iteration\n",
    "        for c in range(1, r):           \n",
    "            vs[c-1] += vs[c]            # element c-1 should have the element c added\n",
    "        vs.insert(0,1)                  # adds number 1 to the list (?)\n",
    "    return vs\n",
    "\n",
    "for n in range(10):\n",
    "    print(n, \"->\", PascalsTriangleRow(n))\n",
    "    \n",
    "\n",
    "PascalsTriangleRow(10)"
   ]
  },
  {
   "cell_type": "markdown",
   "metadata": {},
   "source": [
    "For r = 0, the result will be 1. \n",
    "If n = 2 ..... \n",
    "If n = 3........."
   ]
  },
  {
   "cell_type": "markdown",
   "metadata": {},
   "source": [
    "### Encapsulation\n",
    "This is the idea behind Object Oriented Programming (OOP). We can create classes that represent objects in the real world and define their attributes and methods. We can hide the complexity of the object and provide a simple interface to interact with it."
   ]
  },
  {
   "cell_type": "markdown",
   "metadata": {},
   "source": [
    "Class = \"human\" bijvoorbeeld \n",
    "\n",
    "    VB: list is een class\n",
    "\n",
    "Object = iets/iemand die binnen die class valt.\n",
    "\n",
    "Attributes = kenmerken ofz weight, height, etc \n",
    "\n",
    "Method = operation that we can perform on the stored information (attributes)"
   ]
  },
  {
   "cell_type": "markdown",
   "metadata": {},
   "source": [
    "### A simple lamp"
   ]
  },
  {
   "cell_type": "markdown",
   "metadata": {},
   "source": [
    "We want to build a class that respresents a lamp with 2 methods -> turn on and turn off."
   ]
  },
  {
   "cell_type": "code",
   "execution_count": null,
   "metadata": {},
   "outputs": [
    {
     "name": "stdout",
     "output_type": "stream",
     "text": [
      "A lamp in the kitchen is off\n",
      "A lamp in the kitchen is on\n",
      "A lamp in the kitchen is off\n"
     ]
    }
   ],
   "source": [
    "\n",
    "# ------ library definition ------ \n",
    "class SimpleLamp: \n",
    "    def __init__(self, location:str):               # first argument here is always \"self\", defines name of the class & constructs the object but doesn't do anything else \n",
    "        self.location = location                    # self.location = value of particular instance of that class & location = \"kitchen\" bv                   \n",
    "        self.isOn = False \n",
    "\n",
    "    def __str__(self):                              # string representation of objects of the class SimpleLamp\n",
    "        return f\"A lamp in the {self.location} is {'on' if self.isOn else 'off'}\"\n",
    "    \n",
    "    def turnOn(self):                               # method to turn on lamp\n",
    "        self.isOn = True \n",
    "    \n",
    "    def turnOff(self):                              # method to turn off lamp\n",
    "        self.isOn = False      \n",
    "        \n",
    "    def isOn(self):\n",
    "        return self.isOn                           # usually we add an underscore _ for all attributed of the class -> so: self._location, self._isOn, etc, otherwise we have 2 times the same like here \n",
    "\n",
    "\n",
    "# ------ user code ------\n",
    "lamp = SimpleLamp(\"kitchen\")\n",
    "print(lamp)\n",
    "\n",
    "lamp.turnOn()                                      # after we call the turn on method, the lamp is on\n",
    "print(lamp)\n",
    "\n",
    "lamp.turnOff()                                     # after we call the turn off method, the lamp is off again\n",
    "print(lamp)\n",
    "\n",
    "# usually we add an underscore _ for all attributed of the class -> so: self._location, self._isOn, etc."
   ]
  },
  {
   "cell_type": "code",
   "execution_count": null,
   "metadata": {},
   "outputs": [
    {
     "ename": "TypeError",
     "evalue": "SimpleLamp.__setLampState() got an unexpected keyword argument 'isOnm'",
     "output_type": "error",
     "traceback": [
      "\u001b[0;31m---------------------------------------------------------------------------\u001b[0m",
      "\u001b[0;31mTypeError\u001b[0m                                 Traceback (most recent call last)",
      "Cell \u001b[0;32mIn[23], line 27\u001b[0m\n\u001b[1;32m     25\u001b[0m \u001b[38;5;66;03m# ------ user code ------\u001b[39;00m\n\u001b[1;32m     26\u001b[0m lamp \u001b[38;5;241m=\u001b[39m SimpleLamp(\u001b[38;5;124m\"\u001b[39m\u001b[38;5;124mkitchen\u001b[39m\u001b[38;5;124m\"\u001b[39m)\n\u001b[0;32m---> 27\u001b[0m \u001b[43mlamp\u001b[49m\u001b[38;5;241;43m.\u001b[39;49m\u001b[43mturnOn\u001b[49m\u001b[43m(\u001b[49m\u001b[43m)\u001b[49m\n\u001b[1;32m     28\u001b[0m lamp\u001b[38;5;241m.\u001b[39mturnOff() \n",
      "Cell \u001b[0;32mIn[23], line 10\u001b[0m, in \u001b[0;36mSimpleLamp.turnOn\u001b[0;34m(self)\u001b[0m\n\u001b[1;32m      9\u001b[0m \u001b[38;5;28;01mdef\u001b[39;00m\u001b[38;5;250m \u001b[39m\u001b[38;5;21mturnOn\u001b[39m(\u001b[38;5;28mself\u001b[39m):                               \u001b[38;5;66;03m# method to turn on lamp\u001b[39;00m\n\u001b[0;32m---> 10\u001b[0m     \u001b[38;5;28;43mself\u001b[39;49m\u001b[38;5;241;43m.\u001b[39;49m\u001b[43m__setLampState\u001b[49m\u001b[43m(\u001b[49m\u001b[43misOnm\u001b[49m\u001b[38;5;241;43m=\u001b[39;49m\u001b[43m \u001b[49m\u001b[38;5;28;43;01mTrue\u001b[39;49;00m\u001b[43m)\u001b[49m\n",
      "\u001b[0;31mTypeError\u001b[0m: SimpleLamp.__setLampState() got an unexpected keyword argument 'isOnm'"
     ]
    }
   ],
   "source": [
    "class SimpleLamp: \n",
    "    def __init__(self, location:str):               # first argument here is always \"self\", defines name of the class & constructs the object but doesn't do anything else \n",
    "        self._location = location                    # self.location = value of particular instance of that class & location = \"kitchen\" bv                   \n",
    "        self._isOn = False \n",
    "\n",
    "    def __str__(self):                              # string representation of objects of the class SimpleLamp\n",
    "        return f\"A lamp in the {self.location} is {'on' if self.isOn else 'off'}\"\n",
    "    \n",
    "    def turnOn(self):                               # method to turn on lamp\n",
    "        self.__setLampState(isOnm= True) \n",
    "    \n",
    "    def turnOff(self):                              # method to turn off lamp\n",
    "        self.__setLampState(isOn = False)      \n",
    "        \n",
    "    def isOn(self):\n",
    "        return self._isOn                          \n",
    "    \n",
    "    def __setLampState(self, on):\n",
    "        \"\"\"Complex functionality happens here.\"\"\"\n",
    "        # ...\n",
    "        # ...\n",
    "        print( f\">>>>>> Setting lamp in {self._location} to {'on' if isOn else 'off'}\")\n",
    "        self._isOn = isOn\n",
    "        \n",
    "# ------ user code ------\n",
    "lamp = SimpleLamp(\"kitchen\")\n",
    "lamp.turnOn()\n",
    "lamp.turnOff() \n"
   ]
  },
  {
   "cell_type": "markdown",
   "metadata": {},
   "source": [
    "### Different colors of the lamp"
   ]
  },
  {
   "cell_type": "code",
   "execution_count": null,
   "metadata": {},
   "outputs": [],
   "source": [
    "class ColorLamp: \n",
    "    def __init__(self, location:str, color:str, brightness:int):\n",
    "        self._location = location\n",
    "        self._color = color \n",
    "        self._brightness = brightness\n",
    "        self._isOn = False \n",
    "        \n",
    "    def __str__(self):\n",
    "        return f\"Lamp in {self._location}, state: {self.isOn}, color: {self._color}, brightness: {self._brightness}\"\n",
    "    \n",
    "    def turnOn(self):\n",
    "        self.__setColorLampState(isOn=True, color = self._color, brightness=self._brightness)\n",
    "        \n",
    "    def turnOff(self):\n",
    "        self.__setColorLampState(isOn=False, color = self._color, brightness=self._brightness)\n",
    "    \n",
    "    def isOn(self):\n",
    "        return self._isOn\n",
    "    \n",
    "    def setColor(self, color:str):\n",
    "        self.__setColorLampState(isOn=self._isOn, color = color, brightness = self._brightness)\n",
    "    \n",
    "    def __setColorLampState(self, isOn, color, brightness):\n",
    "        print(f\">>>>> Setting lamp in {self._location} to {'on' if isOn else 'off'}, color: {color}, brightness: {brightness}\")\n",
    "        self._isOn = isOn\n",
    "        self._color = color\n",
    "        self._brightness = brightness \n",
    "        \n",
    "        "
   ]
  }
 ],
 "metadata": {
  "kernelspec": {
   "display_name": "Python 3",
   "language": "python",
   "name": "python3"
  },
  "language_info": {
   "codemirror_mode": {
    "name": "ipython",
    "version": 3
   },
   "file_extension": ".py",
   "mimetype": "text/x-python",
   "name": "python",
   "nbconvert_exporter": "python",
   "pygments_lexer": "ipython3",
   "version": "3.12.8"
  }
 },
 "nbformat": 4,
 "nbformat_minor": 2
}
