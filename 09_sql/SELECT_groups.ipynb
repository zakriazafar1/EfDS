{
 "cells": [
  {
   "cell_type": "markdown",
   "id": "a61965c8",
   "metadata": {},
   "source": [
    "# SQL grouping and summarizing data"
   ]
  },
  {
   "cell_type": "markdown",
   "id": "a6870e06",
   "metadata": {},
   "source": [
    "## Preparation"
   ]
  },
  {
   "cell_type": "markdown",
   "id": "2030a118",
   "metadata": {},
   "source": [
    "For this section you need `chinook.db` database file and working `%sql` magic.  \n",
    "If you don't have it, please go back to the [previous section](connect_to_database.ipynb) and follow the instructions.  \n",
    "The following code should not produce any errors:"
   ]
  },
  {
   "cell_type": "code",
   "execution_count": 1,
   "id": "a660da27",
   "metadata": {},
   "outputs": [
    {
     "data": {
      "text/html": [
       "<span style=\"None\">Connecting to &#x27;sqlite:///chinook.db&#x27;</span>"
      ],
      "text/plain": [
       "Connecting to 'sqlite:///chinook.db'"
      ]
     },
     "metadata": {},
     "output_type": "display_data"
    }
   ],
   "source": [
    "%load_ext sql\n",
    "%sql sqlite:///chinook.db"
   ]
  },
  {
   "cell_type": "markdown",
   "id": "dbfdcc71",
   "metadata": {},
   "source": [
    "## `GROUP BY` - operations on sets of (multiple) rows"
   ]
  },
  {
   "cell_type": "markdown",
   "id": "8eeb64c9",
   "metadata": {},
   "source": [
    "SQL allows to perform aggregation (descriptive statistics) operations on disjoint sets of rows.  \n",
    "Then, for each input group (so multiple rows belonging to the same group) a single summary row is generated at the output.  \n",
    "Here we definie grops and illustrate usage with a simple `COUNT` rows operation. Later we show other aggregations."
   ]
  },
  {
   "cell_type": "markdown",
   "id": "55d81243",
   "metadata": {},
   "source": [
    "Let's build groups step-by-step."
   ]
  },
  {
   "cell_type": "markdown",
   "id": "28b3c36c",
   "metadata": {},
   "source": [
    "### A table before grouping"
   ]
  },
  {
   "cell_type": "markdown",
   "id": "57fdb50d",
   "metadata": {},
   "source": [
    "Let's consider some rows of the `tracks` table:"
   ]
  },
  {
   "cell_type": "code",
   "execution_count": 2,
   "id": "21389833",
   "metadata": {},
   "outputs": [
    {
     "data": {
      "text/html": [
       "<span style=\"None\">Running query in &#x27;sqlite:///chinook.db&#x27;</span>"
      ],
      "text/plain": [
       "Running query in 'sqlite:///chinook.db'"
      ]
     },
     "metadata": {},
     "output_type": "display_data"
    },
    {
     "data": {
      "text/html": [
       "<table>\n",
       "    <thead>\n",
       "        <tr>\n",
       "            <th>TrackId</th>\n",
       "            <th>Name</th>\n",
       "            <th>AlbumId</th>\n",
       "            <th>MediaTypeId</th>\n",
       "            <th>GenreId</th>\n",
       "            <th>Composer</th>\n",
       "            <th>Milliseconds</th>\n",
       "            <th>Bytes</th>\n",
       "            <th>UnitPrice</th>\n",
       "        </tr>\n",
       "    </thead>\n",
       "    <tbody>\n",
       "        <tr>\n",
       "            <td>1</td>\n",
       "            <td>For Those About To Rock (We Salute You)</td>\n",
       "            <td>1</td>\n",
       "            <td>1</td>\n",
       "            <td>1</td>\n",
       "            <td>Angus Young, Malcolm Young, Brian Johnson</td>\n",
       "            <td>343719</td>\n",
       "            <td>11170334</td>\n",
       "            <td>0.99</td>\n",
       "        </tr>\n",
       "        <tr>\n",
       "            <td>2</td>\n",
       "            <td>Balls to the Wall</td>\n",
       "            <td>2</td>\n",
       "            <td>2</td>\n",
       "            <td>1</td>\n",
       "            <td>None</td>\n",
       "            <td>342562</td>\n",
       "            <td>5510424</td>\n",
       "            <td>0.99</td>\n",
       "        </tr>\n",
       "        <tr>\n",
       "            <td>3</td>\n",
       "            <td>Fast As a Shark</td>\n",
       "            <td>3</td>\n",
       "            <td>2</td>\n",
       "            <td>1</td>\n",
       "            <td>F. Baltes, S. Kaufman, U. Dirkscneider & W. Hoffman</td>\n",
       "            <td>230619</td>\n",
       "            <td>3990994</td>\n",
       "            <td>0.99</td>\n",
       "        </tr>\n",
       "        <tr>\n",
       "            <td>4</td>\n",
       "            <td>Restless and Wild</td>\n",
       "            <td>3</td>\n",
       "            <td>2</td>\n",
       "            <td>1</td>\n",
       "            <td>F. Baltes, R.A. Smith-Diesel, S. Kaufman, U. Dirkscneider & W. Hoffman</td>\n",
       "            <td>252051</td>\n",
       "            <td>4331779</td>\n",
       "            <td>0.99</td>\n",
       "        </tr>\n",
       "        <tr>\n",
       "            <td>5</td>\n",
       "            <td>Princess of the Dawn</td>\n",
       "            <td>3</td>\n",
       "            <td>2</td>\n",
       "            <td>1</td>\n",
       "            <td>Deaffy & R.A. Smith-Diesel</td>\n",
       "            <td>375418</td>\n",
       "            <td>6290521</td>\n",
       "            <td>0.99</td>\n",
       "        </tr>\n",
       "    </tbody>\n",
       "</table>"
      ],
      "text/plain": [
       "+---------+-----------------------------------------+---------+-------------+---------+------------------------------------------------------------------------+--------------+----------+-----------+\n",
       "| TrackId |                   Name                  | AlbumId | MediaTypeId | GenreId |                                Composer                                | Milliseconds |  Bytes   | UnitPrice |\n",
       "+---------+-----------------------------------------+---------+-------------+---------+------------------------------------------------------------------------+--------------+----------+-----------+\n",
       "|    1    | For Those About To Rock (We Salute You) |    1    |      1      |    1    |               Angus Young, Malcolm Young, Brian Johnson                |    343719    | 11170334 |    0.99   |\n",
       "|    2    |            Balls to the Wall            |    2    |      2      |    1    |                                  None                                  |    342562    | 5510424  |    0.99   |\n",
       "|    3    |             Fast As a Shark             |    3    |      2      |    1    |          F. Baltes, S. Kaufman, U. Dirkscneider & W. Hoffman           |    230619    | 3990994  |    0.99   |\n",
       "|    4    |            Restless and Wild            |    3    |      2      |    1    | F. Baltes, R.A. Smith-Diesel, S. Kaufman, U. Dirkscneider & W. Hoffman |    252051    | 4331779  |    0.99   |\n",
       "|    5    |           Princess of the Dawn          |    3    |      2      |    1    |                       Deaffy & R.A. Smith-Diesel                       |    375418    | 6290521  |    0.99   |\n",
       "+---------+-----------------------------------------+---------+-------------+---------+------------------------------------------------------------------------+--------------+----------+-----------+"
      ]
     },
     "execution_count": 2,
     "metadata": {},
     "output_type": "execute_result"
    }
   ],
   "source": [
    "%%sql\n",
    "SELECT * \n",
    "  FROM tracks \n",
    "  LIMIT 5"
   ]
  },
  {
   "cell_type": "markdown",
   "id": "19d409e5",
   "metadata": {},
   "source": [
    "### Simple `GROUP BY`"
   ]
  },
  {
   "cell_type": "markdown",
   "id": "606e6085",
   "metadata": {},
   "source": [
    "Observe, that a simple `GROUP BY` performed on the `AlbumId` prints one row for each value of `AlbumId`:"
   ]
  },
  {
   "cell_type": "code",
   "execution_count": 3,
   "id": "756b75fc",
   "metadata": {},
   "outputs": [
    {
     "data": {
      "text/html": [
       "<span style=\"None\">Running query in &#x27;sqlite:///chinook.db&#x27;</span>"
      ],
      "text/plain": [
       "Running query in 'sqlite:///chinook.db'"
      ]
     },
     "metadata": {},
     "output_type": "display_data"
    },
    {
     "data": {
      "text/html": [
       "<table>\n",
       "    <thead>\n",
       "        <tr>\n",
       "            <th>TrackId</th>\n",
       "            <th>Name</th>\n",
       "            <th>AlbumId</th>\n",
       "            <th>MediaTypeId</th>\n",
       "            <th>GenreId</th>\n",
       "            <th>Composer</th>\n",
       "            <th>Milliseconds</th>\n",
       "            <th>Bytes</th>\n",
       "            <th>UnitPrice</th>\n",
       "        </tr>\n",
       "    </thead>\n",
       "    <tbody>\n",
       "        <tr>\n",
       "            <td>1</td>\n",
       "            <td>For Those About To Rock (We Salute You)</td>\n",
       "            <td>1</td>\n",
       "            <td>1</td>\n",
       "            <td>1</td>\n",
       "            <td>Angus Young, Malcolm Young, Brian Johnson</td>\n",
       "            <td>343719</td>\n",
       "            <td>11170334</td>\n",
       "            <td>0.99</td>\n",
       "        </tr>\n",
       "        <tr>\n",
       "            <td>2</td>\n",
       "            <td>Balls to the Wall</td>\n",
       "            <td>2</td>\n",
       "            <td>2</td>\n",
       "            <td>1</td>\n",
       "            <td>None</td>\n",
       "            <td>342562</td>\n",
       "            <td>5510424</td>\n",
       "            <td>0.99</td>\n",
       "        </tr>\n",
       "        <tr>\n",
       "            <td>3</td>\n",
       "            <td>Fast As a Shark</td>\n",
       "            <td>3</td>\n",
       "            <td>2</td>\n",
       "            <td>1</td>\n",
       "            <td>F. Baltes, S. Kaufman, U. Dirkscneider & W. Hoffman</td>\n",
       "            <td>230619</td>\n",
       "            <td>3990994</td>\n",
       "            <td>0.99</td>\n",
       "        </tr>\n",
       "        <tr>\n",
       "            <td>15</td>\n",
       "            <td>Go Down</td>\n",
       "            <td>4</td>\n",
       "            <td>1</td>\n",
       "            <td>1</td>\n",
       "            <td>AC/DC</td>\n",
       "            <td>331180</td>\n",
       "            <td>10847611</td>\n",
       "            <td>0.99</td>\n",
       "        </tr>\n",
       "        <tr>\n",
       "            <td>23</td>\n",
       "            <td>Walk On Water</td>\n",
       "            <td>5</td>\n",
       "            <td>1</td>\n",
       "            <td>1</td>\n",
       "            <td>Steven Tyler, Joe Perry, Jack Blades, Tommy Shaw</td>\n",
       "            <td>295680</td>\n",
       "            <td>9719579</td>\n",
       "            <td>0.99</td>\n",
       "        </tr>\n",
       "    </tbody>\n",
       "</table>"
      ],
      "text/plain": [
       "+---------+-----------------------------------------+---------+-------------+---------+-----------------------------------------------------+--------------+----------+-----------+\n",
       "| TrackId |                   Name                  | AlbumId | MediaTypeId | GenreId |                       Composer                      | Milliseconds |  Bytes   | UnitPrice |\n",
       "+---------+-----------------------------------------+---------+-------------+---------+-----------------------------------------------------+--------------+----------+-----------+\n",
       "|    1    | For Those About To Rock (We Salute You) |    1    |      1      |    1    |      Angus Young, Malcolm Young, Brian Johnson      |    343719    | 11170334 |    0.99   |\n",
       "|    2    |            Balls to the Wall            |    2    |      2      |    1    |                         None                        |    342562    | 5510424  |    0.99   |\n",
       "|    3    |             Fast As a Shark             |    3    |      2      |    1    | F. Baltes, S. Kaufman, U. Dirkscneider & W. Hoffman |    230619    | 3990994  |    0.99   |\n",
       "|    15   |                 Go Down                 |    4    |      1      |    1    |                        AC/DC                        |    331180    | 10847611 |    0.99   |\n",
       "|    23   |              Walk On Water              |    5    |      1      |    1    |   Steven Tyler, Joe Perry, Jack Blades, Tommy Shaw  |    295680    | 9719579  |    0.99   |\n",
       "+---------+-----------------------------------------+---------+-------------+---------+-----------------------------------------------------+--------------+----------+-----------+"
      ]
     },
     "execution_count": 3,
     "metadata": {},
     "output_type": "execute_result"
    }
   ],
   "source": [
    "%%sql\n",
    "SELECT * \n",
    "  FROM tracks \n",
    "  GROUP BY AlbumId\n",
    "  LIMIT 5"
   ]
  },
  {
   "cell_type": "markdown",
   "id": "5940efd1",
   "metadata": {},
   "source": [
    "### `COUNT` - counting rows (suboptimal)"
   ]
  },
  {
   "cell_type": "markdown",
   "id": "931b9af3",
   "metadata": {},
   "source": [
    "Using `COUNT(*)` for each `GROUP BY` set of rows we will get the number of rows in the group.  \n",
    "*Note:* The star (`*`) denotes that a subtable is referred to, not a particular column (see below)."
   ]
  },
  {
   "cell_type": "code",
   "execution_count": 4,
   "id": "63a6465a",
   "metadata": {},
   "outputs": [
    {
     "data": {
      "text/html": [
       "<span style=\"None\">Running query in &#x27;sqlite:///chinook.db&#x27;</span>"
      ],
      "text/plain": [
       "Running query in 'sqlite:///chinook.db'"
      ]
     },
     "metadata": {},
     "output_type": "display_data"
    },
    {
     "data": {
      "text/html": [
       "<table>\n",
       "    <thead>\n",
       "        <tr>\n",
       "            <th>COUNT(*)</th>\n",
       "        </tr>\n",
       "    </thead>\n",
       "    <tbody>\n",
       "        <tr>\n",
       "            <td>10</td>\n",
       "        </tr>\n",
       "        <tr>\n",
       "            <td>1</td>\n",
       "        </tr>\n",
       "        <tr>\n",
       "            <td>3</td>\n",
       "        </tr>\n",
       "        <tr>\n",
       "            <td>8</td>\n",
       "        </tr>\n",
       "        <tr>\n",
       "            <td>15</td>\n",
       "        </tr>\n",
       "    </tbody>\n",
       "</table>"
      ],
      "text/plain": [
       "+----------+\n",
       "| COUNT(*) |\n",
       "+----------+\n",
       "|    10    |\n",
       "|    1     |\n",
       "|    3     |\n",
       "|    8     |\n",
       "|    15    |\n",
       "+----------+"
      ]
     },
     "execution_count": 4,
     "metadata": {},
     "output_type": "execute_result"
    }
   ],
   "source": [
    "%%sql\n",
    "SELECT COUNT(*)\n",
    "  FROM tracks\n",
    "  GROUP BY AlbumId\n",
    "  LIMIT 5"
   ]
  },
  {
   "cell_type": "markdown",
   "id": "5dca7aea",
   "metadata": {},
   "source": [
    "### `COUNT` - counting rows (better)"
   ]
  },
  {
   "cell_type": "markdown",
   "id": "d5710eb9",
   "metadata": {},
   "source": [
    "The above example does not show to which `AlbumId`s the counts correspond.  \n",
    "Better code (with `AlbumId` column, renamed column with counts and special sort order):"
   ]
  },
  {
   "cell_type": "code",
   "execution_count": 6,
   "id": "99bf2f59",
   "metadata": {},
   "outputs": [
    {
     "data": {
      "text/html": [
       "<span style=\"None\">Running query in &#x27;sqlite:///chinook.db&#x27;</span>"
      ],
      "text/plain": [
       "Running query in 'sqlite:///chinook.db'"
      ]
     },
     "metadata": {},
     "output_type": "display_data"
    },
    {
     "data": {
      "text/html": [
       "<table>\n",
       "    <thead>\n",
       "        <tr>\n",
       "            <th>AlbumId</th>\n",
       "            <th>TracksNum</th>\n",
       "        </tr>\n",
       "    </thead>\n",
       "    <tbody>\n",
       "        <tr>\n",
       "            <td>141</td>\n",
       "            <td>57</td>\n",
       "        </tr>\n",
       "        <tr>\n",
       "            <td>23</td>\n",
       "            <td>34</td>\n",
       "        </tr>\n",
       "        <tr>\n",
       "            <td>73</td>\n",
       "            <td>30</td>\n",
       "        </tr>\n",
       "        <tr>\n",
       "            <td>229</td>\n",
       "            <td>26</td>\n",
       "        </tr>\n",
       "        <tr>\n",
       "            <td>230</td>\n",
       "            <td>25</td>\n",
       "        </tr>\n",
       "    </tbody>\n",
       "</table>"
      ],
      "text/plain": [
       "+---------+-----------+\n",
       "| AlbumId | TracksNum |\n",
       "+---------+-----------+\n",
       "|   141   |     57    |\n",
       "|    23   |     34    |\n",
       "|    73   |     30    |\n",
       "|   229   |     26    |\n",
       "|   230   |     25    |\n",
       "+---------+-----------+"
      ]
     },
     "execution_count": 6,
     "metadata": {},
     "output_type": "execute_result"
    }
   ],
   "source": [
    "%%sql\n",
    "SELECT AlbumId, COUNT(*) AS TracksNum\n",
    "  FROM tracks\n",
    "  GROUP BY AlbumId\n",
    "  ORDER BY TracksNum DESC\n",
    "  LIMIT 5"
   ]
  },
  {
   "cell_type": "markdown",
   "id": "45b49a94",
   "metadata": {},
   "source": [
    "## `HAVING` - filtering based on group aggregations results\n",
    "\n",
    "In SQL to filter rows of an aggregated result it is necessary to use `HAVING` statement (`WHERE` does not operate on the results of aggregation).\n",
    "\n",
    "Consider the following modification of the above example:"
   ]
  },
  {
   "cell_type": "code",
   "execution_count": 7,
   "id": "16055fbf",
   "metadata": {},
   "outputs": [
    {
     "data": {
      "text/html": [
       "<span style=\"None\">Running query in &#x27;sqlite:///chinook.db&#x27;</span>"
      ],
      "text/plain": [
       "Running query in 'sqlite:///chinook.db'"
      ]
     },
     "metadata": {},
     "output_type": "display_data"
    },
    {
     "data": {
      "text/html": [
       "<table>\n",
       "    <thead>\n",
       "        <tr>\n",
       "            <th>AlbumId</th>\n",
       "            <th>TracksNum</th>\n",
       "        </tr>\n",
       "    </thead>\n",
       "    <tbody>\n",
       "        <tr>\n",
       "            <td>141</td>\n",
       "            <td>57</td>\n",
       "        </tr>\n",
       "        <tr>\n",
       "            <td>23</td>\n",
       "            <td>34</td>\n",
       "        </tr>\n",
       "    </tbody>\n",
       "</table>"
      ],
      "text/plain": [
       "+---------+-----------+\n",
       "| AlbumId | TracksNum |\n",
       "+---------+-----------+\n",
       "|   141   |     57    |\n",
       "|    23   |     34    |\n",
       "+---------+-----------+"
      ]
     },
     "execution_count": 7,
     "metadata": {},
     "output_type": "execute_result"
    }
   ],
   "source": [
    "%%sql\n",
    "SELECT AlbumId, COUNT(*) AS TracksNum\n",
    "  FROM tracks\n",
    "  GROUP BY AlbumId\n",
    "  HAVING TracksNum > 30\n",
    "  ORDER BY TracksNum DESC\n",
    "  LIMIT 5"
   ]
  },
  {
   "cell_type": "markdown",
   "id": "eb19ad0c",
   "metadata": {},
   "source": [
    "## Aggregation functions"
   ]
  },
  {
   "cell_type": "markdown",
   "id": "2524febb",
   "metadata": {},
   "source": [
    "Aggregate functions operate on a set of rows and return a single result.  \n",
    "Aggregate functions are often used in conjunction with `GROUP BY` and `HAVING` clauses in the `SELECT` statement.  \n",
    "When `GROUP BY` is not provided, the aggregation of the whole table is performed.\n",
    "\n",
    "SQL provides the following aggregate functions:\n",
    "\n",
    "- `COUNT(*)` – Returns the number of rows.\n",
    "- `COUNT(col)` – Returns the number of non-`NULL` values in `col`.\n",
    "- `AVG(col)` – Returns the average of values.\n",
    "- `MAX(col)` – Returns the maximum of values.\n",
    "- `MIN(col)` – Returns the minimum of values.\n",
    "- `SUM(col)` – Returns the sum of values.\n",
    "- `GROUP_CONCAT(col,sep)` - Returns a string that is the concatenation of all non-`NULL` values of the input expression separated by the separator.\n",
    "\n",
    "See examples below."
   ]
  },
  {
   "cell_type": "markdown",
   "id": "276eebfb",
   "metadata": {},
   "source": [
    "### `AVG` - average of values"
   ]
  },
  {
   "cell_type": "markdown",
   "id": "3b2c6fcc",
   "metadata": {},
   "source": [
    "The `AVG` function is an aggregate function that calculates the average value of all non-NULL values within a group.\n",
    "\n",
    "To calculate the average length of all `tracks` in milliseconds, you use the following statement:"
   ]
  },
  {
   "cell_type": "code",
   "execution_count": 8,
   "id": "eae62ef0",
   "metadata": {},
   "outputs": [
    {
     "data": {
      "text/html": [
       "<span style=\"None\">Running query in &#x27;sqlite:///chinook.db&#x27;</span>"
      ],
      "text/plain": [
       "Running query in 'sqlite:///chinook.db'"
      ]
     },
     "metadata": {},
     "output_type": "display_data"
    },
    {
     "data": {
      "text/html": [
       "<table>\n",
       "    <thead>\n",
       "        <tr>\n",
       "            <th>MeanMilliseconds</th>\n",
       "        </tr>\n",
       "    </thead>\n",
       "    <tbody>\n",
       "        <tr>\n",
       "            <td>393599.2121039109</td>\n",
       "        </tr>\n",
       "    </tbody>\n",
       "</table>"
      ],
      "text/plain": [
       "+-------------------+\n",
       "|  MeanMilliseconds |\n",
       "+-------------------+\n",
       "| 393599.2121039109 |\n",
       "+-------------------+"
      ]
     },
     "execution_count": 8,
     "metadata": {},
     "output_type": "execute_result"
    }
   ],
   "source": [
    "%%sql\n",
    "SELECT AVG(Milliseconds) AS MeanMilliseconds\n",
    "  FROM tracks"
   ]
  },
  {
   "cell_type": "markdown",
   "id": "5e49d2f7",
   "metadata": {},
   "source": [
    "To calculate the average length of tracks for every album the following modification is needed:"
   ]
  },
  {
   "cell_type": "code",
   "execution_count": 9,
   "id": "286c1339",
   "metadata": {},
   "outputs": [
    {
     "data": {
      "text/html": [
       "<span style=\"None\">Running query in &#x27;sqlite:///chinook.db&#x27;</span>"
      ],
      "text/plain": [
       "Running query in 'sqlite:///chinook.db'"
      ]
     },
     "metadata": {},
     "output_type": "display_data"
    },
    {
     "data": {
      "text/html": [
       "<table>\n",
       "    <thead>\n",
       "        <tr>\n",
       "            <th>AlbumId</th>\n",
       "            <th>MeanMilliseconds</th>\n",
       "        </tr>\n",
       "    </thead>\n",
       "    <tbody>\n",
       "        <tr>\n",
       "            <td>1</td>\n",
       "            <td>240041.5</td>\n",
       "        </tr>\n",
       "        <tr>\n",
       "            <td>2</td>\n",
       "            <td>342562.0</td>\n",
       "        </tr>\n",
       "        <tr>\n",
       "            <td>3</td>\n",
       "            <td>286029.3333333333</td>\n",
       "        </tr>\n",
       "        <tr>\n",
       "            <td>4</td>\n",
       "            <td>306657.375</td>\n",
       "        </tr>\n",
       "        <tr>\n",
       "            <td>5</td>\n",
       "            <td>294113.93333333335</td>\n",
       "        </tr>\n",
       "    </tbody>\n",
       "</table>"
      ],
      "text/plain": [
       "+---------+--------------------+\n",
       "| AlbumId |  MeanMilliseconds  |\n",
       "+---------+--------------------+\n",
       "|    1    |      240041.5      |\n",
       "|    2    |      342562.0      |\n",
       "|    3    | 286029.3333333333  |\n",
       "|    4    |     306657.375     |\n",
       "|    5    | 294113.93333333335 |\n",
       "+---------+--------------------+"
      ]
     },
     "execution_count": 9,
     "metadata": {},
     "output_type": "execute_result"
    }
   ],
   "source": [
    "%%sql\n",
    "SELECT AlbumId, AVG(Milliseconds) AS MeanMilliseconds\n",
    "  FROM tracks\n",
    "  GROUP BY AlbumId\n",
    "  LIMIT 5"
   ]
  },
  {
   "cell_type": "markdown",
   "id": "e52f0e95",
   "metadata": {},
   "source": [
    "### `GROUP_CONCAT` - merging texts of the values"
   ]
  },
  {
   "cell_type": "markdown",
   "id": "7d4dcb55",
   "metadata": {},
   "source": [
    "The `GROUP_CONCAT()` function is an aggregate function that concatenates all non-null values in a column.  \n",
    "It uses a comma by default but you can use different separator given as the second argument.\n",
    "\n",
    "For example, let's concatenate all track `Name`s separately for each album:"
   ]
  },
  {
   "cell_type": "code",
   "execution_count": 10,
   "id": "ef327866",
   "metadata": {},
   "outputs": [
    {
     "data": {
      "text/html": [
       "<span style=\"None\">Running query in &#x27;sqlite:///chinook.db&#x27;</span>"
      ],
      "text/plain": [
       "Running query in 'sqlite:///chinook.db'"
      ]
     },
     "metadata": {},
     "output_type": "display_data"
    },
    {
     "data": {
      "text/html": [
       "<table>\n",
       "    <thead>\n",
       "        <tr>\n",
       "            <th>AlbumId</th>\n",
       "            <th>TrackNames</th>\n",
       "        </tr>\n",
       "    </thead>\n",
       "    <tbody>\n",
       "        <tr>\n",
       "            <td>1</td>\n",
       "            <td>For Those About To Rock (We Salute You);Put The Finger On You;Let's Get It Up;Inject The Venom;Snowballed;Evil Walks;C.O.D.;Breaking The Rules;Night Of The Long Knives;Spellbound</td>\n",
       "        </tr>\n",
       "        <tr>\n",
       "            <td>2</td>\n",
       "            <td>Balls to the Wall</td>\n",
       "        </tr>\n",
       "        <tr>\n",
       "            <td>3</td>\n",
       "            <td>Fast As a Shark;Restless and Wild;Princess of the Dawn</td>\n",
       "        </tr>\n",
       "        <tr>\n",
       "            <td>4</td>\n",
       "            <td>Go Down;Dog Eat Dog;Let There Be Rock;Bad Boy Boogie;Problem Child;Overdose;Hell Ain't A Bad Place To Be;Whole Lotta Rosie</td>\n",
       "        </tr>\n",
       "        <tr>\n",
       "            <td>5</td>\n",
       "            <td>Walk On Water;Love In An Elevator;Rag Doll;What It Takes;Dude (Looks Like A Lady);Janie's Got A Gun;Cryin';Amazing;Blind Man;Deuces Are Wild;The Other Side;Crazy;Eat The Rich;Angel;Livin' On The Edge</td>\n",
       "        </tr>\n",
       "    </tbody>\n",
       "</table>"
      ],
      "text/plain": [
       "+---------+---------------------------------------------------------------------------------------------------------------------------------------------------------------------------------------------------------+\n",
       "| AlbumId |                                                                                                TrackNames                                                                                               |\n",
       "+---------+---------------------------------------------------------------------------------------------------------------------------------------------------------------------------------------------------------+\n",
       "|    1    |            For Those About To Rock (We Salute You);Put The Finger On You;Let's Get It Up;Inject The Venom;Snowballed;Evil Walks;C.O.D.;Breaking The Rules;Night Of The Long Knives;Spellbound           |\n",
       "|    2    |                                                                                            Balls to the Wall                                                                                            |\n",
       "|    3    |                                                                          Fast As a Shark;Restless and Wild;Princess of the Dawn                                                                         |\n",
       "|    4    |                                        Go Down;Dog Eat Dog;Let There Be Rock;Bad Boy Boogie;Problem Child;Overdose;Hell Ain't A Bad Place To Be;Whole Lotta Rosie                                       |\n",
       "|    5    | Walk On Water;Love In An Elevator;Rag Doll;What It Takes;Dude (Looks Like A Lady);Janie's Got A Gun;Cryin';Amazing;Blind Man;Deuces Are Wild;The Other Side;Crazy;Eat The Rich;Angel;Livin' On The Edge |\n",
       "+---------+---------------------------------------------------------------------------------------------------------------------------------------------------------------------------------------------------------+"
      ]
     },
     "execution_count": 10,
     "metadata": {},
     "output_type": "execute_result"
    }
   ],
   "source": [
    "%%sql\n",
    "SELECT AlbumId, GROUP_CONCAT( Name, \";\" ) AS TrackNames\n",
    "  FROM tracks \n",
    "  GROUP BY AlbumId\n",
    "  LIMIT 5"
   ]
  }
 ],
 "metadata": {
  "kernelspec": {
   "display_name": "Python 3",
   "language": "python",
   "name": "python3"
  },
  "language_info": {
   "codemirror_mode": {
    "name": "ipython",
    "version": 3
   },
   "file_extension": ".py",
   "mimetype": "text/x-python",
   "name": "python",
   "nbconvert_exporter": "python",
   "pygments_lexer": "ipython3",
   "version": "3.12.8"
  }
 },
 "nbformat": 4,
 "nbformat_minor": 5
}
