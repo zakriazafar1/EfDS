{
 "cells": [
  {
   "cell_type": "markdown",
   "id": "fbe6f526",
   "metadata": {},
   "source": [
    "# SQL grouping and summarizing data (exercises)"
   ]
  },
  {
   "cell_type": "markdown",
   "id": "cefaaedd",
   "metadata": {},
   "source": [
    "## Preparation"
   ]
  },
  {
   "cell_type": "markdown",
   "id": "abfaf104",
   "metadata": {},
   "source": [
    "For this section you need `chinook.db` database file and working `%sql` magic.  \n",
    "If you don't have it, please go back to the [previous section](connect_to_database.ipynb) and follow the instructions.  \n",
    "The following code should not produce any errors:"
   ]
  },
  {
   "cell_type": "code",
   "execution_count": 1,
   "id": "428da208",
   "metadata": {},
   "outputs": [
    {
     "data": {
      "text/html": [
       "<span style=\"None\">Connecting to &#x27;sqlite:///chinook.db&#x27;</span>"
      ],
      "text/plain": [
       "Connecting to 'sqlite:///chinook.db'"
      ]
     },
     "metadata": {},
     "output_type": "display_data"
    }
   ],
   "source": [
    "%load_ext sql\n",
    "%sql sqlite:///chinook.db"
   ]
  },
  {
   "cell_type": "markdown",
   "id": "03a97867",
   "metadata": {},
   "source": [
    "## Exercise: summaries per group"
   ]
  },
  {
   "cell_type": "markdown",
   "id": "8e25011d",
   "metadata": {},
   "source": [
    "Using SQL only create a table containing summary info of the `tracks` table grouped by albums (so, by the `AlbumId` column).  \n",
    "In the result table report columns:\n",
    "- `AlbumId`\n",
    "- `TracksNum`: the total count of tracks in the album\n",
    "- `TotalPrice`: sum of all track `UnitPrice`s\n",
    "- `MeanTrackSec`: based on `Milliseconds`, the average time duration of tracks expressed in seconds\n",
    "\n",
    "Order the final table with decreasing `TotalPrice`. Show first 10 rows.    \n",
    "Additionally, you may `ROUND` the prices to two positions and times to full seconds."
   ]
  },
  {
   "cell_type": "code",
   "execution_count": 10,
   "id": "669e87a1",
   "metadata": {},
   "outputs": [
    {
     "data": {
      "text/html": [
       "<span style=\"None\">Running query in &#x27;sqlite:///chinook.db&#x27;</span>"
      ],
      "text/plain": [
       "Running query in 'sqlite:///chinook.db'"
      ]
     },
     "metadata": {},
     "output_type": "display_data"
    },
    {
     "data": {
      "text/html": [
       "<table>\n",
       "    <thead>\n",
       "        <tr>\n",
       "            <th>AlbumId</th>\n",
       "            <th>TracksNum</th>\n",
       "            <th>TotalPrice</th>\n",
       "            <th>MeanTrackSec</th>\n",
       "        </tr>\n",
       "    </thead>\n",
       "    <tbody>\n",
       "        <tr>\n",
       "            <td>141</td>\n",
       "            <td>57</td>\n",
       "            <td>56.43</td>\n",
       "            <td>264.0</td>\n",
       "        </tr>\n",
       "        <tr>\n",
       "            <td>229</td>\n",
       "            <td>26</td>\n",
       "            <td>51.74</td>\n",
       "            <td>2718.0</td>\n",
       "        </tr>\n",
       "        <tr>\n",
       "            <td>230</td>\n",
       "            <td>25</td>\n",
       "            <td>49.75</td>\n",
       "            <td>2594.0</td>\n",
       "        </tr>\n",
       "        <tr>\n",
       "            <td>251</td>\n",
       "            <td>25</td>\n",
       "            <td>49.75</td>\n",
       "            <td>1533.0</td>\n",
       "        </tr>\n",
       "        <tr>\n",
       "            <td>231</td>\n",
       "            <td>24</td>\n",
       "            <td>47.76</td>\n",
       "            <td>2637.0</td>\n",
       "        </tr>\n",
       "        <tr>\n",
       "            <td>253</td>\n",
       "            <td>24</td>\n",
       "            <td>47.76</td>\n",
       "            <td>2926.0</td>\n",
       "        </tr>\n",
       "        <tr>\n",
       "            <td>228</td>\n",
       "            <td>23</td>\n",
       "            <td>45.77</td>\n",
       "            <td>2599.0</td>\n",
       "        </tr>\n",
       "        <tr>\n",
       "            <td>250</td>\n",
       "            <td>22</td>\n",
       "            <td>43.78</td>\n",
       "            <td>1302.0</td>\n",
       "        </tr>\n",
       "        <tr>\n",
       "            <td>227</td>\n",
       "            <td>19</td>\n",
       "            <td>37.81</td>\n",
       "            <td>2778.0</td>\n",
       "        </tr>\n",
       "        <tr>\n",
       "            <td>261</td>\n",
       "            <td>17</td>\n",
       "            <td>33.83</td>\n",
       "            <td>2322.0</td>\n",
       "        </tr>\n",
       "    </tbody>\n",
       "</table>\n",
       "<span style=\"font-style:italic;text-align:center;\">Truncated to <a href=\"https://jupysql.ploomber.io/en/latest/api/configuration.html#displaylimit\">displaylimit</a> of 10.</span>"
      ],
      "text/plain": [
       "+---------+-----------+------------+--------------+\n",
       "| AlbumId | TracksNum | TotalPrice | MeanTrackSec |\n",
       "+---------+-----------+------------+--------------+\n",
       "|   141   |     57    |   56.43    |    264.0     |\n",
       "|   229   |     26    |   51.74    |    2718.0    |\n",
       "|   230   |     25    |   49.75    |    2594.0    |\n",
       "|   251   |     25    |   49.75    |    1533.0    |\n",
       "|   231   |     24    |   47.76    |    2637.0    |\n",
       "|   253   |     24    |   47.76    |    2926.0    |\n",
       "|   228   |     23    |   45.77    |    2599.0    |\n",
       "|   250   |     22    |   43.78    |    1302.0    |\n",
       "|   227   |     19    |   37.81    |    2778.0    |\n",
       "|   261   |     17    |   33.83    |    2322.0    |\n",
       "+---------+-----------+------------+--------------+\n",
       "Truncated to displaylimit of 10."
      ]
     },
     "execution_count": 10,
     "metadata": {},
     "output_type": "execute_result"
    }
   ],
   "source": [
    "%%sql\n",
    "\n",
    "SELECT AlbumId, COUNT(*) AS TracksNum, Round(SUM(UnitPrice), 2) AS TotalPrice, ROUND(AVG(Milliseconds)/1000, 0)  AS MeanTrackSec\n",
    "    FROM tracks  \n",
    "    GROUP BY AlbumId  \n",
    "    ORDER BY TotalPrice DESC \n",
    "    LIMIT 10"
   ]
  },
  {
   "cell_type": "markdown",
   "id": "b569efed",
   "metadata": {},
   "source": [
    "## Exercise: summaries per group (with pandas)"
   ]
  },
  {
   "cell_type": "markdown",
   "id": "4e850b68",
   "metadata": {},
   "source": [
    "Use another strategy to generate the table from the previous exercise.  \n",
    "Use SQL only to get the complete `tracks` table into a Pandas `DataFrame`.  \n",
    "Then, perform the same calculations using Pandas `groupby` and `agg` commands.  \n",
    "\n",
    "Now, imagine that the database is very large and remote, located on multiple servers somewhere in the world:\n",
    "- What data are transmitted over the database connection in both exercises?\n",
    "- Where are the calculations performed in both exercises?\n",
    "- Which approach would scale better?"
   ]
  },
  {
   "cell_type": "code",
   "execution_count": 41,
   "id": "ffd69017",
   "metadata": {},
   "outputs": [
    {
     "data": {
      "text/html": [
       "<div>\n",
       "<style scoped>\n",
       "    .dataframe tbody tr th:only-of-type {\n",
       "        vertical-align: middle;\n",
       "    }\n",
       "\n",
       "    .dataframe tbody tr th {\n",
       "        vertical-align: top;\n",
       "    }\n",
       "\n",
       "    .dataframe thead th {\n",
       "        text-align: right;\n",
       "    }\n",
       "</style>\n",
       "<table border=\"1\" class=\"dataframe\">\n",
       "  <thead>\n",
       "    <tr style=\"text-align: right;\">\n",
       "      <th></th>\n",
       "      <th>TracksNum</th>\n",
       "      <th>TotalPrice</th>\n",
       "      <th>MeanTrackSec</th>\n",
       "    </tr>\n",
       "    <tr>\n",
       "      <th>AlbumId</th>\n",
       "      <th></th>\n",
       "      <th></th>\n",
       "      <th></th>\n",
       "    </tr>\n",
       "  </thead>\n",
       "  <tbody>\n",
       "    <tr>\n",
       "      <th>141</th>\n",
       "      <td>57</td>\n",
       "      <td>56.43</td>\n",
       "      <td>264.0</td>\n",
       "    </tr>\n",
       "    <tr>\n",
       "      <th>229</th>\n",
       "      <td>26</td>\n",
       "      <td>51.74</td>\n",
       "      <td>2718.0</td>\n",
       "    </tr>\n",
       "    <tr>\n",
       "      <th>230</th>\n",
       "      <td>25</td>\n",
       "      <td>49.75</td>\n",
       "      <td>2594.0</td>\n",
       "    </tr>\n",
       "    <tr>\n",
       "      <th>251</th>\n",
       "      <td>25</td>\n",
       "      <td>49.75</td>\n",
       "      <td>1533.0</td>\n",
       "    </tr>\n",
       "    <tr>\n",
       "      <th>253</th>\n",
       "      <td>24</td>\n",
       "      <td>47.76</td>\n",
       "      <td>2926.0</td>\n",
       "    </tr>\n",
       "    <tr>\n",
       "      <th>231</th>\n",
       "      <td>24</td>\n",
       "      <td>47.76</td>\n",
       "      <td>2637.0</td>\n",
       "    </tr>\n",
       "    <tr>\n",
       "      <th>228</th>\n",
       "      <td>23</td>\n",
       "      <td>45.77</td>\n",
       "      <td>2599.0</td>\n",
       "    </tr>\n",
       "    <tr>\n",
       "      <th>250</th>\n",
       "      <td>22</td>\n",
       "      <td>43.78</td>\n",
       "      <td>1302.0</td>\n",
       "    </tr>\n",
       "    <tr>\n",
       "      <th>227</th>\n",
       "      <td>19</td>\n",
       "      <td>37.81</td>\n",
       "      <td>2778.0</td>\n",
       "    </tr>\n",
       "    <tr>\n",
       "      <th>261</th>\n",
       "      <td>17</td>\n",
       "      <td>33.83</td>\n",
       "      <td>2322.0</td>\n",
       "    </tr>\n",
       "  </tbody>\n",
       "</table>\n",
       "</div>"
      ],
      "text/plain": [
       "         TracksNum  TotalPrice  MeanTrackSec\n",
       "AlbumId                                     \n",
       "141             57       56.43         264.0\n",
       "229             26       51.74        2718.0\n",
       "230             25       49.75        2594.0\n",
       "251             25       49.75        1533.0\n",
       "253             24       47.76        2926.0\n",
       "231             24       47.76        2637.0\n",
       "228             23       45.77        2599.0\n",
       "250             22       43.78        1302.0\n",
       "227             19       37.81        2778.0\n",
       "261             17       33.83        2322.0"
      ]
     },
     "execution_count": 41,
     "metadata": {},
     "output_type": "execute_result"
    }
   ],
   "source": [
    "import pandas as pd \n",
    "import sqlalchemy as sa\n",
    "\n",
    "engine = sa.create_engine(\"sqlite:///chinook.db\")\n",
    "sql = sa.text(\"SELECT * FROM tracks\")\n",
    "with engine.connect() as conn:\n",
    "    arr = conn.execute(sql).fetchall()\n",
    "    \n",
    "    sql = sa.text(\"SELECT * FROM tracks\")\n",
    "df = pd.read_sql(sql, con=engine)\n",
    "\n",
    "summary_df = (\n",
    "    df.groupby(\"AlbumId\")\n",
    "    .agg(\n",
    "        TracksNum=(\"AlbumId\", \"count\"),\n",
    "        TotalPrice=(\"UnitPrice\", lambda x: round(x.sum(), 2)),\n",
    "        MeanTrackSec=(\"Milliseconds\", lambda x: round(x.mean() / 1000, 0))\n",
    "    )\n",
    "    .sort_values(\"TotalPrice\", ascending=False)\n",
    "    .head(10)\n",
    ")\n",
    "\n",
    "summary_df"
   ]
  },
  {
   "cell_type": "markdown",
   "id": "dac4d616",
   "metadata": {},
   "source": [
    "## Exercise: filtering based on summary result"
   ]
  },
  {
   "cell_type": "markdown",
   "id": "ba8a675a",
   "metadata": {},
   "source": [
    "Find `AlbumId`s that have the number of tracks between 18 and 20. Show 5 rows."
   ]
  },
  {
   "cell_type": "code",
   "execution_count": 50,
   "id": "2b71d374",
   "metadata": {},
   "outputs": [
    {
     "data": {
      "text/html": [
       "<span style=\"None\">Running query in &#x27;sqlite:///chinook.db&#x27;</span>"
      ],
      "text/plain": [
       "Running query in 'sqlite:///chinook.db'"
      ]
     },
     "metadata": {},
     "output_type": "display_data"
    },
    {
     "data": {
      "text/html": [
       "<table>\n",
       "    <thead>\n",
       "        <tr>\n",
       "            <th>AlbumId</th>\n",
       "            <th>TracksNum</th>\n",
       "            <th>TotalPrice</th>\n",
       "            <th>MeanTrackSec</th>\n",
       "        </tr>\n",
       "    </thead>\n",
       "    <tbody>\n",
       "        <tr>\n",
       "            <td>21</td>\n",
       "            <td>18</td>\n",
       "            <td>17.82</td>\n",
       "            <td>212.0</td>\n",
       "        </tr>\n",
       "        <tr>\n",
       "            <td>37</td>\n",
       "            <td>20</td>\n",
       "            <td>19.8</td>\n",
       "            <td>229.0</td>\n",
       "        </tr>\n",
       "        <tr>\n",
       "            <td>54</td>\n",
       "            <td>20</td>\n",
       "            <td>19.8</td>\n",
       "            <td>204.0</td>\n",
       "        </tr>\n",
       "        <tr>\n",
       "            <td>55</td>\n",
       "            <td>20</td>\n",
       "            <td>19.8</td>\n",
       "            <td>225.0</td>\n",
       "        </tr>\n",
       "        <tr>\n",
       "            <td>72</td>\n",
       "            <td>18</td>\n",
       "            <td>17.82</td>\n",
       "            <td>243.0</td>\n",
       "        </tr>\n",
       "    </tbody>\n",
       "</table>"
      ],
      "text/plain": [
       "+---------+-----------+------------+--------------+\n",
       "| AlbumId | TracksNum | TotalPrice | MeanTrackSec |\n",
       "+---------+-----------+------------+--------------+\n",
       "|    21   |     18    |   17.82    |    212.0     |\n",
       "|    37   |     20    |    19.8    |    229.0     |\n",
       "|    54   |     20    |    19.8    |    204.0     |\n",
       "|    55   |     20    |    19.8    |    225.0     |\n",
       "|    72   |     18    |   17.82    |    243.0     |\n",
       "+---------+-----------+------------+--------------+"
      ]
     },
     "execution_count": 50,
     "metadata": {},
     "output_type": "execute_result"
    }
   ],
   "source": [
    "%%sql\n",
    "\n",
    "SELECT AlbumId, COUNT(*) AS TracksNum, Round(SUM(UnitPrice), 2) AS TotalPrice, ROUND(AVG(Milliseconds)/1000, 0)  AS MeanTrackSec\n",
    "    FROM tracks  \n",
    "    GROUP BY AlbumId \n",
    "    HAVING TracksNum BETWEEN 18 AND 20  \n",
    "    LIMIT 5"
   ]
  },
  {
   "cell_type": "markdown",
   "id": "879d2e27",
   "metadata": {},
   "source": [
    "## Exercise: concatenating texts in a group"
   ]
  },
  {
   "cell_type": "markdown",
   "id": "65966311",
   "metadata": {},
   "source": [
    "Based on `tracks` grouped by `AlbumId`, create a table with two columns:\n",
    "- `AlbumId`\n",
    "- `Tracks`: a semicolon-separated concatenated track names of the album\n",
    "\n",
    "Show some 5 rows."
   ]
  },
  {
   "cell_type": "code",
   "execution_count": 51,
   "id": "a74a2b65",
   "metadata": {},
   "outputs": [
    {
     "data": {
      "text/html": [
       "<span style=\"None\">Running query in &#x27;sqlite:///chinook.db&#x27;</span>"
      ],
      "text/plain": [
       "Running query in 'sqlite:///chinook.db'"
      ]
     },
     "metadata": {},
     "output_type": "display_data"
    },
    {
     "data": {
      "text/html": [
       "<table>\n",
       "    <thead>\n",
       "        <tr>\n",
       "            <th>AlbumId</th>\n",
       "            <th>Tracks</th>\n",
       "        </tr>\n",
       "    </thead>\n",
       "    <tbody>\n",
       "        <tr>\n",
       "            <td>1</td>\n",
       "            <td>For Those About To Rock (We Salute You);Put The Finger On You;Let's Get It Up;Inject The Venom;Snowballed;Evil Walks;C.O.D.;Breaking The Rules;Night Of The Long Knives;Spellbound</td>\n",
       "        </tr>\n",
       "        <tr>\n",
       "            <td>2</td>\n",
       "            <td>Balls to the Wall</td>\n",
       "        </tr>\n",
       "        <tr>\n",
       "            <td>3</td>\n",
       "            <td>Fast As a Shark;Restless and Wild;Princess of the Dawn</td>\n",
       "        </tr>\n",
       "        <tr>\n",
       "            <td>4</td>\n",
       "            <td>Go Down;Dog Eat Dog;Let There Be Rock;Bad Boy Boogie;Problem Child;Overdose;Hell Ain't A Bad Place To Be;Whole Lotta Rosie</td>\n",
       "        </tr>\n",
       "        <tr>\n",
       "            <td>5</td>\n",
       "            <td>Walk On Water;Love In An Elevator;Rag Doll;What It Takes;Dude (Looks Like A Lady);Janie's Got A Gun;Cryin';Amazing;Blind Man;Deuces Are Wild;The Other Side;Crazy;Eat The Rich;Angel;Livin' On The Edge</td>\n",
       "        </tr>\n",
       "    </tbody>\n",
       "</table>"
      ],
      "text/plain": [
       "+---------+---------------------------------------------------------------------------------------------------------------------------------------------------------------------------------------------------------+\n",
       "| AlbumId |                                                                                                  Tracks                                                                                                 |\n",
       "+---------+---------------------------------------------------------------------------------------------------------------------------------------------------------------------------------------------------------+\n",
       "|    1    |            For Those About To Rock (We Salute You);Put The Finger On You;Let's Get It Up;Inject The Venom;Snowballed;Evil Walks;C.O.D.;Breaking The Rules;Night Of The Long Knives;Spellbound           |\n",
       "|    2    |                                                                                            Balls to the Wall                                                                                            |\n",
       "|    3    |                                                                          Fast As a Shark;Restless and Wild;Princess of the Dawn                                                                         |\n",
       "|    4    |                                        Go Down;Dog Eat Dog;Let There Be Rock;Bad Boy Boogie;Problem Child;Overdose;Hell Ain't A Bad Place To Be;Whole Lotta Rosie                                       |\n",
       "|    5    | Walk On Water;Love In An Elevator;Rag Doll;What It Takes;Dude (Looks Like A Lady);Janie's Got A Gun;Cryin';Amazing;Blind Man;Deuces Are Wild;The Other Side;Crazy;Eat The Rich;Angel;Livin' On The Edge |\n",
       "+---------+---------------------------------------------------------------------------------------------------------------------------------------------------------------------------------------------------------+"
      ]
     },
     "execution_count": 51,
     "metadata": {},
     "output_type": "execute_result"
    }
   ],
   "source": [
    "%%sql\n",
    "\n",
    "SELECT AlbumId, GROUP_CONCAT( Name, \";\" ) AS Tracks \n",
    "  FROM tracks \n",
    "  GROUP BY AlbumId\n",
    "  LIMIT 5"
   ]
  }
 ],
 "metadata": {
  "kernelspec": {
   "display_name": "Python 3",
   "language": "python",
   "name": "python3"
  },
  "language_info": {
   "codemirror_mode": {
    "name": "ipython",
    "version": 3
   },
   "file_extension": ".py",
   "mimetype": "text/x-python",
   "name": "python",
   "nbconvert_exporter": "python",
   "pygments_lexer": "ipython3",
   "version": "3.12.8"
  }
 },
 "nbformat": 4,
 "nbformat_minor": 5
}
