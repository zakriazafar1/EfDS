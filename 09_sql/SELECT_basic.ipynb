{
 "cells": [
  {
   "cell_type": "markdown",
   "id": "a79a05df",
   "metadata": {},
   "source": [
    "# SQL querying and selecting data"
   ]
  },
  {
   "attachments": {},
   "cell_type": "markdown",
   "id": "db2128e6",
   "metadata": {},
   "source": [
    "## Preparation"
   ]
  },
  {
   "attachments": {},
   "cell_type": "markdown",
   "id": "0e07a946",
   "metadata": {},
   "source": [
    "For this section you need `chinook.db` database file and working `%sql` magic.  \n",
    "If you don't have it, please go back to the [previous section](connect_to_database.ipynb) and follow the instructions.  \n",
    "The following code should not produce any errors:"
   ]
  },
  {
   "cell_type": "code",
   "execution_count": 22,
   "id": "521a990f",
   "metadata": {},
   "outputs": [
    {
     "name": "stdout",
     "output_type": "stream",
     "text": [
      "The sql extension is already loaded. To reload it, use:\n",
      "  %reload_ext sql\n"
     ]
    }
   ],
   "source": [
    "%load_ext sql\n",
    "%sql sqlite:///chinook.db"
   ]
  },
  {
   "cell_type": "markdown",
   "id": "f099e9fa",
   "metadata": {},
   "source": [
    "## `SELECT` - querying the database"
   ]
  },
  {
   "cell_type": "markdown",
   "id": "a3ff5cb4",
   "metadata": {},
   "source": [
    "### Selecting some/all columns and their order"
   ]
  },
  {
   "cell_type": "markdown",
   "id": "32a95c13",
   "metadata": {},
   "source": [
    "Write the 1st query to retrieve some data of several (first five) customers from this database:\n",
    "- after `SELECT` you write the name(s) of the column(s) that we want to retireve\n",
    "- after `FROM` you write the name of the table\n",
    "- the optional part `LIMIT` allows to specify how many rows to show"
   ]
  },
  {
   "cell_type": "code",
   "execution_count": 26,
   "id": "ebd27184",
   "metadata": {},
   "outputs": [
    {
     "data": {
      "text/html": [
       "<span style=\"None\">Running query in &#x27;sqlite:///chinook.db&#x27;</span>"
      ],
      "text/plain": [
       "Running query in 'sqlite:///chinook.db'"
      ]
     },
     "metadata": {},
     "output_type": "display_data"
    },
    {
     "data": {
      "text/html": [
       "<table>\n",
       "    <thead>\n",
       "        <tr>\n",
       "            <th>FirstName</th>\n",
       "            <th>LastName</th>\n",
       "        </tr>\n",
       "    </thead>\n",
       "    <tbody>\n",
       "        <tr>\n",
       "            <td>Luís</td>\n",
       "            <td>Gonçalves</td>\n",
       "        </tr>\n",
       "        <tr>\n",
       "            <td>Leonie</td>\n",
       "            <td>Köhler</td>\n",
       "        </tr>\n",
       "        <tr>\n",
       "            <td>François</td>\n",
       "            <td>Tremblay</td>\n",
       "        </tr>\n",
       "        <tr>\n",
       "            <td>Bjørn</td>\n",
       "            <td>Hansen</td>\n",
       "        </tr>\n",
       "        <tr>\n",
       "            <td>František</td>\n",
       "            <td>Wichterlová</td>\n",
       "        </tr>\n",
       "        <tr>\n",
       "            <td>Helena</td>\n",
       "            <td>Holý</td>\n",
       "        </tr>\n",
       "        <tr>\n",
       "            <td>Astrid</td>\n",
       "            <td>Gruber</td>\n",
       "        </tr>\n",
       "    </tbody>\n",
       "</table>"
      ],
      "text/plain": [
       "+-----------+-------------+\n",
       "| FirstName |   LastName  |\n",
       "+-----------+-------------+\n",
       "|    Luís   |  Gonçalves  |\n",
       "|   Leonie  |    Köhler   |\n",
       "|  François |   Tremblay  |\n",
       "|   Bjørn   |    Hansen   |\n",
       "| František | Wichterlová |\n",
       "|   Helena  |     Holý    |\n",
       "|   Astrid  |    Gruber   |\n",
       "+-----------+-------------+"
      ]
     },
     "execution_count": 26,
     "metadata": {},
     "output_type": "execute_result"
    }
   ],
   "source": [
    "%%sql\n",
    "SELECT FirstName, LastName\n",
    "  FROM customers \n",
    "  LIMIT 7"
   ]
  },
  {
   "cell_type": "markdown",
   "id": "aa3c2cd8",
   "metadata": {},
   "source": [
    "We can retrieve all columns from the table using `*` instead of the column names:"
   ]
  },
  {
   "cell_type": "code",
   "execution_count": 27,
   "id": "c4724287",
   "metadata": {},
   "outputs": [
    {
     "data": {
      "text/html": [
       "<span style=\"None\">Running query in &#x27;sqlite:///chinook.db&#x27;</span>"
      ],
      "text/plain": [
       "Running query in 'sqlite:///chinook.db'"
      ]
     },
     "metadata": {},
     "output_type": "display_data"
    },
    {
     "data": {
      "text/html": [
       "<table>\n",
       "    <thead>\n",
       "        <tr>\n",
       "            <th>CustomerId</th>\n",
       "            <th>FirstName</th>\n",
       "            <th>LastName</th>\n",
       "            <th>Company</th>\n",
       "            <th>Address</th>\n",
       "            <th>City</th>\n",
       "            <th>State</th>\n",
       "            <th>Country</th>\n",
       "            <th>PostalCode</th>\n",
       "            <th>Phone</th>\n",
       "            <th>Fax</th>\n",
       "            <th>Email</th>\n",
       "            <th>SupportRepId</th>\n",
       "        </tr>\n",
       "    </thead>\n",
       "    <tbody>\n",
       "        <tr>\n",
       "            <td>1</td>\n",
       "            <td>Luís</td>\n",
       "            <td>Gonçalves</td>\n",
       "            <td>Embraer - Empresa Brasileira de Aeronáutica S.A.</td>\n",
       "            <td>Av. Brigadeiro Faria Lima, 2170</td>\n",
       "            <td>São José dos Campos</td>\n",
       "            <td>SP</td>\n",
       "            <td>Brazil</td>\n",
       "            <td>12227-000</td>\n",
       "            <td>+55 (12) 3923-5555</td>\n",
       "            <td>+55 (12) 3923-5566</td>\n",
       "            <td>luisg@embraer.com.br</td>\n",
       "            <td>3</td>\n",
       "        </tr>\n",
       "        <tr>\n",
       "            <td>2</td>\n",
       "            <td>Leonie</td>\n",
       "            <td>Köhler</td>\n",
       "            <td>None</td>\n",
       "            <td>Theodor-Heuss-Straße 34</td>\n",
       "            <td>Stuttgart</td>\n",
       "            <td>None</td>\n",
       "            <td>Germany</td>\n",
       "            <td>70174</td>\n",
       "            <td>+49 0711 2842222</td>\n",
       "            <td>None</td>\n",
       "            <td>leonekohler@surfeu.de</td>\n",
       "            <td>5</td>\n",
       "        </tr>\n",
       "        <tr>\n",
       "            <td>3</td>\n",
       "            <td>François</td>\n",
       "            <td>Tremblay</td>\n",
       "            <td>None</td>\n",
       "            <td>1498 rue Bélanger</td>\n",
       "            <td>Montréal</td>\n",
       "            <td>QC</td>\n",
       "            <td>Canada</td>\n",
       "            <td>H2G 1A7</td>\n",
       "            <td>+1 (514) 721-4711</td>\n",
       "            <td>None</td>\n",
       "            <td>ftremblay@gmail.com</td>\n",
       "            <td>3</td>\n",
       "        </tr>\n",
       "        <tr>\n",
       "            <td>4</td>\n",
       "            <td>Bjørn</td>\n",
       "            <td>Hansen</td>\n",
       "            <td>None</td>\n",
       "            <td>Ullevålsveien 14</td>\n",
       "            <td>Oslo</td>\n",
       "            <td>None</td>\n",
       "            <td>Norway</td>\n",
       "            <td>0171</td>\n",
       "            <td>+47 22 44 22 22</td>\n",
       "            <td>None</td>\n",
       "            <td>bjorn.hansen@yahoo.no</td>\n",
       "            <td>4</td>\n",
       "        </tr>\n",
       "        <tr>\n",
       "            <td>5</td>\n",
       "            <td>František</td>\n",
       "            <td>Wichterlová</td>\n",
       "            <td>JetBrains s.r.o.</td>\n",
       "            <td>Klanova 9/506</td>\n",
       "            <td>Prague</td>\n",
       "            <td>None</td>\n",
       "            <td>Czech Republic</td>\n",
       "            <td>14700</td>\n",
       "            <td>+420 2 4172 5555</td>\n",
       "            <td>+420 2 4172 5555</td>\n",
       "            <td>frantisekw@jetbrains.com</td>\n",
       "            <td>4</td>\n",
       "        </tr>\n",
       "    </tbody>\n",
       "</table>"
      ],
      "text/plain": [
       "+------------+-----------+-------------+--------------------------------------------------+---------------------------------+---------------------+-------+----------------+------------+--------------------+--------------------+--------------------------+--------------+\n",
       "| CustomerId | FirstName |   LastName  |                     Company                      |             Address             |         City        | State |    Country     | PostalCode |       Phone        |        Fax         |          Email           | SupportRepId |\n",
       "+------------+-----------+-------------+--------------------------------------------------+---------------------------------+---------------------+-------+----------------+------------+--------------------+--------------------+--------------------------+--------------+\n",
       "|     1      |    Luís   |  Gonçalves  | Embraer - Empresa Brasileira de Aeronáutica S.A. | Av. Brigadeiro Faria Lima, 2170 | São José dos Campos |   SP  |     Brazil     | 12227-000  | +55 (12) 3923-5555 | +55 (12) 3923-5566 |   luisg@embraer.com.br   |      3       |\n",
       "|     2      |   Leonie  |    Köhler   |                       None                       |     Theodor-Heuss-Straße 34     |      Stuttgart      |  None |    Germany     |   70174    |  +49 0711 2842222  |        None        |  leonekohler@surfeu.de   |      5       |\n",
       "|     3      |  François |   Tremblay  |                       None                       |        1498 rue Bélanger        |       Montréal      |   QC  |     Canada     |  H2G 1A7   | +1 (514) 721-4711  |        None        |   ftremblay@gmail.com    |      3       |\n",
       "|     4      |   Bjørn   |    Hansen   |                       None                       |         Ullevålsveien 14        |         Oslo        |  None |     Norway     |    0171    |  +47 22 44 22 22   |        None        |  bjorn.hansen@yahoo.no   |      4       |\n",
       "|     5      | František | Wichterlová |                 JetBrains s.r.o.                 |          Klanova 9/506          |        Prague       |  None | Czech Republic |   14700    |  +420 2 4172 5555  |  +420 2 4172 5555  | frantisekw@jetbrains.com |      4       |\n",
       "+------------+-----------+-------------+--------------------------------------------------+---------------------------------+---------------------+-------+----------------+------------+--------------------+--------------------+--------------------------+--------------+"
      ]
     },
     "execution_count": 27,
     "metadata": {},
     "output_type": "execute_result"
    }
   ],
   "source": [
    "%%sql\n",
    "SELECT * \n",
    "  FROM customers \n",
    "  LIMIT 5"
   ]
  },
  {
   "cell_type": "markdown",
   "id": "0a4e84db",
   "metadata": {},
   "source": [
    "The order of the names of the column define the order of columns in the table. It is also possible to directly perform arithmetic operations:"
   ]
  },
  {
   "cell_type": "code",
   "execution_count": 33,
   "id": "740e6f56",
   "metadata": {},
   "outputs": [
    {
     "data": {
      "text/html": [
       "<span style=\"None\">Running query in &#x27;sqlite:///chinook.db&#x27;</span>"
      ],
      "text/plain": [
       "Running query in 'sqlite:///chinook.db'"
      ]
     },
     "metadata": {},
     "output_type": "display_data"
    },
    {
     "data": {
      "text/html": [
       "<table>\n",
       "    <thead>\n",
       "        <tr>\n",
       "            <th>Name</th>\n",
       "            <th>TrackId</th>\n",
       "            <th>UnitPrice + 10</th>\n",
       "        </tr>\n",
       "    </thead>\n",
       "    <tbody>\n",
       "        <tr>\n",
       "            <td>For Those About To Rock (We Salute You)</td>\n",
       "            <td>1</td>\n",
       "            <td>10.99</td>\n",
       "        </tr>\n",
       "        <tr>\n",
       "            <td>Balls to the Wall</td>\n",
       "            <td>2</td>\n",
       "            <td>10.99</td>\n",
       "        </tr>\n",
       "        <tr>\n",
       "            <td>Fast As a Shark</td>\n",
       "            <td>3</td>\n",
       "            <td>10.99</td>\n",
       "        </tr>\n",
       "        <tr>\n",
       "            <td>Restless and Wild</td>\n",
       "            <td>4</td>\n",
       "            <td>10.99</td>\n",
       "        </tr>\n",
       "        <tr>\n",
       "            <td>Princess of the Dawn</td>\n",
       "            <td>5</td>\n",
       "            <td>10.99</td>\n",
       "        </tr>\n",
       "    </tbody>\n",
       "</table>"
      ],
      "text/plain": [
       "+-----------------------------------------+---------+----------------+\n",
       "|                   Name                  | TrackId | UnitPrice + 10 |\n",
       "+-----------------------------------------+---------+----------------+\n",
       "| For Those About To Rock (We Salute You) |    1    |     10.99      |\n",
       "|            Balls to the Wall            |    2    |     10.99      |\n",
       "|             Fast As a Shark             |    3    |     10.99      |\n",
       "|            Restless and Wild            |    4    |     10.99      |\n",
       "|           Princess of the Dawn          |    5    |     10.99      |\n",
       "+-----------------------------------------+---------+----------------+"
      ]
     },
     "execution_count": 33,
     "metadata": {},
     "output_type": "execute_result"
    }
   ],
   "source": [
    "%%sql\n",
    "SELECT Name, TrackId, UnitPrice + 10\n",
    "  FROM tracks\n",
    "  LIMIT 5"
   ]
  },
  {
   "cell_type": "markdown",
   "id": "7ed460ef",
   "metadata": {},
   "source": []
  },
  {
   "cell_type": "markdown",
   "id": "5dd1fa6e",
   "metadata": {},
   "source": [
    "### `LIMIT`- limiting the number of returned rows"
   ]
  },
  {
   "cell_type": "markdown",
   "id": "a23ae2a4",
   "metadata": {},
   "source": [
    "Simple limit of the records returned from the query:"
   ]
  },
  {
   "cell_type": "code",
   "execution_count": 34,
   "id": "6a6e513d",
   "metadata": {},
   "outputs": [
    {
     "data": {
      "text/html": [
       "<span style=\"None\">Running query in &#x27;sqlite:///chinook.db&#x27;</span>"
      ],
      "text/plain": [
       "Running query in 'sqlite:///chinook.db'"
      ]
     },
     "metadata": {},
     "output_type": "display_data"
    },
    {
     "data": {
      "text/html": [
       "<table>\n",
       "    <thead>\n",
       "        <tr>\n",
       "            <th>TrackId</th>\n",
       "            <th>Name</th>\n",
       "        </tr>\n",
       "    </thead>\n",
       "    <tbody>\n",
       "        <tr>\n",
       "            <td>1</td>\n",
       "            <td>For Those About To Rock (We Salute You)</td>\n",
       "        </tr>\n",
       "        <tr>\n",
       "            <td>2</td>\n",
       "            <td>Balls to the Wall</td>\n",
       "        </tr>\n",
       "        <tr>\n",
       "            <td>3</td>\n",
       "            <td>Fast As a Shark</td>\n",
       "        </tr>\n",
       "    </tbody>\n",
       "</table>"
      ],
      "text/plain": [
       "+---------+-----------------------------------------+\n",
       "| TrackId |                   Name                  |\n",
       "+---------+-----------------------------------------+\n",
       "|    1    | For Those About To Rock (We Salute You) |\n",
       "|    2    |            Balls to the Wall            |\n",
       "|    3    |             Fast As a Shark             |\n",
       "+---------+-----------------------------------------+"
      ]
     },
     "execution_count": 34,
     "metadata": {},
     "output_type": "execute_result"
    }
   ],
   "source": [
    "%%sql\n",
    "SELECT TrackId, Name\n",
    "  FROM tracks\n",
    "  LIMIT 3"
   ]
  },
  {
   "cell_type": "markdown",
   "id": "fc993a0a",
   "metadata": {},
   "source": [
    "*Note:* if you want to get the first 10 rows starting from the 10th row of the result set, you use `OFFSET` keyword:"
   ]
  },
  {
   "cell_type": "code",
   "execution_count": 35,
   "id": "739e8886",
   "metadata": {},
   "outputs": [
    {
     "data": {
      "text/html": [
       "<span style=\"None\">Running query in &#x27;sqlite:///chinook.db&#x27;</span>"
      ],
      "text/plain": [
       "Running query in 'sqlite:///chinook.db'"
      ]
     },
     "metadata": {},
     "output_type": "display_data"
    },
    {
     "data": {
      "text/html": [
       "<table>\n",
       "    <thead>\n",
       "        <tr>\n",
       "            <th>TrackId</th>\n",
       "            <th>Name</th>\n",
       "        </tr>\n",
       "    </thead>\n",
       "    <tbody>\n",
       "        <tr>\n",
       "            <td>11</td>\n",
       "            <td>C.O.D.</td>\n",
       "        </tr>\n",
       "        <tr>\n",
       "            <td>12</td>\n",
       "            <td>Breaking The Rules</td>\n",
       "        </tr>\n",
       "        <tr>\n",
       "            <td>13</td>\n",
       "            <td>Night Of The Long Knives</td>\n",
       "        </tr>\n",
       "    </tbody>\n",
       "</table>"
      ],
      "text/plain": [
       "+---------+--------------------------+\n",
       "| TrackId |           Name           |\n",
       "+---------+--------------------------+\n",
       "|    11   |          C.O.D.          |\n",
       "|    12   |    Breaking The Rules    |\n",
       "|    13   | Night Of The Long Knives |\n",
       "+---------+--------------------------+"
      ]
     },
     "execution_count": 35,
     "metadata": {},
     "output_type": "execute_result"
    }
   ],
   "source": [
    "%%sql\n",
    "SELECT TrackId, Name\n",
    "  FROM tracks\n",
    "  LIMIT 3 OFFSET 10"
   ]
  },
  {
   "cell_type": "markdown",
   "id": "caf6b31d",
   "metadata": {},
   "source": [
    "### `AS` - renaming columns"
   ]
  },
  {
   "cell_type": "markdown",
   "id": "8808d597",
   "metadata": {},
   "source": [
    "To provide an own name to a column use the `AS` keyword. Put the new name in quotes:"
   ]
  },
  {
   "cell_type": "code",
   "execution_count": 36,
   "id": "32907487",
   "metadata": {},
   "outputs": [
    {
     "data": {
      "text/html": [
       "<span style=\"None\">Running query in &#x27;sqlite:///chinook.db&#x27;</span>"
      ],
      "text/plain": [
       "Running query in 'sqlite:///chinook.db'"
      ]
     },
     "metadata": {},
     "output_type": "display_data"
    },
    {
     "data": {
      "text/html": [
       "<table>\n",
       "    <thead>\n",
       "        <tr>\n",
       "            <th>TrackId</th>\n",
       "            <th>Name</th>\n",
       "            <th>UnitPrice</th>\n",
       "            <th>NewUnitPrice</th>\n",
       "        </tr>\n",
       "    </thead>\n",
       "    <tbody>\n",
       "        <tr>\n",
       "            <td>1</td>\n",
       "            <td>For Those About To Rock (We Salute You)</td>\n",
       "            <td>0.99</td>\n",
       "            <td>10.99</td>\n",
       "        </tr>\n",
       "        <tr>\n",
       "            <td>2</td>\n",
       "            <td>Balls to the Wall</td>\n",
       "            <td>0.99</td>\n",
       "            <td>10.99</td>\n",
       "        </tr>\n",
       "        <tr>\n",
       "            <td>3</td>\n",
       "            <td>Fast As a Shark</td>\n",
       "            <td>0.99</td>\n",
       "            <td>10.99</td>\n",
       "        </tr>\n",
       "        <tr>\n",
       "            <td>4</td>\n",
       "            <td>Restless and Wild</td>\n",
       "            <td>0.99</td>\n",
       "            <td>10.99</td>\n",
       "        </tr>\n",
       "        <tr>\n",
       "            <td>5</td>\n",
       "            <td>Princess of the Dawn</td>\n",
       "            <td>0.99</td>\n",
       "            <td>10.99</td>\n",
       "        </tr>\n",
       "    </tbody>\n",
       "</table>"
      ],
      "text/plain": [
       "+---------+-----------------------------------------+-----------+--------------+\n",
       "| TrackId |                   Name                  | UnitPrice | NewUnitPrice |\n",
       "+---------+-----------------------------------------+-----------+--------------+\n",
       "|    1    | For Those About To Rock (We Salute You) |    0.99   |    10.99     |\n",
       "|    2    |            Balls to the Wall            |    0.99   |    10.99     |\n",
       "|    3    |             Fast As a Shark             |    0.99   |    10.99     |\n",
       "|    4    |            Restless and Wild            |    0.99   |    10.99     |\n",
       "|    5    |           Princess of the Dawn          |    0.99   |    10.99     |\n",
       "+---------+-----------------------------------------+-----------+--------------+"
      ]
     },
     "execution_count": 36,
     "metadata": {},
     "output_type": "execute_result"
    }
   ],
   "source": [
    "%%sql\n",
    "SELECT TrackId, Name, UnitPrice, UnitPrice + 10 AS 'NewUnitPrice'\n",
    "  FROM tracks\n",
    "  LIMIT 5"
   ]
  },
  {
   "cell_type": "markdown",
   "id": "b05cb147",
   "metadata": {},
   "source": [
    "### `ORDER` - sorting rows"
   ]
  },
  {
   "cell_type": "markdown",
   "id": "d5d85b6b",
   "metadata": {},
   "source": [
    "With `ORDER BY` you define the sorting order. Additional keywords:\n",
    "- The `ASC` keyword means ascending (default, when you don't specify).\n",
    "- The `DESC` keyword means descending."
   ]
  },
  {
   "cell_type": "code",
   "execution_count": 37,
   "id": "db0aead7",
   "metadata": {},
   "outputs": [
    {
     "data": {
      "text/html": [
       "<span style=\"None\">Running query in &#x27;sqlite:///chinook.db&#x27;</span>"
      ],
      "text/plain": [
       "Running query in 'sqlite:///chinook.db'"
      ]
     },
     "metadata": {},
     "output_type": "display_data"
    },
    {
     "data": {
      "text/html": [
       "<table>\n",
       "    <thead>\n",
       "        <tr>\n",
       "            <th>Name</th>\n",
       "            <th>Milliseconds</th>\n",
       "            <th>AlbumId</th>\n",
       "        </tr>\n",
       "    </thead>\n",
       "    <tbody>\n",
       "        <tr>\n",
       "            <td>Koyaanisqatsi</td>\n",
       "            <td>206005</td>\n",
       "            <td>347</td>\n",
       "        </tr>\n",
       "        <tr>\n",
       "            <td>Quintet for Horn, Violin, 2 Violas, and Cello in E Flat Major, K. 407/386c: III. Allegro</td>\n",
       "            <td>221331</td>\n",
       "            <td>346</td>\n",
       "        </tr>\n",
       "        <tr>\n",
       "            <td>L'orfeo, Act 3, Sinfonia (Orchestra)</td>\n",
       "            <td>66639</td>\n",
       "            <td>345</td>\n",
       "        </tr>\n",
       "        <tr>\n",
       "            <td>String Quartet No. 12 in C Minor, D. 703 \"Quartettsatz\": II. Andante - Allegro assai</td>\n",
       "            <td>139200</td>\n",
       "            <td>344</td>\n",
       "        </tr>\n",
       "        <tr>\n",
       "            <td>Pini Di Roma (Pinien Von Rom) \\ I Pini Della Via Appia</td>\n",
       "            <td>286741</td>\n",
       "            <td>343</td>\n",
       "        </tr>\n",
       "        <tr>\n",
       "            <td>Concerto for Violin, Strings and Continuo in G Major, Op. 3, No. 9: I. Allegro</td>\n",
       "            <td>493573</td>\n",
       "            <td>342</td>\n",
       "        </tr>\n",
       "        <tr>\n",
       "            <td>Erlkonig, D.328</td>\n",
       "            <td>261849</td>\n",
       "            <td>341</td>\n",
       "        </tr>\n",
       "        <tr>\n",
       "            <td>Étude 1, In C Major - Preludio (Presto) - Liszt</td>\n",
       "            <td>51780</td>\n",
       "            <td>340</td>\n",
       "        </tr>\n",
       "        <tr>\n",
       "            <td>24 Caprices, Op. 1, No. 24, for Solo Violin, in A Minor</td>\n",
       "            <td>265541</td>\n",
       "            <td>339</td>\n",
       "        </tr>\n",
       "        <tr>\n",
       "            <td>Symphony No. 2, Op. 16 -  \"The Four Temperaments\": II. Allegro Comodo e Flemmatico</td>\n",
       "            <td>286998</td>\n",
       "            <td>338</td>\n",
       "        </tr>\n",
       "    </tbody>\n",
       "</table>\n",
       "<span style=\"font-style:italic;text-align:center;\">Truncated to <a href=\"https://jupysql.ploomber.io/en/latest/api/configuration.html#displaylimit\">displaylimit</a> of 10.</span>"
      ],
      "text/plain": [
       "+------------------------------------------------------------------------------------------+--------------+---------+\n",
       "|                                           Name                                           | Milliseconds | AlbumId |\n",
       "+------------------------------------------------------------------------------------------+--------------+---------+\n",
       "|                                      Koyaanisqatsi                                       |    206005    |   347   |\n",
       "| Quintet for Horn, Violin, 2 Violas, and Cello in E Flat Major, K. 407/386c: III. Allegro |    221331    |   346   |\n",
       "|                           L'orfeo, Act 3, Sinfonia (Orchestra)                           |    66639     |   345   |\n",
       "|   String Quartet No. 12 in C Minor, D. 703 \"Quartettsatz\": II. Andante - Allegro assai   |    139200    |   344   |\n",
       "|                  Pini Di Roma (Pinien Von Rom) \\ I Pini Della Via Appia                  |    286741    |   343   |\n",
       "|      Concerto for Violin, Strings and Continuo in G Major, Op. 3, No. 9: I. Allegro      |    493573    |   342   |\n",
       "|                                     Erlkonig, D.328                                      |    261849    |   341   |\n",
       "|                     Étude 1, In C Major - Preludio (Presto) - Liszt                      |    51780     |   340   |\n",
       "|                 24 Caprices, Op. 1, No. 24, for Solo Violin, in A Minor                  |    265541    |   339   |\n",
       "|    Symphony No. 2, Op. 16 -  \"The Four Temperaments\": II. Allegro Comodo e Flemmatico    |    286998    |   338   |\n",
       "+------------------------------------------------------------------------------------------+--------------+---------+\n",
       "Truncated to displaylimit of 10."
      ]
     },
     "execution_count": 37,
     "metadata": {},
     "output_type": "execute_result"
    }
   ],
   "source": [
    "%%sql\n",
    "SELECT Name, Milliseconds, AlbumId\n",
    "  FROM tracks\n",
    "  ORDER BY AlbumId DESC\n",
    "  LIMIT 10"
   ]
  },
  {
   "cell_type": "markdown",
   "id": "674d77f4",
   "metadata": {},
   "source": [
    "### `DISTINCT` - select unique rows (remove duplicated rows)"
   ]
  },
  {
   "cell_type": "markdown",
   "id": "4e7dd2fb",
   "metadata": {},
   "source": [
    "With `DISTINCT` you force duplicate rows to be removed from the query result. Compare the following two queries:"
   ]
  },
  {
   "cell_type": "code",
   "execution_count": 38,
   "id": "5e548456",
   "metadata": {},
   "outputs": [
    {
     "data": {
      "text/html": [
       "<span style=\"None\">Running query in &#x27;sqlite:///chinook.db&#x27;</span>"
      ],
      "text/plain": [
       "Running query in 'sqlite:///chinook.db'"
      ]
     },
     "metadata": {},
     "output_type": "display_data"
    },
    {
     "data": {
      "text/html": [
       "<table>\n",
       "    <thead>\n",
       "        <tr>\n",
       "            <th>City</th>\n",
       "        </tr>\n",
       "    </thead>\n",
       "    <tbody>\n",
       "        <tr>\n",
       "            <td>São José dos Campos</td>\n",
       "        </tr>\n",
       "        <tr>\n",
       "            <td>Stuttgart</td>\n",
       "        </tr>\n",
       "        <tr>\n",
       "            <td>Montréal</td>\n",
       "        </tr>\n",
       "        <tr>\n",
       "            <td>Oslo</td>\n",
       "        </tr>\n",
       "        <tr>\n",
       "            <td>Prague</td>\n",
       "        </tr>\n",
       "        <tr>\n",
       "            <td>Prague</td>\n",
       "        </tr>\n",
       "        <tr>\n",
       "            <td>Vienne</td>\n",
       "        </tr>\n",
       "        <tr>\n",
       "            <td>Brussels</td>\n",
       "        </tr>\n",
       "        <tr>\n",
       "            <td>Copenhagen</td>\n",
       "        </tr>\n",
       "        <tr>\n",
       "            <td>São Paulo</td>\n",
       "        </tr>\n",
       "    </tbody>\n",
       "</table>\n",
       "<span style=\"font-style:italic;text-align:center;\">Truncated to <a href=\"https://jupysql.ploomber.io/en/latest/api/configuration.html#displaylimit\">displaylimit</a> of 10.</span>"
      ],
      "text/plain": [
       "+---------------------+\n",
       "|         City        |\n",
       "+---------------------+\n",
       "| São José dos Campos |\n",
       "|      Stuttgart      |\n",
       "|       Montréal      |\n",
       "|         Oslo        |\n",
       "|        Prague       |\n",
       "|        Prague       |\n",
       "|        Vienne       |\n",
       "|       Brussels      |\n",
       "|      Copenhagen     |\n",
       "|      São Paulo      |\n",
       "+---------------------+\n",
       "Truncated to displaylimit of 10."
      ]
     },
     "execution_count": 38,
     "metadata": {},
     "output_type": "execute_result"
    }
   ],
   "source": [
    "%%sql \n",
    "SELECT City\n",
    "  FROM customers\n",
    "  LIMIT 10"
   ]
  },
  {
   "cell_type": "code",
   "execution_count": 39,
   "id": "95c1d6fd",
   "metadata": {},
   "outputs": [
    {
     "data": {
      "text/html": [
       "<span style=\"None\">Running query in &#x27;sqlite:///chinook.db&#x27;</span>"
      ],
      "text/plain": [
       "Running query in 'sqlite:///chinook.db'"
      ]
     },
     "metadata": {},
     "output_type": "display_data"
    },
    {
     "data": {
      "text/html": [
       "<table>\n",
       "    <thead>\n",
       "        <tr>\n",
       "            <th>City</th>\n",
       "        </tr>\n",
       "    </thead>\n",
       "    <tbody>\n",
       "        <tr>\n",
       "            <td>São José dos Campos</td>\n",
       "        </tr>\n",
       "        <tr>\n",
       "            <td>Stuttgart</td>\n",
       "        </tr>\n",
       "        <tr>\n",
       "            <td>Montréal</td>\n",
       "        </tr>\n",
       "        <tr>\n",
       "            <td>Oslo</td>\n",
       "        </tr>\n",
       "        <tr>\n",
       "            <td>Prague</td>\n",
       "        </tr>\n",
       "        <tr>\n",
       "            <td>Vienne</td>\n",
       "        </tr>\n",
       "        <tr>\n",
       "            <td>Brussels</td>\n",
       "        </tr>\n",
       "        <tr>\n",
       "            <td>Copenhagen</td>\n",
       "        </tr>\n",
       "        <tr>\n",
       "            <td>São Paulo</td>\n",
       "        </tr>\n",
       "        <tr>\n",
       "            <td>Rio de Janeiro</td>\n",
       "        </tr>\n",
       "    </tbody>\n",
       "</table>\n",
       "<span style=\"font-style:italic;text-align:center;\">Truncated to <a href=\"https://jupysql.ploomber.io/en/latest/api/configuration.html#displaylimit\">displaylimit</a> of 10.</span>"
      ],
      "text/plain": [
       "+---------------------+\n",
       "|         City        |\n",
       "+---------------------+\n",
       "| São José dos Campos |\n",
       "|      Stuttgart      |\n",
       "|       Montréal      |\n",
       "|         Oslo        |\n",
       "|        Prague       |\n",
       "|        Vienne       |\n",
       "|       Brussels      |\n",
       "|      Copenhagen     |\n",
       "|      São Paulo      |\n",
       "|    Rio de Janeiro   |\n",
       "+---------------------+\n",
       "Truncated to displaylimit of 10."
      ]
     },
     "execution_count": 39,
     "metadata": {},
     "output_type": "execute_result"
    }
   ],
   "source": [
    "%%sql \n",
    "SELECT DISTINCT City\n",
    "  FROM customers\n",
    "  LIMIT 10"
   ]
  },
  {
   "cell_type": "markdown",
   "id": "b77c1e01",
   "metadata": {},
   "source": [
    "### `WHERE` - selecting rows by a condition"
   ]
  },
  {
   "cell_type": "markdown",
   "id": "d9d6ba05",
   "metadata": {},
   "source": [
    "#### Relational operators"
   ]
  },
  {
   "cell_type": "markdown",
   "id": "bef9583c",
   "metadata": {},
   "source": [
    "Let's filter all tracks for which: `millisconds > 300000`:"
   ]
  },
  {
   "cell_type": "code",
   "execution_count": 40,
   "id": "fbff785b",
   "metadata": {},
   "outputs": [
    {
     "data": {
      "text/html": [
       "<span style=\"None\">Running query in &#x27;sqlite:///chinook.db&#x27;</span>"
      ],
      "text/plain": [
       "Running query in 'sqlite:///chinook.db'"
      ]
     },
     "metadata": {},
     "output_type": "display_data"
    },
    {
     "data": {
      "text/html": [
       "<table>\n",
       "    <thead>\n",
       "        <tr>\n",
       "            <th>TrackId</th>\n",
       "            <th>Milliseconds</th>\n",
       "        </tr>\n",
       "    </thead>\n",
       "    <tbody>\n",
       "        <tr>\n",
       "            <td>1</td>\n",
       "            <td>343719</td>\n",
       "        </tr>\n",
       "        <tr>\n",
       "            <td>2</td>\n",
       "            <td>342562</td>\n",
       "        </tr>\n",
       "        <tr>\n",
       "            <td>5</td>\n",
       "            <td>375418</td>\n",
       "        </tr>\n",
       "        <tr>\n",
       "            <td>15</td>\n",
       "            <td>331180</td>\n",
       "        </tr>\n",
       "        <tr>\n",
       "            <td>17</td>\n",
       "            <td>366654</td>\n",
       "        </tr>\n",
       "    </tbody>\n",
       "</table>"
      ],
      "text/plain": [
       "+---------+--------------+\n",
       "| TrackId | Milliseconds |\n",
       "+---------+--------------+\n",
       "|    1    |    343719    |\n",
       "|    2    |    342562    |\n",
       "|    5    |    375418    |\n",
       "|    15   |    331180    |\n",
       "|    17   |    366654    |\n",
       "+---------+--------------+"
      ]
     },
     "execution_count": 40,
     "metadata": {},
     "output_type": "execute_result"
    }
   ],
   "source": [
    "%%sql\n",
    "SELECT TrackId, Milliseconds\n",
    "  FROM tracks\n",
    "  WHERE Milliseconds > 300000\n",
    "  LIMIT 5"
   ]
  },
  {
   "cell_type": "markdown",
   "id": "1b85f2fe",
   "metadata": {},
   "source": [
    "SQL uses the following relational operators: `>`, `>=`, `<`, `<=`, `=` (equality), `!=` or `<>` (both inequality).  \n",
    "Let's find customers from Prague:"
   ]
  },
  {
   "cell_type": "code",
   "execution_count": 12,
   "id": "efc75118",
   "metadata": {},
   "outputs": [
    {
     "data": {
      "text/html": [
       "<span style=\"None\">Running query in &#x27;sqlite:///chinook.db&#x27;</span>"
      ],
      "text/plain": [
       "Running query in 'sqlite:///chinook.db'"
      ]
     },
     "metadata": {},
     "output_type": "display_data"
    },
    {
     "data": {
      "text/html": [
       "<table>\n",
       "    <thead>\n",
       "        <tr>\n",
       "            <th>FirstName</th>\n",
       "            <th>LastName</th>\n",
       "            <th>City</th>\n",
       "        </tr>\n",
       "    </thead>\n",
       "    <tbody>\n",
       "        <tr>\n",
       "            <td>František</td>\n",
       "            <td>Wichterlová</td>\n",
       "            <td>Prague</td>\n",
       "        </tr>\n",
       "        <tr>\n",
       "            <td>Helena</td>\n",
       "            <td>Holý</td>\n",
       "            <td>Prague</td>\n",
       "        </tr>\n",
       "    </tbody>\n",
       "</table>"
      ],
      "text/plain": [
       "+-----------+-------------+--------+\n",
       "| FirstName |   LastName  |  City  |\n",
       "+-----------+-------------+--------+\n",
       "| František | Wichterlová | Prague |\n",
       "|   Helena  |     Holý    | Prague |\n",
       "+-----------+-------------+--------+"
      ]
     },
     "execution_count": 12,
     "metadata": {},
     "output_type": "execute_result"
    }
   ],
   "source": [
    "%%sql\n",
    "SELECT FirstName, LastName, City \n",
    "  FROM customers\n",
    "  WHERE City = 'Prague'"
   ]
  },
  {
   "cell_type": "markdown",
   "id": "1d1f2ec0",
   "metadata": {},
   "source": [
    "#### `OR`, `AND`, `NOT` - Logical operators"
   ]
  },
  {
   "cell_type": "markdown",
   "id": "7fa6a6db",
   "metadata": {},
   "source": [
    "Understand the following examples of `OR`, `AND`, `NOT`:"
   ]
  },
  {
   "cell_type": "code",
   "execution_count": 41,
   "id": "a5fa2622",
   "metadata": {},
   "outputs": [
    {
     "data": {
      "text/html": [
       "<span style=\"None\">Running query in &#x27;sqlite:///chinook.db&#x27;</span>"
      ],
      "text/plain": [
       "Running query in 'sqlite:///chinook.db'"
      ]
     },
     "metadata": {},
     "output_type": "display_data"
    },
    {
     "data": {
      "text/html": [
       "<table>\n",
       "    <thead>\n",
       "        <tr>\n",
       "            <th>FirstName</th>\n",
       "            <th>Country</th>\n",
       "        </tr>\n",
       "    </thead>\n",
       "    <tbody>\n",
       "        <tr>\n",
       "            <td>Leonie</td>\n",
       "            <td>Germany</td>\n",
       "        </tr>\n",
       "        <tr>\n",
       "            <td>Hannah</td>\n",
       "            <td>Germany</td>\n",
       "        </tr>\n",
       "        <tr>\n",
       "            <td>Fynn</td>\n",
       "            <td>Germany</td>\n",
       "        </tr>\n",
       "        <tr>\n",
       "            <td>Niklas</td>\n",
       "            <td>Germany</td>\n",
       "        </tr>\n",
       "        <tr>\n",
       "            <td>Johannes</td>\n",
       "            <td>Netherlands</td>\n",
       "        </tr>\n",
       "    </tbody>\n",
       "</table>"
      ],
      "text/plain": [
       "+-----------+-------------+\n",
       "| FirstName |   Country   |\n",
       "+-----------+-------------+\n",
       "|   Leonie  |   Germany   |\n",
       "|   Hannah  |   Germany   |\n",
       "|    Fynn   |   Germany   |\n",
       "|   Niklas  |   Germany   |\n",
       "|  Johannes | Netherlands |\n",
       "+-----------+-------------+"
      ]
     },
     "execution_count": 41,
     "metadata": {},
     "output_type": "execute_result"
    }
   ],
   "source": [
    "%%sql\n",
    "SELECT FirstName, Country\n",
    "  FROM customers \n",
    "  WHERE Country = \"Netherlands\" OR Country = \"Germany\"\n",
    "  LIMIT 5"
   ]
  },
  {
   "cell_type": "code",
   "execution_count": 42,
   "id": "5264a3b8",
   "metadata": {},
   "outputs": [
    {
     "data": {
      "text/html": [
       "<span style=\"None\">Running query in &#x27;sqlite:///chinook.db&#x27;</span>"
      ],
      "text/plain": [
       "Running query in 'sqlite:///chinook.db'"
      ]
     },
     "metadata": {},
     "output_type": "display_data"
    },
    {
     "data": {
      "text/html": [
       "<table>\n",
       "    <thead>\n",
       "        <tr>\n",
       "            <th>FirstName</th>\n",
       "            <th>Country</th>\n",
       "        </tr>\n",
       "    </thead>\n",
       "    <tbody>\n",
       "        <tr>\n",
       "            <td>Luís</td>\n",
       "            <td>Brazil</td>\n",
       "        </tr>\n",
       "        <tr>\n",
       "            <td>François</td>\n",
       "            <td>Canada</td>\n",
       "        </tr>\n",
       "        <tr>\n",
       "            <td>Bjørn</td>\n",
       "            <td>Norway</td>\n",
       "        </tr>\n",
       "        <tr>\n",
       "            <td>František</td>\n",
       "            <td>Czech Republic</td>\n",
       "        </tr>\n",
       "        <tr>\n",
       "            <td>Helena</td>\n",
       "            <td>Czech Republic</td>\n",
       "        </tr>\n",
       "    </tbody>\n",
       "</table>"
      ],
      "text/plain": [
       "+-----------+----------------+\n",
       "| FirstName |    Country     |\n",
       "+-----------+----------------+\n",
       "|    Luís   |     Brazil     |\n",
       "|  François |     Canada     |\n",
       "|   Bjørn   |     Norway     |\n",
       "| František | Czech Republic |\n",
       "|   Helena  | Czech Republic |\n",
       "+-----------+----------------+"
      ]
     },
     "execution_count": 42,
     "metadata": {},
     "output_type": "execute_result"
    }
   ],
   "source": [
    "%%sql\n",
    "SELECT FirstName, Country\n",
    "  FROM customers \n",
    "  WHERE NOT( Country = \"Netherlands\" OR Country = \"Germany\" )\n",
    "  LIMIT 5"
   ]
  },
  {
   "cell_type": "code",
   "execution_count": 43,
   "id": "f120c9a7",
   "metadata": {},
   "outputs": [
    {
     "data": {
      "text/html": [
       "<span style=\"None\">Running query in &#x27;sqlite:///chinook.db&#x27;</span>"
      ],
      "text/plain": [
       "Running query in 'sqlite:///chinook.db'"
      ]
     },
     "metadata": {},
     "output_type": "display_data"
    },
    {
     "data": {
      "text/html": [
       "<table>\n",
       "    <thead>\n",
       "        <tr>\n",
       "            <th>InvoiceLineId</th>\n",
       "            <th>InvoiceId</th>\n",
       "            <th>TrackId</th>\n",
       "            <th>UnitPrice</th>\n",
       "            <th>Quantity</th>\n",
       "        </tr>\n",
       "    </thead>\n",
       "    <tbody>\n",
       "        <tr>\n",
       "            <td>143</td>\n",
       "            <td>26</td>\n",
       "            <td>858</td>\n",
       "            <td>0.99</td>\n",
       "            <td>1</td>\n",
       "        </tr>\n",
       "        <tr>\n",
       "            <td>144</td>\n",
       "            <td>26</td>\n",
       "            <td>867</td>\n",
       "            <td>0.99</td>\n",
       "            <td>1</td>\n",
       "        </tr>\n",
       "        <tr>\n",
       "            <td>145</td>\n",
       "            <td>26</td>\n",
       "            <td>876</td>\n",
       "            <td>0.99</td>\n",
       "            <td>1</td>\n",
       "        </tr>\n",
       "        <tr>\n",
       "            <td>146</td>\n",
       "            <td>26</td>\n",
       "            <td>885</td>\n",
       "            <td>0.99</td>\n",
       "            <td>1</td>\n",
       "        </tr>\n",
       "        <tr>\n",
       "            <td>147</td>\n",
       "            <td>26</td>\n",
       "            <td>894</td>\n",
       "            <td>0.99</td>\n",
       "            <td>1</td>\n",
       "        </tr>\n",
       "        <tr>\n",
       "            <td>148</td>\n",
       "            <td>26</td>\n",
       "            <td>903</td>\n",
       "            <td>0.99</td>\n",
       "            <td>1</td>\n",
       "        </tr>\n",
       "        <tr>\n",
       "            <td>149</td>\n",
       "            <td>26</td>\n",
       "            <td>912</td>\n",
       "            <td>0.99</td>\n",
       "            <td>1</td>\n",
       "        </tr>\n",
       "    </tbody>\n",
       "</table>"
      ],
      "text/plain": [
       "+---------------+-----------+---------+-----------+----------+\n",
       "| InvoiceLineId | InvoiceId | TrackId | UnitPrice | Quantity |\n",
       "+---------------+-----------+---------+-----------+----------+\n",
       "|      143      |     26    |   858   |    0.99   |    1     |\n",
       "|      144      |     26    |   867   |    0.99   |    1     |\n",
       "|      145      |     26    |   876   |    0.99   |    1     |\n",
       "|      146      |     26    |   885   |    0.99   |    1     |\n",
       "|      147      |     26    |   894   |    0.99   |    1     |\n",
       "|      148      |     26    |   903   |    0.99   |    1     |\n",
       "|      149      |     26    |   912   |    0.99   |    1     |\n",
       "+---------------+-----------+---------+-----------+----------+"
      ]
     },
     "execution_count": 43,
     "metadata": {},
     "output_type": "execute_result"
    }
   ],
   "source": [
    "%%sql\n",
    "SELECT *\n",
    "  FROM invoice_items\n",
    "  WHERE InvoiceId = 26 AND TrackId > 850"
   ]
  },
  {
   "cell_type": "markdown",
   "id": "a9986e0d",
   "metadata": {},
   "source": [
    "#### `IS NULL` - Value is missing"
   ]
  },
  {
   "cell_type": "markdown",
   "id": "617f66cd",
   "metadata": {},
   "source": [
    "The following statement attempts to find tracks whose composers are NULL: `IS NULL`.  \n",
    "\n",
    "To find the tracks whose composers are not `NULL`, use: `IS NOT NULL`."
   ]
  },
  {
   "cell_type": "code",
   "execution_count": 44,
   "id": "6fab4a44",
   "metadata": {},
   "outputs": [
    {
     "data": {
      "text/html": [
       "<span style=\"None\">Running query in &#x27;sqlite:///chinook.db&#x27;</span>"
      ],
      "text/plain": [
       "Running query in 'sqlite:///chinook.db'"
      ]
     },
     "metadata": {},
     "output_type": "display_data"
    },
    {
     "data": {
      "text/html": [
       "<table>\n",
       "    <thead>\n",
       "        <tr>\n",
       "            <th>Name</th>\n",
       "            <th>Composer</th>\n",
       "        </tr>\n",
       "    </thead>\n",
       "    <tbody>\n",
       "        <tr>\n",
       "            <td>Balls to the Wall</td>\n",
       "            <td>None</td>\n",
       "        </tr>\n",
       "        <tr>\n",
       "            <td>Desafinado</td>\n",
       "            <td>None</td>\n",
       "        </tr>\n",
       "        <tr>\n",
       "            <td>Garota De Ipanema</td>\n",
       "            <td>None</td>\n",
       "        </tr>\n",
       "        <tr>\n",
       "            <td>Samba De Uma Nota Só (One Note Samba)</td>\n",
       "            <td>None</td>\n",
       "        </tr>\n",
       "        <tr>\n",
       "            <td>Por Causa De Você</td>\n",
       "            <td>None</td>\n",
       "        </tr>\n",
       "    </tbody>\n",
       "</table>"
      ],
      "text/plain": [
       "+---------------------------------------+----------+\n",
       "|                  Name                 | Composer |\n",
       "+---------------------------------------+----------+\n",
       "|           Balls to the Wall           |   None   |\n",
       "|               Desafinado              |   None   |\n",
       "|           Garota De Ipanema           |   None   |\n",
       "| Samba De Uma Nota Só (One Note Samba) |   None   |\n",
       "|           Por Causa De Você           |   None   |\n",
       "+---------------------------------------+----------+"
      ]
     },
     "execution_count": 44,
     "metadata": {},
     "output_type": "execute_result"
    }
   ],
   "source": [
    "%%sql\n",
    "SELECT Name, Composer\n",
    "  FROM tracks\n",
    "  WHERE Composer IS NULL\n",
    "  LIMIT 5"
   ]
  },
  {
   "cell_type": "markdown",
   "id": "567c2389",
   "metadata": {},
   "source": [
    "#### `IN` - Set membership (for categorical variables)"
   ]
  },
  {
   "cell_type": "markdown",
   "id": "da6ebf96",
   "metadata": {},
   "source": [
    "Compare the following two notations to test whether a value belongs to a set.  \n",
    "The `OR` notation works only with a fixed set of values and does not scale well:"
   ]
  },
  {
   "cell_type": "code",
   "execution_count": 45,
   "id": "ab1fa988",
   "metadata": {},
   "outputs": [
    {
     "data": {
      "text/html": [
       "<span style=\"None\">Running query in &#x27;sqlite:///chinook.db&#x27;</span>"
      ],
      "text/plain": [
       "Running query in 'sqlite:///chinook.db'"
      ]
     },
     "metadata": {},
     "output_type": "display_data"
    },
    {
     "data": {
      "text/html": [
       "<table>\n",
       "    <thead>\n",
       "        <tr>\n",
       "            <th>CustomerId</th>\n",
       "            <th>FirstName</th>\n",
       "            <th>LastName</th>\n",
       "            <th>Company</th>\n",
       "            <th>Address</th>\n",
       "            <th>City</th>\n",
       "            <th>State</th>\n",
       "            <th>Country</th>\n",
       "            <th>PostalCode</th>\n",
       "            <th>Phone</th>\n",
       "            <th>Fax</th>\n",
       "            <th>Email</th>\n",
       "            <th>SupportRepId</th>\n",
       "        </tr>\n",
       "    </thead>\n",
       "    <tbody>\n",
       "        <tr>\n",
       "            <td>1</td>\n",
       "            <td>Luís</td>\n",
       "            <td>Gonçalves</td>\n",
       "            <td>Embraer - Empresa Brasileira de Aeronáutica S.A.</td>\n",
       "            <td>Av. Brigadeiro Faria Lima, 2170</td>\n",
       "            <td>São José dos Campos</td>\n",
       "            <td>SP</td>\n",
       "            <td>Brazil</td>\n",
       "            <td>12227-000</td>\n",
       "            <td>+55 (12) 3923-5555</td>\n",
       "            <td>+55 (12) 3923-5566</td>\n",
       "            <td>luisg@embraer.com.br</td>\n",
       "            <td>3</td>\n",
       "        </tr>\n",
       "        <tr>\n",
       "            <td>10</td>\n",
       "            <td>Eduardo</td>\n",
       "            <td>Martins</td>\n",
       "            <td>Woodstock Discos</td>\n",
       "            <td>Rua Dr. Falcão Filho, 155</td>\n",
       "            <td>São Paulo</td>\n",
       "            <td>SP</td>\n",
       "            <td>Brazil</td>\n",
       "            <td>01007-010</td>\n",
       "            <td>+55 (11) 3033-5446</td>\n",
       "            <td>+55 (11) 3033-4564</td>\n",
       "            <td>eduardo@woodstock.com.br</td>\n",
       "            <td>4</td>\n",
       "        </tr>\n",
       "        <tr>\n",
       "            <td>11</td>\n",
       "            <td>Alexandre</td>\n",
       "            <td>Rocha</td>\n",
       "            <td>Banco do Brasil S.A.</td>\n",
       "            <td>Av. Paulista, 2022</td>\n",
       "            <td>São Paulo</td>\n",
       "            <td>SP</td>\n",
       "            <td>Brazil</td>\n",
       "            <td>01310-200</td>\n",
       "            <td>+55 (11) 3055-3278</td>\n",
       "            <td>+55 (11) 3055-8131</td>\n",
       "            <td>alero@uol.com.br</td>\n",
       "            <td>5</td>\n",
       "        </tr>\n",
       "        <tr>\n",
       "            <td>12</td>\n",
       "            <td>Roberto</td>\n",
       "            <td>Almeida</td>\n",
       "            <td>Riotur</td>\n",
       "            <td>Praça Pio X, 119</td>\n",
       "            <td>Rio de Janeiro</td>\n",
       "            <td>RJ</td>\n",
       "            <td>Brazil</td>\n",
       "            <td>20040-020</td>\n",
       "            <td>+55 (21) 2271-7000</td>\n",
       "            <td>+55 (21) 2271-7070</td>\n",
       "            <td>roberto.almeida@riotur.gov.br</td>\n",
       "            <td>3</td>\n",
       "        </tr>\n",
       "        <tr>\n",
       "            <td>13</td>\n",
       "            <td>Fernanda</td>\n",
       "            <td>Ramos</td>\n",
       "            <td>None</td>\n",
       "            <td>Qe 7 Bloco G</td>\n",
       "            <td>Brasília</td>\n",
       "            <td>DF</td>\n",
       "            <td>Brazil</td>\n",
       "            <td>71020-677</td>\n",
       "            <td>+55 (61) 3363-5547</td>\n",
       "            <td>+55 (61) 3363-7855</td>\n",
       "            <td>fernadaramos4@uol.com.br</td>\n",
       "            <td>4</td>\n",
       "        </tr>\n",
       "        <tr>\n",
       "            <td>44</td>\n",
       "            <td>Terhi</td>\n",
       "            <td>Hämäläinen</td>\n",
       "            <td>None</td>\n",
       "            <td>Porthaninkatu 9</td>\n",
       "            <td>Helsinki</td>\n",
       "            <td>None</td>\n",
       "            <td>Finland</td>\n",
       "            <td>00530</td>\n",
       "            <td>+358 09 870 2000</td>\n",
       "            <td>None</td>\n",
       "            <td>terhi.hamalainen@apple.fi</td>\n",
       "            <td>3</td>\n",
       "        </tr>\n",
       "        <tr>\n",
       "            <td>49</td>\n",
       "            <td>Stanisław</td>\n",
       "            <td>Wójcik</td>\n",
       "            <td>None</td>\n",
       "            <td>Ordynacka 10</td>\n",
       "            <td>Warsaw</td>\n",
       "            <td>None</td>\n",
       "            <td>Poland</td>\n",
       "            <td>00-358</td>\n",
       "            <td>+48 22 828 37 39</td>\n",
       "            <td>None</td>\n",
       "            <td>stanisław.wójcik@wp.pl</td>\n",
       "            <td>4</td>\n",
       "        </tr>\n",
       "        <tr>\n",
       "            <td>50</td>\n",
       "            <td>Enrique</td>\n",
       "            <td>Muñoz</td>\n",
       "            <td>None</td>\n",
       "            <td>C/ San Bernardo 85</td>\n",
       "            <td>Madrid</td>\n",
       "            <td>None</td>\n",
       "            <td>Spain</td>\n",
       "            <td>28015</td>\n",
       "            <td>+34 914 454 454</td>\n",
       "            <td>None</td>\n",
       "            <td>enrique_munoz@yahoo.es</td>\n",
       "            <td>5</td>\n",
       "        </tr>\n",
       "    </tbody>\n",
       "</table>"
      ],
      "text/plain": [
       "+------------+-----------+------------+--------------------------------------------------+---------------------------------+---------------------+-------+---------+------------+--------------------+--------------------+-------------------------------+--------------+\n",
       "| CustomerId | FirstName |  LastName  |                     Company                      |             Address             |         City        | State | Country | PostalCode |       Phone        |        Fax         |             Email             | SupportRepId |\n",
       "+------------+-----------+------------+--------------------------------------------------+---------------------------------+---------------------+-------+---------+------------+--------------------+--------------------+-------------------------------+--------------+\n",
       "|     1      |    Luís   | Gonçalves  | Embraer - Empresa Brasileira de Aeronáutica S.A. | Av. Brigadeiro Faria Lima, 2170 | São José dos Campos |   SP  |  Brazil | 12227-000  | +55 (12) 3923-5555 | +55 (12) 3923-5566 |      luisg@embraer.com.br     |      3       |\n",
       "|     10     |  Eduardo  |  Martins   |                 Woodstock Discos                 |    Rua Dr. Falcão Filho, 155    |      São Paulo      |   SP  |  Brazil | 01007-010  | +55 (11) 3033-5446 | +55 (11) 3033-4564 |    eduardo@woodstock.com.br   |      4       |\n",
       "|     11     | Alexandre |   Rocha    |               Banco do Brasil S.A.               |        Av. Paulista, 2022       |      São Paulo      |   SP  |  Brazil | 01310-200  | +55 (11) 3055-3278 | +55 (11) 3055-8131 |        alero@uol.com.br       |      5       |\n",
       "|     12     |  Roberto  |  Almeida   |                      Riotur                      |         Praça Pio X, 119        |    Rio de Janeiro   |   RJ  |  Brazil | 20040-020  | +55 (21) 2271-7000 | +55 (21) 2271-7070 | roberto.almeida@riotur.gov.br |      3       |\n",
       "|     13     |  Fernanda |   Ramos    |                       None                       |           Qe 7 Bloco G          |       Brasília      |   DF  |  Brazil | 71020-677  | +55 (61) 3363-5547 | +55 (61) 3363-7855 |    fernadaramos4@uol.com.br   |      4       |\n",
       "|     44     |   Terhi   | Hämäläinen |                       None                       |         Porthaninkatu 9         |       Helsinki      |  None | Finland |   00530    |  +358 09 870 2000  |        None        |   terhi.hamalainen@apple.fi   |      3       |\n",
       "|     49     | Stanisław |   Wójcik   |                       None                       |           Ordynacka 10          |        Warsaw       |  None |  Poland |   00-358   |  +48 22 828 37 39  |        None        |     stanisław.wójcik@wp.pl    |      4       |\n",
       "|     50     |  Enrique  |   Muñoz    |                       None                       |        C/ San Bernardo 85       |        Madrid       |  None |  Spain  |   28015    |  +34 914 454 454   |        None        |     enrique_munoz@yahoo.es    |      5       |\n",
       "+------------+-----------+------------+--------------------------------------------------+---------------------------------+---------------------+-------+---------+------------+--------------------+--------------------+-------------------------------+--------------+"
      ]
     },
     "execution_count": 45,
     "metadata": {},
     "output_type": "execute_result"
    }
   ],
   "source": [
    "%%sql\n",
    "SELECT *\n",
    "  FROM customers\n",
    "  WHERE country = \"Brazil\" OR country = \"Finland\" OR country = \"Poland\" OR country = \"Spain\""
   ]
  },
  {
   "cell_type": "markdown",
   "id": "8e5ad168",
   "metadata": {},
   "source": [
    "The `IN` notation might use a directly written list but also a result of a subquery (not shown here)."
   ]
  },
  {
   "cell_type": "code",
   "execution_count": 46,
   "id": "73dc656e",
   "metadata": {},
   "outputs": [
    {
     "data": {
      "text/html": [
       "<span style=\"None\">Running query in &#x27;sqlite:///chinook.db&#x27;</span>"
      ],
      "text/plain": [
       "Running query in 'sqlite:///chinook.db'"
      ]
     },
     "metadata": {},
     "output_type": "display_data"
    },
    {
     "data": {
      "text/html": [
       "<table>\n",
       "    <thead>\n",
       "        <tr>\n",
       "            <th>CustomerId</th>\n",
       "            <th>FirstName</th>\n",
       "            <th>LastName</th>\n",
       "            <th>Company</th>\n",
       "            <th>Address</th>\n",
       "            <th>City</th>\n",
       "            <th>State</th>\n",
       "            <th>Country</th>\n",
       "            <th>PostalCode</th>\n",
       "            <th>Phone</th>\n",
       "            <th>Fax</th>\n",
       "            <th>Email</th>\n",
       "            <th>SupportRepId</th>\n",
       "        </tr>\n",
       "    </thead>\n",
       "    <tbody>\n",
       "        <tr>\n",
       "            <td>1</td>\n",
       "            <td>Luís</td>\n",
       "            <td>Gonçalves</td>\n",
       "            <td>Embraer - Empresa Brasileira de Aeronáutica S.A.</td>\n",
       "            <td>Av. Brigadeiro Faria Lima, 2170</td>\n",
       "            <td>São José dos Campos</td>\n",
       "            <td>SP</td>\n",
       "            <td>Brazil</td>\n",
       "            <td>12227-000</td>\n",
       "            <td>+55 (12) 3923-5555</td>\n",
       "            <td>+55 (12) 3923-5566</td>\n",
       "            <td>luisg@embraer.com.br</td>\n",
       "            <td>3</td>\n",
       "        </tr>\n",
       "        <tr>\n",
       "            <td>10</td>\n",
       "            <td>Eduardo</td>\n",
       "            <td>Martins</td>\n",
       "            <td>Woodstock Discos</td>\n",
       "            <td>Rua Dr. Falcão Filho, 155</td>\n",
       "            <td>São Paulo</td>\n",
       "            <td>SP</td>\n",
       "            <td>Brazil</td>\n",
       "            <td>01007-010</td>\n",
       "            <td>+55 (11) 3033-5446</td>\n",
       "            <td>+55 (11) 3033-4564</td>\n",
       "            <td>eduardo@woodstock.com.br</td>\n",
       "            <td>4</td>\n",
       "        </tr>\n",
       "        <tr>\n",
       "            <td>11</td>\n",
       "            <td>Alexandre</td>\n",
       "            <td>Rocha</td>\n",
       "            <td>Banco do Brasil S.A.</td>\n",
       "            <td>Av. Paulista, 2022</td>\n",
       "            <td>São Paulo</td>\n",
       "            <td>SP</td>\n",
       "            <td>Brazil</td>\n",
       "            <td>01310-200</td>\n",
       "            <td>+55 (11) 3055-3278</td>\n",
       "            <td>+55 (11) 3055-8131</td>\n",
       "            <td>alero@uol.com.br</td>\n",
       "            <td>5</td>\n",
       "        </tr>\n",
       "        <tr>\n",
       "            <td>12</td>\n",
       "            <td>Roberto</td>\n",
       "            <td>Almeida</td>\n",
       "            <td>Riotur</td>\n",
       "            <td>Praça Pio X, 119</td>\n",
       "            <td>Rio de Janeiro</td>\n",
       "            <td>RJ</td>\n",
       "            <td>Brazil</td>\n",
       "            <td>20040-020</td>\n",
       "            <td>+55 (21) 2271-7000</td>\n",
       "            <td>+55 (21) 2271-7070</td>\n",
       "            <td>roberto.almeida@riotur.gov.br</td>\n",
       "            <td>3</td>\n",
       "        </tr>\n",
       "        <tr>\n",
       "            <td>13</td>\n",
       "            <td>Fernanda</td>\n",
       "            <td>Ramos</td>\n",
       "            <td>None</td>\n",
       "            <td>Qe 7 Bloco G</td>\n",
       "            <td>Brasília</td>\n",
       "            <td>DF</td>\n",
       "            <td>Brazil</td>\n",
       "            <td>71020-677</td>\n",
       "            <td>+55 (61) 3363-5547</td>\n",
       "            <td>+55 (61) 3363-7855</td>\n",
       "            <td>fernadaramos4@uol.com.br</td>\n",
       "            <td>4</td>\n",
       "        </tr>\n",
       "        <tr>\n",
       "            <td>44</td>\n",
       "            <td>Terhi</td>\n",
       "            <td>Hämäläinen</td>\n",
       "            <td>None</td>\n",
       "            <td>Porthaninkatu 9</td>\n",
       "            <td>Helsinki</td>\n",
       "            <td>None</td>\n",
       "            <td>Finland</td>\n",
       "            <td>00530</td>\n",
       "            <td>+358 09 870 2000</td>\n",
       "            <td>None</td>\n",
       "            <td>terhi.hamalainen@apple.fi</td>\n",
       "            <td>3</td>\n",
       "        </tr>\n",
       "        <tr>\n",
       "            <td>49</td>\n",
       "            <td>Stanisław</td>\n",
       "            <td>Wójcik</td>\n",
       "            <td>None</td>\n",
       "            <td>Ordynacka 10</td>\n",
       "            <td>Warsaw</td>\n",
       "            <td>None</td>\n",
       "            <td>Poland</td>\n",
       "            <td>00-358</td>\n",
       "            <td>+48 22 828 37 39</td>\n",
       "            <td>None</td>\n",
       "            <td>stanisław.wójcik@wp.pl</td>\n",
       "            <td>4</td>\n",
       "        </tr>\n",
       "        <tr>\n",
       "            <td>50</td>\n",
       "            <td>Enrique</td>\n",
       "            <td>Muñoz</td>\n",
       "            <td>None</td>\n",
       "            <td>C/ San Bernardo 85</td>\n",
       "            <td>Madrid</td>\n",
       "            <td>None</td>\n",
       "            <td>Spain</td>\n",
       "            <td>28015</td>\n",
       "            <td>+34 914 454 454</td>\n",
       "            <td>None</td>\n",
       "            <td>enrique_munoz@yahoo.es</td>\n",
       "            <td>5</td>\n",
       "        </tr>\n",
       "    </tbody>\n",
       "</table>"
      ],
      "text/plain": [
       "+------------+-----------+------------+--------------------------------------------------+---------------------------------+---------------------+-------+---------+------------+--------------------+--------------------+-------------------------------+--------------+\n",
       "| CustomerId | FirstName |  LastName  |                     Company                      |             Address             |         City        | State | Country | PostalCode |       Phone        |        Fax         |             Email             | SupportRepId |\n",
       "+------------+-----------+------------+--------------------------------------------------+---------------------------------+---------------------+-------+---------+------------+--------------------+--------------------+-------------------------------+--------------+\n",
       "|     1      |    Luís   | Gonçalves  | Embraer - Empresa Brasileira de Aeronáutica S.A. | Av. Brigadeiro Faria Lima, 2170 | São José dos Campos |   SP  |  Brazil | 12227-000  | +55 (12) 3923-5555 | +55 (12) 3923-5566 |      luisg@embraer.com.br     |      3       |\n",
       "|     10     |  Eduardo  |  Martins   |                 Woodstock Discos                 |    Rua Dr. Falcão Filho, 155    |      São Paulo      |   SP  |  Brazil | 01007-010  | +55 (11) 3033-5446 | +55 (11) 3033-4564 |    eduardo@woodstock.com.br   |      4       |\n",
       "|     11     | Alexandre |   Rocha    |               Banco do Brasil S.A.               |        Av. Paulista, 2022       |      São Paulo      |   SP  |  Brazil | 01310-200  | +55 (11) 3055-3278 | +55 (11) 3055-8131 |        alero@uol.com.br       |      5       |\n",
       "|     12     |  Roberto  |  Almeida   |                      Riotur                      |         Praça Pio X, 119        |    Rio de Janeiro   |   RJ  |  Brazil | 20040-020  | +55 (21) 2271-7000 | +55 (21) 2271-7070 | roberto.almeida@riotur.gov.br |      3       |\n",
       "|     13     |  Fernanda |   Ramos    |                       None                       |           Qe 7 Bloco G          |       Brasília      |   DF  |  Brazil | 71020-677  | +55 (61) 3363-5547 | +55 (61) 3363-7855 |    fernadaramos4@uol.com.br   |      4       |\n",
       "|     44     |   Terhi   | Hämäläinen |                       None                       |         Porthaninkatu 9         |       Helsinki      |  None | Finland |   00530    |  +358 09 870 2000  |        None        |   terhi.hamalainen@apple.fi   |      3       |\n",
       "|     49     | Stanisław |   Wójcik   |                       None                       |           Ordynacka 10          |        Warsaw       |  None |  Poland |   00-358   |  +48 22 828 37 39  |        None        |     stanisław.wójcik@wp.pl    |      4       |\n",
       "|     50     |  Enrique  |   Muñoz    |                       None                       |        C/ San Bernardo 85       |        Madrid       |  None |  Spain  |   28015    |  +34 914 454 454   |        None        |     enrique_munoz@yahoo.es    |      5       |\n",
       "+------------+-----------+------------+--------------------------------------------------+---------------------------------+---------------------+-------+---------+------------+--------------------+--------------------+-------------------------------+--------------+"
      ]
     },
     "execution_count": 46,
     "metadata": {},
     "output_type": "execute_result"
    }
   ],
   "source": [
    "%%sql\n",
    "SELECT *\n",
    "  FROM customers\n",
    "  WHERE country IN (\"Brazil\", \"Finland\", \"Poland\", \"Spain\")"
   ]
  },
  {
   "cell_type": "markdown",
   "id": "e7c9ec13",
   "metadata": {},
   "source": [
    "#### `BETWEEN` - Value in range (for numerical variables)"
   ]
  },
  {
   "cell_type": "markdown",
   "id": "f3acff50",
   "metadata": {},
   "source": [
    "Use `BETWEEN` (and `NOT BETWEEN`) to find whether a value is in (or out) a certain range.\n",
    "\n",
    "How to find invoices whose invoice dates are from January 1 2010 and January 31 2010?"
   ]
  },
  {
   "cell_type": "code",
   "execution_count": 47,
   "id": "9bcf1665",
   "metadata": {},
   "outputs": [
    {
     "data": {
      "text/html": [
       "<span style=\"None\">Running query in &#x27;sqlite:///chinook.db&#x27;</span>"
      ],
      "text/plain": [
       "Running query in 'sqlite:///chinook.db'"
      ]
     },
     "metadata": {},
     "output_type": "display_data"
    },
    {
     "data": {
      "text/html": [
       "<table>\n",
       "    <thead>\n",
       "        <tr>\n",
       "            <th>InvoiceId</th>\n",
       "            <th>BillingAddress</th>\n",
       "            <th>InvoiceDate</th>\n",
       "            <th>Total</th>\n",
       "        </tr>\n",
       "    </thead>\n",
       "    <tbody>\n",
       "        <tr>\n",
       "            <td>84</td>\n",
       "            <td>68, Rue Jouvence</td>\n",
       "            <td>2010-01-08 00:00:00</td>\n",
       "            <td>1.98</td>\n",
       "        </tr>\n",
       "        <tr>\n",
       "            <td>85</td>\n",
       "            <td>Erzsébet krt. 58.</td>\n",
       "            <td>2010-01-08 00:00:00</td>\n",
       "            <td>1.98</td>\n",
       "        </tr>\n",
       "        <tr>\n",
       "            <td>86</td>\n",
       "            <td>Via Degli Scipioni, 43</td>\n",
       "            <td>2010-01-09 00:00:00</td>\n",
       "            <td>3.96</td>\n",
       "        </tr>\n",
       "        <tr>\n",
       "            <td>87</td>\n",
       "            <td>Celsiusg. 9</td>\n",
       "            <td>2010-01-10 00:00:00</td>\n",
       "            <td>6.94</td>\n",
       "        </tr>\n",
       "        <tr>\n",
       "            <td>88</td>\n",
       "            <td>Calle Lira, 198</td>\n",
       "            <td>2010-01-13 00:00:00</td>\n",
       "            <td>17.91</td>\n",
       "        </tr>\n",
       "        <tr>\n",
       "            <td>89</td>\n",
       "            <td>Rotenturmstraße 4, 1010 Innere Stadt</td>\n",
       "            <td>2010-01-18 00:00:00</td>\n",
       "            <td>18.86</td>\n",
       "        </tr>\n",
       "        <tr>\n",
       "            <td>90</td>\n",
       "            <td>801 W 4th Street</td>\n",
       "            <td>2010-01-26 00:00:00</td>\n",
       "            <td>0.99</td>\n",
       "        </tr>\n",
       "    </tbody>\n",
       "</table>"
      ],
      "text/plain": [
       "+-----------+--------------------------------------+---------------------+-------+\n",
       "| InvoiceId |            BillingAddress            |     InvoiceDate     | Total |\n",
       "+-----------+--------------------------------------+---------------------+-------+\n",
       "|     84    |           68, Rue Jouvence           | 2010-01-08 00:00:00 |  1.98 |\n",
       "|     85    |          Erzsébet krt. 58.           | 2010-01-08 00:00:00 |  1.98 |\n",
       "|     86    |        Via Degli Scipioni, 43        | 2010-01-09 00:00:00 |  3.96 |\n",
       "|     87    |             Celsiusg. 9              | 2010-01-10 00:00:00 |  6.94 |\n",
       "|     88    |           Calle Lira, 198            | 2010-01-13 00:00:00 | 17.91 |\n",
       "|     89    | Rotenturmstraße 4, 1010 Innere Stadt | 2010-01-18 00:00:00 | 18.86 |\n",
       "|     90    |           801 W 4th Street           | 2010-01-26 00:00:00 |  0.99 |\n",
       "+-----------+--------------------------------------+---------------------+-------+"
      ]
     },
     "execution_count": 47,
     "metadata": {},
     "output_type": "execute_result"
    }
   ],
   "source": [
    "%%sql\n",
    "SELECT InvoiceId, BillingAddress, InvoiceDate, Total\n",
    "  FROM invoices\n",
    "  WHERE InvoiceDate BETWEEN '2010-01-01' AND '2010-01-31'\n",
    "  ORDER BY InvoiceDate"
   ]
  },
  {
   "cell_type": "markdown",
   "id": "e3470003",
   "metadata": {},
   "source": [
    "#### `LIKE` - Value matches a pattern (for text variables)"
   ]
  },
  {
   "cell_type": "markdown",
   "id": "27b9baeb",
   "metadata": {},
   "source": [
    "Sometimes, you don’t know exactly the complete keyword that you want to query. For example, you may know that your most favorite song contains the word `elevator` but you don’t know exactly the name."
   ]
  },
  {
   "cell_type": "markdown",
   "id": "3b34e490",
   "metadata": {},
   "source": [
    "1) To find the tracks whose names start with the `Wild` string, you use the percent sign `%` wildcard at the end of the pattern.\n",
    "\n",
    "2) To find the tracks whose names end with `Wild` word, you use `%` wildcard at the beginning of the pattern.\n",
    "\n",
    "3) To find the tracks whose names contain the `Wild` literal string, you use `%` wildcard at the beginning and end of the pattern:"
   ]
  },
  {
   "cell_type": "code",
   "execution_count": 48,
   "id": "43cc632b",
   "metadata": {},
   "outputs": [
    {
     "data": {
      "text/html": [
       "<span style=\"None\">Running query in &#x27;sqlite:///chinook.db&#x27;</span>"
      ],
      "text/plain": [
       "Running query in 'sqlite:///chinook.db'"
      ]
     },
     "metadata": {},
     "output_type": "display_data"
    },
    {
     "data": {
      "text/html": [
       "<table>\n",
       "    <thead>\n",
       "        <tr>\n",
       "            <th>TrackId</th>\n",
       "            <th>Name</th>\n",
       "        </tr>\n",
       "    </thead>\n",
       "    <tbody>\n",
       "        <tr>\n",
       "            <td>1245</td>\n",
       "            <td>Wildest Dreams</td>\n",
       "        </tr>\n",
       "        <tr>\n",
       "            <td>1973</td>\n",
       "            <td>Wild Side</td>\n",
       "        </tr>\n",
       "        <tr>\n",
       "            <td>2627</td>\n",
       "            <td>Wild Hearted Son</td>\n",
       "        </tr>\n",
       "        <tr>\n",
       "            <td>2633</td>\n",
       "            <td>Wild Flower</td>\n",
       "        </tr>\n",
       "        <tr>\n",
       "            <td>2944</td>\n",
       "            <td>Wild Honey</td>\n",
       "        </tr>\n",
       "    </tbody>\n",
       "</table>"
      ],
      "text/plain": [
       "+---------+------------------+\n",
       "| TrackId |       Name       |\n",
       "+---------+------------------+\n",
       "|   1245  |  Wildest Dreams  |\n",
       "|   1973  |    Wild Side     |\n",
       "|   2627  | Wild Hearted Son |\n",
       "|   2633  |   Wild Flower    |\n",
       "|   2944  |    Wild Honey    |\n",
       "+---------+------------------+"
      ]
     },
     "execution_count": 48,
     "metadata": {},
     "output_type": "execute_result"
    }
   ],
   "source": [
    "%%sql\n",
    "SELECT TrackId, Name\n",
    "  FROM tracks\n",
    "  WHERE Name LIKE 'Wild%'"
   ]
  },
  {
   "cell_type": "markdown",
   "id": "f212e5e5",
   "metadata": {},
   "source": [
    "Get track name by exact number of charchters and finish by `y`:"
   ]
  },
  {
   "cell_type": "code",
   "execution_count": 49,
   "id": "1ea8c8cd",
   "metadata": {},
   "outputs": [
    {
     "data": {
      "text/html": [
       "<span style=\"None\">Running query in &#x27;sqlite:///chinook.db&#x27;</span>"
      ],
      "text/plain": [
       "Running query in 'sqlite:///chinook.db'"
      ]
     },
     "metadata": {},
     "output_type": "display_data"
    },
    {
     "data": {
      "text/html": [
       "<table>\n",
       "    <thead>\n",
       "        <tr>\n",
       "            <th>TrackId</th>\n",
       "            <th>Name</th>\n",
       "        </tr>\n",
       "    </thead>\n",
       "    <tbody>\n",
       "        <tr>\n",
       "            <td>532</td>\n",
       "            <td>Baby</td>\n",
       "        </tr>\n",
       "        <tr>\n",
       "            <td>784</td>\n",
       "            <td>Lazy</td>\n",
       "        </tr>\n",
       "        <tr>\n",
       "            <td>843</td>\n",
       "            <td>Otay</td>\n",
       "        </tr>\n",
       "        <tr>\n",
       "            <td>948</td>\n",
       "            <td>Easy</td>\n",
       "        </tr>\n",
       "    </tbody>\n",
       "</table>"
      ],
      "text/plain": [
       "+---------+------+\n",
       "| TrackId | Name |\n",
       "+---------+------+\n",
       "|   532   | Baby |\n",
       "|   784   | Lazy |\n",
       "|   843   | Otay |\n",
       "|   948   | Easy |\n",
       "+---------+------+"
      ]
     },
     "execution_count": 49,
     "metadata": {},
     "output_type": "execute_result"
    }
   ],
   "source": [
    "%%sql\n",
    "SELECT Trackid, Name\n",
    "  FROM tracks\n",
    "  WHERE Name LIKE '___y'"
   ]
  }
 ],
 "metadata": {
  "kernelspec": {
   "display_name": "Python 3",
   "language": "python",
   "name": "python3"
  },
  "language_info": {
   "codemirror_mode": {
    "name": "ipython",
    "version": 3
   },
   "file_extension": ".py",
   "mimetype": "text/x-python",
   "name": "python",
   "nbconvert_exporter": "python",
   "pygments_lexer": "ipython3",
   "version": "3.12.8"
  }
 },
 "nbformat": 4,
 "nbformat_minor": 5
}
