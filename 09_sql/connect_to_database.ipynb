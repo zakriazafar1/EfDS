{
  "cells": [
    {
      "cell_type": "markdown",
      "metadata": {
        "id": "rICKfoocWDl-"
      },
      "source": [
        "# Downloading the example database and connecting to it"
      ]
    },
    {
      "cell_type": "markdown",
      "metadata": {},
      "source": [
        "## Packages needed for this project"
      ]
    },
    {
      "cell_type": "code",
      "execution_count": 7,
      "metadata": {},
      "outputs": [
        {
          "name": "stdout",
          "output_type": "stream",
          "text": [
            "Collecting jupysql\n",
            "  Downloading jupysql-0.11.1-py3-none-any.whl.metadata (5.9 kB)\n",
            "Collecting prettytable>=3.12.0 (from jupysql)\n",
            "  Downloading prettytable-3.16.0-py3-none-any.whl.metadata (33 kB)\n",
            "Collecting sqlalchemy (from jupysql)\n",
            "  Downloading sqlalchemy-2.0.40-cp312-cp312-macosx_11_0_arm64.whl.metadata (9.6 kB)\n",
            "Collecting sqlparse (from jupysql)\n",
            "  Downloading sqlparse-0.5.3-py3-none-any.whl.metadata (3.9 kB)\n",
            "Collecting ipython-genutils>=0.1.0 (from jupysql)\n",
            "  Downloading ipython_genutils-0.2.0-py2.py3-none-any.whl.metadata (755 bytes)\n",
            "Collecting jinja2 (from jupysql)\n",
            "  Downloading jinja2-3.1.6-py3-none-any.whl.metadata (2.9 kB)\n",
            "Collecting sqlglot>=11.3.7 (from jupysql)\n",
            "  Downloading sqlglot-26.12.1-py3-none-any.whl.metadata (20 kB)\n",
            "Collecting jupysql-plugin>=0.4.2 (from jupysql)\n",
            "  Downloading jupysql_plugin-0.4.5-py3-none-any.whl.metadata (7.8 kB)\n",
            "Collecting ploomber-core>=0.2.7 (from jupysql)\n",
            "  Downloading ploomber_core-0.2.26-py3-none-any.whl.metadata (527 bytes)\n",
            "Collecting pyyaml (from ploomber-core>=0.2.7->jupysql)\n",
            "  Downloading PyYAML-6.0.2-cp312-cp312-macosx_11_0_arm64.whl.metadata (2.1 kB)\n",
            "Collecting posthog (from ploomber-core>=0.2.7->jupysql)\n",
            "  Downloading posthog-3.23.0-py2.py3-none-any.whl.metadata (3.0 kB)\n",
            "Requirement already satisfied: wcwidth in /Users/zakriazafar/Library/Python/3.12/lib/python/site-packages (from prettytable>=3.12.0->jupysql) (0.2.13)\n",
            "Collecting MarkupSafe>=2.0 (from jinja2->jupysql)\n",
            "  Downloading MarkupSafe-3.0.2-cp312-cp312-macosx_11_0_arm64.whl.metadata (4.0 kB)\n",
            "Collecting typing-extensions>=4.6.0 (from sqlalchemy->jupysql)\n",
            "  Downloading typing_extensions-4.13.1-py3-none-any.whl.metadata (3.0 kB)\n",
            "Collecting requests<3.0,>=2.7 (from posthog->ploomber-core>=0.2.7->jupysql)\n",
            "  Downloading requests-2.32.3-py3-none-any.whl.metadata (4.6 kB)\n",
            "Requirement already satisfied: six>=1.5 in /Users/zakriazafar/Library/Python/3.12/lib/python/site-packages (from posthog->ploomber-core>=0.2.7->jupysql) (1.17.0)\n",
            "Collecting monotonic>=1.5 (from posthog->ploomber-core>=0.2.7->jupysql)\n",
            "  Downloading monotonic-1.6-py2.py3-none-any.whl.metadata (1.5 kB)\n",
            "Collecting backoff>=1.10.0 (from posthog->ploomber-core>=0.2.7->jupysql)\n",
            "  Downloading backoff-2.2.1-py3-none-any.whl.metadata (14 kB)\n",
            "Requirement already satisfied: python-dateutil>2.1 in /Users/zakriazafar/Library/Python/3.12/lib/python/site-packages (from posthog->ploomber-core>=0.2.7->jupysql) (2.9.0.post0)\n",
            "Collecting distro>=1.5.0 (from posthog->ploomber-core>=0.2.7->jupysql)\n",
            "  Downloading distro-1.9.0-py3-none-any.whl.metadata (6.8 kB)\n",
            "Collecting charset-normalizer<4,>=2 (from requests<3.0,>=2.7->posthog->ploomber-core>=0.2.7->jupysql)\n",
            "  Downloading charset_normalizer-3.4.1-cp312-cp312-macosx_10_13_universal2.whl.metadata (35 kB)\n",
            "Collecting idna<4,>=2.5 (from requests<3.0,>=2.7->posthog->ploomber-core>=0.2.7->jupysql)\n",
            "  Downloading idna-3.10-py3-none-any.whl.metadata (10 kB)\n",
            "Collecting urllib3<3,>=1.21.1 (from requests<3.0,>=2.7->posthog->ploomber-core>=0.2.7->jupysql)\n",
            "  Downloading urllib3-2.3.0-py3-none-any.whl.metadata (6.5 kB)\n",
            "Collecting certifi>=2017.4.17 (from requests<3.0,>=2.7->posthog->ploomber-core>=0.2.7->jupysql)\n",
            "  Downloading certifi-2025.1.31-py3-none-any.whl.metadata (2.5 kB)\n",
            "Downloading jupysql-0.11.1-py3-none-any.whl (95 kB)\n",
            "Downloading ipython_genutils-0.2.0-py2.py3-none-any.whl (26 kB)\n",
            "Downloading jupysql_plugin-0.4.5-py3-none-any.whl (192 kB)\n",
            "Downloading ploomber_core-0.2.26-py3-none-any.whl (22 kB)\n",
            "Downloading prettytable-3.16.0-py3-none-any.whl (33 kB)\n",
            "Downloading sqlglot-26.12.1-py3-none-any.whl (454 kB)\n",
            "Downloading jinja2-3.1.6-py3-none-any.whl (134 kB)\n",
            "Downloading sqlalchemy-2.0.40-cp312-cp312-macosx_11_0_arm64.whl (2.1 MB)\n",
            "\u001b[2K   \u001b[90m━━━━━━━━━━━━━━━━━━━━━━━━━━━━━━━━━━━━━━━━\u001b[0m \u001b[32m2.1/2.1 MB\u001b[0m \u001b[31m23.5 MB/s\u001b[0m eta \u001b[36m0:00:00\u001b[0m\n",
            "\u001b[?25hDownloading sqlparse-0.5.3-py3-none-any.whl (44 kB)\n",
            "Downloading MarkupSafe-3.0.2-cp312-cp312-macosx_11_0_arm64.whl (12 kB)\n",
            "Downloading typing_extensions-4.13.1-py3-none-any.whl (45 kB)\n",
            "Downloading posthog-3.23.0-py2.py3-none-any.whl (84 kB)\n",
            "Downloading PyYAML-6.0.2-cp312-cp312-macosx_11_0_arm64.whl (173 kB)\n",
            "Downloading backoff-2.2.1-py3-none-any.whl (15 kB)\n",
            "Downloading distro-1.9.0-py3-none-any.whl (20 kB)\n",
            "Downloading monotonic-1.6-py2.py3-none-any.whl (8.2 kB)\n",
            "Downloading requests-2.32.3-py3-none-any.whl (64 kB)\n",
            "Downloading certifi-2025.1.31-py3-none-any.whl (166 kB)\n",
            "Downloading charset_normalizer-3.4.1-cp312-cp312-macosx_10_13_universal2.whl (196 kB)\n",
            "Downloading idna-3.10-py3-none-any.whl (70 kB)\n",
            "Downloading urllib3-2.3.0-py3-none-any.whl (128 kB)\n",
            "Installing collected packages: monotonic, ipython-genutils, urllib3, typing-extensions, sqlparse, sqlglot, pyyaml, prettytable, MarkupSafe, idna, distro, charset-normalizer, certifi, backoff, sqlalchemy, requests, jinja2, posthog, ploomber-core, jupysql-plugin, jupysql\n",
            "\u001b[33m  WARNING: The script sqlformat is installed in '/Library/Frameworks/Python.framework/Versions/3.12/bin' which is not on PATH.\n",
            "  Consider adding this directory to PATH or, if you prefer to suppress this warning, use --no-warn-script-location.\u001b[0m\u001b[33m\n",
            "\u001b[0m\u001b[33m  WARNING: The script distro is installed in '/Library/Frameworks/Python.framework/Versions/3.12/bin' which is not on PATH.\n",
            "  Consider adding this directory to PATH or, if you prefer to suppress this warning, use --no-warn-script-location.\u001b[0m\u001b[33m\n",
            "\u001b[0m\u001b[33m  WARNING: The script normalizer is installed in '/Library/Frameworks/Python.framework/Versions/3.12/bin' which is not on PATH.\n",
            "  Consider adding this directory to PATH or, if you prefer to suppress this warning, use --no-warn-script-location.\u001b[0m\u001b[33m\n",
            "\u001b[0mSuccessfully installed MarkupSafe-3.0.2 backoff-2.2.1 certifi-2025.1.31 charset-normalizer-3.4.1 distro-1.9.0 idna-3.10 ipython-genutils-0.2.0 jinja2-3.1.6 jupysql-0.11.1 jupysql-plugin-0.4.5 monotonic-1.6 ploomber-core-0.2.26 posthog-3.23.0 prettytable-3.16.0 pyyaml-6.0.2 requests-2.32.3 sqlalchemy-2.0.40 sqlglot-26.12.1 sqlparse-0.5.3 typing-extensions-4.13.1 urllib3-2.3.0\n",
            "\n",
            "\u001b[1m[\u001b[0m\u001b[34;49mnotice\u001b[0m\u001b[1;39;49m]\u001b[0m\u001b[39;49m A new release of pip is available: \u001b[0m\u001b[31;49m24.3.1\u001b[0m\u001b[39;49m -> \u001b[0m\u001b[32;49m25.0.1\u001b[0m\n",
            "\u001b[1m[\u001b[0m\u001b[34;49mnotice\u001b[0m\u001b[1;39;49m]\u001b[0m\u001b[39;49m To update, run: \u001b[0m\u001b[32;49mpython3 -m pip install --upgrade pip\u001b[0m\n",
            "Note: you may need to restart the kernel to use updated packages.\n"
          ]
        }
      ],
      "source": [
        "pip install jupysql"
      ]
    },
    {
      "cell_type": "code",
      "execution_count": 5,
      "metadata": {},
      "outputs": [
        {
          "ename": "ModuleNotFoundError",
          "evalue": "No module named 'sqlalchemy'",
          "output_type": "error",
          "traceback": [
            "\u001b[0;31m---------------------------------------------------------------------------\u001b[0m",
            "\u001b[0;31mModuleNotFoundError\u001b[0m                       Traceback (most recent call last)",
            "Cell \u001b[0;32mIn[5], line 4\u001b[0m\n\u001b[1;32m      1\u001b[0m \u001b[38;5;28;01mimport\u001b[39;00m\u001b[38;5;250m \u001b[39m\u001b[38;5;21;01murllib\u001b[39;00m\u001b[38;5;21;01m.\u001b[39;00m\u001b[38;5;21;01mrequest\u001b[39;00m    \u001b[38;5;66;03m# needed for download of the example database\u001b[39;00m\n\u001b[1;32m      2\u001b[0m \u001b[38;5;28;01mimport\u001b[39;00m\u001b[38;5;250m \u001b[39m\u001b[38;5;21;01mshutil\u001b[39;00m            \u001b[38;5;66;03m# needed for unzipping of the example database\u001b[39;00m\n\u001b[0;32m----> 4\u001b[0m \u001b[38;5;28;01mimport\u001b[39;00m\u001b[38;5;250m \u001b[39m\u001b[38;5;21;01msqlalchemy\u001b[39;00m\u001b[38;5;250m \u001b[39m\u001b[38;5;28;01mas\u001b[39;00m\u001b[38;5;250m \u001b[39m\u001b[38;5;21;01msa\u001b[39;00m\n\u001b[1;32m      5\u001b[0m \u001b[38;5;28;01mimport\u001b[39;00m\u001b[38;5;250m \u001b[39m\u001b[38;5;21;01mpandas\u001b[39;00m\u001b[38;5;250m \u001b[39m\u001b[38;5;28;01mas\u001b[39;00m\u001b[38;5;250m \u001b[39m\u001b[38;5;21;01mpd\u001b[39;00m      \u001b[38;5;66;03m# for better table visualisation\u001b[39;00m\n",
            "\u001b[0;31mModuleNotFoundError\u001b[0m: No module named 'sqlalchemy'"
          ]
        }
      ],
      "source": [
        "import urllib.request    # needed for download of the example database\n",
        "import shutil            # needed for unzipping of the example database\n",
        "\n",
        "import sqlalchemy as sa\n",
        "import pandas as pd      # for better table visualisation"
      ]
    },
    {
      "attachments": {},
      "cell_type": "markdown",
      "metadata": {},
      "source": [
        "\n",
        "### Note on package problems\n",
        "\n",
        "Currently there exists an incompatibility between:\n",
        "- the latest version (>=2.0) of `sqlalchemy` package,\n",
        "- the package `ipython-sql` which provides the `%sql` magic keyword used in the examples below.  \n",
        "\n",
        "This incompatibility causes the `%sql` magic command to fail.  \n",
        "A current workaround (which probably will not be necessary in the future) is to install the `jupysql` package (which also downgrades `sqlalchemy` to an older version (1.x.y)).\n",
        "\n",
        "If you encounter problems with `%sql` try the following (and remember to restart your python kernel):\n",
        "\n",
        "```python\n",
        "!pip install jupysql\n",
        "```"
      ]
    },
    {
      "cell_type": "markdown",
      "metadata": {},
      "source": [
        "This is how you can check the versions of your packages:"
      ]
    },
    {
      "cell_type": "code",
      "execution_count": null,
      "metadata": {},
      "outputs": [],
      "source": [
        "pd.__version__ # Not guaranteed to be fully portable, but works for now."
      ]
    },
    {
      "cell_type": "code",
      "execution_count": null,
      "metadata": {},
      "outputs": [],
      "source": [
        "sa.__version__ # Not guaranteed to be fully portable, but works for now."
      ]
    },
    {
      "cell_type": "markdown",
      "metadata": {
        "id": "a1IVRGNfaRtY"
      },
      "source": [
        "## Downloading of the example database\n",
        "\n"
      ]
    },
    {
      "cell_type": "markdown",
      "metadata": {
        "id": "rQ-8RU7YWvoa"
      },
      "source": [
        "The SQLite tutorial example database is provided as a `zip` archive in `chinook.zip` file. Download it from the [SQLite tutorial web site](https://www.sqlitetutorial.net/sqlite-sample-database/) (for example using the following Python command):  "
      ]
    },
    {
      "cell_type": "code",
      "execution_count": null,
      "metadata": {
        "id": "HYx5ecCCV9at"
      },
      "outputs": [],
      "source": [
        "#urllib.request.urlretrieve(\"https://www.sqlitetutorial.net/wp-content/uploads/2018/03/chinook.zip\", \"chinook.zip\")"
      ]
    },
    {
      "cell_type": "markdown",
      "metadata": {
        "id": "Cl35eRier4tY"
      },
      "source": [
        "*Checkpoint:* The current directory should contain now `chinook.zip` file. Next, unpack the `zip` archive (for example using Python the following Python command):"
      ]
    },
    {
      "cell_type": "code",
      "execution_count": null,
      "metadata": {
        "id": "XO47sQFhr4QN"
      },
      "outputs": [],
      "source": [
        "shutil.unpack_archive(\"chinook.zip\")"
      ]
    },
    {
      "cell_type": "markdown",
      "metadata": {
        "id": "EL-8SqxSsb7c"
      },
      "source": [
        "*Checkpoint:* The current directory should contain now `chinook.db` file. This is the example database in SQLite format."
      ]
    },
    {
      "cell_type": "markdown",
      "metadata": {
        "id": "BFNVCOCqSFdV"
      },
      "source": [
        "## Connect to the database and execute an SQL query"
      ]
    },
    {
      "attachments": {},
      "cell_type": "markdown",
      "metadata": {
        "id": "9R-K87ray1Sv"
      },
      "source": [
        "The following text:\n",
        "\n",
        "```sql\n",
        "SELECT * FROM albums LIMIT 5\n",
        "```\n",
        "\n",
        "is one of the simplest possible queries in SQL. It requests to provide all (`*`) columns and `5` rows from the database table `albums`. \n",
        "\n",
        "In a Python notebook there are several ways to connect to a database and execute the query. These methods differ in type of the object used to return the query result. Study the following examples."
      ]
    },
    {
      "cell_type": "markdown",
      "metadata": {
        "id": "sEfvAqozSXz2"
      },
      "source": [
        "### Using SQLAlchemy engine object"
      ]
    },
    {
      "attachments": {},
      "cell_type": "markdown",
      "metadata": {
        "id": "Cl9AvfYxaEUM"
      },
      "source": [
        "Open the connection to the SQLite database in the `chinook.db` file by creating the database `engine` object as follows:"
      ]
    },
    {
      "cell_type": "code",
      "execution_count": null,
      "metadata": {},
      "outputs": [],
      "source": [
        "engine = sa.create_engine(\"sqlite:///chinook.db\")"
      ]
    },
    {
      "attachments": {},
      "cell_type": "markdown",
      "metadata": {
        "id": "9BMBlwcCq_BH"
      },
      "source": [
        "Using the following code you may send an SQL query `sql` to the database through the `engine`.  \n",
        "In the `arr` variable you will get the resulting table provided as a list of tuples."
      ]
    },
    {
      "cell_type": "code",
      "execution_count": null,
      "metadata": {},
      "outputs": [],
      "source": [
        "sql = sa.text(\"SELECT * FROM albums LIMIT 5\")\n",
        "with engine.connect() as conn:\n",
        "    arr = conn.execute(sql).fetchall()\n",
        "arr"
      ]
    },
    {
      "cell_type": "code",
      "execution_count": null,
      "metadata": {},
      "outputs": [],
      "source": [
        "sql = sa.text(\"SELECT * FROM albums LIMIT 5\")\n",
        "df = pd.read_sql(sql, con=engine)\n",
        "df"
      ]
    },
    {
      "cell_type": "markdown",
      "metadata": {
        "id": "-sHoQ3NXx2--"
      },
      "source": [
        "### Using Python magic connector"
      ]
    },
    {
      "cell_type": "markdown",
      "metadata": {
        "id": "1qOYal2pyLW-"
      },
      "source": [
        "When the Python script works with a single database only and extra Python language extensions are allowed the following notation might be used. The following code creates the database engine connector object in a hidden variable and allows for the magic `%sql` to be used in the code chunks."
      ]
    },
    {
      "cell_type": "code",
      "execution_count": null,
      "metadata": {
        "id": "uxnr5PHPw5cA"
      },
      "outputs": [],
      "source": [
        "%load_ext sql\n",
        "%sql sqlite:///chinook.db"
      ]
    },
    {
      "cell_type": "markdown",
      "metadata": {
        "id": "IYFtLDy1xW5g"
      },
      "source": [
        "Using the magic sql connector this is a short way to execute a directly typed single line SQL query and print the result:"
      ]
    },
    {
      "cell_type": "code",
      "execution_count": null,
      "metadata": {
        "id": "GY6Pi6j1zRFh"
      },
      "outputs": [],
      "source": [
        "%sql SELECT * FROM albums LIMIT 5"
      ]
    },
    {
      "cell_type": "markdown",
      "metadata": {
        "id": "M3GnpwvEVPcm"
      },
      "source": [
        "The following code may be used to convert the result to Panda's `DataFrame`:"
      ]
    },
    {
      "cell_type": "code",
      "execution_count": null,
      "metadata": {
        "id": "3rwT47svvS9e"
      },
      "outputs": [],
      "source": [
        "res = %sql SELECT * FROM albums LIMIT 5\n",
        "df = res.DataFrame()\n",
        "df"
      ]
    },
    {
      "cell_type": "markdown",
      "metadata": {
        "id": "qq9v_hmPAHa5"
      },
      "source": [
        "To print results of longer SQL commands which do not fit in a single line use double-percent notation `%%sql` as below:"
      ]
    },
    {
      "cell_type": "code",
      "execution_count": null,
      "metadata": {
        "id": "szQ147kf5Yb7"
      },
      "outputs": [],
      "source": [
        "%%sql\n",
        "SELECT trackid, composer, unitprice FROM tracks LIMIT 5"
      ]
    }
  ],
  "metadata": {
    "colab": {
      "collapsed_sections": [],
      "include_colab_link": true,
      "name": "connect_to_database.ipynb",
      "private_outputs": true,
      "provenance": []
    },
    "kernelspec": {
      "display_name": "Python 3",
      "name": "python3"
    },
    "language_info": {
      "codemirror_mode": {
        "name": "ipython",
        "version": 3
      },
      "file_extension": ".py",
      "mimetype": "text/x-python",
      "name": "python",
      "nbconvert_exporter": "python",
      "pygments_lexer": "ipython3",
      "version": "3.12.8"
    }
  },
  "nbformat": 4,
  "nbformat_minor": 0
}
