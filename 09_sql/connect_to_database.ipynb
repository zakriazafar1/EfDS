{
  "cells": [
    {
      "cell_type": "markdown",
      "metadata": {
        "id": "rICKfoocWDl-"
      },
      "source": [
        "# Downloading the example database and connecting to it"
      ]
    },
    {
      "cell_type": "markdown",
      "metadata": {},
      "source": [
        "## Packages needed for this project"
      ]
    },
    {
      "cell_type": "code",
      "execution_count": 29,
      "metadata": {},
      "outputs": [
        {
          "name": "stdout",
          "output_type": "stream",
          "text": [
            "Requirement already satisfied: jupysql in /Library/Frameworks/Python.framework/Versions/3.12/lib/python3.12/site-packages (0.11.1)\n",
            "Requirement already satisfied: prettytable>=3.12.0 in /Library/Frameworks/Python.framework/Versions/3.12/lib/python3.12/site-packages (from jupysql) (3.16.0)\n",
            "Requirement already satisfied: sqlalchemy in /Library/Frameworks/Python.framework/Versions/3.12/lib/python3.12/site-packages (from jupysql) (2.0.40)\n",
            "Requirement already satisfied: sqlparse in /Library/Frameworks/Python.framework/Versions/3.12/lib/python3.12/site-packages (from jupysql) (0.5.3)\n",
            "Requirement already satisfied: ipython-genutils>=0.1.0 in /Library/Frameworks/Python.framework/Versions/3.12/lib/python3.12/site-packages (from jupysql) (0.2.0)\n",
            "Requirement already satisfied: jinja2 in /Library/Frameworks/Python.framework/Versions/3.12/lib/python3.12/site-packages (from jupysql) (3.1.6)\n",
            "Requirement already satisfied: sqlglot>=11.3.7 in /Library/Frameworks/Python.framework/Versions/3.12/lib/python3.12/site-packages (from jupysql) (26.12.1)\n",
            "Requirement already satisfied: jupysql-plugin>=0.4.2 in /Library/Frameworks/Python.framework/Versions/3.12/lib/python3.12/site-packages (from jupysql) (0.4.5)\n",
            "Requirement already satisfied: ploomber-core>=0.2.7 in /Library/Frameworks/Python.framework/Versions/3.12/lib/python3.12/site-packages (from jupysql) (0.2.26)\n",
            "Requirement already satisfied: pyyaml in /Library/Frameworks/Python.framework/Versions/3.12/lib/python3.12/site-packages (from ploomber-core>=0.2.7->jupysql) (6.0.2)\n",
            "Requirement already satisfied: posthog in /Library/Frameworks/Python.framework/Versions/3.12/lib/python3.12/site-packages (from ploomber-core>=0.2.7->jupysql) (3.23.0)\n",
            "Requirement already satisfied: wcwidth in /Users/zakriazafar/Library/Python/3.12/lib/python/site-packages (from prettytable>=3.12.0->jupysql) (0.2.13)\n",
            "Requirement already satisfied: MarkupSafe>=2.0 in /Library/Frameworks/Python.framework/Versions/3.12/lib/python3.12/site-packages (from jinja2->jupysql) (3.0.2)\n",
            "Requirement already satisfied: typing-extensions>=4.6.0 in /Library/Frameworks/Python.framework/Versions/3.12/lib/python3.12/site-packages (from sqlalchemy->jupysql) (4.13.1)\n",
            "Requirement already satisfied: requests<3.0,>=2.7 in /Library/Frameworks/Python.framework/Versions/3.12/lib/python3.12/site-packages (from posthog->ploomber-core>=0.2.7->jupysql) (2.32.3)\n",
            "Requirement already satisfied: six>=1.5 in /Users/zakriazafar/Library/Python/3.12/lib/python/site-packages (from posthog->ploomber-core>=0.2.7->jupysql) (1.17.0)\n",
            "Requirement already satisfied: monotonic>=1.5 in /Library/Frameworks/Python.framework/Versions/3.12/lib/python3.12/site-packages (from posthog->ploomber-core>=0.2.7->jupysql) (1.6)\n",
            "Requirement already satisfied: backoff>=1.10.0 in /Library/Frameworks/Python.framework/Versions/3.12/lib/python3.12/site-packages (from posthog->ploomber-core>=0.2.7->jupysql) (2.2.1)\n",
            "Requirement already satisfied: python-dateutil>2.1 in /Users/zakriazafar/Library/Python/3.12/lib/python/site-packages (from posthog->ploomber-core>=0.2.7->jupysql) (2.9.0.post0)\n",
            "Requirement already satisfied: distro>=1.5.0 in /Library/Frameworks/Python.framework/Versions/3.12/lib/python3.12/site-packages (from posthog->ploomber-core>=0.2.7->jupysql) (1.9.0)\n",
            "Requirement already satisfied: charset-normalizer<4,>=2 in /Library/Frameworks/Python.framework/Versions/3.12/lib/python3.12/site-packages (from requests<3.0,>=2.7->posthog->ploomber-core>=0.2.7->jupysql) (3.4.1)\n",
            "Requirement already satisfied: idna<4,>=2.5 in /Library/Frameworks/Python.framework/Versions/3.12/lib/python3.12/site-packages (from requests<3.0,>=2.7->posthog->ploomber-core>=0.2.7->jupysql) (3.10)\n",
            "Requirement already satisfied: urllib3<3,>=1.21.1 in /Library/Frameworks/Python.framework/Versions/3.12/lib/python3.12/site-packages (from requests<3.0,>=2.7->posthog->ploomber-core>=0.2.7->jupysql) (2.3.0)\n",
            "Requirement already satisfied: certifi>=2017.4.17 in /Library/Frameworks/Python.framework/Versions/3.12/lib/python3.12/site-packages (from requests<3.0,>=2.7->posthog->ploomber-core>=0.2.7->jupysql) (2025.1.31)\n",
            "\n",
            "\u001b[1m[\u001b[0m\u001b[34;49mnotice\u001b[0m\u001b[1;39;49m]\u001b[0m\u001b[39;49m A new release of pip is available: \u001b[0m\u001b[31;49m24.3.1\u001b[0m\u001b[39;49m -> \u001b[0m\u001b[32;49m25.0.1\u001b[0m\n",
            "\u001b[1m[\u001b[0m\u001b[34;49mnotice\u001b[0m\u001b[1;39;49m]\u001b[0m\u001b[39;49m To update, run: \u001b[0m\u001b[32;49mpython3 -m pip install --upgrade pip\u001b[0m\n",
            "Note: you may need to restart the kernel to use updated packages.\n"
          ]
        }
      ],
      "source": [
        "pip install jupysql"
      ]
    },
    {
      "cell_type": "code",
      "execution_count": 30,
      "metadata": {},
      "outputs": [],
      "source": [
        "import urllib.request    # needed for download of the example database\n",
        "import shutil            # needed for unzipping of the example database\n",
        "\n",
        "import sqlalchemy as sa\n",
        "import pandas as pd      # for better table visualisation"
      ]
    },
    {
      "attachments": {},
      "cell_type": "markdown",
      "metadata": {},
      "source": [
        "\n",
        "### Note on package problems\n",
        "\n",
        "Currently there exists an incompatibility between:\n",
        "- the latest version (>=2.0) of `sqlalchemy` package,\n",
        "- the package `ipython-sql` which provides the `%sql` magic keyword used in the examples below.  \n",
        "\n",
        "This incompatibility causes the `%sql` magic command to fail.  \n",
        "A current workaround (which probably will not be necessary in the future) is to install the `jupysql` package (which also downgrades `sqlalchemy` to an older version (1.x.y)).\n",
        "\n",
        "If you encounter problems with `%sql` try the following (and remember to restart your python kernel):\n",
        "\n",
        "```python\n",
        "!pip install jupysql\n",
        "```"
      ]
    },
    {
      "cell_type": "markdown",
      "metadata": {},
      "source": [
        "This is how you can check the versions of your packages:"
      ]
    },
    {
      "cell_type": "code",
      "execution_count": 22,
      "metadata": {},
      "outputs": [
        {
          "data": {
            "text/plain": [
              "'2.2.3'"
            ]
          },
          "execution_count": 22,
          "metadata": {},
          "output_type": "execute_result"
        }
      ],
      "source": [
        "pd.__version__ # Not guaranteed to be fully portable, but works for now."
      ]
    },
    {
      "cell_type": "code",
      "execution_count": 23,
      "metadata": {},
      "outputs": [
        {
          "data": {
            "text/plain": [
              "'2.0.40'"
            ]
          },
          "execution_count": 23,
          "metadata": {},
          "output_type": "execute_result"
        }
      ],
      "source": [
        "sa.__version__ # Not guaranteed to be fully portable, but works for now."
      ]
    },
    {
      "cell_type": "markdown",
      "metadata": {
        "id": "rQ-8RU7YWvoa"
      },
      "source": [
        "The SQLite tutorial example database is provided as a `zip` archive in `chinook.zip` file. Download it from the [SQLite tutorial web site](https://www.sqlitetutorial.net/sqlite-sample-database/) (for example using the following Python command):  "
      ]
    },
    {
      "cell_type": "code",
      "execution_count": 6,
      "metadata": {
        "id": "HYx5ecCCV9at"
      },
      "outputs": [],
      "source": [
        "#urllib.request.urlretrieve(\"https://www.sqlitetutorial.net/wp-content/uploads/2018/03/chinook.zip\", \"chinook.zip\")"
      ]
    },
    {
      "cell_type": "markdown",
      "metadata": {
        "id": "Cl35eRier4tY"
      },
      "source": [
        "*Checkpoint:* The current directory should contain now `chinook.zip` file. Next, unpack the `zip` archive (for example using Python the following Python command):"
      ]
    },
    {
      "cell_type": "code",
      "execution_count": 24,
      "metadata": {
        "id": "XO47sQFhr4QN"
      },
      "outputs": [],
      "source": [
        "shutil.unpack_archive(\"chinook.zip\")"
      ]
    },
    {
      "cell_type": "markdown",
      "metadata": {
        "id": "EL-8SqxSsb7c"
      },
      "source": [
        "*Checkpoint:* The current directory should contain now `chinook.db` file. This is the example database in SQLite format."
      ]
    },
    {
      "cell_type": "markdown",
      "metadata": {
        "id": "BFNVCOCqSFdV"
      },
      "source": [
        "## Connect to the database and execute an SQL query"
      ]
    },
    {
      "attachments": {},
      "cell_type": "markdown",
      "metadata": {
        "id": "9R-K87ray1Sv"
      },
      "source": [
        "The following text:\n",
        "\n",
        "```sql\n",
        "SELECT * FROM albums LIMIT 5\n",
        "```\n",
        "\n",
        "is one of the simplest possible queries in SQL. It requests to provide all (`*`) columns and `5` rows from the database table `albums`. \n",
        "\n",
        "In a Python notebook there are several ways to connect to a database and execute the query. These methods differ in type of the object used to return the query result. Study the following examples."
      ]
    },
    {
      "cell_type": "markdown",
      "metadata": {
        "id": "sEfvAqozSXz2"
      },
      "source": [
        "### Using SQLAlchemy engine object"
      ]
    },
    {
      "attachments": {},
      "cell_type": "markdown",
      "metadata": {
        "id": "Cl9AvfYxaEUM"
      },
      "source": [
        "Open the connection to the SQLite database in the `chinook.db` file by creating the database `engine` object as follows:"
      ]
    },
    {
      "cell_type": "code",
      "execution_count": 25,
      "metadata": {},
      "outputs": [],
      "source": [
        "engine = sa.create_engine(\"sqlite:///chinook.db\")"
      ]
    },
    {
      "attachments": {},
      "cell_type": "markdown",
      "metadata": {
        "id": "9BMBlwcCq_BH"
      },
      "source": [
        "Using the following code you may send an SQL query `sql` to the database through the `engine`.  \n",
        "In the `arr` variable you will get the resulting table provided as a list of tuples."
      ]
    },
    {
      "cell_type": "code",
      "execution_count": 26,
      "metadata": {},
      "outputs": [
        {
          "data": {
            "text/plain": [
              "[(1, 'For Those About To Rock We Salute You', 1),\n",
              " (2, 'Balls to the Wall', 2),\n",
              " (3, 'Restless and Wild', 2),\n",
              " (4, 'Let There Be Rock', 1),\n",
              " (5, 'Big Ones', 3)]"
            ]
          },
          "execution_count": 26,
          "metadata": {},
          "output_type": "execute_result"
        }
      ],
      "source": [
        "sql = sa.text(\"SELECT * FROM albums LIMIT 5\")\n",
        "with engine.connect() as conn:\n",
        "    arr = conn.execute(sql).fetchall()\n",
        "arr"
      ]
    },
    {
      "cell_type": "code",
      "execution_count": 27,
      "metadata": {},
      "outputs": [
        {
          "data": {
            "text/html": [
              "<div>\n",
              "<style scoped>\n",
              "    .dataframe tbody tr th:only-of-type {\n",
              "        vertical-align: middle;\n",
              "    }\n",
              "\n",
              "    .dataframe tbody tr th {\n",
              "        vertical-align: top;\n",
              "    }\n",
              "\n",
              "    .dataframe thead th {\n",
              "        text-align: right;\n",
              "    }\n",
              "</style>\n",
              "<table border=\"1\" class=\"dataframe\">\n",
              "  <thead>\n",
              "    <tr style=\"text-align: right;\">\n",
              "      <th></th>\n",
              "      <th>AlbumId</th>\n",
              "      <th>Title</th>\n",
              "      <th>ArtistId</th>\n",
              "    </tr>\n",
              "  </thead>\n",
              "  <tbody>\n",
              "    <tr>\n",
              "      <th>0</th>\n",
              "      <td>1</td>\n",
              "      <td>For Those About To Rock We Salute You</td>\n",
              "      <td>1</td>\n",
              "    </tr>\n",
              "    <tr>\n",
              "      <th>1</th>\n",
              "      <td>2</td>\n",
              "      <td>Balls to the Wall</td>\n",
              "      <td>2</td>\n",
              "    </tr>\n",
              "    <tr>\n",
              "      <th>2</th>\n",
              "      <td>3</td>\n",
              "      <td>Restless and Wild</td>\n",
              "      <td>2</td>\n",
              "    </tr>\n",
              "    <tr>\n",
              "      <th>3</th>\n",
              "      <td>4</td>\n",
              "      <td>Let There Be Rock</td>\n",
              "      <td>1</td>\n",
              "    </tr>\n",
              "    <tr>\n",
              "      <th>4</th>\n",
              "      <td>5</td>\n",
              "      <td>Big Ones</td>\n",
              "      <td>3</td>\n",
              "    </tr>\n",
              "  </tbody>\n",
              "</table>\n",
              "</div>"
            ],
            "text/plain": [
              "   AlbumId                                  Title  ArtistId\n",
              "0        1  For Those About To Rock We Salute You         1\n",
              "1        2                      Balls to the Wall         2\n",
              "2        3                      Restless and Wild         2\n",
              "3        4                      Let There Be Rock         1\n",
              "4        5                               Big Ones         3"
            ]
          },
          "execution_count": 27,
          "metadata": {},
          "output_type": "execute_result"
        }
      ],
      "source": [
        "sql = sa.text(\"SELECT * FROM albums LIMIT 5\")\n",
        "df = pd.read_sql(sql, con=engine)\n",
        "df"
      ]
    },
    {
      "cell_type": "markdown",
      "metadata": {
        "id": "-sHoQ3NXx2--"
      },
      "source": [
        "### Using Python magic connector"
      ]
    },
    {
      "cell_type": "markdown",
      "metadata": {
        "id": "1qOYal2pyLW-"
      },
      "source": [
        "When the Python script works with a single database only and extra Python language extensions are allowed the following notation might be used. The following code creates the database engine connector object in a hidden variable and allows for the magic `%sql` to be used in the code chunks."
      ]
    },
    {
      "cell_type": "code",
      "execution_count": 17,
      "metadata": {
        "id": "uxnr5PHPw5cA"
      },
      "outputs": [
        {
          "data": {
            "text/html": [
              "<span style=\"None\">Connecting to &#x27;sqlite:///chinook.db&#x27;</span>"
            ],
            "text/plain": [
              "Connecting to 'sqlite:///chinook.db'"
            ]
          },
          "metadata": {},
          "output_type": "display_data"
        }
      ],
      "source": [
        "%load_ext sql\n",
        "%sql sqlite:///chinook.db"
      ]
    },
    {
      "cell_type": "markdown",
      "metadata": {
        "id": "IYFtLDy1xW5g"
      },
      "source": [
        "Using the magic sql connector this is a short way to execute a directly typed single line SQL query and print the result:"
      ]
    },
    {
      "cell_type": "code",
      "execution_count": 18,
      "metadata": {
        "id": "GY6Pi6j1zRFh"
      },
      "outputs": [
        {
          "data": {
            "text/html": [
              "<span style=\"None\">Running query in &#x27;sqlite:///chinook.db&#x27;</span>"
            ],
            "text/plain": [
              "Running query in 'sqlite:///chinook.db'"
            ]
          },
          "metadata": {},
          "output_type": "display_data"
        },
        {
          "data": {
            "text/html": [
              "<table>\n",
              "    <thead>\n",
              "        <tr>\n",
              "            <th>AlbumId</th>\n",
              "            <th>Title</th>\n",
              "            <th>ArtistId</th>\n",
              "        </tr>\n",
              "    </thead>\n",
              "    <tbody>\n",
              "        <tr>\n",
              "            <td>1</td>\n",
              "            <td>For Those About To Rock We Salute You</td>\n",
              "            <td>1</td>\n",
              "        </tr>\n",
              "        <tr>\n",
              "            <td>2</td>\n",
              "            <td>Balls to the Wall</td>\n",
              "            <td>2</td>\n",
              "        </tr>\n",
              "        <tr>\n",
              "            <td>3</td>\n",
              "            <td>Restless and Wild</td>\n",
              "            <td>2</td>\n",
              "        </tr>\n",
              "        <tr>\n",
              "            <td>4</td>\n",
              "            <td>Let There Be Rock</td>\n",
              "            <td>1</td>\n",
              "        </tr>\n",
              "        <tr>\n",
              "            <td>5</td>\n",
              "            <td>Big Ones</td>\n",
              "            <td>3</td>\n",
              "        </tr>\n",
              "    </tbody>\n",
              "</table>"
            ],
            "text/plain": [
              "+---------+---------------------------------------+----------+\n",
              "| AlbumId |                 Title                 | ArtistId |\n",
              "+---------+---------------------------------------+----------+\n",
              "|    1    | For Those About To Rock We Salute You |    1     |\n",
              "|    2    |           Balls to the Wall           |    2     |\n",
              "|    3    |           Restless and Wild           |    2     |\n",
              "|    4    |           Let There Be Rock           |    1     |\n",
              "|    5    |                Big Ones               |    3     |\n",
              "+---------+---------------------------------------+----------+"
            ]
          },
          "execution_count": 18,
          "metadata": {},
          "output_type": "execute_result"
        }
      ],
      "source": [
        "%sql SELECT * FROM albums LIMIT 5"
      ]
    },
    {
      "cell_type": "markdown",
      "metadata": {
        "id": "M3GnpwvEVPcm"
      },
      "source": [
        "The following code may be used to convert the result to Panda's `DataFrame`:"
      ]
    },
    {
      "cell_type": "code",
      "execution_count": 19,
      "metadata": {
        "id": "3rwT47svvS9e"
      },
      "outputs": [
        {
          "data": {
            "text/html": [
              "<span style=\"None\">Running query in &#x27;sqlite:///chinook.db&#x27;</span>"
            ],
            "text/plain": [
              "Running query in 'sqlite:///chinook.db'"
            ]
          },
          "metadata": {},
          "output_type": "display_data"
        },
        {
          "ename": "ModuleNotFoundError",
          "evalue": "No module named 'pandas'",
          "output_type": "error",
          "traceback": [
            "\u001b[0;31m---------------------------------------------------------------------------\u001b[0m",
            "\u001b[0;31mModuleNotFoundError\u001b[0m                       Traceback (most recent call last)",
            "Cell \u001b[0;32mIn[19], line 2\u001b[0m\n\u001b[1;32m      1\u001b[0m res \u001b[38;5;241m=\u001b[39m get_ipython()\u001b[38;5;241m.\u001b[39mrun_line_magic(\u001b[38;5;124m'\u001b[39m\u001b[38;5;124msql\u001b[39m\u001b[38;5;124m'\u001b[39m, \u001b[38;5;124m'\u001b[39m\u001b[38;5;124mSELECT * FROM albums LIMIT 5\u001b[39m\u001b[38;5;124m'\u001b[39m)\n\u001b[0;32m----> 2\u001b[0m df \u001b[38;5;241m=\u001b[39m \u001b[43mres\u001b[49m\u001b[38;5;241;43m.\u001b[39;49m\u001b[43mDataFrame\u001b[49m\u001b[43m(\u001b[49m\u001b[43m)\u001b[49m\n\u001b[1;32m      3\u001b[0m df\n",
            "File \u001b[0;32m/Library/Frameworks/Python.framework/Versions/3.12/lib/python3.12/site-packages/sql/run/resultset.py:250\u001b[0m, in \u001b[0;36mResultSet.DataFrame\u001b[0;34m(self)\u001b[0m\n\u001b[1;32m    248\u001b[0m \u001b[38;5;28;01mdef\u001b[39;00m\u001b[38;5;250m \u001b[39m\u001b[38;5;21mDataFrame\u001b[39m(\u001b[38;5;28mself\u001b[39m):\n\u001b[1;32m    249\u001b[0m \u001b[38;5;250m    \u001b[39m\u001b[38;5;124;03m\"\"\"Returns a Pandas DataFrame instance built from the result set.\"\"\"\u001b[39;00m\n\u001b[0;32m--> 250\u001b[0m     \u001b[38;5;28;01mimport\u001b[39;00m\u001b[38;5;250m \u001b[39m\u001b[38;5;21;01mpandas\u001b[39;00m\u001b[38;5;250m \u001b[39m\u001b[38;5;28;01mas\u001b[39;00m\u001b[38;5;250m \u001b[39m\u001b[38;5;21;01mpd\u001b[39;00m\n\u001b[1;32m    252\u001b[0m     \u001b[38;5;28;01mreturn\u001b[39;00m _convert_to_data_frame(\u001b[38;5;28mself\u001b[39m, \u001b[38;5;124m\"\u001b[39m\u001b[38;5;124mdf\u001b[39m\u001b[38;5;124m\"\u001b[39m, pd\u001b[38;5;241m.\u001b[39mDataFrame)\n",
            "\u001b[0;31mModuleNotFoundError\u001b[0m: No module named 'pandas'"
          ]
        }
      ],
      "source": [
        "res = %sql SELECT * FROM albums LIMIT 5\n",
        "df = res.DataFrame()\n",
        "df"
      ]
    },
    {
      "cell_type": "markdown",
      "metadata": {
        "id": "qq9v_hmPAHa5"
      },
      "source": [
        "To print results of longer SQL commands which do not fit in a single line use double-percent notation `%%sql` as below:"
      ]
    },
    {
      "cell_type": "code",
      "execution_count": 28,
      "metadata": {
        "id": "szQ147kf5Yb7"
      },
      "outputs": [
        {
          "data": {
            "text/html": [
              "<span style=\"None\">Running query in &#x27;sqlite:///chinook.db&#x27;</span>"
            ],
            "text/plain": [
              "Running query in 'sqlite:///chinook.db'"
            ]
          },
          "metadata": {},
          "output_type": "display_data"
        },
        {
          "data": {
            "text/html": [
              "<table>\n",
              "    <thead>\n",
              "        <tr>\n",
              "            <th>TrackId</th>\n",
              "            <th>Composer</th>\n",
              "            <th>UnitPrice</th>\n",
              "        </tr>\n",
              "    </thead>\n",
              "    <tbody>\n",
              "        <tr>\n",
              "            <td>1</td>\n",
              "            <td>Angus Young, Malcolm Young, Brian Johnson</td>\n",
              "            <td>0.99</td>\n",
              "        </tr>\n",
              "        <tr>\n",
              "            <td>2</td>\n",
              "            <td>None</td>\n",
              "            <td>0.99</td>\n",
              "        </tr>\n",
              "        <tr>\n",
              "            <td>3</td>\n",
              "            <td>F. Baltes, S. Kaufman, U. Dirkscneider & W. Hoffman</td>\n",
              "            <td>0.99</td>\n",
              "        </tr>\n",
              "        <tr>\n",
              "            <td>4</td>\n",
              "            <td>F. Baltes, R.A. Smith-Diesel, S. Kaufman, U. Dirkscneider & W. Hoffman</td>\n",
              "            <td>0.99</td>\n",
              "        </tr>\n",
              "        <tr>\n",
              "            <td>5</td>\n",
              "            <td>Deaffy & R.A. Smith-Diesel</td>\n",
              "            <td>0.99</td>\n",
              "        </tr>\n",
              "    </tbody>\n",
              "</table>"
            ],
            "text/plain": [
              "+---------+------------------------------------------------------------------------+-----------+\n",
              "| TrackId |                                Composer                                | UnitPrice |\n",
              "+---------+------------------------------------------------------------------------+-----------+\n",
              "|    1    |               Angus Young, Malcolm Young, Brian Johnson                |    0.99   |\n",
              "|    2    |                                  None                                  |    0.99   |\n",
              "|    3    |          F. Baltes, S. Kaufman, U. Dirkscneider & W. Hoffman           |    0.99   |\n",
              "|    4    | F. Baltes, R.A. Smith-Diesel, S. Kaufman, U. Dirkscneider & W. Hoffman |    0.99   |\n",
              "|    5    |                       Deaffy & R.A. Smith-Diesel                       |    0.99   |\n",
              "+---------+------------------------------------------------------------------------+-----------+"
            ]
          },
          "execution_count": 28,
          "metadata": {},
          "output_type": "execute_result"
        }
      ],
      "source": [
        "%%sql\n",
        "SELECT trackid, composer, unitprice FROM tracks LIMIT 5"
      ]
    }
  ],
  "metadata": {
    "colab": {
      "collapsed_sections": [],
      "include_colab_link": true,
      "name": "connect_to_database.ipynb",
      "private_outputs": true,
      "provenance": []
    },
    "kernelspec": {
      "display_name": "Python 3",
      "name": "python3"
    },
    "language_info": {
      "codemirror_mode": {
        "name": "ipython",
        "version": 3
      },
      "file_extension": ".py",
      "mimetype": "text/x-python",
      "name": "python",
      "nbconvert_exporter": "python",
      "pygments_lexer": "ipython3",
      "version": "3.12.8"
    }
  },
  "nbformat": 4,
  "nbformat_minor": 0
}
