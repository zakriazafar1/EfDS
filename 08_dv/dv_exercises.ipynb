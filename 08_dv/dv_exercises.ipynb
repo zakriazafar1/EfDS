{
 "cells": [
  {
   "cell_type": "markdown",
   "metadata": {
    "collapsed": false
   },
   "source": [
    "## Exercises : data visualisation\n",
    "\n",
    "In the previous session's exercises on `pandas` we used the *Natural gas consumption in the Netherlands* dataset [CBS Open data StatLine](https://opendata.cbs.nl/statline/portal.html?_la=en&_catalog=CBS).  We will continue with the same dataset here for visualisation. We repeat the solution for the last exercise to include the `term` and `date` in our dataframe:\n"
   ]
  },
  {
   "cell_type": "code",
   "execution_count": 2,
   "metadata": {
    "collapsed": false
   },
   "outputs": [
    {
     "data": {
      "text/plain": [
       "year                                               int64\n",
       "term                                              object\n",
       "idx                                                int64\n",
       "date                                      datetime64[ns]\n",
       "ID                                                 int64\n",
       "Periods                                           object\n",
       "TotalSupply_1                                      int64\n",
       "IndigenousProduction_2                             int64\n",
       "ProductionFromOtherSources_3                      object\n",
       "ImportsOfGaseousNaturalGasTotal_4                float64\n",
       "ImportsViaNorway_5                               float64\n",
       "ImportsViaGermany_6                              float64\n",
       "ImportsViaBelgium_7                              float64\n",
       "ImportsViaUnitedKingdom_8                        float64\n",
       "ImportsViaDenmark_9                              float64\n",
       "ImportsOfLiquefiedNaturalGasLng_10               float64\n",
       "ExportsOfGaseousNaturalGasTotal_11               float64\n",
       "ExportsToNorway_12                               float64\n",
       "ExportsToGermany_13                              float64\n",
       "ExportsToBelgium_14                              float64\n",
       "ExportsToUnitedKingdom_15                        float64\n",
       "ExportsToDenmark_16                              float64\n",
       "ExportsOfLiquefiedNaturalGasLng_17               float64\n",
       "Bunkers_18                                        object\n",
       "StockChange_19                                   float64\n",
       "TotalConsumption_20                               object\n",
       "TotalViaTheMainGrid_21                            object\n",
       "ElectricityPowerPlants_22                         object\n",
       "OtherConsumers_23                                 object\n",
       "ViaRegionalGrids_24                               object\n",
       "ConsumptionByProductionAndTransport_25            object\n",
       "ClosingStock_26                                   object\n",
       "ClosingStockGaseousGas_27                         object\n",
       "ClosingStockLiquefiedNaturalGas_28                object\n",
       "Flaring_29                                        object\n",
       "StorageCapacityTotal_30                          float64\n",
       "StorageCapacityGaseousGas_31                     float64\n",
       "StorageCapacityLiquefiedNaturalGas_32            float64\n",
       "dtype: object"
      ]
     },
     "execution_count": 2,
     "metadata": {},
     "output_type": "execute_result"
    }
   ],
   "source": [
    "import pandas as pd\n",
    "import seaborn as sb\n",
    "import matplotlib.pyplot as plt\n",
    "\n",
    "cbs = pd.read_csv(\"../07_pd/data/00372eng_UntypedDataSet_17032023_161051.csv\",sep=\";\")\n",
    "\n",
    "def to_ts(s):\n",
    "    \"\"\"\n",
    "    Apply the following timestamp format for each term {JJ,KW,MM}:\n",
    "\n",
    "    JJ : yyyyJJ00 => 31-12-yyyy\n",
    "    KW : yyyyKWdd => 01: 1-1-yyyy to 31-3-yyyy\n",
    "                     02: 1-4-yyyy to 30-6-yyyy\n",
    "                     03: 1-7-yyyy to 30-9-yyyy\n",
    "                     04: 1-10-yyyy to 31-12-yyyy\n",
    "    MM : yyyyMMdd => 1-xx-yyyy\n",
    "\n",
    "    :param s: {year,term,idx}\n",
    "    :return: Timestamp\n",
    "    \"\"\"\n",
    "\n",
    "    def last_day(ts):\n",
    "        \"\"\"\n",
    "        Given a timestamp find the last day of the month. The number of days in the month can be\n",
    "        calculated by subtracting next month from this month on the same day and the same year.\n",
    "\n",
    "        :param ts:\n",
    "        :return: Number of days in the month (int).\n",
    "        \"\"\"\n",
    "        return (ts.replace(year=ts.year + (ts.month == 12), month=(ts.month % 12) + 1) - ts).days\n",
    "\n",
    "    # _main_\n",
    "    year_, term, idx = s\n",
    "    match term:\n",
    "        case 'JJ':\n",
    "            day_, month_ = 31, 12\n",
    "            return pd.Timestamp(year=year_, month=month_, day=day_)\n",
    "        case 'KW':\n",
    "            day_, month_ = [(31,3),(30,6),(30,9),(31,12)][idx-1]\n",
    "            return pd.Timestamp(year=year_, month=month_, day=day_)\n",
    "        case 'MM':\n",
    "            day_, month_ = last_day(pd.Timestamp(year=year_, month=idx, day=1)), idx\n",
    "            return pd.Timestamp(year=year_, month=month_, day=day_)\n",
    "\n",
    "# _main_\n",
    "\n",
    "df0 = cbs[['Periods','TotalSupply_1']].copy()\n",
    "df = df0.Periods.str.split(r'(JJ|MM|KW)', regex=True, expand=True)  # expand=True forces the result into a DataFrame\n",
    "df = pd.DataFrame({'year': df[0].astype(int),                       # Create DataFrame {year,term,idx}\n",
    "                   'term': df[1],\n",
    "                   'idx': df[2].astype(int)})\n",
    "\n",
    "df['date'] = [to_ts(s) for i,s in df.iterrows()] # create the date variable\n",
    "ngc = pd.concat([df,cbs],axis=1)\n",
    "ngc.dtypes"
   ]
  },
  {
   "cell_type": "markdown",
   "metadata": {
    "collapsed": false
   },
   "source": [
    "# Reshape\n",
    "\n",
    "1) Reshape `ngc` into a long format with all import/export variables as `ie` category and their values as `value` variable. Include only `date` variable from the remainders.\n"
   ]
  },
  {
   "cell_type": "code",
   "execution_count": null,
   "metadata": {
    "collapsed": false
   },
   "outputs": [
    {
     "data": {
      "text/html": [
       "<div>\n",
       "<style scoped>\n",
       "    .dataframe tbody tr th:only-of-type {\n",
       "        vertical-align: middle;\n",
       "    }\n",
       "\n",
       "    .dataframe tbody tr th {\n",
       "        vertical-align: top;\n",
       "    }\n",
       "\n",
       "    .dataframe thead th {\n",
       "        text-align: right;\n",
       "    }\n",
       "</style>\n",
       "<table border=\"1\" class=\"dataframe\">\n",
       "  <thead>\n",
       "    <tr style=\"text-align: right;\">\n",
       "      <th></th>\n",
       "      <th>date</th>\n",
       "      <th>ie</th>\n",
       "      <th>value</th>\n",
       "    </tr>\n",
       "  </thead>\n",
       "  <tbody>\n",
       "    <tr>\n",
       "      <th>0</th>\n",
       "      <td>1946-12-31</td>\n",
       "      <td>year</td>\n",
       "      <td>1946</td>\n",
       "    </tr>\n",
       "    <tr>\n",
       "      <th>1</th>\n",
       "      <td>1947-12-31</td>\n",
       "      <td>year</td>\n",
       "      <td>1947</td>\n",
       "    </tr>\n",
       "    <tr>\n",
       "      <th>2</th>\n",
       "      <td>1948-12-31</td>\n",
       "      <td>year</td>\n",
       "      <td>1948</td>\n",
       "    </tr>\n",
       "    <tr>\n",
       "      <th>3</th>\n",
       "      <td>1949-12-31</td>\n",
       "      <td>year</td>\n",
       "      <td>1949</td>\n",
       "    </tr>\n",
       "    <tr>\n",
       "      <th>4</th>\n",
       "      <td>1950-12-31</td>\n",
       "      <td>year</td>\n",
       "      <td>1950</td>\n",
       "    </tr>\n",
       "    <tr>\n",
       "      <th>...</th>\n",
       "      <td>...</td>\n",
       "      <td>...</td>\n",
       "      <td>...</td>\n",
       "    </tr>\n",
       "    <tr>\n",
       "      <th>27190</th>\n",
       "      <td>2022-12-31</td>\n",
       "      <td>StorageCapacityLiquefiedNaturalGas_32</td>\n",
       "      <td>535.0</td>\n",
       "    </tr>\n",
       "    <tr>\n",
       "      <th>27191</th>\n",
       "      <td>2022-12-31</td>\n",
       "      <td>StorageCapacityLiquefiedNaturalGas_32</td>\n",
       "      <td>535.0</td>\n",
       "    </tr>\n",
       "    <tr>\n",
       "      <th>27192</th>\n",
       "      <td>2022-12-31</td>\n",
       "      <td>StorageCapacityLiquefiedNaturalGas_32</td>\n",
       "      <td>535.0</td>\n",
       "    </tr>\n",
       "    <tr>\n",
       "      <th>27193</th>\n",
       "      <td>2023-01-31</td>\n",
       "      <td>StorageCapacityLiquefiedNaturalGas_32</td>\n",
       "      <td>535.0</td>\n",
       "    </tr>\n",
       "    <tr>\n",
       "      <th>27194</th>\n",
       "      <td>2023-02-28</td>\n",
       "      <td>StorageCapacityLiquefiedNaturalGas_32</td>\n",
       "      <td>535.0</td>\n",
       "    </tr>\n",
       "  </tbody>\n",
       "</table>\n",
       "<p>27195 rows × 3 columns</p>\n",
       "</div>"
      ],
      "text/plain": [
       "            date                                     ie  value\n",
       "0     1946-12-31                                   year   1946\n",
       "1     1947-12-31                                   year   1947\n",
       "2     1948-12-31                                   year   1948\n",
       "3     1949-12-31                                   year   1949\n",
       "4     1950-12-31                                   year   1950\n",
       "...          ...                                    ...    ...\n",
       "27190 2022-12-31  StorageCapacityLiquefiedNaturalGas_32  535.0\n",
       "27191 2022-12-31  StorageCapacityLiquefiedNaturalGas_32  535.0\n",
       "27192 2022-12-31  StorageCapacityLiquefiedNaturalGas_32  535.0\n",
       "27193 2023-01-31  StorageCapacityLiquefiedNaturalGas_32  535.0\n",
       "27194 2023-02-28  StorageCapacityLiquefiedNaturalGas_32  535.0\n",
       "\n",
       "[27195 rows x 3 columns]"
      ]
     },
     "execution_count": 24,
     "metadata": {},
     "output_type": "execute_result"
    }
   ],
   "source": [
    "ngc_long = pd.melt(\n",
    "    ngc,\n",
    "    id_vars='date',        \n",
    "    value_vars=[           \n",
    "        col for col in ngc.columns if col != 'date'\n",
    "    ],\n",
    "    var_name='ie',          \n",
    "    value_name='value'     \n",
    ")\n",
    "ngc_long"
   ]
  },
  {
   "cell_type": "markdown",
   "metadata": {
    "collapsed": false
   },
   "source": [
    "## Line plots\n",
    "\n",
    "1. Plot lines:\n",
    "\n",
    "- a) Plot yearly `TotalSupply_1` against `date`.\n",
    "- b) Draw a horizontal line to mark `TotalSupply_1` at the point where `TotalSupply_1` is just below the latest observation.\n",
    "- c) On which year does the horizontal line hits the graph."
   ]
  },
  {
   "cell_type": "code",
   "execution_count": 4,
   "metadata": {
    "collapsed": false
   },
   "outputs": [],
   "source": [
    "import matplotlib.pyplot as plt"
   ]
  },
  {
   "cell_type": "code",
   "execution_count": 18,
   "metadata": {},
   "outputs": [
    {
     "data": {
      "text/plain": [
       "np.int64(3055)"
      ]
     },
     "execution_count": 18,
     "metadata": {},
     "output_type": "execute_result"
    }
   ],
   "source": [
    "latest_value = ngc['TotalSupply_1'].iloc[-1]\n",
    "below_latest = ngc['TotalSupply_1'][ngc['TotalSupply_1'] < latest_value].max()\n",
    "below_latest"
   ]
  },
  {
   "cell_type": "code",
   "execution_count": null,
   "metadata": {},
   "outputs": [
    {
     "data": {
      "text/plain": [
       "<matplotlib.lines.Line2D at 0x13a0353a0>"
      ]
     },
     "execution_count": 19,
     "metadata": {},
     "output_type": "execute_result"
    },
    {
     "data": {
      "image/png": "[encoded data removed]",
      "text/plain": [
       "<Figure size 640x480 with 1 Axes>"
      ]
     },
     "metadata": {},
     "output_type": "display_data"
    }
   ],
   "source": [
    "ax = sb.lineplot(ngc, x='TotalSupply_1',y='date')\n",
    "ax.axhline(y=3055, linewidth=2, color='red', ls='--')"
   ]
  },
  {
   "cell_type": "markdown",
   "metadata": {
    "collapsed": false
   },
   "source": [
    "2. The import/export variables are those with names starting with `Import` and `Export`. Plot `TotalSupply_1` against `date` for all import/export variables (Hint: reshape data). Make sure the legend is correctly placed. Set X and Y axis labels to `Year` and `Natural gas (MCM)` respectively and set legend's label to `Import/Export`.\n"
   ]
  },
  {
   "cell_type": "code",
   "execution_count": 36,
   "metadata": {},
   "outputs": [
    {
     "data": {
      "text/plain": [
       "year                                               int64\n",
       "term                                              object\n",
       "idx                                                int64\n",
       "date                                      datetime64[ns]\n",
       "ID                                                 int64\n",
       "Periods                                           object\n",
       "TotalSupply_1                                      int64\n",
       "IndigenousProduction_2                             int64\n",
       "ProductionFromOtherSources_3                      object\n",
       "ImportsOfGaseousNaturalGasTotal_4                float64\n",
       "ImportsViaNorway_5                               float64\n",
       "ImportsViaGermany_6                              float64\n",
       "ImportsViaBelgium_7                              float64\n",
       "ImportsViaUnitedKingdom_8                        float64\n",
       "ImportsViaDenmark_9                              float64\n",
       "ImportsOfLiquefiedNaturalGasLng_10               float64\n",
       "ExportsOfGaseousNaturalGasTotal_11               float64\n",
       "ExportsToNorway_12                               float64\n",
       "ExportsToGermany_13                              float64\n",
       "ExportsToBelgium_14                              float64\n",
       "ExportsToUnitedKingdom_15                        float64\n",
       "ExportsToDenmark_16                              float64\n",
       "ExportsOfLiquefiedNaturalGasLng_17               float64\n",
       "Bunkers_18                                        object\n",
       "StockChange_19                                   float64\n",
       "TotalConsumption_20                               object\n",
       "TotalViaTheMainGrid_21                            object\n",
       "ElectricityPowerPlants_22                         object\n",
       "OtherConsumers_23                                 object\n",
       "ViaRegionalGrids_24                               object\n",
       "ConsumptionByProductionAndTransport_25            object\n",
       "ClosingStock_26                                   object\n",
       "ClosingStockGaseousGas_27                         object\n",
       "ClosingStockLiquefiedNaturalGas_28                object\n",
       "Flaring_29                                        object\n",
       "StorageCapacityTotal_30                          float64\n",
       "StorageCapacityGaseousGas_31                     float64\n",
       "StorageCapacityLiquefiedNaturalGas_32            float64\n",
       "dtype: object"
      ]
     },
     "execution_count": 36,
     "metadata": {},
     "output_type": "execute_result"
    }
   ],
   "source": [
    "ngc.dtypes"
   ]
  },
  {
   "cell_type": "markdown",
   "metadata": {
    "collapsed": false
   },
   "source": [
    "\n",
    "3. Plot (point and lines) `TotalSupply_1` against `month` of all time. Note that you will need to summarise (use groupby/sum) on months of the entire dataset. Set X and Y axis labels to `Month` and `Natural gas (MCM)` respectively. Set `Month` axis ticks to represent month abbreviations. Hint: use calendar module to get month abbreviations. Hint: use the `term` variable to filter only `MM` observations."
   ]
  },
  {
   "cell_type": "code",
   "execution_count": null,
   "metadata": {
    "collapsed": false
   },
   "outputs": [],
   "source": [
    "# ..."
   ]
  },
  {
   "cell_type": "markdown",
   "metadata": {
    "collapsed": false
   },
   "source": [
    "4. Plot boxplots of `TotalSupply_1` against `month` of all time. Set X and Y axis labels to `Month` and `Natural gas (MCM)` respectively. Set `Month` axis ticks to represent month abbreviations."
   ]
  },
  {
   "cell_type": "code",
   "execution_count": null,
   "metadata": {
    "collapsed": false
   },
   "outputs": [],
   "source": [
    "# ..."
   ]
  },
  {
   "cell_type": "markdown",
   "metadata": {
    "collapsed": false
   },
   "source": [
    "5) Boxplots of import/export variables against `TotalSupply_1`. Set X and Y axis labels to `Natural gas (MCM)` and `Import/Export` respectively."
   ]
  },
  {
   "cell_type": "code",
   "execution_count": null,
   "metadata": {
    "collapsed": false
   },
   "outputs": [],
   "source": [
    "# ..."
   ]
  }
 ],
 "metadata": {
  "kernelspec": {
   "display_name": "Python 3",
   "language": "python",
   "name": "python3"
  },
  "language_info": {
   "codemirror_mode": {
    "name": "ipython",
    "version": 3
   },
   "file_extension": ".py",
   "mimetype": "text/x-python",
   "name": "python",
   "nbconvert_exporter": "python",
   "pygments_lexer": "ipython3",
   "version": "3.12.8"
  }
 },
 "nbformat": 4,
 "nbformat_minor": 0
}
