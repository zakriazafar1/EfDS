{
 "cells": [
  {
   "cell_type": "markdown",
   "metadata": {
    "collapsed": false
   },
   "source": [
    "# pandas\n",
    "\n",
    "[pandas](https://pandas.pydata.org/) is an open source library for tabular heterogeneous data manipulation. The core structures are `Series` and `DataFrame` which can be seen as a collection of Series.  In addition `pandas` provides the necessary means for data cleaning and preparation. `pandas` uses NumPy array structure  as an extension type with methods for conversion in both directions.\n",
    "\n",
    "&#9888; A major difference between numpy arrays and `pandas` Series and DataFrame is in the way that <tt>pandas</tt> indices are used. In NumPy the index is implicitly assigned $0..(n-1)$ whereas `pandas` Series and DataFrame have similar behaviour but in addition allow labels as indices which are preserved after applying operations.\n",
    "\n",
    "Many parallels can be drawn between <tt>pandas</tt> and `tidyverse` R package. In terms of data structure, Series and DataFrame can be viewed as vectors and data.frame/tibble respectively. Furthermore, in terms of functionality most data manipulation operations available in tidyverse have a counterparts in <tt>pandas</tt>.\n"
   ]
  },
  {
   "cell_type": "code",
<<<<<<< HEAD
   "execution_count": null,
   "metadata": {},
   "outputs": [
    {
     "name": "stdout",
     "output_type": "stream",
     "text": [
      "Collecting pandas\n",
      "  Downloading pandas-2.2.3-cp312-cp312-macosx_11_0_arm64.whl.metadata (89 kB)\n",
      "Requirement already satisfied: numpy>=1.26.0 in /Library/Frameworks/Python.framework/Versions/3.12/lib/python3.12/site-packages (from pandas) (2.2.3)\n",
      "Requirement already satisfied: python-dateutil>=2.8.2 in /Users/zakriazafar/Library/Python/3.12/lib/python/site-packages (from pandas) (2.9.0.post0)\n",
      "Collecting pytz>=2020.1 (from pandas)\n",
      "  Downloading pytz-2025.2-py2.py3-none-any.whl.metadata (22 kB)\n",
      "Collecting tzdata>=2022.7 (from pandas)\n",
      "  Downloading tzdata-2025.2-py2.py3-none-any.whl.metadata (1.4 kB)\n",
      "Requirement already satisfied: six>=1.5 in /Users/zakriazafar/Library/Python/3.12/lib/python/site-packages (from python-dateutil>=2.8.2->pandas) (1.17.0)\n",
      "Downloading pandas-2.2.3-cp312-cp312-macosx_11_0_arm64.whl (11.4 MB)\n",
      "\u001b[2K   \u001b[90m━━━━━━━━━━━━━━━━━━━━━━━━━━━━━━━━━━━━━━━━\u001b[0m \u001b[32m11.4/11.4 MB\u001b[0m \u001b[31m25.3 MB/s\u001b[0m eta \u001b[36m0:00:00\u001b[0m00:01\u001b[0m0:01\u001b[0m\n",
      "\u001b[?25hDownloading pytz-2025.2-py2.py3-none-any.whl (509 kB)\n",
      "Downloading tzdata-2025.2-py2.py3-none-any.whl (347 kB)\n",
      "Installing collected packages: pytz, tzdata, pandas\n",
      "Successfully installed pandas-2.2.3 pytz-2025.2 tzdata-2025.2\n",
      "\n",
      "\u001b[1m[\u001b[0m\u001b[34;49mnotice\u001b[0m\u001b[1;39;49m]\u001b[0m\u001b[39;49m A new release of pip is available: \u001b[0m\u001b[31;49m24.3.1\u001b[0m\u001b[39;49m -> \u001b[0m\u001b[32;49m25.0.1\u001b[0m\n",
      "\u001b[1m[\u001b[0m\u001b[34;49mnotice\u001b[0m\u001b[1;39;49m]\u001b[0m\u001b[39;49m To update, run: \u001b[0m\u001b[32;49mpython3 -m pip install --upgrade pip\u001b[0m\n",
      "Note: you may need to restart the kernel to use updated packages.\n"
     ]
    }
   ],
   "source": [
    "pip install pandas"
   ]
  },
  {
   "cell_type": "code",
   "execution_count": 1,
   "metadata": {
    "collapsed": false
   },
   "outputs": [],
=======
>>>>>>> 0562cc1c7a2785312b97b18111f4360585aaea7a
   "source": [
    "# convention\n",
    "import pandas as pd\n",
    "import numpy as np\n",
<<<<<<< HEAD
    "\n",
    "from numpy.random import default_rng\n",
    "rng = default_rng()"
   ]
=======
    "rng = np.random.default_rng(12345)"
   ],
   "metadata": {
    "collapsed": false
   },
   "outputs": [],
   "execution_count": null
>>>>>>> 0562cc1c7a2785312b97b18111f4360585aaea7a
  },
  {
   "cell_type": "markdown",
   "metadata": {
    "collapsed": false
   },
   "source": [
    "## Series\n",
    "\n",
    "[Series](https://pandas.pydata.org/docs/reference/api/pandas.Series.html) is a sequence of values, possibly of heterogeneous types. You can create Series with the <tt>pd.Series</tt> function.\n",
    "\n",
    "**Synopsis: &nbsp; &nbsp;**<tt>Series(data=None, index=None, dtype=None, name=None, copy=False)</tt>\n",
    " - data: array, iterable, dict, scalar\n",
    " - index: 1-dimensional array, otherwise $0..(n-1)$\n",
    " - dtype: [data types](https://pandas.pydata.org/docs/user_guide/basics.html#basics-dtypes), otherwise inferred\n",
    " - name: optional\n",
    " - copy: default False, data is not copied but is a reference"
   ]
  },
  {
   "cell_type": "code",
<<<<<<< HEAD
   "execution_count": 2,
   "metadata": {
    "collapsed": false
   },
   "outputs": [],
   "source": [
    "s = pd.Series([3,5,7])\n",
    "s = pd.Series({'a':3, 'b':5, 'c':7})\n",
    "s = pd.Series([3,5,7], index=['a','b','c'])\n",
    "s = pd.Series([3,5,7])"
   ]
  },
  {
   "cell_type": "markdown",
=======
   "source": [
    "s = pd.Series([3,5,7])\n",
    "s = pd.Series({'a':3, 'b':5, 'c':7})\n",
    "s = pd.Series([3,5,7], index=['a','b','c'])"
   ],
   "metadata": {
    "collapsed": false
   },
   "outputs": [],
   "execution_count": null
  },
  {
   "cell_type": "markdown",
   "source": "Caution, input data to pd.Series is not copied by default. Updating values in a Series will propagate to the source:",
>>>>>>> 0562cc1c7a2785312b97b18111f4360585aaea7a
   "metadata": {
    "collapsed": false
   },
   "source": [
    "Input data to pd.Series is not copied by default. In the following scenario an update to Series `s` propogates to NumPy array `arr`:"
   ]
  },
  {
   "cell_type": "code",
<<<<<<< HEAD
   "execution_count": 4,
   "metadata": {
    "collapsed": false
   },
   "outputs": [],
=======
>>>>>>> 0562cc1c7a2785312b97b18111f4360585aaea7a
   "source": [
    "arr = np.array([3,5,7])        # Source data\n",
    "s = pd.Series(arr, copy=False) # default copy=False\n",
<<<<<<< HEAD
    "s[1] = -1                      # set value s[1] to -1"
   ]
=======
    "s[1] = -1                      # set value s[1] to -1\n",
    "arr"
   ],
   "metadata": {
    "collapsed": false
   },
   "outputs": [],
   "execution_count": null
>>>>>>> 0562cc1c7a2785312b97b18111f4360585aaea7a
  },
  {
   "metadata": {},
   "cell_type": "markdown",
<<<<<<< HEAD
=======
   "source": "### loc/iloc"
  },
  {
   "cell_type": "markdown",
   "source": "Series, besides the indices $0..(n-1)$, may also be viewed as a dictionary where values are accessed based on mapped indices to values:",
>>>>>>> 0562cc1c7a2785312b97b18111f4360585aaea7a
   "metadata": {
    "collapsed": false
   },
   "source": [
    "Series, besides the ordered indices $0..(n-1)$, may also be viewed as a dictionary where values are accessed based on mapped indices to values:"
   ]
  },
  {
   "cell_type": "code",
<<<<<<< HEAD
   "execution_count": 5,
   "metadata": {
    "collapsed": false
   },
   "outputs": [
    {
     "name": "stderr",
     "output_type": "stream",
     "text": [
      "/var/folders/f4/t_cy1xv16699zj8q2mf2mcs00000gn/T/ipykernel_53542/3114200323.py:2: FutureWarning: Series.__getitem__ treating keys as positions is deprecated. In a future version, integer keys will always be treated as labels (consistent with DataFrame behavior). To access a value by position, use `ser.iloc[pos]`\n",
      "  s[1] == s['b']\n"
     ]
    },
    {
     "data": {
      "text/plain": [
       "np.True_"
      ]
     },
     "execution_count": 5,
     "metadata": {},
     "output_type": "execute_result"
    }
   ],
   "source": [
    "s = pd.Series({'a':3, 'b':5, 'c':7})\n",
    "s[1] == s['b']"
   ]
  },
  {
   "cell_type": "markdown",
=======
   "source": [
    "s = pd.Series({'a':3, 'b':5, 'c':7})\n",
    "s['b']"
   ],
   "metadata": {
    "collapsed": false
   },
   "outputs": [],
   "execution_count": null
  },
  {
   "metadata": {},
   "cell_type": "markdown",
   "source": "In the above example we used the `s['b']` to fetch the value at label `b`. However it is recommended to use the method `loc` in case the Series is labeled, and `iloc` for indices. Take for example the the following Series with integers as labels:\n"
  },
  {
   "metadata": {},
   "cell_type": "code",
   "source": [
    "s = pd.Series(range(5), index=[4,2,7,0,1])\n",
    "s[0], s.loc[0], s.iloc[0]"
   ],
   "outputs": [],
   "execution_count": null
  },
  {
   "metadata": {},
   "cell_type": "markdown",
   "source": "The slice `start:stop:step` will work in a similar way as in lists and numpy arrays if the Series has integer index 0..(n-1), but differs when slicing over labels:"
  },
  {
   "metadata": {},
   "cell_type": "code",
   "source": [
    "s = pd.Series({'a':3, 'b':5, 'c':7})\n",
    "s.iloc[1:2], s.loc['b':'c'] # slice over labels includes the stop value."
   ],
   "outputs": [],
   "execution_count": null
  },
  {
   "metadata": {},
   "cell_type": "markdown",
   "source": "Similar to python lists a slice of pandas Series is copy and not a view as it was the case for numpy arrays."
  },
  {
   "cell_type": "markdown",
   "source": [
    "\n",
    "### Arithmetic operation\n",
    "\n",
    "Operations between Series are carried out based on matching indices as opposed to element-wise which was the case in numpy.ndarray:"
   ],
>>>>>>> 0562cc1c7a2785312b97b18111f4360585aaea7a
   "metadata": {
    "collapsed": false
   },
   "source": [
    "Operations between Series are carried out based on matching indices as opposed to element-wise:"
   ]
  },
  {
   "cell_type": "code",
<<<<<<< HEAD
   "execution_count": 6,
   "metadata": {
    "collapsed": false
   },
   "outputs": [
    {
     "data": {
      "text/plain": [
       "a    8\n",
       "b    8\n",
       "c    4\n",
       "dtype: int64"
      ]
     },
     "execution_count": 6,
     "metadata": {},
     "output_type": "execute_result"
    }
   ],
=======
>>>>>>> 0562cc1c7a2785312b97b18111f4360585aaea7a
   "source": [
    "s1 = pd.Series({'a':3, 'b':5, 'c':2})\n",
    "s2 = pd.Series({'b':3, 'a':5, 'c':2})\n",
    "s1+s2"
<<<<<<< HEAD
   ]
=======
   ],
   "metadata": {
    "collapsed": false
   },
   "outputs": [],
   "execution_count": null
>>>>>>> 0562cc1c7a2785312b97b18111f4360585aaea7a
  },
  {
   "cell_type": "markdown",
   "metadata": {
    "collapsed": false
   },
   "source": [
    "and they don't have to be the same size:"
   ]
  },
  {
   "cell_type": "code",
<<<<<<< HEAD
   "execution_count": 7,
   "metadata": {
    "collapsed": false
   },
   "outputs": [
    {
     "data": {
      "text/plain": [
       "a    8.0\n",
       "b    8.0\n",
       "c    4.0\n",
       "d    NaN\n",
       "dtype: float64"
      ]
     },
     "execution_count": 7,
     "metadata": {},
     "output_type": "execute_result"
    }
   ],
=======
>>>>>>> 0562cc1c7a2785312b97b18111f4360585aaea7a
   "source": [
    "s3 = pd.Series({'b':3, 'a':5, 'c':2, 'd':10}) # no matching 'd' in s1\n",
    "s1+s3"
<<<<<<< HEAD
   ]
=======
   ],
   "metadata": {
    "collapsed": false
   },
   "outputs": [],
   "execution_count": null
>>>>>>> 0562cc1c7a2785312b97b18111f4360585aaea7a
  },
  {
   "metadata": {},
   "cell_type": "markdown",
<<<<<<< HEAD
   "metadata": {
    "collapsed": false
   },
   "source": [
    "Index membership:"
   ]
  },
  {
   "cell_type": "code",
   "execution_count": 8,
   "metadata": {
    "collapsed": false
   },
   "outputs": [
    {
     "data": {
      "text/plain": [
       "True"
      ]
     },
     "execution_count": 8,
     "metadata": {},
     "output_type": "execute_result"
    }
   ],
   "source": [
    "\"b\" in s1 # s1 : {'a':3, 'b':5, 'c':2}"
   ]
=======
   "source": "Index membership:"
  },
  {
   "cell_type": "code",
   "source": [
    "\"b\" in s1 # s1 : {'a':3, 'b':5, 'c':2}"
   ],
   "metadata": {
    "collapsed": false
   },
   "outputs": [],
   "execution_count": null
>>>>>>> 0562cc1c7a2785312b97b18111f4360585aaea7a
  },
  {
   "cell_type": "markdown",
   "metadata": {
    "collapsed": false
   },
   "source": [
    "In contrast to NumPy arrays, and R vectors, being homogenous containers, Series may take up values of different types:"
   ]
  },
  {
   "cell_type": "code",
<<<<<<< HEAD
   "execution_count": 9,
   "metadata": {
    "collapsed": false
   },
   "outputs": [
    {
     "data": {
      "text/plain": [
       "[int, int, str]"
      ]
     },
     "execution_count": 9,
     "metadata": {},
     "output_type": "execute_result"
    }
   ],
=======
>>>>>>> 0562cc1c7a2785312b97b18111f4360585aaea7a
   "source": [
    "s = pd.Series({'a':3, 'b':5, 'c':'7'})  # dtyp='O' for object\n",
    "[type(v) for v in s]"
<<<<<<< HEAD
   ]
=======
   ],
   "metadata": {
    "collapsed": false
   },
   "outputs": [],
   "execution_count": null
>>>>>>> 0562cc1c7a2785312b97b18111f4360585aaea7a
  },
  {
   "cell_type": "markdown",
   "metadata": {
    "collapsed": false
   },
   "source": [
    "### Series methods and accessors\n",
    "\n",
<<<<<<< HEAD
    "An exhaustive review of [Series' methods and submodules](https://pandas.pydata.org/docs/reference/series.html#) is beyond the scope of this course. Here we only review several common uses.\n",
    "\n"
   ]
  },
  {
   "cell_type": "code",
   "execution_count": 15,
   "metadata": {},
   "outputs": [],
=======
    "Many function are defined at the top level of Series class. There are aloso several accessors, which give access to a collection functions related to a specific type, such as:\n",
    "\n",
    " | Accessor | Works With | Purpose |\n",
    "| --- | --- | --- |\n",
    "| `.str` | String data | String manipulation and operations |\n",
    "| `.dt` | Datetime-like data | Datetime properties (e.g., year, month) and operations |\n",
    "| `.cat` | Categorical data | Managing and manipulating categorical data |\n",
    "\n",
    "An exhaustive review of [Series' methods and accessors](https://pandas.pydata.org/docs/reference/series.html#) is beyond the scope of this course. Here we only review several common uses:"
   ],
   "metadata": {
    "collapsed": false
   }
  },
  {
   "cell_type": "code",
>>>>>>> 0562cc1c7a2785312b97b18111f4360585aaea7a
   "source": [
    "import matplotlib"
   ]
  },
  {
   "cell_type": "code",
   "execution_count": 16,
   "metadata": {
    "collapsed": false
   },
   "outputs": [
    {
     "data": {
      "text/plain": [
       "0.1    2.302585\n",
       "0.2    1.609438\n",
       "0.3    1.203973\n",
       "0.4    0.916291\n",
       "0.5    0.693147\n",
       "         ...   \n",
       "9.5    2.251292\n",
       "9.6    2.261763\n",
       "9.7    2.272126\n",
       "9.8    2.282382\n",
       "9.9    2.292535\n",
       "Length: 99, dtype: float64"
      ]
     },
     "execution_count": 16,
     "metadata": {},
     "output_type": "execute_result"
    },
    {
     "data": {
      "image/png": "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",
      "text/plain": [
       "<Figure size 640x480 with 1 Axes>"
      ]
     },
     "metadata": {},
     "output_type": "display_data"
    }
   ],
   "source": [
    "s1 = pd.Series(['apple', 'watermelon', 'orange', 'pear', 'cherry', 'strawberry'],\n",
    "               index=list(\"abcdef\"))\n",
    "s2 = pd.Series(['apple', 'kiwi', 'orange', 'pear', 'cherry', 'grape'],\n",
    "               index=list(\"abcdef\"))\n",
    "s3 = pd.Series(np.log(np.arange(0.1,10,.1)), index=np.arange(0.1,10,.1))\n",
    "s4 = np.array([\"\"])\n",
    "\n",
    "s1.unique()\n",
    "s1.count()\n",
    "s1.compare(s2)\n",
    "s1.filter(['a','b'])\n",
    "s1.drop(['b','f'])\n",
<<<<<<< HEAD
    "s3.apply(lambda x: np.abs(x))"
   ]
=======
    "s3.apply(lambda x: np.abs(x))\n",
    "# str:\n",
    "s1.str.upper()\n",
    "s1.str.contains('o')\n",
    "s1.str.split('o')\n",
    "# cat\n",
    "# ...\n",
    "# timestamp and dt accessor\n",
    "dates = pd.Series(['1-4-1988', '1-1-1987', '1-12-2011', '1-6-2005', '1-5-2005'])\n",
    "tss = pd.to_datetime(dates,format=\"%d-%m-%Y\")\n",
    "tss.min(), tss.max()\n",
    "tss.sort_values()\n",
    "#\n",
    "s2.value_counts()"
   ],
   "metadata": {
    "collapsed": false
   },
   "outputs": [],
   "execution_count": null
>>>>>>> 0562cc1c7a2785312b97b18111f4360585aaea7a
  },
  {
   "metadata": {},
   "cell_type": "markdown",
<<<<<<< HEAD
   "metadata": {
    "collapsed": false
   },
   "source": [
    "## Timestamp"
   ]
=======
   "source": [
    "### Basic Series plotting\n",
    "\n",
    "Series plotting enables quick and straightforward visualisation of data using the `plot()` method. It uses **Matplotlib** under the hood for rendering.\n",
    "\n",
    "**Synopsis: &nbsp; &nbsp;**<tt>Series.plot(kind='type')</tt>\n",
    "\n",
    "Below is the most common types:\n",
    "\n",
    "- 'line' : line plot (default)\n",
    "- 'hist' : histogram\n",
    "- 'box' : boxplot\n",
    "- 'kde' : Kernel Density Estimation plot\n",
    "\n"
   ]
  },
  {
   "metadata": {
    "ExecuteTime": {
     "end_time": "2025-03-14T22:11:07.354808Z",
     "start_time": "2025-03-14T22:11:07.237696Z"
    }
   },
   "cell_type": "code",
   "source": [
    "# 100 values standard normal\n",
    "rng = np.random.default_rng(12345)\n",
    "import matplotlib.pyplot as plt\n",
    "s = pd.Series(rng.standard_normal(100))\n",
    "# line, hist, box, kde\n",
    "fig, axes = plt.subplots(nrows=2, ncols=2, figsize=(10,6))\n",
    "s.plot(kind='line', ax=axes[0,0]) ; axes[0,0].set_title(\"Line plot\")\n",
    "s.plot(kind='kde', ax=axes[0,1])  ; axes[0,1].set_title(\"KDE plot\")\n",
    "s.plot(kind='box', ax=axes[1,0])  ; axes[1,0].set_title(\"Box plot\")\n",
    "s.plot(kind='hist', ax=axes[1,1]) ; axes[1,1].set_title(\"Histogram plot\")\n",
    "fig.suptitle(\"Line, KDE, Box, and Histogram plots of the Series\")\n",
    "plt.show()"
   ],
   "outputs": [
    {
     "data": {
      "text/plain": [
       "<Figure size 1000x600 with 4 Axes>"
      ],
      "image/png": "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"
     },
     "metadata": {},
     "output_type": "display_data"
    }
   ],
   "execution_count": 116
  },
  {
   "metadata": {
    "ExecuteTime": {
     "end_time": "2025-03-14T22:08:46.062975Z",
     "start_time": "2025-03-14T22:08:45.999316Z"
    }
   },
   "cell_type": "code",
   "source": [
    "import matplotlib.pyplot as plt\n",
    "s = pd.Series(rng.standard_normal(1000))\n",
    "s.plot(kind='hist', alpha=0.5, density=True)\n",
    "s.plot(kind='kde')\n",
    "plt.title(\"Histogram and KDE of the Series\")\n",
    "plt.show()"
   ],
   "outputs": [
    {
     "data": {
      "text/plain": [
       "<Figure size 640x480 with 1 Axes>"
      ],
      "image/png": "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"
     },
     "metadata": {},
     "output_type": "display_data"
    }
   ],
   "execution_count": 113
>>>>>>> 0562cc1c7a2785312b97b18111f4360585aaea7a
  },
  {
   "metadata": {},
   "cell_type": "markdown",
   "source": "The function `describe` returns  summary statistics:"
  },
  {
   "metadata": {},
   "cell_type": "code",
<<<<<<< HEAD
   "execution_count": 17,
   "metadata": {
    "collapsed": false
   },
   "outputs": [
    {
     "data": {
      "text/plain": [
       "1   1987-01-01\n",
       "0   1988-04-01\n",
       "4   2005-05-01\n",
       "3   2005-06-01\n",
       "2   2011-12-01\n",
       "dtype: datetime64[ns]"
      ]
     },
     "execution_count": 17,
     "metadata": {},
     "output_type": "execute_result"
    }
   ],
   "source": [
    "dates = pd.Series(['1-4-1988', '1-1-1987', '1-12-2011', '1-6-2005', '1-5-2005'])\n",
    "tss = pd.to_datetime(dates,format=\"%d-%m-%Y\")\n",
    "tss.min(), tss.max()\n",
    "tss.sort_values()"
   ]
=======
   "source": "s.describe()",
   "outputs": [],
   "execution_count": null
  },
  {
   "metadata": {},
   "cell_type": "markdown",
   "source": [
    "### Modify Series\n",
    "\n",
    "To add values to a Series there is no instance method such append in list. Pandas function `concat` will take a list of Series and returns a Series containing combined values of the Series in the list.\n",
    "\n"
   ]
  },
  {
   "metadata": {},
   "cell_type": "code",
   "source": [
    "s1 = pd.Series([1,2,3])\n",
    "s2 = pd.Series([4,5,6])\n",
    "s3 = pd.concat([s1,s2])\n",
    "s3.reset_index(drop=True, inplace=True)"
   ],
   "outputs": [],
   "execution_count": null
  },
  {
   "metadata": {},
   "cell_type": "markdown",
   "source": "Two ways to remove values, i) using Series `pop` function, ii) filter using boolean selction."
  },
  {
   "metadata": {},
   "cell_type": "code",
   "source": [
    "v = s3.pop(1)  # s3 is updated with the value on index 4 removed and stored in v\n",
    "s3 = s3[s3 >4] # remove values >4 from s3 and store new filtered data into s3"
   ],
   "outputs": [],
   "execution_count": null
  },
  {
   "metadata": {},
   "cell_type": "markdown",
   "source": [
    "### Categorical variables (factors)\n",
    "\n",
    "In **Pandas**, the `Categorical` data type may be used to represent categorical variables. It is designed to handle categorical data efficiently by internally storing categories as integers (levels) and imposing an order on the categories  as categories may be `ordered` and `unordered`. They are memory efficient and very convenient for grouping and summarising.\n"
   ]
  },
  {
   "metadata": {
    "ExecuteTime": {
     "end_time": "2025-03-17T10:11:04.940513Z",
     "start_time": "2025-03-17T10:11:04.937812Z"
    }
   },
   "cell_type": "code",
   "source": [
    "s = pd.Series(['a', 'b', 'c', 'a', 'b', 'c', 'd'])\n",
    "# Categorical type\n",
    "s1 = pd.Categorical(s, categories=['b','a','d']) # internal use (no Series methods)\n",
    "# Extension\n",
    "s2 = pd.Series(s, dtype='category')              # general use (Series)\n",
    "s2 = s.astype('category')\n",
    "\n",
    "type(s1), type(s2)"
   ],
   "outputs": [
    {
     "data": {
      "text/plain": [
       "(pandas.core.arrays.categorical.Categorical, pandas.core.series.Series)"
      ]
     },
     "execution_count": 233,
     "metadata": {},
     "output_type": "execute_result"
    }
   ],
   "execution_count": 233
  },
  {
   "metadata": {},
   "cell_type": "markdown",
   "source": "Categorical type has access methods directly available:"
  },
  {
   "metadata": {},
   "cell_type": "code",
   "source": "s1.categories, s1.codes",
   "outputs": [],
   "execution_count": null
  },
  {
   "metadata": {},
   "cell_type": "markdown",
   "source": "Series with Categorical type has accessor `cat` for accessing methods:"
  },
  {
   "metadata": {},
   "cell_type": "code",
   "source": "s2.cat.categories, s2.cat.codes",
   "outputs": [],
   "execution_count": null
  },
  {
   "metadata": {},
   "cell_type": "markdown",
   "source": [
    "Below is an overview of some useful categorical functions:\n",
    "\n",
    "| **Function/Method** | **Description**                                                                            |\n",
    "| --- |--------------------------------------------------------------------------------------------|\n",
    "| **`.set_categories()`** | Updates the categories to a new list, allowing reordering, adding, or removing categories. |\n",
    "| **`.add_categories()`** | Adds new categories to the existing set of categories.                                     |\n",
    "| **`.remove_categories()`** | Removes specific categories; values associated with them become `NaN`.                     |\n",
    "| **`.remove_unused_categories()`** | Drops unused categories that do not appear in the data.                                    |\n",
    "| **`.rename_categories()`** | Renames categories to new labels without modifying the underlying data.                    |\n",
    "| **`.reorder_categories()`** | Reorders the categories into a specified order. Useful for sorting or comparisons.         |\n",
    "| **`.as_ordered()`** | Converts the categories to ordered (enables `<`, `>` comparisons between values).          |\n",
    "| **`.as_unordered()`** | Converts the categories to unordered (disabling logical comparisons).                      |\n",
    "\n",
    "\n",
    "\n"
   ]
  },
  {
   "metadata": {},
   "cell_type": "markdown",
   "source": "### Exercises\n"
  },
  {
   "metadata": {},
   "cell_type": "markdown",
   "source": "1. Given the Series `s` below, without running the code predicet the values and type of objects returned:\n"
  },
  {
   "metadata": {},
   "cell_type": "code",
   "source": [
    "s = pd.Series(np.arange(5),index=list(\"abcde\"))\n",
    "\n",
    "s['d']             # 3 => int64\n",
    "s.loc['d']         # 3 => int64\n",
    "s.iloc['d']        # Error : label used as index location\n",
    "s.loc['b':'d']     # 1, 2, 3 => Series of int64\n",
    "s.iloc[2::2][::-1] # 4, 2 => Series of int64\n",
    "s.loc[['b', 'a']]  # 1, 0 => Series of int64"
   ],
   "outputs": [],
   "execution_count": null
  },
  {
   "metadata": {},
   "cell_type": "markdown",
   "source": "2. Predict the content of `s`, `s1`, `lst` and `ab`:"
  },
  {
   "metadata": {},
   "cell_type": "code",
   "source": [
    "lst, idx = np.arange(5), list(\"abcde\")\n",
    "s = pd.Series(lst,idx)\n",
    "s[-1:] = 10               # ...\n",
    "lst[0] = 5                # ...\n",
    "s1 = pd.Series(s.copy())  # ...\n",
    "s1[0] = -1                # ...\n",
    "a = pd.Series([1,2,3,4,5], index=['a','b','c','d','e'])\n",
    "b = pd.Series([1,2,3,4,5,6], index=['a','c','c','c','e','f'])\n",
    "ab = a * b                # ..."
   ],
   "outputs": [],
   "execution_count": null
  },
  {
   "metadata": {},
   "cell_type": "markdown",
   "source": "3. Predict the result of the operations:"
  },
  {
   "metadata": {},
   "cell_type": "code",
   "source": [
    "s1 = pd.Series({'a': 0, 'b': 1, 'c': 2, 'd': 3, 'e': 4})\n",
    "s2 = pd.Series({'d': 0, 'e': 1, 'f': 2, 'g': 3})\n",
    "\n",
    "s1 + s2           # ...\n",
    "s1['c':] * s2[:-2]  # ..."
   ],
   "outputs": [],
   "execution_count": null
  },
  {
   "metadata": {},
   "cell_type": "code",
   "source": "",
   "outputs": [],
   "execution_count": null
>>>>>>> 0562cc1c7a2785312b97b18111f4360585aaea7a
  },
  {
   "cell_type": "markdown",
   "metadata": {
    "collapsed": false
   },
   "source": [
    "# DataFrame\n",
    "\n",
    "The pandas' DataFrame is a 2-dimensional structure which may be viewed as a collection of Series. It has indices for both dimensions. We will use the terms observations and variables for rows and columns interchangeably. DataFrame, and Series, can hold dimensions $>2$ with the so called `hierarchical indexing` which is beyond the scope of this course.\n",
    "\n",
    "&#9888; In the context of dataframes we will be working with homogeneous Series where each Series is of a single type.\n",
    "\n",
    "To create a DataFrame use the function pd.DataFrame:\n",
    "\n",
    "**Synopsis: &nbsp; &nbsp;**<tt>DataFrame(data=None, index=None, columns=None, dtype=None, copy=None)</tt>\n",
    "\n",
<<<<<<< HEAD
    "Most arguments are familiar from pd.Series except the additional *columns* with which the indices of the second dimension are controlled.\n"
   ]
  },
  {
   "cell_type": "code",
   "execution_count": 19,
   "metadata": {
    "collapsed": false
   },
   "outputs": [
    {
     "data": {
      "text/html": [
       "<div>\n",
       "<style scoped>\n",
       "    .dataframe tbody tr th:only-of-type {\n",
       "        vertical-align: middle;\n",
       "    }\n",
       "\n",
       "    .dataframe tbody tr th {\n",
       "        vertical-align: top;\n",
       "    }\n",
       "\n",
       "    .dataframe thead th {\n",
       "        text-align: right;\n",
       "    }\n",
       "</style>\n",
       "<table border=\"1\" class=\"dataframe\">\n",
       "  <thead>\n",
       "    <tr style=\"text-align: right;\">\n",
       "      <th></th>\n",
       "      <th>x</th>\n",
       "      <th>y</th>\n",
       "    </tr>\n",
       "  </thead>\n",
       "  <tbody>\n",
       "    <tr>\n",
       "      <th>0</th>\n",
       "      <td>3</td>\n",
       "      <td>a</td>\n",
       "    </tr>\n",
       "    <tr>\n",
       "      <th>1</th>\n",
       "      <td>5</td>\n",
       "      <td>b</td>\n",
       "    </tr>\n",
       "    <tr>\n",
       "      <th>2</th>\n",
       "      <td>7</td>\n",
       "      <td>c</td>\n",
       "    </tr>\n",
       "  </tbody>\n",
       "</table>\n",
       "</div>"
      ],
      "text/plain": [
       "   x  y\n",
       "0  3  a\n",
       "1  5  b\n",
       "2  7  c"
      ]
     },
     "execution_count": 19,
     "metadata": {},
     "output_type": "execute_result"
    }
   ],
   "source": [
    "df = pd.DataFrame(data=[[3,'a'], [5,'b'], [7,'c']],                    # list, tuple, or np.array\n",
    "                  columns=['x', 'y'])                                  #\n",
    "df = pd.DataFrame({'x': [3,5,7], 'y': ['a','b','c']})                  # dictionary of columns\n",
    "df = pd.DataFrame({3:'a', 5:'b', 7: 'c'}.items(), columns= ['x','y'])  # dictionary of rows\n",
    "df"
   ]
=======
    "Most arguments are familiar from pd.Series except `columns` with which the indices of the second dimension are controlled.\n"
   ],
   "metadata": {
    "collapsed": false
   }
  },
  {
   "cell_type": "code",
   "source": [
    "df = pd.DataFrame(data=[[3,'a'], [5,'b'], [7,'c']],                    # list, tuple, or np.array\n",
    "                  columns=['x', 'y'])                                  #\n",
    "df = pd.DataFrame({'x': [3,5,7], 'y': ['a','b','c']})                  # dictionary of columns"
   ],
   "metadata": {
    "collapsed": false
   },
   "outputs": [],
   "execution_count": null
>>>>>>> 0562cc1c7a2785312b97b18111f4360585aaea7a
  },
  {
   "cell_type": "markdown",
   "metadata": {
    "collapsed": false
   },
   "source": [
    "## DataFrame : read/write\n",
    "\n",
    "You may want to store or share with others the DataFrame you just created. The most common data format to store a DataFrame is comma-separated-values (csv) format. Use `to_csv` method to export a DataFrame and `pd.read_csv` import:"
   ]
  },
  {
   "cell_type": "code",
<<<<<<< HEAD
   "execution_count": 21,
   "metadata": {
    "collapsed": false
   },
   "outputs": [
    {
     "data": {
      "text/html": [
       "<div>\n",
       "<style scoped>\n",
       "    .dataframe tbody tr th:only-of-type {\n",
       "        vertical-align: middle;\n",
       "    }\n",
       "\n",
       "    .dataframe tbody tr th {\n",
       "        vertical-align: top;\n",
       "    }\n",
       "\n",
       "    .dataframe thead th {\n",
       "        text-align: right;\n",
       "    }\n",
       "</style>\n",
       "<table border=\"1\" class=\"dataframe\">\n",
       "  <thead>\n",
       "    <tr style=\"text-align: right;\">\n",
       "      <th></th>\n",
       "      <th>x</th>\n",
       "      <th>y</th>\n",
       "    </tr>\n",
       "  </thead>\n",
       "  <tbody>\n",
       "    <tr>\n",
       "      <th>0</th>\n",
       "      <td>-0.860713</td>\n",
       "      <td>0.400433</td>\n",
       "    </tr>\n",
       "    <tr>\n",
       "      <th>1</th>\n",
       "      <td>-0.638131</td>\n",
       "      <td>-0.840511</td>\n",
       "    </tr>\n",
       "    <tr>\n",
       "      <th>2</th>\n",
       "      <td>0.002406</td>\n",
       "      <td>-1.662309</td>\n",
       "    </tr>\n",
       "    <tr>\n",
       "      <th>3</th>\n",
       "      <td>-0.925054</td>\n",
       "      <td>1.035322</td>\n",
       "    </tr>\n",
       "    <tr>\n",
       "      <th>4</th>\n",
       "      <td>-0.933505</td>\n",
       "      <td>0.691802</td>\n",
       "    </tr>\n",
       "    <tr>\n",
       "      <th>5</th>\n",
       "      <td>-0.641842</td>\n",
       "      <td>-1.676925</td>\n",
       "    </tr>\n",
       "    <tr>\n",
       "      <th>6</th>\n",
       "      <td>1.431034</td>\n",
       "      <td>1.315333</td>\n",
       "    </tr>\n",
       "    <tr>\n",
       "      <th>7</th>\n",
       "      <td>0.614456</td>\n",
       "      <td>0.212343</td>\n",
       "    </tr>\n",
       "    <tr>\n",
       "      <th>8</th>\n",
       "      <td>-0.571427</td>\n",
       "      <td>0.069555</td>\n",
       "    </tr>\n",
       "    <tr>\n",
       "      <th>9</th>\n",
       "      <td>1.071652</td>\n",
       "      <td>-1.504838</td>\n",
       "    </tr>\n",
       "  </tbody>\n",
       "</table>\n",
       "</div>"
      ],
      "text/plain": [
       "          x         y\n",
       "0 -0.860713  0.400433\n",
       "1 -0.638131 -0.840511\n",
       "2  0.002406 -1.662309\n",
       "3 -0.925054  1.035322\n",
       "4 -0.933505  0.691802\n",
       "5 -0.641842 -1.676925\n",
       "6  1.431034  1.315333\n",
       "7  0.614456  0.212343\n",
       "8 -0.571427  0.069555\n",
       "9  1.071652 -1.504838"
      ]
     },
     "execution_count": 21,
     "metadata": {},
     "output_type": "execute_result"
    }
   ],
   "source": [
    "df = pd.DataFrame({'x': rng.standard_normal(10), 'y': rng.standard_normal(10)})\n",
    "df.to_csv(\"df.csv\",index=False)   # write df to file 'df.csv', do not include index\n",
    "df = pd.read_csv(\"df.csv\")        # read df.csv into df object\n",
    "df"
   ]
=======
   "source": [
    "df = pd.DataFrame({'x': rng.standard_normal(10), 'y': rng.standard_normal(10)})\n",
    "df.to_csv(\"df.csv\",index=False)   # write df to file 'df.csv', do not include index\n",
    "df = pd.read_csv(\"df.csv\")        # read df.csv into df object"
   ],
   "metadata": {
    "collapsed": false
   },
   "outputs": [],
   "execution_count": null
>>>>>>> 0562cc1c7a2785312b97b18111f4360585aaea7a
  },
  {
   "cell_type": "markdown",
   "metadata": {
    "collapsed": false
   },
   "source": [
    "## Inspect content"
   ]
  },
  {
   "cell_type": "code",
<<<<<<< HEAD
   "execution_count": 38,
   "metadata": {
    "collapsed": false
   },
   "outputs": [
    {
     "data": {
      "text/html": [
       "<div>\n",
       "<style scoped>\n",
       "    .dataframe tbody tr th:only-of-type {\n",
       "        vertical-align: middle;\n",
       "    }\n",
       "\n",
       "    .dataframe tbody tr th {\n",
       "        vertical-align: top;\n",
       "    }\n",
       "\n",
       "    .dataframe thead th {\n",
       "        text-align: right;\n",
       "    }\n",
       "</style>\n",
       "<table border=\"1\" class=\"dataframe\">\n",
       "  <thead>\n",
       "    <tr style=\"text-align: right;\">\n",
       "      <th></th>\n",
       "      <th>x</th>\n",
       "      <th>y</th>\n",
       "    </tr>\n",
       "  </thead>\n",
       "  <tbody>\n",
       "    <tr>\n",
       "      <th>count</th>\n",
       "      <td>10.000000</td>\n",
       "      <td>10.000000</td>\n",
       "    </tr>\n",
       "    <tr>\n",
       "      <th>mean</th>\n",
       "      <td>-0.409559</td>\n",
       "      <td>0.039147</td>\n",
       "    </tr>\n",
       "    <tr>\n",
       "      <th>std</th>\n",
       "      <td>1.490659</td>\n",
       "      <td>0.727558</td>\n",
       "    </tr>\n",
       "    <tr>\n",
       "      <th>min</th>\n",
       "      <td>-3.415019</td>\n",
       "      <td>-0.949046</td>\n",
       "    </tr>\n",
       "    <tr>\n",
       "      <th>25%</th>\n",
       "      <td>-1.006376</td>\n",
       "      <td>-0.650457</td>\n",
       "    </tr>\n",
       "    <tr>\n",
       "      <th>50%</th>\n",
       "      <td>-0.604709</td>\n",
       "      <td>0.195492</td>\n",
       "    </tr>\n",
       "    <tr>\n",
       "      <th>75%</th>\n",
       "      <td>0.855158</td>\n",
       "      <td>0.533654</td>\n",
       "    </tr>\n",
       "    <tr>\n",
       "      <th>max</th>\n",
       "      <td>1.570220</td>\n",
       "      <td>1.118245</td>\n",
       "    </tr>\n",
       "  </tbody>\n",
       "</table>\n",
       "</div>"
      ],
      "text/plain": [
       "               x          y\n",
       "count  10.000000  10.000000\n",
       "mean   -0.409559   0.039147\n",
       "std     1.490659   0.727558\n",
       "min    -3.415019  -0.949046\n",
       "25%    -1.006376  -0.650457\n",
       "50%    -0.604709   0.195492\n",
       "75%     0.855158   0.533654\n",
       "max     1.570220   1.118245"
      ]
     },
     "execution_count": 38,
     "metadata": {},
     "output_type": "execute_result"
    }
   ],
=======
>>>>>>> 0562cc1c7a2785312b97b18111f4360585aaea7a
   "source": [
    "df = pd.DataFrame({'x': rng.standard_normal(10), 'y': rng.standard_normal(10)}) # x and y two random variables\n",
    "\n",
    "df.head()                   # top 5 (default) observation\n",
    "df.tail(2)                  # last 2 observations\n",
    "df.head(5).tail(2)          # composition\n",
    "df.shape                    # size of the dimensions\n",
    "df.size                     # total number of elements\n",
    "df.columns                  # the columns indices/names\n",
    "df.dtypes                   # listing of all columns' types\n",
    "df.describe()               # descriptive summary of all variables"
<<<<<<< HEAD
   ]
=======
   ],
   "metadata": {
    "collapsed": false
   },
   "outputs": [],
   "execution_count": null
  },
  {
   "metadata": {},
   "cell_type": "markdown",
   "source": [
    "### Plotting\n",
    "\n",
    "Same as pandas.Series, pandas.DataFrame has basic plotting capabilities where more than one variable may be involved."
   ]
  },
  {
   "metadata": {
    "ExecuteTime": {
     "end_time": "2025-03-14T22:11:41.812266Z",
     "start_time": "2025-03-14T22:11:41.214600Z"
    }
   },
   "cell_type": "code",
   "source": [
    "diamonds = pd.read_csv(\"data/diamonds.csv\")\n",
    "# scatterplot of carat vs price\n",
    "diamonds.plot.scatter(x='carat', y='price', c='carat', s=.5,\n",
    "                      figsize=(10,6), title=\"Scatterplot of carat vs price\", alpha=0.5);"
   ],
   "outputs": [
    {
     "data": {
      "text/plain": [
       "<Figure size 1000x600 with 2 Axes>"
      ],
      "image/png": "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"
     },
     "metadata": {},
     "output_type": "display_data"
    }
   ],
   "execution_count": 117
>>>>>>> 0562cc1c7a2785312b97b18111f4360585aaea7a
  },
  {
   "cell_type": "markdown",
   "metadata": {
    "collapsed": false
   },
   "source": [
    "## Select columns\n",
    "\n",
    "### Single column\n",
    "\n",
    "You can select a column from a DataFrame using the square bracket `df[\"column_name\"]` or `df.column_name`. When only one column name is given the result is a Series, with a list of columns the result is a DataFrame:"
   ]
  },
  {
   "cell_type": "code",
<<<<<<< HEAD
   "execution_count": 39,
   "metadata": {
    "collapsed": false
   },
   "outputs": [
    {
     "data": {
      "text/html": [
       "<div>\n",
       "<style scoped>\n",
       "    .dataframe tbody tr th:only-of-type {\n",
       "        vertical-align: middle;\n",
       "    }\n",
       "\n",
       "    .dataframe tbody tr th {\n",
       "        vertical-align: top;\n",
       "    }\n",
       "\n",
       "    .dataframe thead th {\n",
       "        text-align: right;\n",
       "    }\n",
       "</style>\n",
       "<table border=\"1\" class=\"dataframe\">\n",
       "  <thead>\n",
       "    <tr style=\"text-align: right;\">\n",
       "      <th></th>\n",
       "      <th>x</th>\n",
       "    </tr>\n",
       "  </thead>\n",
       "  <tbody>\n",
       "    <tr>\n",
       "      <th>0</th>\n",
       "      <td>-0.969966</td>\n",
       "    </tr>\n",
       "    <tr>\n",
       "      <th>1</th>\n",
       "      <td>-1.508814</td>\n",
       "    </tr>\n",
       "    <tr>\n",
       "      <th>2</th>\n",
       "      <td>1.167913</td>\n",
       "    </tr>\n",
       "    <tr>\n",
       "      <th>3</th>\n",
       "      <td>-3.415019</td>\n",
       "    </tr>\n",
       "    <tr>\n",
       "      <th>4</th>\n",
       "      <td>-0.681353</td>\n",
       "    </tr>\n",
       "    <tr>\n",
       "      <th>5</th>\n",
       "      <td>1.066314</td>\n",
       "    </tr>\n",
       "    <tr>\n",
       "      <th>6</th>\n",
       "      <td>0.221689</td>\n",
       "    </tr>\n",
       "    <tr>\n",
       "      <th>7</th>\n",
       "      <td>-0.528065</td>\n",
       "    </tr>\n",
       "    <tr>\n",
       "      <th>8</th>\n",
       "      <td>-1.018513</td>\n",
       "    </tr>\n",
       "    <tr>\n",
       "      <th>9</th>\n",
       "      <td>1.570220</td>\n",
       "    </tr>\n",
       "  </tbody>\n",
       "</table>\n",
       "</div>"
      ],
      "text/plain": [
       "          x\n",
       "0 -0.969966\n",
       "1 -1.508814\n",
       "2  1.167913\n",
       "3 -3.415019\n",
       "4 -0.681353\n",
       "5  1.066314\n",
       "6  0.221689\n",
       "7 -0.528065\n",
       "8 -1.018513\n",
       "9  1.570220"
      ]
     },
     "execution_count": 39,
     "metadata": {},
     "output_type": "execute_result"
    }
   ],
=======
>>>>>>> 0562cc1c7a2785312b97b18111f4360585aaea7a
   "source": [
    "df[\"x\"]   # Series\n",
    "df.x      # <=>  df[\"x\"]\n",
    "df[[\"x\"]] # DataFrame"
<<<<<<< HEAD
   ]
=======
   ],
   "metadata": {
    "collapsed": false
   },
   "outputs": [],
   "execution_count": null
>>>>>>> 0562cc1c7a2785312b97b18111f4360585aaea7a
  },
  {
   "cell_type": "markdown",
   "metadata": {
    "collapsed": false
   },
   "source": [
    "Only `valid python names` can be accessed through dot `.`:"
   ]
  },
  {
   "cell_type": "code",
<<<<<<< HEAD
   "execution_count": 36,
   "metadata": {
    "collapsed": false
   },
   "outputs": [
    {
     "data": {
      "text/plain": [
       "0    1\n",
       "1    2\n",
       "2    3\n",
       "Name: valid_name, dtype: int64"
      ]
     },
     "execution_count": 36,
     "metadata": {},
     "output_type": "execute_result"
    }
   ],
   "source": [
    "pd.DataFrame({'valid_name': [1,2,3], 'another variable':[3,2,1]  }).valid_name"
   ]
=======
   "source": [
    "pd.DataFrame({'valid_name': [1,2,3], 'another variable':[3,2,1]  }).valid_name"
   ],
   "metadata": {
    "collapsed": false
   },
   "outputs": [],
   "execution_count": null
>>>>>>> 0562cc1c7a2785312b97b18111f4360585aaea7a
  },
  {
   "cell_type": "markdown",
   "metadata": {
    "collapsed": false
   },
   "source": [
    "### Multiple columns\n",
    "\n",
    "Use a list of indices to select multiple columns:"
   ]
  },
  {
   "cell_type": "code",
<<<<<<< HEAD
   "execution_count": 40,
   "metadata": {
    "collapsed": false
   },
   "outputs": [
    {
     "ename": "KeyError",
     "evalue": "\"None of [Index(['Periods', 'TotalSupply_1'], dtype='object')] are in the [columns]\"",
     "output_type": "error",
     "traceback": [
      "\u001b[0;31m---------------------------------------------------------------------------\u001b[0m",
      "\u001b[0;31mKeyError\u001b[0m                                  Traceback (most recent call last)",
      "Cell \u001b[0;32mIn[40], line 1\u001b[0m\n\u001b[0;32m----> 1\u001b[0m \u001b[43mdf\u001b[49m\u001b[43m[\u001b[49m\u001b[43m[\u001b[49m\u001b[38;5;124;43m'\u001b[39;49m\u001b[38;5;124;43mPeriods\u001b[39;49m\u001b[38;5;124;43m'\u001b[39;49m\u001b[43m,\u001b[49m\u001b[43m \u001b[49m\u001b[38;5;124;43m'\u001b[39;49m\u001b[38;5;124;43mTotalSupply_1\u001b[39;49m\u001b[38;5;124;43m'\u001b[39;49m\u001b[43m]\u001b[49m\u001b[43m]\u001b[49m  \u001b[38;5;66;03m# explicit\u001b[39;00m\n\u001b[1;32m      2\u001b[0m df[df\u001b[38;5;241m.\u001b[39mcolumns[[\u001b[38;5;241m1\u001b[39m,\u001b[38;5;241m2\u001b[39m]]]             \u001b[38;5;66;03m# use indices on df.columns\u001b[39;00m\n",
      "File \u001b[0;32m/Library/Frameworks/Python.framework/Versions/3.12/lib/python3.12/site-packages/pandas/core/frame.py:4108\u001b[0m, in \u001b[0;36mDataFrame.__getitem__\u001b[0;34m(self, key)\u001b[0m\n\u001b[1;32m   4106\u001b[0m     \u001b[38;5;28;01mif\u001b[39;00m is_iterator(key):\n\u001b[1;32m   4107\u001b[0m         key \u001b[38;5;241m=\u001b[39m \u001b[38;5;28mlist\u001b[39m(key)\n\u001b[0;32m-> 4108\u001b[0m     indexer \u001b[38;5;241m=\u001b[39m \u001b[38;5;28;43mself\u001b[39;49m\u001b[38;5;241;43m.\u001b[39;49m\u001b[43mcolumns\u001b[49m\u001b[38;5;241;43m.\u001b[39;49m\u001b[43m_get_indexer_strict\u001b[49m\u001b[43m(\u001b[49m\u001b[43mkey\u001b[49m\u001b[43m,\u001b[49m\u001b[43m \u001b[49m\u001b[38;5;124;43m\"\u001b[39;49m\u001b[38;5;124;43mcolumns\u001b[39;49m\u001b[38;5;124;43m\"\u001b[39;49m\u001b[43m)\u001b[49m[\u001b[38;5;241m1\u001b[39m]\n\u001b[1;32m   4110\u001b[0m \u001b[38;5;66;03m# take() does not accept boolean indexers\u001b[39;00m\n\u001b[1;32m   4111\u001b[0m \u001b[38;5;28;01mif\u001b[39;00m \u001b[38;5;28mgetattr\u001b[39m(indexer, \u001b[38;5;124m\"\u001b[39m\u001b[38;5;124mdtype\u001b[39m\u001b[38;5;124m\"\u001b[39m, \u001b[38;5;28;01mNone\u001b[39;00m) \u001b[38;5;241m==\u001b[39m \u001b[38;5;28mbool\u001b[39m:\n",
      "File \u001b[0;32m/Library/Frameworks/Python.framework/Versions/3.12/lib/python3.12/site-packages/pandas/core/indexes/base.py:6200\u001b[0m, in \u001b[0;36mIndex._get_indexer_strict\u001b[0;34m(self, key, axis_name)\u001b[0m\n\u001b[1;32m   6197\u001b[0m \u001b[38;5;28;01melse\u001b[39;00m:\n\u001b[1;32m   6198\u001b[0m     keyarr, indexer, new_indexer \u001b[38;5;241m=\u001b[39m \u001b[38;5;28mself\u001b[39m\u001b[38;5;241m.\u001b[39m_reindex_non_unique(keyarr)\n\u001b[0;32m-> 6200\u001b[0m \u001b[38;5;28;43mself\u001b[39;49m\u001b[38;5;241;43m.\u001b[39;49m\u001b[43m_raise_if_missing\u001b[49m\u001b[43m(\u001b[49m\u001b[43mkeyarr\u001b[49m\u001b[43m,\u001b[49m\u001b[43m \u001b[49m\u001b[43mindexer\u001b[49m\u001b[43m,\u001b[49m\u001b[43m \u001b[49m\u001b[43maxis_name\u001b[49m\u001b[43m)\u001b[49m\n\u001b[1;32m   6202\u001b[0m keyarr \u001b[38;5;241m=\u001b[39m \u001b[38;5;28mself\u001b[39m\u001b[38;5;241m.\u001b[39mtake(indexer)\n\u001b[1;32m   6203\u001b[0m \u001b[38;5;28;01mif\u001b[39;00m \u001b[38;5;28misinstance\u001b[39m(key, Index):\n\u001b[1;32m   6204\u001b[0m     \u001b[38;5;66;03m# GH 42790 - Preserve name from an Index\u001b[39;00m\n",
      "File \u001b[0;32m/Library/Frameworks/Python.framework/Versions/3.12/lib/python3.12/site-packages/pandas/core/indexes/base.py:6249\u001b[0m, in \u001b[0;36mIndex._raise_if_missing\u001b[0;34m(self, key, indexer, axis_name)\u001b[0m\n\u001b[1;32m   6247\u001b[0m \u001b[38;5;28;01mif\u001b[39;00m nmissing:\n\u001b[1;32m   6248\u001b[0m     \u001b[38;5;28;01mif\u001b[39;00m nmissing \u001b[38;5;241m==\u001b[39m \u001b[38;5;28mlen\u001b[39m(indexer):\n\u001b[0;32m-> 6249\u001b[0m         \u001b[38;5;28;01mraise\u001b[39;00m \u001b[38;5;167;01mKeyError\u001b[39;00m(\u001b[38;5;124mf\u001b[39m\u001b[38;5;124m\"\u001b[39m\u001b[38;5;124mNone of [\u001b[39m\u001b[38;5;132;01m{\u001b[39;00mkey\u001b[38;5;132;01m}\u001b[39;00m\u001b[38;5;124m] are in the [\u001b[39m\u001b[38;5;132;01m{\u001b[39;00maxis_name\u001b[38;5;132;01m}\u001b[39;00m\u001b[38;5;124m]\u001b[39m\u001b[38;5;124m\"\u001b[39m)\n\u001b[1;32m   6251\u001b[0m     not_found \u001b[38;5;241m=\u001b[39m \u001b[38;5;28mlist\u001b[39m(ensure_index(key)[missing_mask\u001b[38;5;241m.\u001b[39mnonzero()[\u001b[38;5;241m0\u001b[39m]]\u001b[38;5;241m.\u001b[39munique())\n\u001b[1;32m   6252\u001b[0m     \u001b[38;5;28;01mraise\u001b[39;00m \u001b[38;5;167;01mKeyError\u001b[39;00m(\u001b[38;5;124mf\u001b[39m\u001b[38;5;124m\"\u001b[39m\u001b[38;5;132;01m{\u001b[39;00mnot_found\u001b[38;5;132;01m}\u001b[39;00m\u001b[38;5;124m not in index\u001b[39m\u001b[38;5;124m\"\u001b[39m)\n",
      "\u001b[0;31mKeyError\u001b[0m: \"None of [Index(['Periods', 'TotalSupply_1'], dtype='object')] are in the [columns]\""
     ]
    }
   ],
   "source": [
    "df[['Periods', 'TotalSupply_1']]  # explicit\n",
    "df[df.columns[[1,2]]]             # use indices on df.columns"
   ]
=======
   "source": [
    "df[['Periods', 'TotalSupply_1']]  # explicit\n",
    "df[df.columns[[1,2]]]             # use indices on df.columns"
   ],
   "metadata": {
    "collapsed": false
   },
   "outputs": [],
   "execution_count": null
>>>>>>> 0562cc1c7a2785312b97b18111f4360585aaea7a
  },
  {
   "cell_type": "markdown",
   "metadata": {
    "collapsed": false
   },
   "source": [
    "## Select rows\n",
    "\n",
    "### Using logical criteria\n",
    "\n",
    "Similar to NumPy logical masks we can filter out rows for which the logical condition succeeds. A condition on the variables of a DataFrame returns a logical value for each row in a format of a `Series` object:"
   ]
  },
  {
   "cell_type": "code",
<<<<<<< HEAD
   "execution_count": 41,
   "metadata": {
    "collapsed": false
   },
   "outputs": [
    {
     "data": {
      "text/html": [
       "<div>\n",
       "<style scoped>\n",
       "    .dataframe tbody tr th:only-of-type {\n",
       "        vertical-align: middle;\n",
       "    }\n",
       "\n",
       "    .dataframe tbody tr th {\n",
       "        vertical-align: top;\n",
       "    }\n",
       "\n",
       "    .dataframe thead th {\n",
       "        text-align: right;\n",
       "    }\n",
       "</style>\n",
       "<table border=\"1\" class=\"dataframe\">\n",
       "  <thead>\n",
       "    <tr style=\"text-align: right;\">\n",
       "      <th></th>\n",
       "      <th>x</th>\n",
       "      <th>y</th>\n",
       "    </tr>\n",
       "  </thead>\n",
       "  <tbody>\n",
       "    <tr>\n",
       "      <th>3</th>\n",
       "      <td>-1.734609</td>\n",
       "      <td>0.872757</td>\n",
       "    </tr>\n",
       "    <tr>\n",
       "      <th>6</th>\n",
       "      <td>-0.474223</td>\n",
       "      <td>0.637686</td>\n",
       "    </tr>\n",
       "  </tbody>\n",
       "</table>\n",
       "</div>"
      ],
      "text/plain": [
       "          x         y\n",
       "3 -1.734609  0.872757\n",
       "6 -0.474223  0.637686"
      ]
     },
     "execution_count": 41,
     "metadata": {},
     "output_type": "execute_result"
    }
   ],
   "source": [
    "df = pd.DataFrame({'x': rng.standard_normal(10), 'y': rng.standard_normal(10)}) # x and y two random variables\n",
    "df[((df.x < 0) & (df.y > 0))]  # parentheses are required"
   ]
=======
   "source": [
    "df = pd.DataFrame({'x': rng.standard_normal(10), 'y': rng.standard_normal(10)}) # x and y two random variables\n",
    "df[((df.x < 0) & (df.y > 0))]  # parentheses are required"
   ],
   "metadata": {
    "collapsed": false
   },
   "outputs": [],
   "execution_count": null
>>>>>>> 0562cc1c7a2785312b97b18111f4360585aaea7a
  },
  {
   "cell_type": "markdown",
   "metadata": {
    "collapsed": false
   },
   "source": [
    "### Using index : loc method\n",
    "\n",
    "Rows in a Dataframe are by default indexed with $[0,n)$. The `DataFrame` method `loc` can be used in the following forms:\n",
    "\n",
    "- `df.loc[<row-label>]`                : select a row by numeric index\n",
    "- `df.loc[<row-label>,<column-label>]` : select the indexed entry\n",
    "\n",
    "Both row-label and column-label may take values such as, a single label,  list/array of labels, slices, boolean arrays and series. Though these indexing schemes may look similar to NumPy, there are two cautionary remarks:\n",
    "\n",
    "- The labels are not positional indices.\n",
    "- The slices used with `.loc` are inclusive of start and stop, i.e. [0,k].\n"
   ]
  },
  {
   "cell_type": "code",
<<<<<<< HEAD
   "execution_count": 42,
   "metadata": {
    "collapsed": false
   },
   "outputs": [
    {
     "data": {
      "text/plain": [
       "0    1.297574\n",
       "2   -1.359290\n",
       "4    0.758476\n",
       "5    0.986158\n",
       "8   -0.619895\n",
       "9   -0.783531\n",
       "Name: x, dtype: float64"
      ]
     },
     "execution_count": 42,
     "metadata": {},
     "output_type": "execute_result"
    }
   ],
=======
>>>>>>> 0562cc1c7a2785312b97b18111f4360585aaea7a
   "source": [
    "df.loc[1]               # [.] row 1 as a Series\n",
    "df.loc[[1]]             # [[.]] row 1 as a DataFrame\n",
    "df.loc[1,'x']           # [.,.] labels\n",
    "df.loc[0:3, 'x':'y']    # [.,.] slices\n",
    "df.loc[df.x > df.y,'x'] # [.,.] boolean"
<<<<<<< HEAD
   ]
=======
   ],
   "metadata": {
    "collapsed": false
   },
   "outputs": [],
   "execution_count": null
>>>>>>> 0562cc1c7a2785312b97b18111f4360585aaea7a
  },
  {
   "cell_type": "markdown",
   "metadata": {
    "collapsed": false
   },
   "source": [
    "**iloc:** Also take a look at the method `iloc` which is similar to `loc` except it only accepts positional integers or ranges for rows and columns indices."
   ]
  },
  {
   "cell_type": "markdown",
   "metadata": {
    "collapsed": false
   },
   "source": [
    "## Update variables\n",
    "\n",
    "DataFrame's columns can be updated with an assignment `=` with or without a row selection:"
   ]
  },
  {
   "cell_type": "code",
<<<<<<< HEAD
   "execution_count": 48,
   "metadata": {
    "collapsed": false
   },
   "outputs": [
    {
     "data": {
      "text/html": [
       "<div>\n",
       "<style scoped>\n",
       "    .dataframe tbody tr th:only-of-type {\n",
       "        vertical-align: middle;\n",
       "    }\n",
       "\n",
       "    .dataframe tbody tr th {\n",
       "        vertical-align: top;\n",
       "    }\n",
       "\n",
       "    .dataframe thead th {\n",
       "        text-align: right;\n",
       "    }\n",
       "</style>\n",
       "<table border=\"1\" class=\"dataframe\">\n",
       "  <thead>\n",
       "    <tr style=\"text-align: right;\">\n",
       "      <th></th>\n",
       "      <th>x</th>\n",
       "      <th>y</th>\n",
       "    </tr>\n",
       "  </thead>\n",
       "  <tbody>\n",
       "    <tr>\n",
       "      <th>0</th>\n",
       "      <td>0</td>\n",
       "      <td>NaN</td>\n",
       "    </tr>\n",
       "    <tr>\n",
       "      <th>1</th>\n",
       "      <td>1</td>\n",
       "      <td>1.241735</td>\n",
       "    </tr>\n",
       "    <tr>\n",
       "      <th>2</th>\n",
       "      <td>2</td>\n",
       "      <td>NaN</td>\n",
       "    </tr>\n",
       "    <tr>\n",
       "      <th>3</th>\n",
       "      <td>3</td>\n",
       "      <td>0.872757</td>\n",
       "    </tr>\n",
       "    <tr>\n",
       "      <th>4</th>\n",
       "      <td>4</td>\n",
       "      <td>NaN</td>\n",
       "    </tr>\n",
       "    <tr>\n",
       "      <th>5</th>\n",
       "      <td>5</td>\n",
       "      <td>-1.229764</td>\n",
       "    </tr>\n",
       "    <tr>\n",
       "      <th>6</th>\n",
       "      <td>6</td>\n",
       "      <td>NaN</td>\n",
       "    </tr>\n",
       "    <tr>\n",
       "      <th>7</th>\n",
       "      <td>7</td>\n",
       "      <td>1.001339</td>\n",
       "    </tr>\n",
       "    <tr>\n",
       "      <th>8</th>\n",
       "      <td>8</td>\n",
       "      <td>NaN</td>\n",
       "    </tr>\n",
       "    <tr>\n",
       "      <th>9</th>\n",
       "      <td>9</td>\n",
       "      <td>-1.039774</td>\n",
       "    </tr>\n",
       "  </tbody>\n",
       "</table>\n",
       "</div>"
      ],
      "text/plain": [
       "   x         y\n",
       "0  0       NaN\n",
       "1  1  1.241735\n",
       "2  2       NaN\n",
       "3  3  0.872757\n",
       "4  4       NaN\n",
       "5  5 -1.229764\n",
       "6  6       NaN\n",
       "7  7  1.001339\n",
       "8  8       NaN\n",
       "9  9 -1.039774"
      ]
     },
     "execution_count": 48,
     "metadata": {},
     "output_type": "execute_result"
    }
   ],
   "source": [
    "df.x=range(df.shape[0])            # variable size and the size of the new values must match.\n",
    "df.loc[(df.x % 2 ==0),'y'] = None  # set y values to NaN where x is an even value\n",
    "df"
   ]
=======
   "source": [
    "df.x=range(df.shape[0])            # variable size and the size of the new values must match.\n",
    "df.loc[(df.x % 2 ==0),'y'] = None  # set y values to NaN where x is an even value"
   ],
   "metadata": {
    "collapsed": false
   },
   "outputs": [],
   "execution_count": null
>>>>>>> 0562cc1c7a2785312b97b18111f4360585aaea7a
  },
  {
   "cell_type": "markdown",
   "metadata": {
    "collapsed": false
   },
   "source": [
    "Value update according to a selection should only be done using `.loc` (or `.iloc`) method. For example both selections below are equivalent but only the `.loc` version can be used in an assignment:"
   ]
  },
  {
   "cell_type": "code",
<<<<<<< HEAD
   "execution_count": 49,
   "metadata": {
    "collapsed": false
   },
   "outputs": [
    {
     "name": "stderr",
     "output_type": "stream",
     "text": [
      "/var/folders/f4/t_cy1xv16699zj8q2mf2mcs00000gn/T/ipykernel_53542/3463181715.py:4: FutureWarning: ChainedAssignmentError: behaviour will change in pandas 3.0!\n",
      "You are setting values through chained assignment. Currently this works in certain cases, but when using Copy-on-Write (which will become the default behaviour in pandas 3.0) this will never work to update the original DataFrame or Series, because the intermediate object on which we are setting values will behave as a copy.\n",
      "A typical example is when you are setting values in a column of a DataFrame, like:\n",
      "\n",
      "df[\"col\"][row_indexer] = value\n",
      "\n",
      "Use `df.loc[row_indexer, \"col\"] = values` instead, to perform the assignment in a single step and ensure this keeps updating the original `df`.\n",
      "\n",
      "See the caveats in the documentation: https://pandas.pydata.org/pandas-docs/stable/user_guide/indexing.html#returning-a-view-versus-a-copy\n",
      "\n",
      "  df[0::2]['y'] = -2      # warning\n",
      "/var/folders/f4/t_cy1xv16699zj8q2mf2mcs00000gn/T/ipykernel_53542/3463181715.py:4: SettingWithCopyWarning: \n",
      "A value is trying to be set on a copy of a slice from a DataFrame.\n",
      "Try using .loc[row_indexer,col_indexer] = value instead\n",
      "\n",
      "See the caveats in the documentation: https://pandas.pydata.org/pandas-docs/stable/user_guide/indexing.html#returning-a-view-versus-a-copy\n",
      "  df[0::2]['y'] = -2      # warning\n"
     ]
    }
   ],
=======
>>>>>>> 0562cc1c7a2785312b97b18111f4360585aaea7a
   "source": [
    "s1 = df[0::2]['y']      # selection with composition (aka chained)\n",
    "s2 = df.loc[0::2, 'y']  # selection with loc\n",
    "s1.equals(s2)           # s1 == s2\n",
    "df[0::2]['y'] = -2      # warning\n",
    "df.loc[0::2, 'y'] = -2  # valid"
<<<<<<< HEAD
   ]
=======
   ],
   "metadata": {
    "collapsed": false
   },
   "outputs": [],
   "execution_count": null
>>>>>>> 0562cc1c7a2785312b97b18111f4360585aaea7a
  },
  {
   "cell_type": "markdown",
   "metadata": {
    "collapsed": false
   },
   "source": [
    "## Merge Series and DataFrames\n",
    "\n",
    "To combine DataFrames use the `pd.concat` function:\n",
    "\n",
    "**Synopsis: &nbsp; &nbsp;**<tt>concat(objs, axis=0, ignore_index=False, copy=True)</tt>"
   ]
  },
  {
   "cell_type": "code",
<<<<<<< HEAD
   "execution_count": 50,
   "metadata": {
    "collapsed": false
   },
   "outputs": [
    {
     "data": {
      "text/html": [
       "<div>\n",
       "<style scoped>\n",
       "    .dataframe tbody tr th:only-of-type {\n",
       "        vertical-align: middle;\n",
       "    }\n",
       "\n",
       "    .dataframe tbody tr th {\n",
       "        vertical-align: top;\n",
       "    }\n",
       "\n",
       "    .dataframe thead th {\n",
       "        text-align: right;\n",
       "    }\n",
       "</style>\n",
       "<table border=\"1\" class=\"dataframe\">\n",
       "  <thead>\n",
       "    <tr style=\"text-align: right;\">\n",
       "      <th></th>\n",
       "      <th>0</th>\n",
       "      <th>1</th>\n",
       "    </tr>\n",
       "  </thead>\n",
       "  <tbody>\n",
       "    <tr>\n",
       "      <th>0</th>\n",
       "      <td>a</td>\n",
       "      <td>0</td>\n",
       "    </tr>\n",
       "    <tr>\n",
       "      <th>1</th>\n",
       "      <td>b</td>\n",
       "      <td>1</td>\n",
       "    </tr>\n",
       "    <tr>\n",
       "      <th>2</th>\n",
       "      <td>c</td>\n",
       "      <td>2</td>\n",
       "    </tr>\n",
       "    <tr>\n",
       "      <th>3</th>\n",
       "      <td>d</td>\n",
       "      <td>3</td>\n",
       "    </tr>\n",
       "  </tbody>\n",
       "</table>\n",
       "</div>"
      ],
      "text/plain": [
       "   0  1\n",
       "0  a  0\n",
       "1  b  1\n",
       "2  c  2\n",
       "3  d  3"
      ]
     },
     "execution_count": 50,
     "metadata": {},
     "output_type": "execute_result"
    }
   ],
=======
>>>>>>> 0562cc1c7a2785312b97b18111f4360585aaea7a
   "source": [
    "s1 = pd.Series(list(\"abcd\"))           # ['a', 'b', 'c', 'd']\n",
    "s2 = pd.Series(range(4))               # [0, 4)\n",
    "pd.concat([s1,s2])                     # Series\n",
    "pd.concat([s1,s2], ignore_index=True)  # Series\n",
<<<<<<< HEAD
    "pd.concat([s1,s2], axis=1)            # DataFrame"
   ]
  },
  {
   "cell_type": "code",
   "execution_count": 57,
   "metadata": {
    "collapsed": false
   },
   "outputs": [
    {
     "data": {
      "text/html": [
       "<div>\n",
       "<style scoped>\n",
       "    .dataframe tbody tr th:only-of-type {\n",
       "        vertical-align: middle;\n",
       "    }\n",
       "\n",
       "    .dataframe tbody tr th {\n",
       "        vertical-align: top;\n",
       "    }\n",
       "\n",
       "    .dataframe thead th {\n",
       "        text-align: right;\n",
       "    }\n",
       "</style>\n",
       "<table border=\"1\" class=\"dataframe\">\n",
       "  <thead>\n",
       "    <tr style=\"text-align: right;\">\n",
       "      <th></th>\n",
       "      <th>a</th>\n",
       "      <th>b</th>\n",
       "      <th>c</th>\n",
       "      <th>b</th>\n",
       "    </tr>\n",
       "  </thead>\n",
       "  <tbody>\n",
       "    <tr>\n",
       "      <th>0</th>\n",
       "      <td>0.0</td>\n",
       "      <td>a</td>\n",
       "      <td>0</td>\n",
       "      <td>e</td>\n",
       "    </tr>\n",
       "    <tr>\n",
       "      <th>1</th>\n",
       "      <td>1.0</td>\n",
       "      <td>b</td>\n",
       "      <td>1</td>\n",
       "      <td>d</td>\n",
       "    </tr>\n",
       "    <tr>\n",
       "      <th>2</th>\n",
       "      <td>2.0</td>\n",
       "      <td>c</td>\n",
       "      <td>2</td>\n",
       "      <td>c</td>\n",
       "    </tr>\n",
       "    <tr>\n",
       "      <th>3</th>\n",
       "      <td>NaN</td>\n",
       "      <td>NaN</td>\n",
       "      <td>3</td>\n",
       "      <td>b</td>\n",
       "    </tr>\n",
       "    <tr>\n",
       "      <th>4</th>\n",
       "      <td>NaN</td>\n",
       "      <td>NaN</td>\n",
       "      <td>4</td>\n",
       "      <td>a</td>\n",
       "    </tr>\n",
       "  </tbody>\n",
       "</table>\n",
       "</div>"
      ],
      "text/plain": [
       "     a    b  c  b\n",
       "0  0.0    a  0  e\n",
       "1  1.0    b  1  d\n",
       "2  2.0    c  2  c\n",
       "3  NaN  NaN  3  b\n",
       "4  NaN  NaN  4  a"
      ]
     },
     "execution_count": 57,
     "metadata": {},
     "output_type": "execute_result"
    }
   ],
=======
    "pd.concat([s1,s2], axis=1)             # DataFrame"
   ],
   "metadata": {
    "collapsed": false
   },
   "outputs": [],
   "execution_count": null
  },
  {
   "cell_type": "code",
>>>>>>> 0562cc1c7a2785312b97b18111f4360585aaea7a
   "source": [
    "df1 = pd.DataFrame({'a':range(3), 'b':list(\"abc\")})\n",
    "df2 = pd.DataFrame({'c':range(5), 'b':list(\"abcde\"[::-1])})\n",
    "pd.concat([df1,df2], axis=0, join='outer')  # along axis 0\n",
    "pd.concat([df1,df2], axis=1, join='outer')  # along axis 1"
<<<<<<< HEAD
   ]
=======
   ],
   "metadata": {
    "collapsed": false
   },
   "outputs": [],
   "execution_count": null
>>>>>>> 0562cc1c7a2785312b97b18111f4360585aaea7a
  },
  {
   "cell_type": "markdown",
   "metadata": {
    "collapsed": false
   },
   "source": [
    "## Add row to DataFrame\n",
    "\n",
    "For this we can use the `pd.concat` function:"
   ]
  },
  {
   "cell_type": "code",
<<<<<<< HEAD
   "execution_count": 62,
   "metadata": {
    "collapsed": false
   },
   "outputs": [
    {
     "data": {
      "text/html": [
       "<div>\n",
       "<style scoped>\n",
       "    .dataframe tbody tr th:only-of-type {\n",
       "        vertical-align: middle;\n",
       "    }\n",
       "\n",
       "    .dataframe tbody tr th {\n",
       "        vertical-align: top;\n",
       "    }\n",
       "\n",
       "    .dataframe thead th {\n",
       "        text-align: right;\n",
       "    }\n",
       "</style>\n",
       "<table border=\"1\" class=\"dataframe\">\n",
       "  <thead>\n",
       "    <tr style=\"text-align: right;\">\n",
       "      <th></th>\n",
       "      <th>Year</th>\n",
       "      <th>Month</th>\n",
       "      <th>Day</th>\n",
       "    </tr>\n",
       "  </thead>\n",
       "  <tbody>\n",
       "    <tr>\n",
       "      <th>0</th>\n",
       "      <td>2021</td>\n",
       "      <td>11</td>\n",
       "      <td>9</td>\n",
       "    </tr>\n",
       "    <tr>\n",
       "      <th>1</th>\n",
       "      <td>2021</td>\n",
       "      <td>12</td>\n",
       "      <td>16</td>\n",
       "    </tr>\n",
       "    <tr>\n",
       "      <th>0</th>\n",
       "      <td>2023</td>\n",
       "      <td>3</td>\n",
       "      <td>20</td>\n",
       "    </tr>\n",
       "  </tbody>\n",
       "</table>\n",
       "</div>"
      ],
      "text/plain": [
       "   Year  Month  Day\n",
       "0  2021     11    9\n",
       "1  2021     12   16\n",
       "0  2023      3   20"
      ]
     },
     "execution_count": 62,
     "metadata": {},
     "output_type": "execute_result"
    }
   ],
=======
>>>>>>> 0562cc1c7a2785312b97b18111f4360585aaea7a
   "source": [
    "df = pd.DataFrame({'Year': [2021, 2021], 'Month': [11, 12],'Day': [9, 16]})\n",
    "new_row =  pd.DataFrame({'Year': [2023], 'Month': [3],'Day': [20]})\n",
    "pd.concat([df, new_row])"
<<<<<<< HEAD
   ]
=======
   ],
   "metadata": {
    "collapsed": false
   },
   "outputs": [],
   "execution_count": null
>>>>>>> 0562cc1c7a2785312b97b18111f4360585aaea7a
  },
  {
   "cell_type": "markdown",
   "metadata": {
    "collapsed": false
   },
   "source": [
    "## Missing values\n",
    "\n",
<<<<<<< HEAD
    "Recall the special values None and NaN from the lectures representing no value and not a number. They are of different types and have different properties. In the context of DataFrames we have the notion of missing values, and they can be represented by both.\n",
    "\n",
    "NaN and None types:"
   ]
  },
  {
   "cell_type": "code",
   "execution_count": 63,
   "metadata": {
    "collapsed": false
   },
   "outputs": [
    {
     "data": {
      "text/plain": [
       "[str, float, float, int, NoneType]"
      ]
     },
     "execution_count": 63,
     "metadata": {},
     "output_type": "execute_result"
    }
   ],
   "source": [
    "s = pd.Series([\"0\", float('nan'), np.nan,  2, None])\n",
    "[type(v) for v in s]"
   ]
=======
    "In the context of DataFrames we have the notion of missing values and are typically represented by `np.nan` (from NumPy) or `None` (from Python). Both indicate missing or null data."
   ],
   "metadata": {
    "collapsed": false
   }
  },
  {
   "cell_type": "code",
   "source": [
    "s = pd.Series([\"0\", float('nan'), np.nan,  2, None])\n",
    "[type(v) for v in s]\n",
    "\n",
    "#\n",
    "df = pd.DataFrame({\"s\":[1,np.nan,3,None, 5], \"t\":[\"a\",np.nan, \"c\",None, \"e\"]})\n",
    "df['s'].dtype,df['t'].dtype,"
   ],
   "metadata": {
    "collapsed": false
   },
   "outputs": [],
   "execution_count": null
>>>>>>> 0562cc1c7a2785312b97b18111f4360585aaea7a
  },
  {
   "cell_type": "markdown",
   "metadata": {
    "collapsed": false
   },
   "source": [
    "### Handling missing data\n",
    "\n",
    "Possible actions when dealing with missing data are  *summarise*, *remove* or *replace* missing values.\n",
    "\n",
    "To be able to do any action on missing values you'll need to first find them. DataFrame and Series have the methods `isna` and `isnull` (alias to `isna`) for finding missing values. Both return a logical mask with `True` marking the location of the missing values. We will use `isna` throughout the lectures."
   ]
  },
  {
   "cell_type": "code",
<<<<<<< HEAD
   "execution_count": 68,
   "metadata": {
    "collapsed": false
   },
   "outputs": [
    {
     "data": {
      "text/plain": [
       "0    0\n",
       "3    2\n",
       "dtype: object"
      ]
     },
     "execution_count": 68,
     "metadata": {},
     "output_type": "execute_result"
    }
   ],
   "source": [
    "s.isna()      # isna: boolean marking missing value\n",
    "s[s.notna()]  # <=> s[~ s.isna()]"
   ]
=======
   "source": [
    "s.isna()      # isna: boolean marking missing value\n",
    "s[s.notna()]  # <=> s[~ s.isna()]"
   ],
   "metadata": {
    "collapsed": false
   },
   "outputs": [],
   "execution_count": null
>>>>>>> 0562cc1c7a2785312b97b18111f4360585aaea7a
  },
  {
   "cell_type": "markdown",
   "metadata": {
    "collapsed": false
   },
   "source": [
    "With `dropna` you may discard all missing from a Series object. With DataFrames you'll have more control in how to discard the missing.\n",
    "\n",
    "**Synopsis: &nbsp; &nbsp;**<tt>pandas.DataFrame.dropna(axis=0, how='any', thresh=None, inplace=False)</tt>"
   ]
  },
  {
   "cell_type": "code",
<<<<<<< HEAD
   "execution_count": 70,
   "metadata": {
    "collapsed": false
   },
   "outputs": [
    {
     "data": {
      "text/html": [
       "<div>\n",
       "<style scoped>\n",
       "    .dataframe tbody tr th:only-of-type {\n",
       "        vertical-align: middle;\n",
       "    }\n",
       "\n",
       "    .dataframe tbody tr th {\n",
       "        vertical-align: top;\n",
       "    }\n",
       "\n",
       "    .dataframe thead th {\n",
       "        text-align: right;\n",
       "    }\n",
       "</style>\n",
       "<table border=\"1\" class=\"dataframe\">\n",
       "  <thead>\n",
       "    <tr style=\"text-align: right;\">\n",
       "      <th></th>\n",
       "      <th>0</th>\n",
       "      <th>1</th>\n",
       "      <th>2</th>\n",
       "      <th>3</th>\n",
       "      <th>4</th>\n",
       "    </tr>\n",
       "  </thead>\n",
       "  <tbody>\n",
       "    <tr>\n",
       "      <th>0</th>\n",
       "      <td>7.0</td>\n",
       "      <td>0.0</td>\n",
       "      <td>0.0</td>\n",
       "      <td>1.0</td>\n",
       "      <td>0.0</td>\n",
       "    </tr>\n",
       "    <tr>\n",
       "      <th>1</th>\n",
       "      <td>9.0</td>\n",
       "      <td>NaN</td>\n",
       "      <td>6.0</td>\n",
       "      <td>7.0</td>\n",
       "      <td>NaN</td>\n",
       "    </tr>\n",
       "    <tr>\n",
       "      <th>2</th>\n",
       "      <td>9.0</td>\n",
       "      <td>NaN</td>\n",
       "      <td>7.0</td>\n",
       "      <td>2.0</td>\n",
       "      <td>1.0</td>\n",
       "    </tr>\n",
       "    <tr>\n",
       "      <th>3</th>\n",
       "      <td>4.0</td>\n",
       "      <td>5.0</td>\n",
       "      <td>3.0</td>\n",
       "      <td>3.0</td>\n",
       "      <td>NaN</td>\n",
       "    </tr>\n",
       "    <tr>\n",
       "      <th>4</th>\n",
       "      <td>2.0</td>\n",
       "      <td>0.0</td>\n",
       "      <td>5.0</td>\n",
       "      <td>0.0</td>\n",
       "      <td>1.0</td>\n",
       "    </tr>\n",
       "  </tbody>\n",
       "</table>\n",
       "</div>"
      ],
      "text/plain": [
       "     0    1    2    3    4\n",
       "0  7.0  0.0  0.0  1.0  0.0\n",
       "1  9.0  NaN  6.0  7.0  NaN\n",
       "2  9.0  NaN  7.0  2.0  1.0\n",
       "3  4.0  5.0  3.0  3.0  NaN\n",
       "4  2.0  0.0  5.0  0.0  1.0"
      ]
     },
     "execution_count": 70,
     "metadata": {},
     "output_type": "execute_result"
    }
   ],
   "source": [
    "sample_space = np.arange(10).tolist() + ([np.nan]*2)\n",
    "df = pd.DataFrame(rng.choice(sample_space,25).reshape(5,5))\n",
    "df"
   ]
  },
  {
   "cell_type": "code",
   "execution_count": 71,
   "metadata": {
    "collapsed": false
   },
   "outputs": [
    {
     "data": {
      "text/html": [
       "<div>\n",
       "<style scoped>\n",
       "    .dataframe tbody tr th:only-of-type {\n",
       "        vertical-align: middle;\n",
       "    }\n",
       "\n",
       "    .dataframe tbody tr th {\n",
       "        vertical-align: top;\n",
       "    }\n",
       "\n",
       "    .dataframe thead th {\n",
       "        text-align: right;\n",
       "    }\n",
       "</style>\n",
       "<table border=\"1\" class=\"dataframe\">\n",
       "  <thead>\n",
       "    <tr style=\"text-align: right;\">\n",
       "      <th></th>\n",
       "      <th>0</th>\n",
       "      <th>1</th>\n",
       "      <th>2</th>\n",
       "      <th>3</th>\n",
       "      <th>4</th>\n",
       "    </tr>\n",
       "  </thead>\n",
       "  <tbody>\n",
       "    <tr>\n",
       "      <th>0</th>\n",
       "      <td>7.0</td>\n",
       "      <td>0.0</td>\n",
       "      <td>0.0</td>\n",
       "      <td>1.0</td>\n",
       "      <td>0.0</td>\n",
       "    </tr>\n",
       "    <tr>\n",
       "      <th>1</th>\n",
       "      <td>9.0</td>\n",
       "      <td>NaN</td>\n",
       "      <td>6.0</td>\n",
       "      <td>7.0</td>\n",
       "      <td>NaN</td>\n",
       "    </tr>\n",
       "    <tr>\n",
       "      <th>2</th>\n",
       "      <td>9.0</td>\n",
       "      <td>NaN</td>\n",
       "      <td>7.0</td>\n",
       "      <td>2.0</td>\n",
       "      <td>1.0</td>\n",
       "    </tr>\n",
       "    <tr>\n",
       "      <th>3</th>\n",
       "      <td>4.0</td>\n",
       "      <td>5.0</td>\n",
       "      <td>3.0</td>\n",
       "      <td>3.0</td>\n",
       "      <td>NaN</td>\n",
       "    </tr>\n",
       "    <tr>\n",
       "      <th>4</th>\n",
       "      <td>2.0</td>\n",
       "      <td>0.0</td>\n",
       "      <td>5.0</td>\n",
       "      <td>0.0</td>\n",
       "      <td>1.0</td>\n",
       "    </tr>\n",
       "  </tbody>\n",
       "</table>\n",
       "</div>"
      ],
      "text/plain": [
       "     0    1    2    3    4\n",
       "0  7.0  0.0  0.0  1.0  0.0\n",
       "1  9.0  NaN  6.0  7.0  NaN\n",
       "2  9.0  NaN  7.0  2.0  1.0\n",
       "3  4.0  5.0  3.0  3.0  NaN\n",
       "4  2.0  0.0  5.0  0.0  1.0"
      ]
     },
     "execution_count": 71,
     "metadata": {},
     "output_type": "execute_result"
    }
   ],
=======
   "source": [
    "sample_space = np.arange(10).tolist() + ([np.nan]*2)\n",
    "df = pd.DataFrame(rng.choice(sample_space,25).reshape(5,5))"
   ],
   "metadata": {
    "collapsed": false
   },
   "outputs": [],
   "execution_count": null
  },
  {
   "cell_type": "code",
>>>>>>> 0562cc1c7a2785312b97b18111f4360585aaea7a
   "source": [
    "df.dropna(axis=0) # default : drop rows having any missing values\n",
    "df.dropna(axis=1) # drop columns having any missing values\n",
    "df.dropna(axis=1, how='all') # drop columns having only missing values"
<<<<<<< HEAD
   ]
=======
   ],
   "metadata": {
    "collapsed": false
   },
   "outputs": [],
   "execution_count": null
>>>>>>> 0562cc1c7a2785312b97b18111f4360585aaea7a
  },
  {
   "cell_type": "markdown",
   "metadata": {
    "collapsed": false
   },
   "source": [
    "With `fillna` we can replace the missing with values, either fixed or a set of values (Series,DataFrame etc.) according to the indices. We only illustrate scalars here:"
   ]
  },
  {
   "cell_type": "code",
<<<<<<< HEAD
   "execution_count": 73,
   "metadata": {
    "collapsed": false
   },
   "outputs": [
    {
     "data": {
      "text/html": [
       "<div>\n",
       "<style scoped>\n",
       "    .dataframe tbody tr th:only-of-type {\n",
       "        vertical-align: middle;\n",
       "    }\n",
       "\n",
       "    .dataframe tbody tr th {\n",
       "        vertical-align: top;\n",
       "    }\n",
       "\n",
       "    .dataframe thead th {\n",
       "        text-align: right;\n",
       "    }\n",
       "</style>\n",
       "<table border=\"1\" class=\"dataframe\">\n",
       "  <thead>\n",
       "    <tr style=\"text-align: right;\">\n",
       "      <th></th>\n",
       "      <th>0</th>\n",
       "      <th>1</th>\n",
       "      <th>2</th>\n",
       "      <th>3</th>\n",
       "      <th>4</th>\n",
       "    </tr>\n",
       "  </thead>\n",
       "  <tbody>\n",
       "    <tr>\n",
       "      <th>0</th>\n",
       "      <td>7.0</td>\n",
       "      <td>0.000000</td>\n",
       "      <td>0.0</td>\n",
       "      <td>1.0</td>\n",
       "      <td>0.000000</td>\n",
       "    </tr>\n",
       "    <tr>\n",
       "      <th>1</th>\n",
       "      <td>9.0</td>\n",
       "      <td>1.666667</td>\n",
       "      <td>6.0</td>\n",
       "      <td>7.0</td>\n",
       "      <td>0.666667</td>\n",
       "    </tr>\n",
       "    <tr>\n",
       "      <th>2</th>\n",
       "      <td>9.0</td>\n",
       "      <td>1.666667</td>\n",
       "      <td>7.0</td>\n",
       "      <td>2.0</td>\n",
       "      <td>1.000000</td>\n",
       "    </tr>\n",
       "    <tr>\n",
       "      <th>3</th>\n",
       "      <td>4.0</td>\n",
       "      <td>5.000000</td>\n",
       "      <td>3.0</td>\n",
       "      <td>3.0</td>\n",
       "      <td>0.666667</td>\n",
       "    </tr>\n",
       "    <tr>\n",
       "      <th>4</th>\n",
       "      <td>2.0</td>\n",
       "      <td>0.000000</td>\n",
       "      <td>5.0</td>\n",
       "      <td>0.0</td>\n",
       "      <td>1.000000</td>\n",
       "    </tr>\n",
       "  </tbody>\n",
       "</table>\n",
       "</div>"
      ],
      "text/plain": [
       "     0         1    2    3         4\n",
       "0  7.0  0.000000  0.0  1.0  0.000000\n",
       "1  9.0  1.666667  6.0  7.0  0.666667\n",
       "2  9.0  1.666667  7.0  2.0  1.000000\n",
       "3  4.0  5.000000  3.0  3.0  0.666667\n",
       "4  2.0  0.000000  5.0  0.0  1.000000"
      ]
     },
     "execution_count": 73,
     "metadata": {},
     "output_type": "execute_result"
    }
   ],
   "source": [
    "df.fillna(0)\n",
    "df.fillna(df.mean(axis=0))"
   ]
=======
   "source": "df.fillna(0)",
   "metadata": {
    "collapsed": false
   },
   "outputs": [],
   "execution_count": null
>>>>>>> 0562cc1c7a2785312b97b18111f4360585aaea7a
  },
  {
   "cell_type": "markdown",
   "metadata": {
    "collapsed": false
   },
   "source": [
    "## Group operations\n",
    "\n",
    "When the data has categorical variables we may be interested in descriptive statistics on each group. This can be done by first grouping the data with `groupby` method and then summarise on those groups. I'll use the [diamonds](https://ggplot2.tidyverse.org/reference/diamonds.html) dataset for illustration."
   ]
  },
  {
   "cell_type": "code",
<<<<<<< HEAD
   "execution_count": 74,
   "metadata": {
    "collapsed": false
   },
   "outputs": [],
   "source": [
    "diamonds = pd.read_csv(\"data/diamonds.csv\") # read diamonds.csv"
   ]
  },
  {
   "cell_type": "code",
   "execution_count": 80,
   "metadata": {
    "collapsed": false
   },
   "outputs": [
    {
     "data": {
      "text/html": [
       "<div>\n",
       "<style scoped>\n",
       "    .dataframe tbody tr th:only-of-type {\n",
       "        vertical-align: middle;\n",
       "    }\n",
       "\n",
       "    .dataframe tbody tr th {\n",
       "        vertical-align: top;\n",
       "    }\n",
       "\n",
       "    .dataframe thead th {\n",
       "        text-align: right;\n",
       "    }\n",
       "</style>\n",
       "<table border=\"1\" class=\"dataframe\">\n",
       "  <thead>\n",
       "    <tr style=\"text-align: right;\">\n",
       "      <th></th>\n",
       "      <th>cut</th>\n",
       "      <th>clarity</th>\n",
       "      <th>carat</th>\n",
       "      <th>depth</th>\n",
       "      <th>table</th>\n",
       "      <th>price</th>\n",
       "      <th>x</th>\n",
       "      <th>y</th>\n",
       "      <th>z</th>\n",
       "    </tr>\n",
       "  </thead>\n",
       "  <tbody>\n",
       "    <tr>\n",
       "      <th>0</th>\n",
       "      <td>Fair</td>\n",
       "      <td>I1</td>\n",
       "      <td>1.361000</td>\n",
       "      <td>65.699048</td>\n",
       "      <td>58.114286</td>\n",
       "      <td>3703.533333</td>\n",
       "      <td>6.723000</td>\n",
       "      <td>6.624238</td>\n",
       "      <td>4.386905</td>\n",
       "    </tr>\n",
       "    <tr>\n",
       "      <th>1</th>\n",
       "      <td>Fair</td>\n",
       "      <td>IF</td>\n",
       "      <td>0.474444</td>\n",
       "      <td>60.066667</td>\n",
       "      <td>59.111111</td>\n",
       "      <td>1912.333333</td>\n",
       "      <td>5.050000</td>\n",
       "      <td>5.050000</td>\n",
       "      <td>3.033333</td>\n",
       "    </tr>\n",
       "    <tr>\n",
       "      <th>2</th>\n",
       "      <td>Fair</td>\n",
       "      <td>SI1</td>\n",
       "      <td>0.964632</td>\n",
       "      <td>63.910294</td>\n",
       "      <td>59.126961</td>\n",
       "      <td>4208.279412</td>\n",
       "      <td>6.127230</td>\n",
       "      <td>6.071985</td>\n",
       "      <td>3.895711</td>\n",
       "    </tr>\n",
       "    <tr>\n",
       "      <th>3</th>\n",
       "      <td>Fair</td>\n",
       "      <td>SI2</td>\n",
       "      <td>1.203841</td>\n",
       "      <td>64.421888</td>\n",
       "      <td>58.828326</td>\n",
       "      <td>5173.916309</td>\n",
       "      <td>6.570343</td>\n",
       "      <td>6.503927</td>\n",
       "      <td>4.211867</td>\n",
       "    </tr>\n",
       "    <tr>\n",
       "      <th>4</th>\n",
       "      <td>Fair</td>\n",
       "      <td>VS1</td>\n",
       "      <td>0.879824</td>\n",
       "      <td>62.945294</td>\n",
       "      <td>60.365294</td>\n",
       "      <td>4165.141176</td>\n",
       "      <td>5.932353</td>\n",
       "      <td>5.864059</td>\n",
       "      <td>3.709882</td>\n",
       "    </tr>\n",
       "    <tr>\n",
       "      <th>5</th>\n",
       "      <td>Fair</td>\n",
       "      <td>VS2</td>\n",
       "      <td>0.885249</td>\n",
       "      <td>63.637548</td>\n",
       "      <td>59.050958</td>\n",
       "      <td>4174.724138</td>\n",
       "      <td>5.966590</td>\n",
       "      <td>5.907011</td>\n",
       "      <td>3.780230</td>\n",
       "    </tr>\n",
       "    <tr>\n",
       "      <th>6</th>\n",
       "      <td>Fair</td>\n",
       "      <td>VVS1</td>\n",
       "      <td>0.664706</td>\n",
       "      <td>60.417647</td>\n",
       "      <td>61.235294</td>\n",
       "      <td>3871.352941</td>\n",
       "      <td>5.503529</td>\n",
       "      <td>5.508824</td>\n",
       "      <td>3.327647</td>\n",
       "    </tr>\n",
       "    <tr>\n",
       "      <th>7</th>\n",
       "      <td>Fair</td>\n",
       "      <td>VVS2</td>\n",
       "      <td>0.691594</td>\n",
       "      <td>62.847826</td>\n",
       "      <td>59.237681</td>\n",
       "      <td>3349.768116</td>\n",
       "      <td>5.495507</td>\n",
       "      <td>5.464638</td>\n",
       "      <td>3.444058</td>\n",
       "    </tr>\n",
       "    <tr>\n",
       "      <th>8</th>\n",
       "      <td>Good</td>\n",
       "      <td>I1</td>\n",
       "      <td>1.203021</td>\n",
       "      <td>62.067708</td>\n",
       "      <td>59.497917</td>\n",
       "      <td>3596.635417</td>\n",
       "      <td>6.651562</td>\n",
       "      <td>6.614792</td>\n",
       "      <td>4.065625</td>\n",
       "    </tr>\n",
       "    <tr>\n",
       "      <th>9</th>\n",
       "      <td>Good</td>\n",
       "      <td>IF</td>\n",
       "      <td>0.616338</td>\n",
       "      <td>61.440845</td>\n",
       "      <td>59.056338</td>\n",
       "      <td>4098.323944</td>\n",
       "      <td>5.278310</td>\n",
       "      <td>5.315070</td>\n",
       "      <td>3.252958</td>\n",
       "    </tr>\n",
       "    <tr>\n",
       "      <th>10</th>\n",
       "      <td>Good</td>\n",
       "      <td>SI1</td>\n",
       "      <td>0.830397</td>\n",
       "      <td>62.696346</td>\n",
       "      <td>58.430962</td>\n",
       "      <td>3689.533333</td>\n",
       "      <td>5.799776</td>\n",
       "      <td>5.809974</td>\n",
       "      <td>3.635064</td>\n",
       "    </tr>\n",
       "    <tr>\n",
       "      <th>11</th>\n",
       "      <td>Good</td>\n",
       "      <td>SI2</td>\n",
       "      <td>1.035227</td>\n",
       "      <td>62.242831</td>\n",
       "      <td>58.924977</td>\n",
       "      <td>4580.260870</td>\n",
       "      <td>6.272414</td>\n",
       "      <td>6.276577</td>\n",
       "      <td>3.895245</td>\n",
       "    </tr>\n",
       "    <tr>\n",
       "      <th>12</th>\n",
       "      <td>Good</td>\n",
       "      <td>VS1</td>\n",
       "      <td>0.757685</td>\n",
       "      <td>62.018673</td>\n",
       "      <td>58.775772</td>\n",
       "      <td>3801.445988</td>\n",
       "      <td>5.636852</td>\n",
       "      <td>5.657176</td>\n",
       "      <td>3.499954</td>\n",
       "    </tr>\n",
       "    <tr>\n",
       "      <th>13</th>\n",
       "      <td>Good</td>\n",
       "      <td>VS2</td>\n",
       "      <td>0.850787</td>\n",
       "      <td>62.363292</td>\n",
       "      <td>58.664826</td>\n",
       "      <td>4262.236196</td>\n",
       "      <td>5.863262</td>\n",
       "      <td>5.878395</td>\n",
       "      <td>3.658231</td>\n",
       "    </tr>\n",
       "    <tr>\n",
       "      <th>14</th>\n",
       "      <td>Good</td>\n",
       "      <td>VVS1</td>\n",
       "      <td>0.502312</td>\n",
       "      <td>62.123118</td>\n",
       "      <td>58.922581</td>\n",
       "      <td>2254.774194</td>\n",
       "      <td>4.926290</td>\n",
       "      <td>4.950806</td>\n",
       "      <td>3.068602</td>\n",
       "    </tr>\n",
       "    <tr>\n",
       "      <th>15</th>\n",
       "      <td>Good</td>\n",
       "      <td>VVS2</td>\n",
       "      <td>0.614930</td>\n",
       "      <td>62.311538</td>\n",
       "      <td>58.672727</td>\n",
       "      <td>3079.108392</td>\n",
       "      <td>5.246154</td>\n",
       "      <td>5.269406</td>\n",
       "      <td>3.273497</td>\n",
       "    </tr>\n",
       "    <tr>\n",
       "      <th>16</th>\n",
       "      <td>Ideal</td>\n",
       "      <td>I1</td>\n",
       "      <td>1.222671</td>\n",
       "      <td>61.648630</td>\n",
       "      <td>56.102740</td>\n",
       "      <td>4335.726027</td>\n",
       "      <td>6.751712</td>\n",
       "      <td>6.736712</td>\n",
       "      <td>4.158493</td>\n",
       "    </tr>\n",
       "    <tr>\n",
       "      <th>17</th>\n",
       "      <td>Ideal</td>\n",
       "      <td>IF</td>\n",
       "      <td>0.455041</td>\n",
       "      <td>61.645710</td>\n",
       "      <td>55.707013</td>\n",
       "      <td>2272.913366</td>\n",
       "      <td>4.827261</td>\n",
       "      <td>4.850289</td>\n",
       "      <td>2.982211</td>\n",
       "    </tr>\n",
       "    <tr>\n",
       "      <th>18</th>\n",
       "      <td>Ideal</td>\n",
       "      <td>SI1</td>\n",
       "      <td>0.801808</td>\n",
       "      <td>61.737482</td>\n",
       "      <td>56.061023</td>\n",
       "      <td>3752.118169</td>\n",
       "      <td>5.781287</td>\n",
       "      <td>5.791226</td>\n",
       "      <td>3.570801</td>\n",
       "    </tr>\n",
       "    <tr>\n",
       "      <th>19</th>\n",
       "      <td>Ideal</td>\n",
       "      <td>SI2</td>\n",
       "      <td>1.007925</td>\n",
       "      <td>61.701001</td>\n",
       "      <td>56.120516</td>\n",
       "      <td>4755.952656</td>\n",
       "      <td>6.262621</td>\n",
       "      <td>6.268853</td>\n",
       "      <td>3.865889</td>\n",
       "    </tr>\n",
       "    <tr>\n",
       "      <th>20</th>\n",
       "      <td>Ideal</td>\n",
       "      <td>VS1</td>\n",
       "      <td>0.674714</td>\n",
       "      <td>61.706436</td>\n",
       "      <td>55.894037</td>\n",
       "      <td>3489.744497</td>\n",
       "      <td>5.449746</td>\n",
       "      <td>5.470635</td>\n",
       "      <td>3.366615</td>\n",
       "    </tr>\n",
       "    <tr>\n",
       "      <th>21</th>\n",
       "      <td>Ideal</td>\n",
       "      <td>VS2</td>\n",
       "      <td>0.670566</td>\n",
       "      <td>61.730901</td>\n",
       "      <td>55.931256</td>\n",
       "      <td>3284.550385</td>\n",
       "      <td>5.428111</td>\n",
       "      <td>5.434484</td>\n",
       "      <td>3.352102</td>\n",
       "    </tr>\n",
       "    <tr>\n",
       "      <th>22</th>\n",
       "      <td>Ideal</td>\n",
       "      <td>VVS1</td>\n",
       "      <td>0.495960</td>\n",
       "      <td>61.679091</td>\n",
       "      <td>55.839912</td>\n",
       "      <td>2468.129458</td>\n",
       "      <td>4.960596</td>\n",
       "      <td>4.978012</td>\n",
       "      <td>3.064304</td>\n",
       "    </tr>\n",
       "    <tr>\n",
       "      <th>23</th>\n",
       "      <td>Ideal</td>\n",
       "      <td>VVS2</td>\n",
       "      <td>0.586213</td>\n",
       "      <td>61.690714</td>\n",
       "      <td>55.915848</td>\n",
       "      <td>3250.290100</td>\n",
       "      <td>5.214693</td>\n",
       "      <td>5.231869</td>\n",
       "      <td>3.221550</td>\n",
       "    </tr>\n",
       "    <tr>\n",
       "      <th>24</th>\n",
       "      <td>Premium</td>\n",
       "      <td>I1</td>\n",
       "      <td>1.287024</td>\n",
       "      <td>61.183415</td>\n",
       "      <td>59.068293</td>\n",
       "      <td>3947.331707</td>\n",
       "      <td>6.842098</td>\n",
       "      <td>6.785902</td>\n",
       "      <td>4.130683</td>\n",
       "    </tr>\n",
       "    <tr>\n",
       "      <th>25</th>\n",
       "      <td>Premium</td>\n",
       "      <td>IF</td>\n",
       "      <td>0.603478</td>\n",
       "      <td>61.047826</td>\n",
       "      <td>58.730435</td>\n",
       "      <td>3856.143478</td>\n",
       "      <td>5.234957</td>\n",
       "      <td>5.220870</td>\n",
       "      <td>3.191478</td>\n",
       "    </tr>\n",
       "    <tr>\n",
       "      <th>26</th>\n",
       "      <td>Premium</td>\n",
       "      <td>SI1</td>\n",
       "      <td>0.908601</td>\n",
       "      <td>61.303329</td>\n",
       "      <td>58.758993</td>\n",
       "      <td>4455.269371</td>\n",
       "      <td>6.045410</td>\n",
       "      <td>6.009731</td>\n",
       "      <td>3.692162</td>\n",
       "    </tr>\n",
       "    <tr>\n",
       "      <th>27</th>\n",
       "      <td>Premium</td>\n",
       "      <td>SI2</td>\n",
       "      <td>1.144161</td>\n",
       "      <td>61.178976</td>\n",
       "      <td>58.779654</td>\n",
       "      <td>5545.936928</td>\n",
       "      <td>6.569495</td>\n",
       "      <td>6.543822</td>\n",
       "      <td>4.001967</td>\n",
       "    </tr>\n",
       "    <tr>\n",
       "      <th>28</th>\n",
       "      <td>Premium</td>\n",
       "      <td>VS1</td>\n",
       "      <td>0.793308</td>\n",
       "      <td>61.318451</td>\n",
       "      <td>58.690397</td>\n",
       "      <td>4485.462041</td>\n",
       "      <td>5.738049</td>\n",
       "      <td>5.710935</td>\n",
       "      <td>3.509703</td>\n",
       "    </tr>\n",
       "    <tr>\n",
       "      <th>29</th>\n",
       "      <td>Premium</td>\n",
       "      <td>VS2</td>\n",
       "      <td>0.833774</td>\n",
       "      <td>61.283408</td>\n",
       "      <td>58.754155</td>\n",
       "      <td>4550.331248</td>\n",
       "      <td>5.834665</td>\n",
       "      <td>5.806175</td>\n",
       "      <td>3.565639</td>\n",
       "    </tr>\n",
       "    <tr>\n",
       "      <th>30</th>\n",
       "      <td>Premium</td>\n",
       "      <td>VVS1</td>\n",
       "      <td>0.534821</td>\n",
       "      <td>61.260877</td>\n",
       "      <td>58.674513</td>\n",
       "      <td>2831.206169</td>\n",
       "      <td>5.037955</td>\n",
       "      <td>5.018847</td>\n",
       "      <td>3.080000</td>\n",
       "    </tr>\n",
       "    <tr>\n",
       "      <th>31</th>\n",
       "      <td>Premium</td>\n",
       "      <td>VVS2</td>\n",
       "      <td>0.654724</td>\n",
       "      <td>61.280230</td>\n",
       "      <td>58.654483</td>\n",
       "      <td>3795.122989</td>\n",
       "      <td>5.390920</td>\n",
       "      <td>5.367126</td>\n",
       "      <td>3.295920</td>\n",
       "    </tr>\n",
       "    <tr>\n",
       "      <th>32</th>\n",
       "      <td>Very Good</td>\n",
       "      <td>I1</td>\n",
       "      <td>1.281905</td>\n",
       "      <td>61.755952</td>\n",
       "      <td>59.372619</td>\n",
       "      <td>4078.226190</td>\n",
       "      <td>6.800119</td>\n",
       "      <td>6.796071</td>\n",
       "      <td>4.197381</td>\n",
       "    </tr>\n",
       "    <tr>\n",
       "      <th>33</th>\n",
       "      <td>Very Good</td>\n",
       "      <td>IF</td>\n",
       "      <td>0.618769</td>\n",
       "      <td>61.363806</td>\n",
       "      <td>57.455224</td>\n",
       "      <td>4396.216418</td>\n",
       "      <td>5.293097</td>\n",
       "      <td>5.334403</td>\n",
       "      <td>3.259813</td>\n",
       "    </tr>\n",
       "    <tr>\n",
       "      <th>34</th>\n",
       "      <td>Very Good</td>\n",
       "      <td>SI1</td>\n",
       "      <td>0.845978</td>\n",
       "      <td>61.947222</td>\n",
       "      <td>58.014907</td>\n",
       "      <td>3932.391049</td>\n",
       "      <td>5.869244</td>\n",
       "      <td>5.897009</td>\n",
       "      <td>3.643451</td>\n",
       "    </tr>\n",
       "    <tr>\n",
       "      <th>35</th>\n",
       "      <td>Very Good</td>\n",
       "      <td>SI2</td>\n",
       "      <td>1.064338</td>\n",
       "      <td>61.862952</td>\n",
       "      <td>58.251571</td>\n",
       "      <td>4988.688095</td>\n",
       "      <td>6.365814</td>\n",
       "      <td>6.391233</td>\n",
       "      <td>3.944495</td>\n",
       "    </tr>\n",
       "    <tr>\n",
       "      <th>36</th>\n",
       "      <td>Very Good</td>\n",
       "      <td>VS1</td>\n",
       "      <td>0.733307</td>\n",
       "      <td>61.729127</td>\n",
       "      <td>57.822197</td>\n",
       "      <td>3805.353239</td>\n",
       "      <td>5.575758</td>\n",
       "      <td>5.607448</td>\n",
       "      <td>3.467177</td>\n",
       "    </tr>\n",
       "    <tr>\n",
       "      <th>37</th>\n",
       "      <td>Very Good</td>\n",
       "      <td>VS2</td>\n",
       "      <td>0.811181</td>\n",
       "      <td>61.849247</td>\n",
       "      <td>57.958665</td>\n",
       "      <td>4215.759552</td>\n",
       "      <td>5.769097</td>\n",
       "      <td>5.799263</td>\n",
       "      <td>3.576144</td>\n",
       "    </tr>\n",
       "    <tr>\n",
       "      <th>38</th>\n",
       "      <td>Very Good</td>\n",
       "      <td>VVS1</td>\n",
       "      <td>0.494588</td>\n",
       "      <td>61.675919</td>\n",
       "      <td>57.622687</td>\n",
       "      <td>2459.441065</td>\n",
       "      <td>4.895513</td>\n",
       "      <td>4.927503</td>\n",
       "      <td>3.031420</td>\n",
       "    </tr>\n",
       "    <tr>\n",
       "      <th>39</th>\n",
       "      <td>Very Good</td>\n",
       "      <td>VVS2</td>\n",
       "      <td>0.566389</td>\n",
       "      <td>61.660972</td>\n",
       "      <td>57.712308</td>\n",
       "      <td>3037.765182</td>\n",
       "      <td>5.083004</td>\n",
       "      <td>5.115911</td>\n",
       "      <td>3.144348</td>\n",
       "    </tr>\n",
       "  </tbody>\n",
       "</table>\n",
       "</div>"
      ],
      "text/plain": [
       "          cut clarity     carat      depth      table        price         x  \\\n",
       "0        Fair      I1  1.361000  65.699048  58.114286  3703.533333  6.723000   \n",
       "1        Fair      IF  0.474444  60.066667  59.111111  1912.333333  5.050000   \n",
       "2        Fair     SI1  0.964632  63.910294  59.126961  4208.279412  6.127230   \n",
       "3        Fair     SI2  1.203841  64.421888  58.828326  5173.916309  6.570343   \n",
       "4        Fair     VS1  0.879824  62.945294  60.365294  4165.141176  5.932353   \n",
       "5        Fair     VS2  0.885249  63.637548  59.050958  4174.724138  5.966590   \n",
       "6        Fair    VVS1  0.664706  60.417647  61.235294  3871.352941  5.503529   \n",
       "7        Fair    VVS2  0.691594  62.847826  59.237681  3349.768116  5.495507   \n",
       "8        Good      I1  1.203021  62.067708  59.497917  3596.635417  6.651562   \n",
       "9        Good      IF  0.616338  61.440845  59.056338  4098.323944  5.278310   \n",
       "10       Good     SI1  0.830397  62.696346  58.430962  3689.533333  5.799776   \n",
       "11       Good     SI2  1.035227  62.242831  58.924977  4580.260870  6.272414   \n",
       "12       Good     VS1  0.757685  62.018673  58.775772  3801.445988  5.636852   \n",
       "13       Good     VS2  0.850787  62.363292  58.664826  4262.236196  5.863262   \n",
       "14       Good    VVS1  0.502312  62.123118  58.922581  2254.774194  4.926290   \n",
       "15       Good    VVS2  0.614930  62.311538  58.672727  3079.108392  5.246154   \n",
       "16      Ideal      I1  1.222671  61.648630  56.102740  4335.726027  6.751712   \n",
       "17      Ideal      IF  0.455041  61.645710  55.707013  2272.913366  4.827261   \n",
       "18      Ideal     SI1  0.801808  61.737482  56.061023  3752.118169  5.781287   \n",
       "19      Ideal     SI2  1.007925  61.701001  56.120516  4755.952656  6.262621   \n",
       "20      Ideal     VS1  0.674714  61.706436  55.894037  3489.744497  5.449746   \n",
       "21      Ideal     VS2  0.670566  61.730901  55.931256  3284.550385  5.428111   \n",
       "22      Ideal    VVS1  0.495960  61.679091  55.839912  2468.129458  4.960596   \n",
       "23      Ideal    VVS2  0.586213  61.690714  55.915848  3250.290100  5.214693   \n",
       "24    Premium      I1  1.287024  61.183415  59.068293  3947.331707  6.842098   \n",
       "25    Premium      IF  0.603478  61.047826  58.730435  3856.143478  5.234957   \n",
       "26    Premium     SI1  0.908601  61.303329  58.758993  4455.269371  6.045410   \n",
       "27    Premium     SI2  1.144161  61.178976  58.779654  5545.936928  6.569495   \n",
       "28    Premium     VS1  0.793308  61.318451  58.690397  4485.462041  5.738049   \n",
       "29    Premium     VS2  0.833774  61.283408  58.754155  4550.331248  5.834665   \n",
       "30    Premium    VVS1  0.534821  61.260877  58.674513  2831.206169  5.037955   \n",
       "31    Premium    VVS2  0.654724  61.280230  58.654483  3795.122989  5.390920   \n",
       "32  Very Good      I1  1.281905  61.755952  59.372619  4078.226190  6.800119   \n",
       "33  Very Good      IF  0.618769  61.363806  57.455224  4396.216418  5.293097   \n",
       "34  Very Good     SI1  0.845978  61.947222  58.014907  3932.391049  5.869244   \n",
       "35  Very Good     SI2  1.064338  61.862952  58.251571  4988.688095  6.365814   \n",
       "36  Very Good     VS1  0.733307  61.729127  57.822197  3805.353239  5.575758   \n",
       "37  Very Good     VS2  0.811181  61.849247  57.958665  4215.759552  5.769097   \n",
       "38  Very Good    VVS1  0.494588  61.675919  57.622687  2459.441065  4.895513   \n",
       "39  Very Good    VVS2  0.566389  61.660972  57.712308  3037.765182  5.083004   \n",
       "\n",
       "           y         z  \n",
       "0   6.624238  4.386905  \n",
       "1   5.050000  3.033333  \n",
       "2   6.071985  3.895711  \n",
       "3   6.503927  4.211867  \n",
       "4   5.864059  3.709882  \n",
       "5   5.907011  3.780230  \n",
       "6   5.508824  3.327647  \n",
       "7   5.464638  3.444058  \n",
       "8   6.614792  4.065625  \n",
       "9   5.315070  3.252958  \n",
       "10  5.809974  3.635064  \n",
       "11  6.276577  3.895245  \n",
       "12  5.657176  3.499954  \n",
       "13  5.878395  3.658231  \n",
       "14  4.950806  3.068602  \n",
       "15  5.269406  3.273497  \n",
       "16  6.736712  4.158493  \n",
       "17  4.850289  2.982211  \n",
       "18  5.791226  3.570801  \n",
       "19  6.268853  3.865889  \n",
       "20  5.470635  3.366615  \n",
       "21  5.434484  3.352102  \n",
       "22  4.978012  3.064304  \n",
       "23  5.231869  3.221550  \n",
       "24  6.785902  4.130683  \n",
       "25  5.220870  3.191478  \n",
       "26  6.009731  3.692162  \n",
       "27  6.543822  4.001967  \n",
       "28  5.710935  3.509703  \n",
       "29  5.806175  3.565639  \n",
       "30  5.018847  3.080000  \n",
       "31  5.367126  3.295920  \n",
       "32  6.796071  4.197381  \n",
       "33  5.334403  3.259813  \n",
       "34  5.897009  3.643451  \n",
       "35  6.391233  3.944495  \n",
       "36  5.607448  3.467177  \n",
       "37  5.799263  3.576144  \n",
       "38  4.927503  3.031420  \n",
       "39  5.115911  3.144348  "
      ]
     },
     "execution_count": 80,
     "metadata": {},
     "output_type": "execute_result"
    }
   ],
=======
   "source": [
    "diamonds = pd.read_csv(\"data/diamonds.csv\") # read diamonds.csv"
   ],
   "metadata": {
    "collapsed": false
   },
   "outputs": [],
   "execution_count": null
  },
  {
   "cell_type": "code",
>>>>>>> 0562cc1c7a2785312b97b18111f4360585aaea7a
   "source": [
    "grp = diamonds[diamonds.columns.drop(['color'])].groupby(['cut', 'clarity'], as_index=False) #\n",
    "grp.ngroups\n",
<<<<<<< HEAD
    "df = grp.mean()\n",
    "df"
=======
    "grp.agg({'price': 'mean', 'carat': 'sum'})"
   ],
   "metadata": {
    "collapsed": false
   },
   "outputs": [],
   "execution_count": null
  },
  {
   "metadata": {},
   "cell_type": "markdown",
   "source": [
    "### Exercise\n",
    "\n"
   ]
  },
  {
   "metadata": {},
   "cell_type": "markdown",
   "source": [
    "#### Merge DataFrames\n",
    "\n",
    "Given `df1`, `df2` and `df3` apply the following:\n",
    "\n",
    "- merge df1 and df2 side by side\n",
    "- merge df1 and df3 stacked\n",
    "- merge all and reset index"
   ]
  },
  {
   "metadata": {
    "collapsed": false
   },
   "cell_type": "code",
   "source": [
    "df1 = pd.DataFrame({'name': ['ants', 'bees','wasps'] , 'order':['Hymenoptera']*3})\n",
    "df2 = pd.DataFrame({'name': ['beetles', 'weevils'] , 'order':['Coleoptera']*2})\n",
    "df3 = pd.DataFrame({'name': ['butterflies', 'moths'], 'order':['Lepidoptera']*2 })"
   ],
   "outputs": [],
   "execution_count": null
  },
  {
   "metadata": {
    "collapsed": false,
    "pycharm": {
     "is_executing": true
    }
   },
   "cell_type": "code",
   "source": "# ...",
   "outputs": [],
   "execution_count": null
  },
  {
   "metadata": {},
   "cell_type": "markdown",
   "source": "#### Missing values"
  },
  {
   "metadata": {},
   "cell_type": "markdown",
   "source": "Given the following DataFrame"
  },
  {
   "metadata": {
    "collapsed": false,
    "ExecuteTime": {
     "end_time": "2025-03-24T09:24:05.494506Z",
     "start_time": "2025-03-24T09:24:05.492354Z"
    }
   },
   "cell_type": "code",
   "source": "df = pd.DataFrame(np.arange(25).reshape(5,5), dtype=float)",
   "outputs": [],
   "execution_count": 295
  },
  {
   "metadata": {},
   "cell_type": "markdown",
   "source": "set the values to NaN as such to reproduce the following DataFrame:"
  },
  {
   "metadata": {
    "collapsed": false,
    "ExecuteTime": {
     "end_time": "2025-03-24T09:23:54.377706Z",
     "start_time": "2025-03-24T09:23:54.371897Z"
    }
   },
   "cell_type": "code",
   "source": "# ...",
   "outputs": [
    {
     "data": {
      "text/plain": [
       "      0     1     2     3   4\n",
       "0   NaN   1.0   NaN   3.0 NaN\n",
       "1   5.0   6.0   7.0   8.0 NaN\n",
       "2   NaN   NaN   NaN   NaN NaN\n",
       "3  15.0  16.0  17.0  18.0 NaN\n",
       "4  20.0  21.0   NaN  23.0 NaN"
      ],
      "text/html": [
       "<div>\n",
       "<style scoped>\n",
       "    .dataframe tbody tr th:only-of-type {\n",
       "        vertical-align: middle;\n",
       "    }\n",
       "\n",
       "    .dataframe tbody tr th {\n",
       "        vertical-align: top;\n",
       "    }\n",
       "\n",
       "    .dataframe thead th {\n",
       "        text-align: right;\n",
       "    }\n",
       "</style>\n",
       "<table border=\"1\" class=\"dataframe\">\n",
       "  <thead>\n",
       "    <tr style=\"text-align: right;\">\n",
       "      <th></th>\n",
       "      <th>0</th>\n",
       "      <th>1</th>\n",
       "      <th>2</th>\n",
       "      <th>3</th>\n",
       "      <th>4</th>\n",
       "    </tr>\n",
       "  </thead>\n",
       "  <tbody>\n",
       "    <tr>\n",
       "      <th>0</th>\n",
       "      <td>NaN</td>\n",
       "      <td>1.0</td>\n",
       "      <td>NaN</td>\n",
       "      <td>3.0</td>\n",
       "      <td>NaN</td>\n",
       "    </tr>\n",
       "    <tr>\n",
       "      <th>1</th>\n",
       "      <td>5.0</td>\n",
       "      <td>6.0</td>\n",
       "      <td>7.0</td>\n",
       "      <td>8.0</td>\n",
       "      <td>NaN</td>\n",
       "    </tr>\n",
       "    <tr>\n",
       "      <th>2</th>\n",
       "      <td>NaN</td>\n",
       "      <td>NaN</td>\n",
       "      <td>NaN</td>\n",
       "      <td>NaN</td>\n",
       "      <td>NaN</td>\n",
       "    </tr>\n",
       "    <tr>\n",
       "      <th>3</th>\n",
       "      <td>15.0</td>\n",
       "      <td>16.0</td>\n",
       "      <td>17.0</td>\n",
       "      <td>18.0</td>\n",
       "      <td>NaN</td>\n",
       "    </tr>\n",
       "    <tr>\n",
       "      <th>4</th>\n",
       "      <td>20.0</td>\n",
       "      <td>21.0</td>\n",
       "      <td>NaN</td>\n",
       "      <td>23.0</td>\n",
       "      <td>NaN</td>\n",
       "    </tr>\n",
       "  </tbody>\n",
       "</table>\n",
       "</div>"
      ]
     },
     "execution_count": 294,
     "metadata": {},
     "output_type": "execute_result"
    }
   ],
   "execution_count": 294
  },
  {
   "metadata": {},
   "cell_type": "markdown",
   "source": [
    "Apply the following on the dataframe with missing values created in the previous step.\n",
    "\n",
    "Drop missing:\n",
    "- rows with missing values\n",
    "- columns with missing values\n",
    "- rows where all values are missing\n",
    "- columns where all values are missing\n",
    "\n",
    "Fill missing:\n",
    "- with 0\n",
    "- with mean based on column values\n",
    "- with median based on row values"
   ]
  },
  {
   "metadata": {
    "collapsed": false
   },
   "cell_type": "code",
   "source": "# ...",
   "outputs": [],
   "execution_count": null
  },
  {
   "metadata": {},
   "cell_type": "markdown",
   "source": [
    "### Natural gas consumption in the Netherlands\n",
    "\n",
    "The dataset can be downloaded from [CBS Open data StatLine](https://opendata.cbs.nl/statline/portal.html?_la=en&_catalog=CBS). A version is already included in the data directory of this session's git repository.\n",
    "\n",
    "We first read the data with `pd.read_csv`. For this exercise we only work with the columns `Periods` and `TotalSupply_1:"
   ]
  },
  {
   "metadata": {
    "collapsed": false,
    "ExecuteTime": {
     "end_time": "2025-03-16T16:13:18.890762Z",
     "start_time": "2025-03-16T16:13:18.881023Z"
    }
   },
   "cell_type": "code",
   "source": [
    "cbs = pd.read_csv(\"data/00372eng_UntypedDataSet_16032025_143103.csv\",sep=\";\")\n",
    "df = cbs[['Periods','TotalSupply_1']]\n",
    "df\n"
   ],
   "outputs": [
    {
     "data": {
      "text/plain": [
       "      Periods  TotalSupply_1\n",
       "0    1946JJ00              0\n",
       "1    1947JJ00              1\n",
       "2    1948JJ00              5\n",
       "3    1949JJ00              7\n",
       "4    1950JJ00              5\n",
       "..        ...            ...\n",
       "764  2024MM11           3287\n",
       "765  2024MM12           3461\n",
       "766  2024KW04           8993\n",
       "767  2025MM01           4060\n",
       "768  2025MM02           3552\n",
       "\n",
       "[769 rows x 2 columns]"
      ],
      "text/html": [
       "<div>\n",
       "<style scoped>\n",
       "    .dataframe tbody tr th:only-of-type {\n",
       "        vertical-align: middle;\n",
       "    }\n",
       "\n",
       "    .dataframe tbody tr th {\n",
       "        vertical-align: top;\n",
       "    }\n",
       "\n",
       "    .dataframe thead th {\n",
       "        text-align: right;\n",
       "    }\n",
       "</style>\n",
       "<table border=\"1\" class=\"dataframe\">\n",
       "  <thead>\n",
       "    <tr style=\"text-align: right;\">\n",
       "      <th></th>\n",
       "      <th>Periods</th>\n",
       "      <th>TotalSupply_1</th>\n",
       "    </tr>\n",
       "  </thead>\n",
       "  <tbody>\n",
       "    <tr>\n",
       "      <th>0</th>\n",
       "      <td>1946JJ00</td>\n",
       "      <td>0</td>\n",
       "    </tr>\n",
       "    <tr>\n",
       "      <th>1</th>\n",
       "      <td>1947JJ00</td>\n",
       "      <td>1</td>\n",
       "    </tr>\n",
       "    <tr>\n",
       "      <th>2</th>\n",
       "      <td>1948JJ00</td>\n",
       "      <td>5</td>\n",
       "    </tr>\n",
       "    <tr>\n",
       "      <th>3</th>\n",
       "      <td>1949JJ00</td>\n",
       "      <td>7</td>\n",
       "    </tr>\n",
       "    <tr>\n",
       "      <th>4</th>\n",
       "      <td>1950JJ00</td>\n",
       "      <td>5</td>\n",
       "    </tr>\n",
       "    <tr>\n",
       "      <th>...</th>\n",
       "      <td>...</td>\n",
       "      <td>...</td>\n",
       "    </tr>\n",
       "    <tr>\n",
       "      <th>764</th>\n",
       "      <td>2024MM11</td>\n",
       "      <td>3287</td>\n",
       "    </tr>\n",
       "    <tr>\n",
       "      <th>765</th>\n",
       "      <td>2024MM12</td>\n",
       "      <td>3461</td>\n",
       "    </tr>\n",
       "    <tr>\n",
       "      <th>766</th>\n",
       "      <td>2024KW04</td>\n",
       "      <td>8993</td>\n",
       "    </tr>\n",
       "    <tr>\n",
       "      <th>767</th>\n",
       "      <td>2025MM01</td>\n",
       "      <td>4060</td>\n",
       "    </tr>\n",
       "    <tr>\n",
       "      <th>768</th>\n",
       "      <td>2025MM02</td>\n",
       "      <td>3552</td>\n",
       "    </tr>\n",
       "  </tbody>\n",
       "</table>\n",
       "<p>769 rows × 2 columns</p>\n",
       "</div>"
      ]
     },
     "execution_count": 170,
     "metadata": {},
     "output_type": "execute_result"
    }
   ],
   "execution_count": 170
  },
  {
   "metadata": {},
   "cell_type": "markdown",
   "source": [
    "Each entry give the total consumption `TotaalAanbod_1` in units of million cubic metre (MCM). The column `Periods`has the year (yyyy) followed by a tag {JJ,KW,MM} representing the yearly, quarterly and monthly terms respectively, followed by two digits `00..12`. The two digit followed by the tags have different meaning per tag. For JJ it is always `00`, MM with `00..12` for 12 months and `KW` with  `01..04` for four quarters.\n",
    "\n",
    "\n",
    "In order to get more control over the entry date we will need to create a new variable `date` in the dataset using the given `Periods`. Hint: see Series.str accessor functions for manipulating strings and pd.Timestamp for dates.\n",
    "\n"
   ]
  },
  {
   "metadata": {},
   "cell_type": "markdown",
   "source": [
    "1. Write a function given a Series with {year,term,idx} returns a timestamp according to the specification below. In all cases the last day of the period is chosen as the date, e.g. 1954KW03  will be 30-09-1954.\n",
    "\n",
    "```\n",
    "JJ : yyyyJJ00 => 31-12-yyyy\n",
    "KW : yyyyKWmm => where mm in {1,2,3,4}\n",
    "                 01: 1-1-yyyy to 31-3-yyyy\n",
    "                 02: 1-4-yyyy to 30-6-yyyy\n",
    "                 03: 1-7-yyyy to 30-9-yyyy\n",
    "                 04: 1-10-yyyy to 31-12-yyyy\n",
    "MM : yyyyMMmm => dd-mm-yyyy where dd is the last day of the month and\n",
    "                 mm in {1,..,12}\n",
    "```\n",
    "\n",
    "\n",
    "2. Create a new DataFrame called `ngc` (natural gas consumption) with three columns {term, date, consumption} :\n",
    "    - term : {JJ,KW,MM}\n",
    "    - date : timestamps\n",
    "    - consumption: which is `TotalSupply_1` only renamed\n",
    "\n",
    "3. Evaluate the entries in `ngc` dataframe by checking whether the sum of monthly 'MM' and quarterly 'KW' add up to yearly 'JJ' consumptions."
>>>>>>> 0562cc1c7a2785312b97b18111f4360585aaea7a
   ]
  }
 ],
 "metadata": {
  "kernelspec": {
   "display_name": "Python 3",
   "language": "python",
   "name": "python3"
  },
  "language_info": {
   "codemirror_mode": {
    "name": "ipython",
    "version": 3
   },
   "file_extension": ".py",
   "mimetype": "text/x-python",
   "name": "python",
   "nbconvert_exporter": "python",
   "pygments_lexer": "ipython3",
   "version": "3.12.8"
  }
 },
 "nbformat": 4,
 "nbformat_minor": 0
}
