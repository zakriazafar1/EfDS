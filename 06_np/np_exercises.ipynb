{
 "cells": [
  {
   "cell_type": "markdown",
   "metadata": {
    "collapsed": false
   },
   "source": [
    "## Exercises"
   ]
  },
  {
   "cell_type": "code",
   "execution_count": 1,
   "metadata": {
    "collapsed": false
   },
   "outputs": [],
   "source": [
    "import numpy as np"
   ]
  },
  {
   "cell_type": "markdown",
   "metadata": {
    "collapsed": false
   },
   "source": [
    "### Create arrays"
   ]
  },
  {
   "cell_type": "markdown",
   "metadata": {
    "collapsed": false
   },
   "source": [
    "- 1-dimensional array over the range 11, 14, 17, 20, ..., 50. In addition show the type, size, shape and number of dimensions of the array."
   ]
  },
  {
   "cell_type": "code",
   "execution_count": null,
   "metadata": {
    "collapsed": false
   },
   "outputs": [
    {
     "data": {
      "text/plain": [
       "array([11, 14, 17, 20, 23, 26, 29, 32, 35, 38, 41, 44, 47])"
      ]
     },
     "execution_count": 5,
     "metadata": {},
     "output_type": "execute_result"
    }
   ],
   "source": [
    "arr1d = np.array(range(11, 50, 3))"
   ]
  },
  {
   "cell_type": "code",
   "execution_count": 6,
   "metadata": {},
   "outputs": [
    {
     "data": {
      "text/plain": [
       "dtype('int64')"
      ]
     },
     "execution_count": 6,
     "metadata": {},
     "output_type": "execute_result"
    }
   ],
   "source": [
    "arr1d.dtype"
   ]
  },
  {
   "cell_type": "code",
   "execution_count": 8,
   "metadata": {},
   "outputs": [
    {
     "data": {
      "text/plain": [
       "13"
      ]
     },
     "execution_count": 8,
     "metadata": {},
     "output_type": "execute_result"
    }
   ],
   "source": [
    "arr1d.size"
   ]
  },
  {
   "cell_type": "code",
   "execution_count": 9,
   "metadata": {},
   "outputs": [
    {
     "data": {
      "text/plain": [
       "(13,)"
      ]
     },
     "execution_count": 9,
     "metadata": {},
     "output_type": "execute_result"
    }
   ],
   "source": [
    "arr1d.shape"
   ]
  },
  {
   "cell_type": "code",
   "execution_count": 7,
   "metadata": {},
   "outputs": [
    {
     "data": {
      "text/plain": [
       "1"
      ]
     },
     "execution_count": 7,
     "metadata": {},
     "output_type": "execute_result"
    }
   ],
   "source": [
    "arr1d.ndim"
   ]
  },
  {
   "cell_type": "markdown",
   "metadata": {
    "collapsed": false
   },
   "source": [
    "- 2-dimensional array of boolean type with shape=(5,3) and all set to True."
   ]
  },
  {
   "cell_type": "code",
   "execution_count": 45,
   "metadata": {
    "collapsed": false
   },
   "outputs": [
    {
     "data": {
      "text/plain": [
       "array([[ True,  True,  True],\n",
       "       [ True,  True,  True],\n",
       "       [ True,  True,  True],\n",
       "       [ True,  True,  True],\n",
       "       [ True,  True,  True]])"
      ]
     },
     "execution_count": 45,
     "metadata": {},
     "output_type": "execute_result"
    }
   ],
   "source": [
    "arr2d = np.ones((5, 3), dtype = bool)\n",
    "arr2d"
   ]
  },
  {
   "cell_type": "markdown",
   "metadata": {
    "collapsed": false
   },
   "source": [
    "- 2-dimensional array of shape=(9,3) of the alphabet a..z. Pad with empty string \"\" to fit the shape."
   ]
  },
  {
   "cell_type": "code",
   "execution_count": 47,
   "metadata": {
    "collapsed": false
   },
   "outputs": [
    {
     "data": {
      "text/plain": [
       "array([[1., 1., 1.],\n",
       "       [1., 1., 1.],\n",
       "       [1., 1., 1.],\n",
       "       [1., 1., 1.],\n",
       "       [1., 1., 1.],\n",
       "       [1., 1., 1.],\n",
       "       [1., 1., 1.],\n",
       "       [1., 1., 1.],\n",
       "       [1., 1., 1.]])"
      ]
     },
     "execution_count": 47,
     "metadata": {},
     "output_type": "execute_result"
    }
   ],
   "source": [
    "arr2d2 = np.ones((9, 3))\n",
    "arr2d2"
   ]
  },
  {
   "cell_type": "markdown",
   "metadata": {
    "collapsed": false
   },
   "source": [
    "- 2-dimensional array of shape=(5,6) filled with '***'. Hint: see *numpy.full*."
   ]
  },
  {
   "cell_type": "code",
   "execution_count": null,
   "metadata": {
    "collapsed": false
   },
   "outputs": [],
   "source": [
    "# ..."
   ]
  },
  {
   "cell_type": "markdown",
   "metadata": {
    "collapsed": false
   },
   "source": [
    "## Array indices\n",
    "\n",
    "The exercises below cover array access and assignments using indices."
   ]
  },
  {
   "cell_type": "markdown",
   "metadata": {
    "collapsed": false
   },
   "source": [
    "- Given the 2-dimensional array *arr2d* below, fetch the following elements\n",
    "    - fetch single elements:  'a', 'f'\n",
    "    - fetch [c,d] on axis-0\n",
    "    - fetch [b,d,f] on axis-1"
   ]
  },
  {
   "cell_type": "code",
   "execution_count": 56,
   "metadata": {
    "collapsed": false
   },
   "outputs": [
    {
     "data": {
      "text/plain": [
       "array([['a', 'b'],\n",
       "       ['c', 'd'],\n",
       "       ['e', 'f']], dtype='<U1')"
      ]
     },
     "execution_count": 56,
     "metadata": {},
     "output_type": "execute_result"
    }
   ],
   "source": [
    "arr2d = np.array(list(\"abcdef\")).reshape(3,2)\n",
    "arr2d"
   ]
  },
  {
   "cell_type": "code",
   "execution_count": 60,
   "metadata": {},
   "outputs": [
    {
     "data": {
      "text/plain": [
       "np.str_('a')"
      ]
     },
     "execution_count": 60,
     "metadata": {},
     "output_type": "execute_result"
    }
   ],
   "source": [
    "arr2d[0, 0]"
   ]
  },
  {
   "cell_type": "code",
   "execution_count": 61,
   "metadata": {},
   "outputs": [
    {
     "data": {
      "text/plain": [
       "np.str_('f')"
      ]
     },
     "execution_count": 61,
     "metadata": {},
     "output_type": "execute_result"
    }
   ],
   "source": [
    "arr2d[2,1 ]"
   ]
  },
  {
   "cell_type": "code",
   "execution_count": 62,
   "metadata": {},
   "outputs": [
    {
     "data": {
      "text/plain": [
       "array(['c', 'd'], dtype='<U1')"
      ]
     },
     "execution_count": 62,
     "metadata": {},
     "output_type": "execute_result"
    }
   ],
   "source": [
    "arr2d[1]"
   ]
  },
  {
   "cell_type": "code",
   "execution_count": 67,
   "metadata": {},
   "outputs": [
    {
     "data": {
      "text/plain": [
       "array(['b', 'd', 'f'], dtype='<U1')"
      ]
     },
     "execution_count": 67,
     "metadata": {},
     "output_type": "execute_result"
    }
   ],
   "source": [
    "arr2d[[0, 1, 2], 1]"
   ]
  },
  {
   "cell_type": "markdown",
   "metadata": {
    "collapsed": false
   },
   "source": [
    "- Given the 3-dimensional array arr3d:\n",
    "    - fetch:\n",
    "        - [[19,20],[22,23]]\n",
    "        - [[9,12,15],[11,14,17]]\n",
    "    - swap:\n",
    "        - on axis-0 the 2nd and the 3rd elements\n",
    "        - the 1st and the 3rd element of all elements on axis-0\n",
    "        - repeat the previous swap but now only on the 1st element of axis-0"
   ]
  },
  {
   "cell_type": "code",
   "execution_count": 77,
   "metadata": {
    "collapsed": false
   },
   "outputs": [],
   "source": [
    "arr3d = np.arange(3*3*3).reshape(3,3,3)"
   ]
  },
  {
   "cell_type": "code",
   "execution_count": 75,
   "metadata": {},
   "outputs": [
    {
     "data": {
      "text/plain": [
       "array([[19, 20],\n",
       "       [22, 23]])"
      ]
     },
     "execution_count": 75,
     "metadata": {},
     "output_type": "execute_result"
    }
   ],
   "source": [
    "arr3d[2, 0:2, 1:3]"
   ]
  },
  {
   "cell_type": "code",
   "execution_count": 76,
   "metadata": {},
   "outputs": [
    {
     "data": {
      "text/plain": [
       "array([[ 9, 12, 15],\n",
       "       [11, 14, 17]])"
      ]
     },
     "execution_count": 76,
     "metadata": {},
     "output_type": "execute_result"
    }
   ],
   "source": [
    "arr3d[1, :, [0, 2]]"
   ]
  },
  {
   "cell_type": "code",
   "execution_count": 81,
   "metadata": {},
   "outputs": [],
   "source": [
    "arr3d[[1, 2]] = arr3d[[2, 1]]"
   ]
  },
  {
   "cell_type": "code",
   "execution_count": 85,
   "metadata": {},
   "outputs": [],
   "source": [
    "arr3d[[0, 2]] = arr3d[[2,0]]"
   ]
  },
  {
   "cell_type": "code",
   "execution_count": 92,
   "metadata": {},
   "outputs": [
    {
     "data": {
      "text/plain": [
       "array([[[ 6,  7,  8],\n",
       "        [ 3,  4,  5],\n",
       "        [ 0,  1,  2]],\n",
       "\n",
       "       [[ 9, 10, 11],\n",
       "        [12, 13, 14],\n",
       "        [15, 16, 17]],\n",
       "\n",
       "       [[18, 19, 20],\n",
       "        [21, 22, 23],\n",
       "        [24, 25, 26]]])"
      ]
     },
     "execution_count": 92,
     "metadata": {},
     "output_type": "execute_result"
    }
   ],
   "source": [
    "arr3d[0, [0, 2]] = arr3d[0, [2, 0]]\n",
    "arr3d"
   ]
  },
  {
   "cell_type": "markdown",
   "metadata": {
    "collapsed": false
   },
   "source": [
    "- Implement the function *identity(n)* that generates the identity matrix of size *n*."
   ]
  },
  {
   "cell_type": "code",
   "execution_count": 101,
   "metadata": {
    "collapsed": false
   },
   "outputs": [],
   "source": [
    "def identity(n):\n",
    "    \"\"\"\n",
    "    :param n:\n",
    "    :return: identity matrix of size n\n",
    "    \"\"\"\n",
    "    return np.eye(n)"
   ]
  },
  {
   "cell_type": "code",
   "execution_count": 102,
   "metadata": {},
   "outputs": [
    {
     "name": "stdout",
     "output_type": "stream",
     "text": [
      "[[1. 0. 0. 0. 0.]\n",
      " [0. 1. 0. 0. 0.]\n",
      " [0. 0. 1. 0. 0.]\n",
      " [0. 0. 0. 1. 0.]\n",
      " [0. 0. 0. 0. 1.]]\n"
     ]
    }
   ],
   "source": [
    "print(identity(5))"
   ]
  },
  {
   "cell_type": "markdown",
   "metadata": {
    "collapsed": false
   },
   "source": [
    "- 3-dimensional array of shape=(3,2,3) of the range *0..n*. Set the odd values to -1."
   ]
  },
  {
   "cell_type": "code",
   "execution_count": 111,
   "metadata": {
    "collapsed": false
   },
   "outputs": [
    {
     "data": {
      "text/plain": [
       "array([[[ 0, -1,  2],\n",
       "        [-1,  4, -1]],\n",
       "\n",
       "       [[ 6, -1,  8],\n",
       "        [-1, 10, -1]],\n",
       "\n",
       "       [[12, -1, 14],\n",
       "        [-1, 16, -1]]])"
      ]
     },
     "execution_count": 111,
     "metadata": {},
     "output_type": "execute_result"
    }
   ],
   "source": [
    "arr3d = np.arange(0, 18).reshape(3, 2, 3)\n",
    "arr3d[arr3d % 2 != 0] = -1\n",
    "arr3d"
   ]
  },
  {
   "cell_type": "markdown",
   "metadata": {
    "collapsed": false
   },
   "source": [
    "- produce the following array (ref: numpy.repeat, numpy.tile) :\n",
    "\n",
    " <tt> [5, 5, 5, 3, 3, 3, 5, 7, 5, 7, 5, 7]</tt>"
   ]
  },
  {
   "cell_type": "code",
   "execution_count": null,
   "metadata": {
    "collapsed": false
   },
   "outputs": [
    {
     "data": {
      "text/plain": [
       "array([5, 5, 5, 3, 3, 3])"
      ]
     },
     "execution_count": 117,
     "metadata": {},
     "output_type": "execute_result"
    }
   ],
   "source": [
    "arr1d = np.array([5, 3])\n",
    "arr1d = np.repeat(arr1d, 3)"
   ]
  },
  {
   "cell_type": "code",
   "execution_count": 120,
   "metadata": {},
   "outputs": [
    {
     "data": {
      "text/plain": [
       "array([5, 7, 5, 7, 5, 7])"
      ]
     },
     "execution_count": 120,
     "metadata": {},
     "output_type": "execute_result"
    }
   ],
   "source": [
    "arr1d2 = np.array([5, 7])\n",
    "arr1d2 = np.tile(arr1d2, 3)\n",
    "arr1d2"
   ]
  },
  {
   "cell_type": "code",
   "execution_count": 125,
   "metadata": {},
   "outputs": [
    {
     "data": {
      "text/plain": [
       "array([5, 5, 5, 3, 3, 3, 5, 7, 5, 7, 5, 7])"
      ]
     },
     "execution_count": 125,
     "metadata": {},
     "output_type": "execute_result"
    }
   ],
   "source": [
    "arr1d3 = np.concatenate((arr1d, arr1d2))\n",
    "arr1d3"
   ]
  },
  {
   "cell_type": "markdown",
   "metadata": {
    "collapsed": false
   },
   "source": [
    "## Random generator"
   ]
  },
  {
   "cell_type": "code",
   "execution_count": 126,
   "metadata": {
    "collapsed": false
   },
   "outputs": [],
   "source": [
    "from numpy.random import default_rng\n",
    "rng = default_rng(1234)"
   ]
  },
  {
   "cell_type": "markdown",
   "metadata": {
    "collapsed": false
   },
   "source": [
    "Create a 1-dimensional array of random integers, range [0,100), of size 20. Test (True or False) whether the array contains any odd integers. Finally, count the number of odd integers."
   ]
  },
  {
   "cell_type": "code",
   "execution_count": null,
   "metadata": {
    "collapsed": false
   },
   "outputs": [
    {
     "data": {
      "text/plain": [
       "np.int64(12)"
      ]
     },
     "execution_count": 133,
     "metadata": {},
     "output_type": "execute_result"
    }
   ],
   "source": [
    "arr1d = rng.integers(0,100,20) \n",
    "arr1d[arr1d % 2 != 0] = -1\n",
    "\n",
    "(arr1d == -1).sum()     # 12 odd nrs \n"
   ]
  },
  {
   "cell_type": "markdown",
   "metadata": {
    "collapsed": false
   },
   "source": [
    "## Summary\n",
    "\n",
    "1. Create a two-dimensional array of random integers over the range [0,100) with shape (8,4).\n",
    "2. Calculate the following summaries on axis=0:\n",
    "\n",
    "    - minimum, maximum, mean and median\n",
    "    - 1st and 3rd quartile.\n",
    "\n",
    "3. Write the function *summary* which takes a 2-dimensional array as input and produces an R like summary as shone below:\n",
    "\n",
    "```\n",
    "       0              1               2               3\n",
    " Min.   :13.0   Min.   :24.00   Min.   :10.00   Min.   :11.00\n",
    " 1st Qu.:42.5   1st Qu.:40.75   1st Qu.:46.00   1st Qu.:26.00\n",
    " Median :67.0   Median :76.50   Median :71.00   Median :34.50\n",
    " Mean   :60.0   Mean   :67.12   Mean   :64.75   Mean   :42.88\n",
    " 3rd Qu.:81.5   3rd Qu.:93.00   3rd Qu.:95.00   3rd Qu.:61.25\n",
    " Max.   :97.0   Max.   :97.00   Max.   :98.00   Max.   :86.00\n",
    "```"
   ]
  },
  {
   "cell_type": "code",
   "execution_count": 160,
   "metadata": {
    "collapsed": false
   },
   "outputs": [],
   "source": [
    "rng = default_rng(12345) \n",
    "arr2d = rng.integers(0, 100, 32).reshape(8, 4)"
   ]
  },
  {
   "cell_type": "code",
   "execution_count": null,
   "metadata": {},
   "outputs": [
    {
     "data": {
      "text/plain": [
       "array([20, 22,  7,  9])"
      ]
     },
     "execution_count": 152,
     "metadata": {},
     "output_type": "execute_result"
    }
   ],
   "source": [
    "arr2d.min(axis = 0)"
   ]
  },
  {
   "cell_type": "code",
   "execution_count": 153,
   "metadata": {},
   "outputs": [
    {
     "data": {
      "text/plain": [
       "array([98, 79, 91, 94])"
      ]
     },
     "execution_count": 153,
     "metadata": {},
     "output_type": "execute_result"
    }
   ],
   "source": [
    "arr2d.max(axis = 0)"
   ]
  },
  {
   "cell_type": "code",
   "execution_count": null,
   "metadata": {},
   "outputs": [
    {
     "data": {
      "text/plain": [
       "array([54.25, 50.  , 52.25, 54.25])"
      ]
     },
     "execution_count": 154,
     "metadata": {},
     "output_type": "execute_result"
    }
   ],
   "source": [
    "arr2d.mean(axis = 0)"
   ]
  },
  {
   "cell_type": "code",
   "execution_count": 157,
   "metadata": {},
   "outputs": [
    {
     "data": {
      "text/plain": [
       "array([54.25, 50.  , 52.25, 54.25])"
      ]
     },
     "execution_count": 157,
     "metadata": {},
     "output_type": "execute_result"
    }
   ],
   "source": [
    "np.mean(arr2d, axis = 0)"
   ]
  },
  {
   "cell_type": "code",
   "execution_count": 156,
   "metadata": {},
   "outputs": [
    {
     "data": {
      "text/plain": [
       "array([62.5, 51.5, 62.5, 50. ])"
      ]
     },
     "execution_count": 156,
     "metadata": {},
     "output_type": "execute_result"
    }
   ],
   "source": [
    "np.median(arr2d, axis = 0)"
   ]
  },
  {
   "cell_type": "code",
   "execution_count": null,
   "metadata": {},
   "outputs": [
    {
     "data": {
      "text/plain": [
       "array([25.  , 35.25, 19.  , 27.75])"
      ]
     },
     "execution_count": 158,
     "metadata": {},
     "output_type": "execute_result"
    }
   ],
   "source": [
    "np.percentile(arr2d, 25, axis =0)"
   ]
  },
  {
   "cell_type": "code",
   "execution_count": 159,
   "metadata": {},
   "outputs": [
    {
     "data": {
      "text/plain": [
       "array([70.75, 66.25, 79.25, 89.5 ])"
      ]
     },
     "execution_count": 159,
     "metadata": {},
     "output_type": "execute_result"
    }
   ],
   "source": [
    "np.percentile(arr2d, 75, axis =0)"
   ]
  },
  {
   "cell_type": "code",
   "execution_count": 176,
   "metadata": {},
   "outputs": [],
   "source": [
    "def summary(arr2d):\n",
    "    summary_stats = {}\n",
    "    \n",
    "    summary_stats[\"Min.\"] = np.min(arr2d, axis=0)\n",
    "    summary_stats[\"1st Qu.\"] = np.percentile(arr2d, 25, axis =0)\n",
    "    summary_stats[\"Median\"] = np.median(arr2d, axis = 0)\n",
    "    summary_stats[\"Mean\"] = np.mean(arr2d, axis = 0)\n",
    "    summary_stats[\"3rd Qu.\"] = np.percentile(arr2d, 75, axis = 0)\n",
    "    summary_stats[\"Max.\"] = np.max(arr2d, axis = 0)\n",
    "\n",
    "    print(\"Summary:\")\n",
    "    for stat, values in summary_stats.items():\n",
    "        print(f\"{stat: <10}\", end=\": \")\n",
    "        print(\"  \".join([f\"{val: .2f}\" for val in values]))"
   ]
  },
  {
   "cell_type": "code",
   "execution_count": 177,
   "metadata": {},
   "outputs": [],
   "source": [
    "rng = default_rng(12345) \n",
    "arr2d = rng.integers(0, 100, 32).reshape(8, 4)"
   ]
  },
  {
   "cell_type": "code",
   "execution_count": 178,
   "metadata": {},
   "outputs": [
    {
     "name": "stdout",
     "output_type": "stream",
     "text": [
      "Summary:\n",
      "Min.      :  20.00   22.00   7.00   9.00\n",
      "1st Qu.   :  25.00   35.25   19.00   27.75\n",
      "Median    :  62.50   51.50   62.50   50.00\n",
      "Mean      :  54.25   50.00   52.25   54.25\n",
      "3rd Qu.   :  70.75   66.25   79.25   89.50\n",
      "Max.      :  98.00   79.00   91.00   94.00\n"
     ]
    }
   ],
   "source": [
    "summary(arr2d)"
   ]
  },
  {
   "cell_type": "markdown",
   "metadata": {
    "collapsed": false
   },
   "source": [
    "## Matrix multiplication\n",
    "\n",
    "Implement function *mat_mult* which takes two 2-dimensional arrays and produces their product. Compare your results with the NumPy built-in operator '@'. Make sure that the function raises and exception if the matrix dimensions are incompatible."
   ]
  },
  {
   "cell_type": "code",
   "execution_count": 185,
   "metadata": {
    "collapsed": false
   },
   "outputs": [],
   "source": [
    "def mat_mul(m1,m2):\n",
    "    \"\"\"\n",
    "    Carry out matrix multiplication on m1 and m2. Raise error if the m1 and m2 are\n",
    "    not compatible for multiplication.\n",
    "\n",
    "    :param m1: 2-dimensional array\n",
    "    :param m2: 2-dimensional array\n",
    "    :return: m1 multiplied by m2\n",
    "    \"\"\"\n",
    "    return"
   ]
  },
  {
   "cell_type": "code",
   "execution_count": 186,
   "metadata": {},
   "outputs": [
    {
     "name": "stdout",
     "output_type": "stream",
     "text": [
      "Result using custom mat_mul function:\n",
      " [[19. 22.]\n",
      " [43. 50.]]\n",
      "\n",
      "Result using NumPy's @ operator:\n",
      " [[19 22]\n",
      " [43 50]]\n"
     ]
    }
   ],
   "source": [
    "import numpy as np\n",
    "\n",
    "def mat_mul(m1, m2):\n",
    "    \"\"\"\n",
    "    Carry out matrix multiplication on m1 and m2. Raise error if the m1 and m2 are\n",
    "    not compatible for multiplication.\n",
    "\n",
    "    :param m1: 2-dimensional array\n",
    "    :param m2: 2-dimensional array\n",
    "    :return: m1 multiplied by m2\n",
    "    \"\"\"\n",
    "    # Check if the number of columns of m1 is equal to the number of rows of m2\n",
    "    if m1.shape[1] != m2.shape[0]:\n",
    "        raise ValueError(\"Incompatible dimensions for matrix multiplication\")\n",
    "    \n",
    "    # Initialize the result matrix with zeros\n",
    "    result = np.zeros((m1.shape[0], m2.shape[1]))\n",
    "    \n",
    "    # Perform matrix multiplication\n",
    "    for i in range(m1.shape[0]):  # Iterate over rows of m1\n",
    "        for j in range(m2.shape[1]):  # Iterate over columns of m2\n",
    "            # Perform dot product of i-th row of m1 and j-th column of m2\n",
    "            result[i, j] = np.dot(m1[i, :], m2[:, j])\n",
    "    \n",
    "    return result\n",
    "\n",
    "# Example usage:\n",
    "m1 = np.array([[1, 2], [3, 4]])  # 2x2 matrix\n",
    "m2 = np.array([[5, 6], [7, 8]])  # 2x2 matrix\n",
    "\n",
    "# Matrix multiplication using the custom function\n",
    "result = mat_mul(m1, m2)\n",
    "\n",
    "# Compare with NumPy's built-in @ operator (matrix multiplication)\n",
    "result_numpy = m1 @ m2\n",
    "\n",
    "print(\"Result using custom mat_mul function:\\n\", result)\n",
    "print(\"\\nResult using NumPy's @ operator:\\n\", result_numpy)\n"
   ]
  },
  {
   "cell_type": "markdown",
   "metadata": {
    "collapsed": false
   },
   "source": [
    "## Covariance matrix\n",
    "\n",
    "Calculate the covariance matrix between two or more random variables:\n",
    "\n",
    "**Synopsis:** <tt>cov(x_1,...,x_n)</tt>\n",
    "   - input: x_1,..,x_n random variables\n",
    "   - return: nxn symmetric array\n",
    "\n",
    "The covariance $cov(X,Y) = E[XY] - E[X]E[Y]$.\n",
    "\n",
    "**Data** We first generate the random variables X and Y with from a joint normal distribution given the means and covariance matrix. This can be done with *.random.multivariate_normal*:"
   ]
  },
  {
   "cell_type": "code",
   "execution_count": 183,
   "metadata": {
    "collapsed": false
   },
   "outputs": [],
   "source": [
    "cov = np.array([[1.5, .6], [ .6, .5]])  # covariance matrix\n",
    "X, Y = rng.multivariate_normal(mean=(0,0), cov=cov, size=5000).T # sample 5000\n"
   ]
  },
  {
   "cell_type": "markdown",
   "metadata": {
    "collapsed": false
   },
   "source": [
    "Here is the scatter plot of our data:"
   ]
  },
  {
   "cell_type": "code",
   "execution_count": 184,
   "metadata": {
    "collapsed": false
   },
   "outputs": [
    {
     "ename": "ModuleNotFoundError",
     "evalue": "No module named 'matplotlib'",
     "output_type": "error",
     "traceback": [
      "\u001b[0;31m---------------------------------------------------------------------------\u001b[0m",
      "\u001b[0;31mModuleNotFoundError\u001b[0m                       Traceback (most recent call last)",
      "Cell \u001b[0;32mIn[184], line 1\u001b[0m\n\u001b[0;32m----> 1\u001b[0m \u001b[38;5;28;01mimport\u001b[39;00m\u001b[38;5;250m \u001b[39m\u001b[38;5;21;01mmatplotlib\u001b[39;00m\u001b[38;5;21;01m.\u001b[39;00m\u001b[38;5;21;01mpyplot\u001b[39;00m\u001b[38;5;250m \u001b[39m\u001b[38;5;28;01mas\u001b[39;00m\u001b[38;5;250m \u001b[39m\u001b[38;5;21;01mplt\u001b[39;00m\n\u001b[1;32m      2\u001b[0m plt\u001b[38;5;241m.\u001b[39mscatter(X, Y, alpha\u001b[38;5;241m=\u001b[39m\u001b[38;5;241m.5\u001b[39m, s\u001b[38;5;241m=\u001b[39m\u001b[38;5;241m.5\u001b[39m);\n",
      "\u001b[0;31mModuleNotFoundError\u001b[0m: No module named 'matplotlib'"
     ]
    }
   ],
   "source": [
    "import matplotlib.pyplot as plt\n",
    "plt.scatter(X, Y, alpha=.5, s=.5);"
   ]
  },
  {
   "cell_type": "code",
   "execution_count": 187,
   "metadata": {},
   "outputs": [
    {
     "data": {
      "text/plain": [
       "array([[1.48832587, 0.6043004 ],\n",
       "       [0.6043004 , 0.50507387]])"
      ]
     },
     "execution_count": 187,
     "metadata": {},
     "output_type": "execute_result"
    }
   ],
   "source": [
    "np.cov(X, Y)"
   ]
  },
  {
   "cell_type": "markdown",
   "metadata": {
    "collapsed": false
   },
   "source": [
    "Implement the function cov and compare the results with NumPy built-in function *np.cov*."
   ]
  },
  {
   "cell_type": "code",
   "execution_count": null,
   "metadata": {
    "collapsed": false
   },
   "outputs": [],
   "source": [
    "# *args represents set of arguments and is iterable. calls will look\n",
    "# like: cov(x), cov(x,y), cov(x,y,z), etc.\n",
    "#\n",
    "def cov(*args):\n",
    "    \"\"\"\n",
    "\n",
    "    :param args:\n",
    "    :return:\n",
    "    \"\"\""
   ]
  }
 ],
 "metadata": {
  "kernelspec": {
   "display_name": "Python 3",
   "language": "python",
   "name": "python3"
  },
  "language_info": {
   "codemirror_mode": {
    "name": "ipython",
    "version": 3
   },
   "file_extension": ".py",
   "mimetype": "text/x-python",
   "name": "python",
   "nbconvert_exporter": "python",
   "pygments_lexer": "ipython3",
   "version": "3.12.8"
  }
 },
 "nbformat": 4,
 "nbformat_minor": 0
}
