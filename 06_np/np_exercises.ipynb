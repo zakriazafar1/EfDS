{
 "cells": [
  {
   "cell_type": "markdown",
   "metadata": {
    "collapsed": false
   },
   "source": [
    "## Exercises"
   ]
  },
  {
   "cell_type": "code",
   "execution_count": 3,
   "metadata": {
    "collapsed": false
   },
   "outputs": [],
   "source": [
    "import numpy as np"
   ]
  },
  {
   "cell_type": "markdown",
   "metadata": {
    "collapsed": false
   },
   "source": [
    "### Create arrays"
   ]
  },
  {
   "cell_type": "markdown",
   "metadata": {
    "collapsed": false
   },
   "source": [
    "- 1-dimensional array over the range 11, 14, 17, 20, ..., 50. In addition show the type, size, shape and number of dimensions of the array."
   ]
  },
  {
   "cell_type": "markdown",
   "metadata": {
    "collapsed": false
   },
   "source": [
    "- 2-dimensional array of boolean type with shape=(5,3) and all set to True."
   ]
  },
  {
   "cell_type": "markdown",
   "metadata": {
    "collapsed": false
   },
   "source": [
    "- 2-dimensional array of shape=(9,3) of the alphabet a..z. Pad with empty string \"\" to fit the shape."
   ]
  },
  {
   "cell_type": "markdown",
   "metadata": {
    "collapsed": false
   },
   "source": [
    "- 2-dimensional array of shape=(5,6) filled with '***'. Hint: see *numpy.full*."
   ]
  },
  {
   "cell_type": "code",
   "execution_count": 10,
   "metadata": {
    "collapsed": false
   },
   "outputs": [
    {
     "data": {
      "text/plain": [
       "(dtype('int64'), (1, 14), 14, 2)"
      ]
     },
     "execution_count": 10,
     "metadata": {},
     "output_type": "execute_result"
    }
   ],
   "source": [
    "arr1 = np.array([range(11, 51, 3)])\n",
    "arr1.dtype, arr1.shape, arr1.size, arr1.ndim"
   ]
  },
  {
   "cell_type": "code",
   "execution_count": 15,
   "metadata": {},
   "outputs": [
    {
     "data": {
      "text/plain": [
       "array([[False, False, False],\n",
       "       [False, False, False],\n",
       "       [False, False, False],\n",
       "       [False, False, False],\n",
       "       [False, False, False]])"
      ]
     },
     "execution_count": 15,
     "metadata": {},
     "output_type": "execute_result"
    }
   ],
   "source": [
    "np.zeros((5,3),dtype=bool) # OR: \n",
    "~ np.ones((5,3), dtype=bool) "
   ]
  },
  {
   "cell_type": "code",
   "execution_count": 19,
   "metadata": {},
   "outputs": [
    {
     "data": {
      "text/plain": [
       "array([['a', 'b', 'c'],\n",
       "       ['d', 'e', 'f'],\n",
       "       ['g', 'h', 'i'],\n",
       "       ['j', 'k', 'l'],\n",
       "       ['m', 'n', 'o'],\n",
       "       ['p', 'q', 'r'],\n",
       "       ['s', 't', 'u'],\n",
       "       ['v', 'w', 'x'],\n",
       "       ['y', 'z', '']], dtype='<U1')"
      ]
     },
     "execution_count": 19,
     "metadata": {},
     "output_type": "execute_result"
    }
   ],
   "source": [
    "arr2 = np.array(list(\"abcdefghijklmnopqrstuvwxyz\")+[\"\"]).reshape(9,3)\n",
    "arr2"
   ]
  },
  {
   "cell_type": "markdown",
   "metadata": {
    "collapsed": false
   },
   "source": [
    "## Array indices\n",
    "\n",
    "The exercises below cover array access and assignments using indices."
   ]
  },
  {
   "cell_type": "markdown",
   "metadata": {
    "collapsed": false
   },
   "source": [
    "- Given the 2-dimensional array *arr2d* below, fetch the following elements fetch:\n",
    "    - single elements:  'e', 'g'\n",
    "    - [e,f]\n",
    "    - [h,e,b]\n",
    "    - [h,i]\n",
    "    - [d,b,f,h]"
   ]
  },
  {
   "cell_type": "code",
   "execution_count": 4,
   "metadata": {},
   "outputs": [
    {
     "data": {
      "text/plain": [
       "array([['a', 'b', 'c'],\n",
       "       ['d', 'e', 'f'],\n",
       "       ['g', 'h', 'i']], dtype='<U1')"
      ]
     },
     "execution_count": 4,
     "metadata": {},
     "output_type": "execute_result"
    }
   ],
   "source": [
    "arr2d = np.array(list(\"abcdefghi\")).reshape(3,3)\n",
    "arr2d"
   ]
  },
  {
   "cell_type": "code",
   "execution_count": 47,
   "metadata": {},
   "outputs": [
    {
     "data": {
      "text/plain": [
       "array(['d', 'b', 'f', 'h'], dtype='<U1')"
      ]
     },
     "execution_count": 47,
     "metadata": {},
     "output_type": "execute_result"
    }
   ],
   "source": [
    "arr2d[1, 1], arr2d[1, 2]\n",
    "arr2d[1, 1:]\n",
    "arr2d[:,1][::-1]\n",
    "arr2d[2, 1:]\n",
    "arr2d[[1,0,1,2],[0,1,2,1]] "
   ]
  },
  {
   "cell_type": "code",
   "execution_count": 5,
   "metadata": {},
   "outputs": [
    {
     "data": {
      "text/plain": [
       "array(['h', 'e', 'b'], dtype='<U1')"
      ]
     },
     "execution_count": 5,
     "metadata": {},
     "output_type": "execute_result"
    }
   ],
   "source": [
    "arr2d[:,1][::-1]"
   ]
  },
  {
   "cell_type": "markdown",
   "metadata": {
    "collapsed": false
   },
   "source": [
    "- Given the 3-dimensional array arr3d:\n",
    "    - fetch:\n",
    "        - [[19,20],[22,23]]\n",
    "        - [[9,12,15],[11,14,17]]\n",
    "    - swap:\n",
    "        - on axis-0 the 2nd and the 3rd elements\n",
    "        - the 1st and the 3rd element of all elements on axis-0\n",
    "        - repeat the previous swap but now only on the 1st element of axis-0"
   ]
  },
  {
   "cell_type": "code",
   "execution_count": 53,
   "metadata": {},
   "outputs": [
    {
     "data": {
      "text/plain": [
       "array([[[ 0,  1,  2],\n",
       "        [ 3,  4,  5],\n",
       "        [ 6,  7,  8]],\n",
       "\n",
       "       [[ 9, 10, 11],\n",
       "        [12, 13, 14],\n",
       "        [15, 16, 17]],\n",
       "\n",
       "       [[18, 19, 20],\n",
       "        [21, 22, 23],\n",
       "        [24, 25, 26]]])"
      ]
     },
     "execution_count": 53,
     "metadata": {},
     "output_type": "execute_result"
    }
   ],
   "source": [
    "arr3d = np.arange(3*3*3).reshape(3,3,3)\n",
    "arr3d"
   ]
  },
  {
   "cell_type": "code",
   "execution_count": 66,
   "metadata": {},
   "outputs": [
    {
     "data": {
      "text/plain": [
       "array([[ 9, 12, 15],\n",
       "       [11, 14, 17]])"
      ]
     },
     "execution_count": 66,
     "metadata": {},
     "output_type": "execute_result"
    }
   ],
   "source": [
    "arr3d[2, :2:, 1:]\n",
    "arr3d[1, 0:, 0]\n",
    "arr3d[1, 0:, 2]\n",
    "arr3d[1,:,[0,2]]"
   ]
  },
  {
   "cell_type": "code",
   "execution_count": 69,
   "metadata": {},
   "outputs": [
    {
     "data": {
      "text/plain": [
       "array([[[ 0,  1,  2],\n",
       "        [ 3,  4,  5],\n",
       "        [ 6,  7,  8]],\n",
       "\n",
       "       [[18, 19, 20],\n",
       "        [21, 22, 23],\n",
       "        [24, 25, 26]],\n",
       "\n",
       "       [[ 9, 10, 11],\n",
       "        [12, 13, 14],\n",
       "        [15, 16, 17]]])"
      ]
     },
     "execution_count": 69,
     "metadata": {},
     "output_type": "execute_result"
    }
   ],
   "source": [
    "arr3d.swapaxes(0, 1)\n",
    "arr3d[[0,2,1]]"
   ]
  },
  {
   "cell_type": "markdown",
   "metadata": {
    "collapsed": false
   },
   "source": [
    "- Implement the function *identity(n)* that generates the identity matrix of size *n*."
   ]
  },
  {
   "cell_type": "markdown",
   "metadata": {
    "collapsed": false
   },
   "source": [
    "- 3-dimensional array of shape=(3,2,3) of the range *0..n*. Set the odd values to -1."
   ]
  },
  {
   "cell_type": "code",
   "execution_count": 74,
   "metadata": {},
   "outputs": [
    {
     "data": {
      "text/plain": [
       "array([[[ 0, -1,  2],\n",
       "        [-1,  4, -1],\n",
       "        [ 6, -1,  8]],\n",
       "\n",
       "       [[-1, 10, -1],\n",
       "        [12, -1, 14],\n",
       "        [-1, 16, -1]],\n",
       "\n",
       "       [[18, -1, 20],\n",
       "        [-1, 22, -1],\n",
       "        [24, -1, 26]]])"
      ]
     },
     "execution_count": 74,
     "metadata": {},
     "output_type": "execute_result"
    }
   ],
   "source": [
    "arr3d = np.arange(3*3*3).reshape(3,3,3)\n",
    "arr_copy = arr3d.copy()\n",
    "\n",
    "arr_copy[arr3d % 2 != 0] = -1\n",
    "arr_copy"
   ]
  },
  {
   "cell_type": "markdown",
   "metadata": {
    "collapsed": false
   },
   "source": [
    "- produce the following array (ref: numpy.repeat, numpy.tile) :\n",
    "\n",
    " <tt> [5, 5, 5, 3, 3, 3, 5, 7, 5, 7, 5, 7]</tt>"
   ]
  },
  {
   "cell_type": "code",
   "execution_count": 87,
   "metadata": {},
   "outputs": [
    {
     "data": {
      "text/plain": [
       "array([5, 5, 5, 3, 3, 3, 5, 7, 5, 7, 5, 7])"
      ]
     },
     "execution_count": 87,
     "metadata": {},
     "output_type": "execute_result"
    }
   ],
   "source": [
    "arr1 = np.repeat([5, 3], 3)\n",
    "arr2 = np.tile([5,7], 3)\n",
    "\n",
    "np.concatenate((np.repeat([5, 3], 3), np.tile([5,7], 3)))"
   ]
  },
  {
   "cell_type": "markdown",
   "metadata": {},
   "source": [
    "- Create a (8,8) two-dimensional array to represent a chessboard filled with 0 and 1 representing black and white squares respectively. Make sure the orientation is correct with leading diagonal set to white."
   ]
  },
  {
   "cell_type": "code",
   "execution_count": null,
   "metadata": {},
   "outputs": [
    {
     "data": {
      "text/plain": [
       "array([[1, 0, 1, 0, 1, 0, 1, 0],\n",
       "       [0, 1, 0, 1, 0, 1, 0, 1],\n",
       "       [1, 0, 1, 0, 1, 0, 1, 0],\n",
       "       [0, 1, 0, 1, 0, 1, 0, 1],\n",
       "       [1, 0, 1, 0, 1, 0, 1, 0],\n",
       "       [0, 1, 0, 1, 0, 1, 0, 1],\n",
       "       [1, 0, 1, 0, 1, 0, 1, 0],\n",
       "       [0, 1, 0, 1, 0, 1, 0, 1]])"
      ]
     },
     "execution_count": 107,
     "metadata": {},
     "output_type": "execute_result"
    }
   ],
   "source": [
    "np.tile(np.array([[1,0],[0,1]]),(4,4))"
   ]
  },
  {
   "cell_type": "markdown",
   "metadata": {},
   "source": [
    "- Implement the function `grid_x(n)` based on the description below. Make use of numpy functions and vectorisation capability to avoid looping."
   ]
  },
  {
   "cell_type": "code",
   "execution_count": 121,
   "metadata": {},
   "outputs": [],
   "source": [
    "def grid_x(n):\n",
    "    \"\"\"\n",
    "    Generates a 2D grid of specified size (n x n) with an 'X' shape pattern\n",
    "    represented by \"#\" symbols. All other cells in the grid are represented\n",
    "    by \".\".\n",
    "\n",
    "    Parameters\n",
    "    ----------\n",
    "    n : int\n",
    "        The size of the grid. Must be a positive integer.\n",
    "\n",
    "    Returns\n",
    "    -------\n",
    "    (n x n) numpy.ndarray containing the X pattern.\n",
    "\n",
    "    \"\"\"\n",
    "    \n",
    "    cond = (np.identity(n,dtype=\"?\") | np.flip(np.identity(n, dtype=\"?\"),axis=1))\n",
    "    return np.where(cond,\"#\",\".\")"
   ]
  },
  {
   "cell_type": "markdown",
   "metadata": {
    "collapsed": false
   },
   "source": [
    "## Random generator"
   ]
  },
  {
   "cell_type": "markdown",
   "metadata": {
    "collapsed": false
   },
   "source": [
    "Create a 1-dimensional array of random integers, range [0,100), of size 20. Test (True or False) whether the array contains any odd integers. Finally, count the number of odd integers."
   ]
  },
  {
   "cell_type": "code",
   "execution_count": 149,
   "metadata": {},
   "outputs": [
    {
     "data": {
      "text/plain": [
       "np.int64(11)"
      ]
     },
     "execution_count": 149,
     "metadata": {},
     "output_type": "execute_result"
    }
   ],
   "source": [
    "rng = np.random.default_rng(222)\n",
    "int_arr = rng.integers(0, 100, 20)\n",
    "(int_arr % 2 != 0).any()\n",
    "(int_arr % 2 != 0).sum() # 11 "
   ]
  },
  {
   "cell_type": "markdown",
   "metadata": {
    "collapsed": false
   },
   "source": [
    "\n",
    "## Summary\n",
    "\n",
    "1. Create a two-dimensional array of random integers over the range [0,100) with shape (8,4).\n",
    "2. Calculate the following summaries on axis=0:\n",
    "\n",
    "    - minimum, maximum, mean and median\n",
    "    - 1st and 3rd quartile.\n",
    "\n",
    "3. Write the function *summary* which takes a 2-dimensional array as input and produces an R like summary as shone below:\n",
    "\n",
    "```\n",
    "       0              1               2               3\n",
    " Min.   :13.0   Min.   :24.00   Min.   :10.00   Min.   :11.00\n",
    " 1st Qu.:42.5   1st Qu.:40.75   1st Qu.:46.00   1st Qu.:26.00\n",
    " Median :67.0   Median :76.50   Median :71.00   Median :34.50\n",
    " Mean   :60.0   Mean   :67.12   Mean   :64.75   Mean   :42.88\n",
    " 3rd Qu.:81.5   3rd Qu.:93.00   3rd Qu.:95.00   3rd Qu.:61.25\n",
    " Max.   :97.0   Max.   :97.00   Max.   :98.00   Max.   :86.00\n",
    "```"
   ]
  },
  {
   "cell_type": "code",
   "execution_count": null,
   "metadata": {},
   "outputs": [],
   "source": [
    "rng = np.random.default_rng(222)\n",
    "arr = rng.integers(0, 100, 32).reshape(8,4)\n",
    "\n",
    "max = np.max(arr, axis=0)\n",
    "min = np.min(arr, 0)\n",
    "mean = np.mean(arr,0)\n",
    "median = np.median(arr,0)\n",
    "first_qrt = np.quantile(arr, 0.25, 0)\n",
    "third_qrt = np.quantile(arr, 0.75, 0)"
   ]
  },
  {
   "cell_type": "code",
   "execution_count": 172,
   "metadata": {},
   "outputs": [
    {
     "data": {
      "text/plain": [
       "array([[ 1.   , 36.   ,  2.   ,  8.   ],\n",
       "       [36.75 , 37.75 , 26.75 ,  8.75 ],\n",
       "       [54.5  , 51.   , 38.   , 50.   ],\n",
       "       [46.875, 53.625, 43.375, 42.625],\n",
       "       [62.5  , 59.25 , 60.25 , 62.5  ],\n",
       "       [72.   , 89.   , 83.   , 86.   ]])"
      ]
     },
     "execution_count": 172,
     "metadata": {},
     "output_type": "execute_result"
    }
   ],
   "source": [
    "def summary(x):\n",
    "    if x.ndim == 2:\n",
    "        aggregates = np.stack( [np.min(x,axis=0),              # minimum\n",
    "                                np.quantile(x, 0.25, axis=0),  # 1st quartile\n",
    "                                np.median(x,axis=0),           # 2nd quartile\n",
    "                                np.mean(x,axis=0),             # mean\n",
    "                                np.quantile(x, 0.75, axis=0),  # 3rd quartile\n",
    "                                np.max(x,axis=0)],             # maximum\n",
    "                               axis=0)\n",
    "\n",
    "        return aggregates\n",
    "    else:\n",
    "        raise Exception(\"Only 2-dimensional arrays are supported !\")\n",
    "    \n",
    "summary(x=arr)"
   ]
  },
  {
   "cell_type": "markdown",
   "metadata": {
    "collapsed": false
   },
   "source": [
    "## Matrix multiplication\n",
    "\n",
    "Implement function *mat_mult* which takes two 2-dimensional arrays and produces their product. Compare your results with the NumPy built-in operator '@'. Make sure that the function raises and exception if the matrix dimensions are incompatible."
   ]
  },
  {
   "cell_type": "code",
   "execution_count": 150,
   "metadata": {},
   "outputs": [],
   "source": [
    "a = rng.integers(0, 10, 6).reshape(3, 2)\n",
    "b = rng.integers(0, 10, 6).reshape(2, 3)"
   ]
  },
  {
   "cell_type": "code",
   "execution_count": 152,
   "metadata": {},
   "outputs": [],
   "source": [
    "def mat_mul(m1,m2):\n",
    "    \"\"\"\n",
    "    Use broadcast to speed up.\n",
    "    :param m1:\n",
    "    :param m2:\n",
    "    :return: matrix m1 multiplied by  m2\n",
    "    \"\"\"\n",
    "    if m1.shape[1]==m2.shape[0]:\n",
    "        return np.array([np.sum(x * m2.T, axis=1) for x in np.split(m1,m1.shape[0])])\n",
    "    else:\n",
    "        raise Exception(\"incompatible dimensions !\")"
   ]
  },
  {
   "cell_type": "markdown",
   "metadata": {
    "collapsed": false
   },
   "source": [
    "## Covariance matrix\n",
    "\n",
    "Calculate the covariance matrix between two or more random variables:\n",
    "\n",
    "**Synopsis:** <tt>cov(x_1,...,x_n)</tt>\n",
    "   - input: x_1,..,x_n random variables\n",
    "   - return: nxn symmetric array\n",
    "\n",
    "The covariance $cov(X,Y) = E[XY] - E[X]E[Y]$.\n",
    "\n",
    "**Data** We first generate the random variables X and Y with from a joint normal distribution given the means and covariance matrix. This can be done with *.random.multivariate_normal*:"
   ]
  },
  {
   "cell_type": "markdown",
   "metadata": {
    "collapsed": false
   },
   "source": [
    "Here is the scatter plot of our data:"
   ]
  },
  {
   "cell_type": "markdown",
   "metadata": {
    "collapsed": false
   },
   "source": [
    "Implement the function cov and compare the results with NumPy built-in function *np.cov*."
   ]
  }
 ],
 "metadata": {
  "kernelspec": {
   "display_name": "Python 3",
   "language": "python",
   "name": "python3"
  },
  "language_info": {
   "codemirror_mode": {
    "name": "ipython",
    "version": 3
   },
   "file_extension": ".py",
   "mimetype": "text/x-python",
   "name": "python",
   "nbconvert_exporter": "python",
   "pygments_lexer": "ipython3",
   "version": "3.12.8"
  }
 },
 "nbformat": 4,
 "nbformat_minor": 0
}
