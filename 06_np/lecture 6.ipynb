{
 "cells": [
  {
   "cell_type": "markdown",
   "id": "f39edaa9",
   "metadata": {},
   "source": [
    "# Arrays "
   ]
  },
  {
   "cell_type": "code",
   "execution_count": 1,
   "id": "3ed5aaf1",
   "metadata": {},
   "outputs": [],
   "source": [
    "import numpy as np"
   ]
  },
  {
   "cell_type": "code",
   "execution_count": 2,
   "id": "23d69c0c",
   "metadata": {},
   "outputs": [
    {
     "data": {
      "text/plain": [
       "[array([1, 2, 3]), array([1, 2, 3]), array([1, 2, 3])]"
      ]
     },
     "execution_count": 2,
     "metadata": {},
     "output_type": "execute_result"
    }
   ],
   "source": [
    "# 1D\n",
    "arr1d = [[1,2,3], range(1,4), (1,2,3)]\n",
    "[np.array(arr) for arr in arr1d]"
   ]
  },
  {
   "cell_type": "code",
   "execution_count": 5,
   "id": "fd1af802",
   "metadata": {},
   "outputs": [
    {
     "data": {
      "text/plain": [
       "(array([[ 0,  1,  2,  3],\n",
       "        [ 4,  5,  6,  7],\n",
       "        [ 8,  9, 10, 11]]),\n",
       " array([12, 15, 18, 21]))"
      ]
     },
     "execution_count": 5,
     "metadata": {},
     "output_type": "execute_result"
    }
   ],
   "source": [
    "arr = np.arange(12).reshape(3,4)  # shape: (3, 4)\n",
    "\n",
    "arr, np.sum(arr, axis=0)  # Sum down columns → output shape: (4,)"
   ]
  },
  {
   "cell_type": "code",
   "execution_count": 3,
   "id": "6b7571b6",
   "metadata": {},
   "outputs": [
    {
     "data": {
      "text/plain": [
       "[array([[1, 2, 3],\n",
       "        [4, 5, 6]]),\n",
       " array([[1, 2, 3],\n",
       "        [4, 5, 6]]),\n",
       " array([[1, 2, 3],\n",
       "        [4, 5, 6]])]"
      ]
     },
     "execution_count": 3,
     "metadata": {},
     "output_type": "execute_result"
    }
   ],
   "source": [
    "\n",
    "# 2D\n",
    "arr2d = [ [[1,2,3],[4,5,6]],          # list of lists\n",
    "          [range(1,4), range(4,7)],   # list of ranges\n",
    "          ((1,2,3),(4,5,6))           # tuple of tuples\n",
    "          ]\n",
    "[np.array(arr) for arr in arr2d]"
   ]
  },
  {
   "cell_type": "code",
   "execution_count": 6,
   "id": "55e8cc13",
   "metadata": {},
   "outputs": [
    {
     "data": {
      "text/plain": [
       "array([[0, 2],\n",
       "       [1, 6]])"
      ]
     },
     "execution_count": 6,
     "metadata": {},
     "output_type": "execute_result"
    }
   ],
   "source": [
    "# reshape, zeros, ones, empty\n",
    "np.array([0,2,1,6]).reshape((2,2)) # 2-dimensional array"
   ]
  },
  {
   "cell_type": "code",
   "execution_count": 7,
   "id": "780d20ca",
   "metadata": {},
   "outputs": [
    {
     "data": {
      "text/plain": [
       "array([[0, 1],\n",
       "       [2, 3],\n",
       "       [4, 5],\n",
       "       [6, 7],\n",
       "       [8, 9]])"
      ]
     },
     "execution_count": 7,
     "metadata": {},
     "output_type": "execute_result"
    }
   ],
   "source": [
    "np.arange(10).reshape(5,2 )"
   ]
  },
  {
   "cell_type": "code",
   "execution_count": 9,
   "id": "8ba36876",
   "metadata": {},
   "outputs": [
    {
     "data": {
      "text/plain": [
       "(np.float64(4.5), np.float64(4.5), np.float64(4.5))"
      ]
     },
     "execution_count": 9,
     "metadata": {},
     "output_type": "execute_result"
    }
   ],
   "source": [
    "\n",
    "arr = np.arange(10)\n",
    "np.median(arr), np.percentile(arr, 50), np.quantile(arr, 0.5)"
   ]
  },
  {
   "cell_type": "code",
   "execution_count": 8,
   "id": "12724a7a",
   "metadata": {},
   "outputs": [
    {
     "data": {
      "text/plain": [
       "array([0, 0, 0, 1, 1, 1, 2, 2, 2])"
      ]
     },
     "execution_count": 8,
     "metadata": {},
     "output_type": "execute_result"
    }
   ],
   "source": [
    "np.repeat(np.array([0,1,2]),3)"
   ]
  },
  {
   "cell_type": "code",
   "execution_count": 9,
   "id": "f8f74685",
   "metadata": {},
   "outputs": [
    {
     "data": {
      "text/plain": [
       "array([0, 1, 2, 0, 1, 2, 0, 1, 2])"
      ]
     },
     "execution_count": 9,
     "metadata": {},
     "output_type": "execute_result"
    }
   ],
   "source": [
    "np.tile(np.array([0,1,2]),3)"
   ]
  },
  {
   "cell_type": "code",
   "execution_count": 11,
   "id": "ce3eccd8",
   "metadata": {},
   "outputs": [
    {
     "name": "stdout",
     "output_type": "stream",
     "text": [
      "Help on _ArrayFunctionDispatcher in module numpy:\n",
      "\n",
      "reshape(a, /, shape=None, order='C', *, newshape=None, copy=None)\n",
      "    Gives a new shape to an array without changing its data.\n",
      "\n",
      "    Parameters\n",
      "    ----------\n",
      "    a : array_like\n",
      "        Array to be reshaped.\n",
      "    shape : int or tuple of ints\n",
      "        The new shape should be compatible with the original shape. If\n",
      "        an integer, then the result will be a 1-D array of that length.\n",
      "        One shape dimension can be -1. In this case, the value is\n",
      "        inferred from the length of the array and remaining dimensions.\n",
      "    order : {'C', 'F', 'A'}, optional\n",
      "        Read the elements of ``a`` using this index order, and place the\n",
      "        elements into the reshaped array using this index order. 'C'\n",
      "        means to read / write the elements using C-like index order,\n",
      "        with the last axis index changing fastest, back to the first\n",
      "        axis index changing slowest. 'F' means to read / write the\n",
      "        elements using Fortran-like index order, with the first index\n",
      "        changing fastest, and the last index changing slowest. Note that\n",
      "        the 'C' and 'F' options take no account of the memory layout of\n",
      "        the underlying array, and only refer to the order of indexing.\n",
      "        'A' means to read / write the elements in Fortran-like index\n",
      "        order if ``a`` is Fortran *contiguous* in memory, C-like order\n",
      "        otherwise.\n",
      "    newshape : int or tuple of ints\n",
      "        .. deprecated:: 2.1\n",
      "            Replaced by ``shape`` argument. Retained for backward\n",
      "            compatibility.\n",
      "    copy : bool, optional\n",
      "        If ``True``, then the array data is copied. If ``None``, a copy will\n",
      "        only be made if it's required by ``order``. For ``False`` it raises\n",
      "        a ``ValueError`` if a copy cannot be avoided. Default: ``None``.\n",
      "\n",
      "    Returns\n",
      "    -------\n",
      "    reshaped_array : ndarray\n",
      "        This will be a new view object if possible; otherwise, it will\n",
      "        be a copy.  Note there is no guarantee of the *memory layout* (C- or\n",
      "        Fortran- contiguous) of the returned array.\n",
      "\n",
      "    See Also\n",
      "    --------\n",
      "    ndarray.reshape : Equivalent method.\n",
      "\n",
      "    Notes\n",
      "    -----\n",
      "    It is not always possible to change the shape of an array without copying\n",
      "    the data.\n",
      "\n",
      "    The ``order`` keyword gives the index ordering both for *fetching*\n",
      "    the values from ``a``, and then *placing* the values into the output\n",
      "    array. For example, let's say you have an array:\n",
      "\n",
      "    >>> a = np.arange(6).reshape((3, 2))\n",
      "    >>> a\n",
      "    array([[0, 1],\n",
      "           [2, 3],\n",
      "           [4, 5]])\n",
      "\n",
      "    You can think of reshaping as first raveling the array (using the given\n",
      "    index order), then inserting the elements from the raveled array into the\n",
      "    new array using the same kind of index ordering as was used for the\n",
      "    raveling.\n",
      "\n",
      "    >>> np.reshape(a, (2, 3)) # C-like index ordering\n",
      "    array([[0, 1, 2],\n",
      "           [3, 4, 5]])\n",
      "    >>> np.reshape(np.ravel(a), (2, 3)) # equivalent to C ravel then C reshape\n",
      "    array([[0, 1, 2],\n",
      "           [3, 4, 5]])\n",
      "    >>> np.reshape(a, (2, 3), order='F') # Fortran-like index ordering\n",
      "    array([[0, 4, 3],\n",
      "           [2, 1, 5]])\n",
      "    >>> np.reshape(np.ravel(a, order='F'), (2, 3), order='F')\n",
      "    array([[0, 4, 3],\n",
      "           [2, 1, 5]])\n",
      "\n",
      "    Examples\n",
      "    --------\n",
      "    >>> import numpy as np\n",
      "    >>> a = np.array([[1,2,3], [4,5,6]])\n",
      "    >>> np.reshape(a, 6)\n",
      "    array([1, 2, 3, 4, 5, 6])\n",
      "    >>> np.reshape(a, 6, order='F')\n",
      "    array([1, 4, 2, 5, 3, 6])\n",
      "\n",
      "    >>> np.reshape(a, (3,-1))       # the unspecified value is inferred to be 2\n",
      "    array([[1, 2],\n",
      "           [3, 4],\n",
      "           [5, 6]])\n",
      "\n"
     ]
    },
    {
     "data": {
      "text/plain": [
       "(3, (2, 2, 2), dtype('int64'), 8)"
      ]
     },
     "execution_count": 11,
     "metadata": {},
     "output_type": "execute_result"
    }
   ],
   "source": [
    "arr = np.arange(8).reshape(2,2,2)\n",
    "help(np.reshape)\n",
    "arr.ndim, arr.shape, arr.dtype, arr.size"
   ]
  },
  {
   "cell_type": "code",
   "execution_count": 14,
   "id": "acf8e80c",
   "metadata": {},
   "outputs": [
    {
     "data": {
      "text/plain": [
       "np.float64(4.5)"
      ]
     },
     "execution_count": 14,
     "metadata": {},
     "output_type": "execute_result"
    }
   ],
   "source": [
    "arr = np.arange(10)\n",
    "np.median(arr)\n",
    "np.percentile(arr, 50)\n",
    "np.quantile(arr, 0.5)"
   ]
  },
  {
   "cell_type": "code",
   "execution_count": 15,
   "id": "3430f6b4",
   "metadata": {},
   "outputs": [
    {
     "data": {
      "text/plain": [
       "array([4, 4, 4, 4, 4])"
      ]
     },
     "execution_count": 15,
     "metadata": {},
     "output_type": "execute_result"
    }
   ],
   "source": [
    "np.array([4,3,2,1,0]) + np.array([0,1,2,3,4])"
   ]
  },
  {
   "cell_type": "code",
   "execution_count": 16,
   "id": "0b508ad5",
   "metadata": {},
   "outputs": [
    {
     "data": {
      "text/plain": [
       "array([0, 3, 4, 3, 0])"
      ]
     },
     "execution_count": 16,
     "metadata": {},
     "output_type": "execute_result"
    }
   ],
   "source": [
    "np.array([4,3,2,1,0]) * np.array([0,1,2,3,4])"
   ]
  },
  {
   "cell_type": "code",
   "execution_count": 19,
   "id": "e8354e5b",
   "metadata": {},
   "outputs": [
    {
     "data": {
      "text/plain": [
       "array([1, 2, 3])"
      ]
     },
     "execution_count": 19,
     "metadata": {},
     "output_type": "execute_result"
    }
   ],
   "source": [
    "# NumPy functions vectorized\n",
    "np.sqrt( np.square(np.arange(8).reshape(4,2))) # the square-root of square\n",
    "np.abs(np.array([-1,2,-3])) # absolute value: |x|"
   ]
  },
  {
   "cell_type": "code",
   "execution_count": 11,
   "id": "1e50af6a",
   "metadata": {},
   "outputs": [
    {
     "data": {
      "text/plain": [
       "(array([2, 2, 2, 2]),\n",
       " array([[0, 1, 2, 3],\n",
       "        [4, 5, 6, 7]]),\n",
       " array([[2, 3, 4, 5],\n",
       "        [6, 7, 8, 9]]))"
      ]
     },
     "execution_count": 11,
     "metadata": {},
     "output_type": "execute_result"
    }
   ],
   "source": [
    "arr1d = np.array([2,2,2,2])\n",
    "arr2d = np.arange(8).reshape(2,4)\n",
    "arr1d, arr2d, arr2d + arr1d "
   ]
  },
  {
   "cell_type": "code",
   "execution_count": 13,
   "id": "5feb3525",
   "metadata": {},
   "outputs": [
    {
     "data": {
      "text/plain": [
       "(array([1, 2, 3]),\n",
       " array([[10],\n",
       "        [20]]),\n",
       " array([[11, 12, 13],\n",
       "        [21, 22, 23]]))"
      ]
     },
     "execution_count": 13,
     "metadata": {},
     "output_type": "execute_result"
    }
   ],
   "source": [
    "arr1 = np.array([1, 2, 3])       # shape (3,)\n",
    "arr2 = np.array([[10], [20]])    # shape (2, 1)\n",
    "\n",
    "result = arr2 + arr1             # shape becomes (2, 3)\n",
    "\n",
    "# Result:\n",
    "# [[11 12 13]\n",
    "#  [21 22 23]]\n",
    "\n",
    "arr1, arr2, result"
   ]
  },
  {
   "cell_type": "code",
   "execution_count": null,
   "id": "2357bd26",
   "metadata": {},
   "outputs": [
    {
     "data": {
      "text/plain": [
       "(array([[0, 1],\n",
       "        [2, 3]]),\n",
       " array([[0, 2],\n",
       "        [1, 3]]))"
      ]
     },
     "execution_count": 26,
     "metadata": {},
     "output_type": "execute_result"
    }
   ],
   "source": [
    "arr2c = np.arange(4).reshape((2,2),order='C')\n",
    "arr2f = np.arange(4).reshape((2,2),order='F') # column-wise\n",
    "\n",
    "arr2c, arr2f "
   ]
  },
  {
   "cell_type": "code",
   "execution_count": 28,
   "id": "23b1fdb7",
   "metadata": {},
   "outputs": [],
   "source": [
    "arr3d = np.arange(8).reshape((2,2,2)) # 3-dimensional array\n",
    "arr3d\n",
    "\n",
    "# systematically access subsets\n",
    "plane0, plane1 = arr3d\n",
    "vec0, vec1 = plane0\n",
    "vec2, vec3 = plane1\n",
    "# shortcut: layout the structure\n",
    "[[v0,v1],[v2,v3]] = arr3d"
   ]
  },
  {
   "cell_type": "code",
   "execution_count": 31,
   "id": "41960ea7",
   "metadata": {},
   "outputs": [
    {
     "data": {
      "text/plain": [
       "(array([[1, 2],\n",
       "        [3, 4]]),\n",
       " array([[5, 6],\n",
       "        [7, 8]]),\n",
       " array([[ 6,  8],\n",
       "        [10, 12]]))"
      ]
     },
     "execution_count": 31,
     "metadata": {},
     "output_type": "execute_result"
    }
   ],
   "source": [
    "m1 = np.array([[1, 2], [3, 4]])\n",
    "m2 = np.array([[5, 6], [7, 8]])\n",
    "m1, m2, m1 + m2"
   ]
  },
  {
   "cell_type": "code",
   "execution_count": null,
   "id": "4dfd880e",
   "metadata": {},
   "outputs": [
    {
     "data": {
      "text/plain": [
       "array([[19, 22],\n",
       "       [43, 50]])"
      ]
     },
     "execution_count": 32,
     "metadata": {},
     "output_type": "execute_result"
    }
   ],
   "source": [
    "np.dot(m1, m2)  # matrix multiplication"
   ]
  },
  {
   "cell_type": "code",
   "execution_count": 34,
   "id": "bcd02eaa",
   "metadata": {},
   "outputs": [
    {
     "data": {
      "text/plain": [
       "array([[1, 3],\n",
       "       [2, 4]])"
      ]
     },
     "execution_count": 34,
     "metadata": {},
     "output_type": "execute_result"
    }
   ],
   "source": [
    "m1.T #transpose "
   ]
  },
  {
   "cell_type": "code",
   "execution_count": null,
   "id": "1f4c7846",
   "metadata": {},
   "outputs": [
    {
     "data": {
      "text/plain": [
       "array([1, 2, 3, 4])"
      ]
     },
     "execution_count": 37,
     "metadata": {},
     "output_type": "execute_result"
    }
   ],
   "source": [
    "m1.flatten()"
   ]
  },
  {
   "cell_type": "code",
   "execution_count": 38,
   "id": "122d277a",
   "metadata": {},
   "outputs": [
    {
     "data": {
      "text/plain": [
       "array([5, 6, 7, 8])"
      ]
     },
     "execution_count": 38,
     "metadata": {},
     "output_type": "execute_result"
    }
   ],
   "source": [
    "m2.ravel()"
   ]
  },
  {
   "cell_type": "markdown",
   "id": "0c1ea07e",
   "metadata": {},
   "source": [
    "# Random nr generation"
   ]
  },
  {
   "cell_type": "code",
   "execution_count": 43,
   "id": "837f05ce",
   "metadata": {},
   "outputs": [
    {
     "data": {
      "image/png": "[encoded data removed]",
      "text/plain": [
       "<Figure size 640x480 with 1 Axes>"
      ]
     },
     "metadata": {},
     "output_type": "display_data"
    }
   ],
   "source": [
    "np.random.seed(12345)\n",
    "legacy = np.random.normal(loc=0.0, scale=1.0, size=100)\n",
    "# Generator\n",
    "rng = np.random.default_rng(12345)\n",
    "modern = rng.normal(loc=0.0, scale=1.0, size=100)\n",
    "\n",
    "# Plot histograms\n",
    "import seaborn as sns\n",
    "import matplotlib.pyplot as plt\n",
    "sns.histplot(legacy, label='legacy',bins=20)\n",
    "sns.histplot(modern, label='modern',bins=20)\n",
    "plt.legend()\n",
    "plt.show()"
   ]
  },
  {
   "cell_type": "markdown",
   "id": "b1e0a132",
   "metadata": {},
   "source": [
    "# Basic indexing NUMPY "
   ]
  },
  {
   "cell_type": "code",
   "execution_count": 51,
   "id": "2f4b0784",
   "metadata": {},
   "outputs": [
    {
     "data": {
      "text/plain": [
       "(array([0, 1, 2, 3, 4, 5, 6, 7, 8, 9]), array([3, 5, 7]))"
      ]
     },
     "execution_count": 51,
     "metadata": {},
     "output_type": "execute_result"
    }
   ],
   "source": [
    "arr1 = np.arange(10)  # arr1 : 0..9\n",
    "arr1, arr1[3:8:2]           # fetch values from 3..8 in steps of 2"
   ]
  },
  {
   "cell_type": "code",
   "execution_count": null,
   "id": "fa2fd5cc",
   "metadata": {},
   "outputs": [],
   "source": [
    "arr2 = arr1[0:5]  # arr2 : slice from  0 to 4th element\n",
    "arr2[2:] = 1234   # set arr2 values to 1234 over the range 2:\n",
    "arr1[0:2] = 4321  # changes in arr1 are reflected in arr2"
   ]
  },
  {
   "cell_type": "code",
   "execution_count": 52,
   "id": "404f2198",
   "metadata": {},
   "outputs": [],
   "source": [
    "arr2 = arr1[0:5].copy()"
   ]
  },
  {
   "cell_type": "code",
   "execution_count": 54,
   "id": "6aeb7986",
   "metadata": {},
   "outputs": [
    {
     "data": {
      "text/plain": [
       "array([10, 10, 10, 10, 10, 10, 10, 10, 10, 10])"
      ]
     },
     "execution_count": 54,
     "metadata": {},
     "output_type": "execute_result"
    }
   ],
   "source": [
    "arr1 = np.arange(10)  # arr1 : 0..9\n",
    "arr1[:] = 10 \n",
    "arr1"
   ]
  },
  {
   "cell_type": "code",
   "execution_count": 59,
   "id": "bfd04620",
   "metadata": {},
   "outputs": [
    {
     "data": {
      "text/plain": [
       "array([[[0, 1],\n",
       "        [2, 3]],\n",
       "\n",
       "       [[4, 5],\n",
       "        [6, 7]]])"
      ]
     },
     "execution_count": 59,
     "metadata": {},
     "output_type": "execute_result"
    }
   ],
   "source": [
    "arr3d = np.arange(8).reshape(2,2,2)\n",
    "arr3d"
   ]
  },
  {
   "cell_type": "code",
   "execution_count": null,
   "id": "29bb67b9",
   "metadata": {},
   "outputs": [
    {
     "data": {
      "text/plain": [
       "array([2, 3])"
      ]
     },
     "execution_count": 61,
     "metadata": {},
     "output_type": "execute_result"
    }
   ],
   "source": [
    "arr3d[0, 1]    # 0th element on axes 0 + 1st element on axis 1 "
   ]
  },
  {
   "cell_type": "code",
   "execution_count": 63,
   "id": "e33c1e2d",
   "metadata": {},
   "outputs": [
    {
     "data": {
      "text/plain": [
       "(np.int64(2), np.int64(3))"
      ]
     },
     "execution_count": 63,
     "metadata": {},
     "output_type": "execute_result"
    }
   ],
   "source": [
    "arr3d[0,1,0], arr3d[0,1,1]"
   ]
  },
  {
   "cell_type": "code",
   "execution_count": 64,
   "id": "31deb00a",
   "metadata": {},
   "outputs": [
    {
     "data": {
      "text/plain": [
       "array([2, 3])"
      ]
     },
     "execution_count": 64,
     "metadata": {},
     "output_type": "execute_result"
    }
   ],
   "source": [
    "arr3d[0][1]"
   ]
  },
  {
   "cell_type": "code",
   "execution_count": 83,
   "id": "2c347011",
   "metadata": {},
   "outputs": [
    {
     "data": {
      "text/plain": [
       "(array([[0, 1],\n",
       "        [2, 3],\n",
       "        [4, 5],\n",
       "        [6, 7]]),\n",
       " array([[1, 0],\n",
       "        [3, 2],\n",
       "        [5, 4],\n",
       "        [7, 6]]))"
      ]
     },
     "execution_count": 83,
     "metadata": {},
     "output_type": "execute_result"
    }
   ],
   "source": [
    "arr2d = np.arange(4*2).reshape(4,2)\n",
    "arr2d[:,:], arr2d[2:,1]\n",
    "arr2d, np.arange(4*2).reshape(4, 2)[:,::-1]"
   ]
  },
  {
   "cell_type": "code",
   "execution_count": null,
   "id": "a02e54c6",
   "metadata": {},
   "outputs": [
    {
     "data": {
      "text/plain": [
       "array([ 10, 110,  60])"
      ]
     },
     "execution_count": 91,
     "metadata": {},
     "output_type": "execute_result"
    }
   ],
   "source": [
    "arr = np.array([[10, 20, 30, 40],\n",
    "                [50, 60, 70, 80],\n",
    "                [90, 100, 110, 120]])\n",
    "arr\n",
    "\n",
    "arr[[0, 2, 1], [0, 2, 1]] # elements (0,0) (2,2) n (1,1)"
   ]
  },
  {
   "cell_type": "code",
   "execution_count": 92,
   "id": "1c2ab0c2",
   "metadata": {},
   "outputs": [
    {
     "data": {
      "text/plain": [
       "array([0, 1, 2, 3, 4, 5, 6, 7, 8, 9])"
      ]
     },
     "execution_count": 92,
     "metadata": {},
     "output_type": "execute_result"
    }
   ],
   "source": [
    "arr1 = np.arange(0,5)\n",
    "arr2 = np.arange(5,10)\n",
    "np.concatenate((arr1,arr2))"
   ]
  },
  {
   "cell_type": "code",
   "execution_count": 95,
   "id": "cf590ccc",
   "metadata": {},
   "outputs": [
    {
     "data": {
      "text/plain": [
       "array([[ 0,  1,  8,  9],\n",
       "       [ 2,  3, 10, 11],\n",
       "       [ 4,  5, 12, 13],\n",
       "       [ 6,  7, 14, 15]])"
      ]
     },
     "execution_count": 95,
     "metadata": {},
     "output_type": "execute_result"
    }
   ],
   "source": [
    "arr1 = np.arange(0,8).reshape(4,2)\n",
    "arr2 = np.arange(8,16).reshape(4,2)\n",
    "np.concatenate((arr1, arr2))          # along axis=0 (default) ; alternatively use vstack\n",
    "np.concatenate((arr1, arr2), axis=1) "
   ]
  },
  {
   "cell_type": "code",
   "execution_count": 98,
   "id": "8bcfea3a",
   "metadata": {},
   "outputs": [
    {
     "data": {
      "text/plain": [
       "array([[[0, 1],\n",
       "        [4, 5]],\n",
       "\n",
       "       [[2, 3],\n",
       "        [6, 7]]])"
      ]
     },
     "execution_count": 98,
     "metadata": {},
     "output_type": "execute_result"
    }
   ],
   "source": [
    "arr1 = np.arange(0,4).reshape(2,2)\n",
    "arr2 = np.arange(4,8).reshape(2,2)\n",
    "np.stack((arr1, arr2), axis=1)"
   ]
  },
  {
   "cell_type": "code",
   "execution_count": 19,
   "id": "5f5af483",
   "metadata": {},
   "outputs": [
    {
     "data": {
      "text/plain": [
       "array([[[0, 1],\n",
       "        [2, 3]],\n",
       "\n",
       "       [[4, 5],\n",
       "        [6, 7]]])"
      ]
     },
     "execution_count": 19,
     "metadata": {},
     "output_type": "execute_result"
    }
   ],
   "source": [
    "arr3d = np.arange(8).reshape((2,2,2))  # shape: (2 planes, 2 vectors, 2 elements)\n",
    "arr3d"
   ]
  },
  {
   "cell_type": "code",
   "execution_count": 20,
   "id": "2a86acb1",
   "metadata": {},
   "outputs": [
    {
     "data": {
      "text/plain": [
       "array([[[0, 1],\n",
       "        [2, 3]],\n",
       "\n",
       "       [[4, 5],\n",
       "        [6, 7]]])"
      ]
     },
     "execution_count": 20,
     "metadata": {},
     "output_type": "execute_result"
    }
   ],
   "source": [
    "arr3d = np.arange(8).reshape((2,2,2))  # shape: (2 planes, 2 vectors, 2 elements)\n",
    "plane0, plane1 = arr3d\n",
    "vec0, vec1 = plane0\n",
    "vec2, vec3 = plane1\n",
    "\n",
    "# shortcut:\n",
    "[[v0, v1], [v2, v3]] = arr3d\n",
    "\n",
    "arr3d\n"
   ]
  },
  {
   "cell_type": "code",
   "execution_count": 3,
   "id": "d5c2ebcb",
   "metadata": {},
   "outputs": [
    {
     "data": {
      "text/plain": [
       "array([0, 2, 4, 6, 8])"
      ]
     },
     "execution_count": 3,
     "metadata": {},
     "output_type": "execute_result"
    }
   ],
   "source": [
    "arr1d = np.arange(10)\n",
    "arr1d[arr1d % 2 == 0]  "
   ]
  },
  {
   "cell_type": "code",
   "execution_count": 4,
   "id": "713b462a",
   "metadata": {},
   "outputs": [
    {
     "data": {
      "text/plain": [
       "array([ 10, 110,  60])"
      ]
     },
     "execution_count": 4,
     "metadata": {},
     "output_type": "execute_result"
    }
   ],
   "source": [
    "arr = np.array([[10, 20, 30, 40],\n",
    "                [50, 60, 70, 80],\n",
    "                [90, 100, 110, 120]])\n",
    "\n",
    "arr[[0, 2, 1], [0, 2, 1]] "
   ]
  },
  {
   "cell_type": "code",
   "execution_count": 19,
   "id": "8c3228fb",
   "metadata": {},
   "outputs": [
    {
     "data": {
      "text/plain": [
       "(2, 2)"
      ]
     },
     "execution_count": 19,
     "metadata": {},
     "output_type": "execute_result"
    }
   ],
   "source": [
    "# 1D\n",
    "arr1 = np.arange(0,5)\n",
    "arr2 = np.arange(5,10)\n",
    "np.concatenate((arr1, arr2))       # → [0 1 2 3 4 5 6 7 8 9]\n",
    "\n",
    "# 2D\n",
    "arr1 = np.arange(0,8).reshape(4,2)\n",
    "arr2 = np.arange(8,16).reshape(4,2)\n",
    "\n",
    "np.concatenate((arr1, arr2))            # along axis=0 (default)\n",
    "np.concatenate((arr1, arr2), axis=1)    # along axis=1\n",
    "\n",
    "arr1\n",
    "arr2\n",
    "arr3 = np.concatenate((arr1, arr2), axis=1)      \n",
    "arr2.ndim, arr3.ndim"
   ]
  },
  {
   "cell_type": "code",
   "execution_count": 16,
   "id": "9f585a0c",
   "metadata": {},
   "outputs": [
    {
     "data": {
      "text/plain": [
       "2"
      ]
     },
     "execution_count": 16,
     "metadata": {},
     "output_type": "execute_result"
    }
   ],
   "source": [
    "arr1 = np.arange(0,4).reshape(2,2)\n",
    "arr2 = np.arange(4,8).reshape(2,2)\n",
    "\n",
    "\n",
    "arr3 = np.stack((arr1, arr2), axis=0)\n",
    "\n",
    "arr1, arr2, arr3\n",
    "arr1.ndim"
   ]
  },
  {
   "cell_type": "code",
   "execution_count": null,
   "id": "82a6c2de",
   "metadata": {},
   "outputs": [],
   "source": []
  }
 ],
 "metadata": {
  "kernelspec": {
   "display_name": "Python 3",
   "language": "python",
   "name": "python3"
  },
  "language_info": {
   "codemirror_mode": {
    "name": "ipython",
    "version": 3
   },
   "file_extension": ".py",
   "mimetype": "text/x-python",
   "name": "python",
   "nbconvert_exporter": "python",
   "pygments_lexer": "ipython3",
   "version": "3.12.8"
  }
 },
 "nbformat": 4,
 "nbformat_minor": 5
}
