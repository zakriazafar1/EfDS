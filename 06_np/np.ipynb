{
 "cells": [
  {
   "metadata": {},
   "cell_type": "markdown",
   "metadata": {
    "collapsed": false
   },
   "source": [
    "## NumPy\n",
    "\n",
    "[NumPy](https://numpy.org) (numerical python) forms the base in many Python libraries in different scientific fields because of its high performance implementation of multidimensional array called *ndarray*. NumPy features include:\n",
    "\n",
    "- Vectorisation : array operations are applied to the entire array without python-level loops\n",
    "- Memory : its own memory block independent of python's type checking and overhead\n",
    "- Random number generation and distributions\n",
    "- Linear algebra\n",
    "- C API:  c-based user-defined and optimised algorithms\n",
    "- etc.\n",
    "\n",
<<<<<<< HEAD
    " NumPy is a comprehensive Python library. The [API reference](https://numpy.org/doc/stable/reference/index.html) documents different categories of functions and attributes going beyond the scope of this course, so please treat it as a reference.\n",
    " "
   ]
=======
    " NumPy is a comprehensive Python library. The [API reference](https://numpy.org/doc/stable/reference/index.html) documents different categories of functions and attributes going beyond the scope of this course, so please treat it as a reference."
   ],
   "id": "8b80aaa92f1dfb27"
>>>>>>> 0562cc1c7a2785312b97b18111f4360585aaea7a
  },
  {
   "metadata": {},
   "cell_type": "code",
   "source": "import numpy as np",
   "id": "70647dbb391e5cb1",
   "outputs": [],
   "execution_count": null
  },
  {
   "metadata": {},
   "cell_type": "markdown",
   "metadata": {
    "collapsed": false
   },
   "source": [
    "## Outline\n",
    "\n",
    "- N-dimensional array : `ndarray`\n",
    "- Arithmetic operations\n",
    "- Broadcasting\n",
    "- Indexing\n",
    "- Combine arrays\n",
<<<<<<< HEAD
    "- Numpy functions and array methods\n",
    "- Exercises"
   ]
  },
  {
   "cell_type": "markdown",
   "metadata": {
    "collapsed": false
   },
   "source": [
    "It is the convention to import numpy as an alias called 'np'."
   ]
  },
  {
   "cell_type": "code",
   "execution_count": 5,
   "metadata": {
    "collapsed": false
   },
   "outputs": [],
   "source": [
    "import numpy as np"
   ]
=======
    "- Numpy functions and array methods"
   ],
   "id": "eab2cddd04ac3e82"
>>>>>>> 0562cc1c7a2785312b97b18111f4360585aaea7a
  },
  {
   "metadata": {},
   "cell_type": "markdown",
   "metadata": {
    "collapsed": false
   },
   "source": [
    "## ndarray class\n",
    "\n",
    "The main data structure of numpy is *ndarray*, a multidimensional array of homogeneous data (single type).\n",
    "\n",
    "<br>\n",
    "\n",
    "```\n",
    "                 axis-0\n",
    "           ------------------>\n",
    "           -------------------\n",
    "           |  0  |  1  |  2  |             1-dimensional array\n",
    "           -------------------\n",
    "\n",
    "                 axis-1\n",
    "           ------------------>\n",
    "           -------------------\n",
    "         | | 0,0 | 0,1 | 0,2 |\n",
    " axis-0  | | 1,0 | 1,1 | 1,2 |             2-dimensional array\n",
    "         | | 2,0 | 2,1 | 2,2 |\n",
    "           -------------------\n",
    "\n",
    "\n",
    "```\n",
    "\n",
    "The layout of the n-dimensional array with $n>2$ on the screen may be daunting. You may skip viewing the data and refer to the data attributes such as *shape*, *ndim* and *dtype*. However, if you do want to inspect the data then the rule is: peel off square brackets from lower dimensions towards higher dimensions deep within. For example the 3-dimensional array of shape (1,3,4) has:\n",
    "<br>\n",
    "\n",
    " ```\n",
    " [                      # 1st dimension with size=1\n",
    "  [                     # 2nd dimension with size=3\n",
    "    [0., 0., 0., 0.],   # 3rd dimension with size=4\n",
    "    [0., 0., 0., 0.],   # 3rd ...\n",
    "    [0., 0., 0., 0.]    # 3rd ...\n",
    "  ]\n",
    "]\n",
    " ```\n",
    "\n",
    "\n",
    "### np.array\n",
    "\n",
    "The NumPy function *array* is used to create an array:\n",
    "\n",
    "**Synopsis:**    <tt>array(object, dtype=None)</tt>\n",
    "\n",
    "where object is any (nested) sequence, e.g. list, tuples. The type is automatically determined if not provided explicitly, however you may force the type by setting *dtype* argument. Below is a summary of possible types:\n",
    "<br>\n",
    "\n",
    "```\n",
    "    integers : {i|u}{1|2|4|8}   ;  Where i and u represent signed and unsigned integer.\n",
    "    floats   : {f}[{2,4,8}] | d ;  Where 2,4,8 represent half,single and double precision.\n",
    "                                   f and d alone stand for single and double precision\n",
    "                                   respectively.\n",
    "    boolean  : ? | bool\n",
    "    object   : O | object\n",
    "```"
<<<<<<< HEAD
   ]
=======
   ],
   "id": "697f25885ddcf138"
>>>>>>> 0562cc1c7a2785312b97b18111f4360585aaea7a
  },
  {
   "metadata": {},
   "cell_type": "markdown",
<<<<<<< HEAD
   "metadata": {
    "collapsed": false
   },
   "source": [
    "### 1-dimensional array\n",
    "\n",
    "Below are examples of 1-dimensional arrays:"
   ]
=======
   "source": "**Examples:**",
   "id": "148d15bc9165997e"
>>>>>>> 0562cc1c7a2785312b97b18111f4360585aaea7a
  },
  {
   "metadata": {},
   "cell_type": "code",
<<<<<<< HEAD
   "execution_count": 7,
   "metadata": {
    "collapsed": false
   },
   "outputs": [
    {
     "data": {
      "text/plain": [
       "array([1, 2, 3])"
      ]
     },
     "execution_count": 7,
     "metadata": {},
     "output_type": "execute_result"
    }
   ],
   "source": [
    "arr1d = np.array([1,2,3])     # list\n",
    "arr1d = np.array(range(1,4))  # range\n",
    "arr1d = np.array((1,2,3))     # tuple\n",
    "\n",
    "arr1d"
   ]
=======
   "source": [
    "# 1D\n",
    "arr1d = [[1,2,3], range(1,4), (1,2,3)]\n",
    "[np.array(arr) for arr in arr1d]\n",
    "\n",
    "# 2D\n",
    "arr2d = [ [[1,2,3],[4,5,6]],          # list of lists\n",
    "          [range(1,4), range(4,7)],   # list of ranges\n",
    "          ((1,2,3),(4,5,6))           # tuple of tuples\n",
    "          ]\n",
    "[np.array(arr) for arr in arr2d]\n",
    "\n",
    "# reshape, zeros, ones, empty\n",
    "np.array([0,2,1,6]).reshape((2,2)) # 2-dimensional array\n",
    "np.zeros(shape=(1,3,4))      # 3-dimensional array filled with 0's\n",
    "np.ones(shape=(1,3,4))       # 3-dimensional array filled with 1's"
   ],
   "id": "a9a98e7f94e48a54",
   "outputs": [],
   "execution_count": null
>>>>>>> 0562cc1c7a2785312b97b18111f4360585aaea7a
  },
  {
   "metadata": {},
   "cell_type": "markdown",
   "metadata": {
    "collapsed": false
   },
   "source": [
    "### Sequences\n",
    "\n",
<<<<<<< HEAD
    "Basic attributes to inspect an array:"
   ]
=======
    "We have already encountered some use-cases of python `range`. There is a similar function `arange` in Numpy, the difference is that python `range` returns an instance of the class *range* whereas `arange` returns `ndarray`."
   ],
   "id": "c97cf1a1a3def4de"
>>>>>>> 0562cc1c7a2785312b97b18111f4360585aaea7a
  },
  {
   "metadata": {},
   "cell_type": "code",
<<<<<<< HEAD
   "execution_count": 10,
   "metadata": {
    "collapsed": false
   },
   "outputs": [
    {
     "data": {
      "text/plain": [
       "3"
      ]
     },
     "execution_count": 10,
     "metadata": {},
     "output_type": "execute_result"
    }
   ],
   "source": [
    "arr1d.ndim  # number of dimensions\n",
    "arr1d.shape # size of dimensions\n",
    "arr1d.dtype # type of the content\n",
    "arr1d.size  # number of elements"
   ]
=======
   "source": [
    "np.arange(10)                    # 0..9 of  ; type int64\n",
    "np.arange(0, 10, dtype=np.int8)  # 0..9 of  ; type int8\n",
    "np.arange(0., 10)                # 0.0..9.0 ; type float64\n",
    "np.arange(0, 10, dtype=\"f2\")     # 0..9 of  ; type float16\n",
    "np.arange(0, 10)                 # 0..9 of  ; type int64\n",
    "np.arange(0, 10, 3)              # 0,3,6,9  ; type int64"
   ],
   "id": "47961ce597b8d10e",
   "outputs": [],
   "execution_count": null
>>>>>>> 0562cc1c7a2785312b97b18111f4360585aaea7a
  },
  {
   "metadata": {},
   "cell_type": "markdown",
<<<<<<< HEAD
   "metadata": {
    "collapsed": false
   },
   "source": [
    "Scalar objects lead to a 0-dimensional array:"
   ]
=======
   "source": "### numpy.repeat / numpy.tile",
   "id": "fc648eb30afd2546"
>>>>>>> 0562cc1c7a2785312b97b18111f4360585aaea7a
  },
  {
   "metadata": {},
   "cell_type": "code",
<<<<<<< HEAD
   "execution_count": 11,
   "metadata": {
    "collapsed": false
   },
   "outputs": [],
   "source": [
    "arr0d = np.array(10) #  shape=(),  ndim=0, dtype=int64"
   ]
=======
   "source": [
    "np.repeat(np.array([0,1,2]),3)\n",
    "np.tile(np.array([0,1,2]),3)"
   ],
   "id": "deb322b4506e12dc",
   "outputs": [],
   "execution_count": null
>>>>>>> 0562cc1c7a2785312b97b18111f4360585aaea7a
  },
  {
   "metadata": {},
   "cell_type": "markdown",
   "metadata": {
    "collapsed": false
   },
   "source": [
    "### Inspect ndarray\n",
    "\n",
<<<<<<< HEAD
    "*Synopsis* :   <tt> arange([start, ]stop, [step, ]dtype=None, ...) </tt>"
   ]
=======
    "Basic attributes to inspect an array are `ndim`, `shape`, `dtype`, `size`:"
   ],
   "id": "7bdaeb744bdd9b4a"
>>>>>>> 0562cc1c7a2785312b97b18111f4360585aaea7a
  },
  {
   "metadata": {},
   "cell_type": "code",
<<<<<<< HEAD
   "execution_count": 12,
   "metadata": {
    "collapsed": false
   },
   "outputs": [
    {
     "data": {
      "text/plain": [
       "array([0, 3, 6, 9])"
      ]
     },
     "execution_count": 12,
     "metadata": {},
     "output_type": "execute_result"
    }
   ],
   "source": [
    "np.arange(10)     # 0..9 of  ; type int64\n",
    "np.arange(0,10)   # 0..9 of  ; type int64\n",
    "np.arange(0.,10)  # 0.0..9.0 ; type float64\n",
    "np.arange(0,10,3) # 0,3,6,9  ; type int64"
   ]
=======
   "source": [
    "arr = np.arange(8).reshape(2,2,2)\n",
    "arr.ndim, arr.shape, arr.dtype, arr.size"
   ],
   "id": "b53cfcc19e33d65",
   "outputs": [],
   "execution_count": null
>>>>>>> 0562cc1c7a2785312b97b18111f4360585aaea7a
  },
  {
   "metadata": {},
   "cell_type": "markdown",
   "metadata": {
    "collapsed": false
   },
   "source": [
    "### Basic aggregate functions\n",
    "\n",
    "Here is a table of aggregate functions available in the NumPy (`np`) module, which can be applied to `ndarray` objects:\n",
    "\n",
    "| **Function**       | **Description**                                                                 |\n",
    "|--------------------|---------------------------------------------------------------------------------|\n",
    "| `np.sum`           | Calculates the sum of array elements.                                          |\n",
    "| `np.min`           | Finds the minimum value in the array.                                          |\n",
    "| `np.max`           | Finds the maximum value in the array.                                          |\n",
    "| `np.mean`          | Computes the mean (average) of the array elements.                             |\n",
    "| `np.average`       | Computes the weighted average of the array elements.                           |\n",
    "| `np.prod`          | Calculates the product of array elements.                                      |\n",
    "| `np.median`        | Finds the median value in the array.                                           |\n",
    "| `np.std`           | Computes the standard deviation of the array elements.                         |\n",
    "| `np.var`           | Computes the variance of the array elements.                                   |\n",
    "| `np.argmin`        | Returns the index of the minimum value in the array.                           |\n",
    "| `np.argmax`        | Returns the index of the maximum value in the array.                           |\n",
    "\n",
    "\n",
    "**Argument axis={0,1}** in 2d case:\n",
    "\n",
<<<<<<< HEAD
    "The following are examples of 2-dimensional arrays:"
   ]
=======
    "- `axis=0`: Aggregate along the rows (i.e., operate **down a column**). The result is computed column-wise.\n",
    "- `axis=1`: Aggregate along the columns (i.e., operate **across a row**). The result is computed row-wise.\n",
    "- `axis=None` (default): Aggregate over **all elements** in the array.\n",
    "\n",
    "With dimensions $>2$, with axis $j$ aggregate along the $j_{th}$ dimension.\n",
    "\n",
    "Most of the functions are also available as ndarray functions. For example take the `mean` function:"
   ],
   "id": "60471a90d49b5d85"
>>>>>>> 0562cc1c7a2785312b97b18111f4360585aaea7a
  },
  {
   "metadata": {},
   "cell_type": "code",
<<<<<<< HEAD
   "execution_count": 14,
   "metadata": {
    "collapsed": false
   },
   "outputs": [
    {
     "data": {
      "text/plain": [
       "array([[1, 2, 3],\n",
       "       [4, 5, 6]])"
      ]
     },
     "execution_count": 14,
     "metadata": {},
     "output_type": "execute_result"
    }
   ],
   "source": [
    "arr2d = np.array([[1,2,3],[4,5,6]]) # list of lists\n",
    "arr2d = np.array(((1,2,3),(4,5,6))) # tuple of tuples\n",
    "arr2d"
   ]
=======
   "source": [
    "arr = np.array([3,7,3,1,8,5])\n",
    "arr.mean(), np.mean(arr)"
   ],
   "id": "ba02df81a7bb598a",
   "outputs": [],
   "execution_count": null
>>>>>>> 0562cc1c7a2785312b97b18111f4360585aaea7a
  },
  {
   "metadata": {},
   "cell_type": "markdown",
<<<<<<< HEAD
   "metadata": {
    "collapsed": false
   },
   "source": [
    "Some convenient NumPy function:"
   ]
=======
   "source": "In addition, NumPy functions give you control with the axis argument to decide the direction of calculation. Take the function mean:",
   "id": "8055372dec0da4b0"
>>>>>>> 0562cc1c7a2785312b97b18111f4360585aaea7a
  },
  {
   "metadata": {},
   "cell_type": "code",
<<<<<<< HEAD
   "execution_count": 18,
   "metadata": {
    "collapsed": false
   },
   "outputs": [],
   "source": [
    "arr2d = np.zeros(shape=(2,2)) # 2-dimensional array of shape (2,2) filled with 0's\n",
    "arr2d = np.ones(shape=(3,2))  # 2-dimensional array of shape (3,2) filled with 1's"
   ]
  },
  {
   "cell_type": "code",
   "execution_count": 17,
   "metadata": {},
   "outputs": [
    {
     "data": {
      "text/plain": [
       "array([[1., 1.],\n",
       "       [1., 1.],\n",
       "       [1., 1.]])"
      ]
     },
     "execution_count": 17,
     "metadata": {},
     "output_type": "execute_result"
    }
   ],
   "source": [
    "arr2d"
   ]
  },
  {
   "cell_type": "markdown",
   "metadata": {
    "collapsed": false
   },
   "source": [
    "### n-dimensional array\n",
    "\n",
    "Create n-dimensional arrays with $n>2$:"
   ]
=======
   "source": [
    "#\n",
    "rng = np.random.default_rng(12345)\n",
    "arr2d = rng.integers(0,10,2*2).reshape(2,2)\n",
    "arr2d"
   ],
   "id": "d88740760425fcd4",
   "outputs": [],
   "execution_count": null
>>>>>>> 0562cc1c7a2785312b97b18111f4360585aaea7a
  },
  {
   "metadata": {},
   "cell_type": "code",
<<<<<<< HEAD
   "execution_count": 20,
   "metadata": {
    "collapsed": false
   },
   "outputs": [],
   "source": [
    "arr3d = np.zeros(shape=(1,3,4)) # 3-dimensional array filled with 0's"
   ]
  },
  {
   "cell_type": "code",
   "execution_count": 21,
   "metadata": {},
   "outputs": [
    {
     "data": {
      "text/plain": [
       "array([[[0., 0., 0., 0.],\n",
       "        [0., 0., 0., 0.],\n",
       "        [0., 0., 0., 0.]]])"
      ]
     },
     "execution_count": 21,
     "metadata": {},
     "output_type": "execute_result"
    }
   ],
   "source": [
    "arr3d"
   ]
=======
   "source": [
    "np.mean(arr2d)         # total mean\n",
    "np.mean(arr2d, axis=0) # mean along the 0-axis (1st dimension)\n",
    "np.mean(arr2d, axis=1) # mean along the 1-axis (2nd dimension)"
   ],
   "id": "655aef84c0aa10f5",
   "outputs": [],
   "execution_count": null
>>>>>>> 0562cc1c7a2785312b97b18111f4360585aaea7a
  },
  {
   "metadata": {},
   "cell_type": "markdown",
<<<<<<< HEAD
   "metadata": {
    "collapsed": false
   },
   "source": [
    "The layout of the n-dimensional array with $n>2$ on the screen may be daunting. You may skip viewing the data and refer to the data attributes such as *shape*, *ndim* and *dtype*. However, if you do want to inspect the data then the rule is: peel off square brackets from lower dimensions towards higher dimensions deep within. For example the 3-dimensional array of shape (1,2,4) has:\n",
    "<br>\n",
    "\n",
    " ```\n",
    " [                      # 1st dimension with size=1\n",
    "  [                     # 2nd dimension with size=3\n",
    "    [0., 0., 0., 0.],   # 3rd dimension with size=4\n",
    "    [0., 0., 0., 0.],   # 3rd ...\n",
    "    [0., 0., 0., 0.]    # 3rd ...\n",
    "  ]\n",
    "]\n",
    " ```"
   ]
=======
   "source": "**Boolean** Two common boolean aggregate functions are `all` and `any`, testing whether all or any of the values are True respectively. For example, take the array below, we want to know whether there are values above a certain threshold, say 50:",
   "id": "38334cdd8315398f"
  },
  {
   "metadata": {},
   "cell_type": "code",
   "source": [
    "arr1d = rng.integers(0,99,50) #\n",
    "(arr1d > 50).any()           # Are there any values >50?\n",
    "(arr1d > 50).all()            # Are all values >50?"
   ],
   "id": "e199b7513c5537c4",
   "outputs": [],
   "execution_count": null
>>>>>>> 0562cc1c7a2785312b97b18111f4360585aaea7a
  },
  {
   "metadata": {},
   "cell_type": "markdown",
<<<<<<< HEAD
   "metadata": {
    "collapsed": false
   },
   "source": [
    "### reshape method\n",
    "\n",
    "Using the array *reshape* method you may modify the number of dimensions of an array."
   ]
=======
   "source": "The aggregate function `sum` can consume boolean arrays and produce the total number of truth values:",
   "id": "323acbd076fa2cdd"
>>>>>>> 0562cc1c7a2785312b97b18111f4360585aaea7a
  },
  {
   "metadata": {},
   "cell_type": "code",
<<<<<<< HEAD
   "execution_count": 22,
   "metadata": {
    "collapsed": false
   },
   "outputs": [],
   "source": [
    "arr1d = np.arange(16)    # 1-dimensional array [0,16)"
   ]
  },
  {
   "cell_type": "code",
   "execution_count": 23,
   "metadata": {},
   "outputs": [
    {
     "data": {
      "text/plain": [
       "array([ 0,  1,  2,  3,  4,  5,  6,  7,  8,  9, 10, 11, 12, 13, 14, 15])"
      ]
     },
     "execution_count": 23,
     "metadata": {},
     "output_type": "execute_result"
    }
   ],
   "source": [
    "arr1d"
   ]
=======
   "source": "(arr1d > 50).sum()           # How many values >50",
   "id": "3f69a58dc246f916",
   "outputs": [],
   "execution_count": null
>>>>>>> 0562cc1c7a2785312b97b18111f4360585aaea7a
  },
  {
   "metadata": {},
   "cell_type": "markdown",
<<<<<<< HEAD
   "metadata": {
    "collapsed": false
   },
   "source": [
    "Possible shapes for size=16:"
   ]
=======
   "source": "Some functions such as `median`, `percentile` and `quantile` are only available at NumPy module level due to their complexity. Most `ndarray` functions are wel-optimised at low-level whereas complex functions such as `median` having sorting as part of the algorithm do not lend themselves to the philosophy behind `ndarray`.",
   "id": "c4093f1a50585881"
>>>>>>> 0562cc1c7a2785312b97b18111f4360585aaea7a
  },
  {
   "metadata": {},
   "cell_type": "code",
<<<<<<< HEAD
   "execution_count": 25,
   "metadata": {},
   "outputs": [
    {
     "data": {
      "text/plain": [
       "array([[[ 0,  1],\n",
       "        [ 2,  3]],\n",
       "\n",
       "       [[ 4,  5],\n",
       "        [ 6,  7]],\n",
       "\n",
       "       [[ 8,  9],\n",
       "        [10, 11]],\n",
       "\n",
       "       [[12, 13],\n",
       "        [14, 15]]])"
      ]
     },
     "execution_count": 25,
     "metadata": {},
     "output_type": "execute_result"
    }
   ],
   "source": [
    "arr1d.reshape((4,2,2)) "
   ]
  },
  {
   "cell_type": "code",
   "execution_count": 24,
   "metadata": {
    "collapsed": false
   },
   "outputs": [
    {
     "data": {
      "text/plain": [
       "array([[ 0,  1],\n",
       "       [ 2,  3],\n",
       "       [ 4,  5],\n",
       "       [ 6,  7],\n",
       "       [ 8,  9],\n",
       "       [10, 11],\n",
       "       [12, 13],\n",
       "       [14, 15]])"
      ]
     },
     "execution_count": 24,
     "metadata": {},
     "output_type": "execute_result"
    }
   ],
   "source": [
    "arr1d.reshape((2,2,2,2)) #\n",
    "arr1d.reshape((4,2,2))   # (2,4,2), (2,2,4)\n",
    "arr1d.reshape((4,4))     #\n",
    "arr1d.reshape((8,2))     # (2,8)"
   ]
=======
   "source": [
    "arr = np.arange(10)\n",
    "np.median(arr), np.percentile(arr, 50), np.quantile(arr, 0.5)"
   ],
   "id": "845bc34d994e053f",
   "outputs": [],
   "execution_count": null
>>>>>>> 0562cc1c7a2785312b97b18111f4360585aaea7a
  },
  {
   "metadata": {},
   "cell_type": "markdown",
   "metadata": {
    "collapsed": false
   },
   "source": [
    "## Arithmetic operations\n",
    "\n",
<<<<<<< HEAD
    "Alter order either C-like or Fortran-like style:"
   ]
=======
    "Arithmetic operations between numpy arrays are vectorised, meaning that given arrays with the same shape the operation is carried out element-wise. Similarly, operations between a numpy array and a scalar are also vectorised."
   ],
   "id": "e6fae53734e09494"
>>>>>>> 0562cc1c7a2785312b97b18111f4360585aaea7a
  },
  {
   "metadata": {},
   "cell_type": "code",
<<<<<<< HEAD
   "execution_count": 27,
   "metadata": {
    "collapsed": false
   },
   "outputs": [
    {
     "data": {
      "text/plain": [
       "array([[0, 1],\n",
       "       [2, 3],\n",
       "       [4, 5],\n",
       "       [6, 7]])"
      ]
     },
     "execution_count": 27,
     "metadata": {},
     "output_type": "execute_result"
    }
   ],
   "source": [
    "arr2d = np.arange(8).reshape((4,2),order='C') # row-wise\n",
    "arr2d"
   ]
  },
  {
   "cell_type": "code",
   "execution_count": 29,
   "metadata": {},
   "outputs": [
    {
     "data": {
      "text/plain": [
       "array([[0, 4],\n",
       "       [1, 5],\n",
       "       [2, 6],\n",
       "       [3, 7]])"
      ]
     },
     "execution_count": 29,
     "metadata": {},
     "output_type": "execute_result"
    }
   ],
   "source": [
    "arr2d = np.arange(8).reshape((4,2),order='F') # column-wise\n",
    "arr2d"
   ]
  },
  {
   "cell_type": "markdown",
   "metadata": {
    "collapsed": false
   },
   "source": [
    "### tolist\n",
    "\n",
    "Convert the array, of any dimension, to list structure:"
   ]
=======
   "source": [
    "# array and scalar\n",
    "np.arange(5) + 10 # add 10 to each element in the array\n",
    "np.arange(5) ** 2 # raise all values in range 0..4 to the power of 2"
   ],
   "id": "a195dbec646882fb",
   "outputs": [],
   "execution_count": null
  },
  {
   "metadata": {},
   "cell_type": "code",
   "source": [
    "# element-wise\n",
    "np.array([4,3,2,1,0]) + np.array([0,1,2,3,4])\n",
    "np.array([4,3,2,1,0]) * np.array([0,1,2,3,4])\n"
   ],
   "id": "7b94f386c43bade8",
   "outputs": [],
   "execution_count": null
>>>>>>> 0562cc1c7a2785312b97b18111f4360585aaea7a
  },
  {
   "metadata": {},
   "cell_type": "code",
<<<<<<< HEAD
   "execution_count": 30,
   "metadata": {
    "collapsed": false
   },
   "outputs": [
    {
     "data": {
      "text/plain": [
       "[[0, 4], [1, 5], [2, 6], [3, 7]]"
      ]
     },
     "execution_count": 30,
     "metadata": {},
     "output_type": "execute_result"
    }
   ],
   "source": [
    "arr2d.tolist()"
   ]
=======
   "source": [
    "# NumPy functions vectorized\n",
    "np.sqrt( np.square(np.arange(8).reshape(4,2))) # the square-root of square\n",
    "np.abs(np.array([-1,2,-3])) # absolute value: |x|"
   ],
   "id": "e80a265573cbf3ad",
   "outputs": [],
   "execution_count": null
>>>>>>> 0562cc1c7a2785312b97b18111f4360585aaea7a
  },
  {
   "metadata": {},
   "cell_type": "markdown",
<<<<<<< HEAD
   "metadata": {
    "collapsed": false
   },
   "source": [
    "### Multiple assignments\n",
    "\n",
    "To access individual components you can use python's *multiple assignment* feature:"
   ]
=======
   "source": "**Broadcasting** enables carrying out operations between arrays with different shapes:\n",
   "id": "26746e26b34ddb48"
>>>>>>> 0562cc1c7a2785312b97b18111f4360585aaea7a
  },
  {
   "metadata": {},
   "cell_type": "code",
<<<<<<< HEAD
   "execution_count": 42,
   "metadata": {
    "collapsed": false
   },
   "outputs": [
    {
     "data": {
      "text/plain": [
       "array([[[0, 1],\n",
       "        [2, 3]],\n",
       "\n",
       "       [[4, 5],\n",
       "        [6, 7]]])"
      ]
     },
     "execution_count": 42,
     "metadata": {},
     "output_type": "execute_result"
    }
   ],
=======
   "source": [
    "arr1d = np.array([2,2,2,2])\n",
    "arr2d = np.arange(8).reshape(2,4)\n",
    "arr1d + arr2d"
   ],
   "id": "92690ea8c6c27bdf",
   "outputs": [],
   "execution_count": null
  },
  {
   "metadata": {},
   "cell_type": "markdown",
>>>>>>> 0562cc1c7a2785312b97b18111f4360585aaea7a
   "source": [
    "Array are compatible for broadcast if corresponding dimensions (aligned from high to low dimension) of both arrays have the same size or at least one has size=1. Example above:\n",
    "\n",
    "```\n",
    "arr2d : 2, 4\n",
    "arr1d : 1, 4\n",
    "```\n",
    "\n",
<<<<<<< HEAD
    "# shortcut: layout the structure\n",
    "[[v0,v1],[v2,v3]] = arr3d"
   ]
=======
    "**Broadcasting rules:**\n",
    "\n",
    "- If number of dimensions are unequal then prepend ones to the shape of the smaller array.\n",
    "- The sizes of the arrays along each dimension must either be equal or one of them must be 1.\n",
    "- The resulting shape is the maximum size along each dimension from the input arrays\n"
   ],
   "id": "54c16d7fbec714a3"
>>>>>>> 0562cc1c7a2785312b97b18111f4360585aaea7a
  },
  {
   "metadata": {},
   "cell_type": "markdown",
   "metadata": {
    "collapsed": false
   },
   "source": [
    "#### C or Fortran order\n",
    "\n",
    "Two ways to fill an `ndarray` with values:\n",
    "\n",
<<<<<<< HEAD
    "Here we only show a 2-dimensional transpose:"
   ]
=======
    "- 'C' (row-wise) the values are filled along the last axis (default)\n",
    "- 'F' (column-wise) the values filled from first axis first to the last axis."
   ],
   "id": "9c2d04bc4c659aff"
>>>>>>> 0562cc1c7a2785312b97b18111f4360585aaea7a
  },
  {
   "metadata": {},
   "cell_type": "code",
<<<<<<< HEAD
   "execution_count": 49,
   "metadata": {
    "collapsed": false
   },
   "outputs": [
    {
     "data": {
      "text/plain": [
       "((4, 2), (2, 4))"
      ]
     },
     "execution_count": 49,
     "metadata": {},
     "output_type": "execute_result"
    }
   ],
   "source": [
    "arr2d = np.arange(8).reshape(4,2)\n",
    "arr2d.T                             # arr1d.transpose(...) has additional arg. axes\n",
    "arr2d.shape, arr2d.T.shape"
   ]
=======
   "source": [
    "arr2c = np.arange(4).reshape((2,2),order='C') # row-wise (default)\n",
    "arr2f = np.arange(4).reshape((2,2),order='F') # column-wise"
   ],
   "id": "f8005f5f3385c048",
   "outputs": [],
   "execution_count": null
>>>>>>> 0562cc1c7a2785312b97b18111f4360585aaea7a
  },
  {
   "metadata": {},
   "cell_type": "markdown",
   "metadata": {
    "collapsed": false
   },
   "source": [
    "`order='C'`:\n",
    "\n",
    "```\n",
    "[...]\n",
    "```\n",
    "\n",
    "`order='F'`:\n",
    "\n",
<<<<<<< HEAD
    "**Vectorisation** Arithmetic operations between numpy arrays are vectorised, meaning that given arrays with the same shape the operation is carried out element-wise. Similarly, operations between a numpy array and a scalar are also vectorised."
   ]
=======
    "```\n",
    "[...]\n",
    "```"
   ],
   "id": "fb5d1284e73780f6"
>>>>>>> 0562cc1c7a2785312b97b18111f4360585aaea7a
  },
  {
   "metadata": {},
   "cell_type": "markdown",
   "source": "**Multiple assignments**",
   "id": "b8e107481bf58af3"
  },
  {
   "metadata": {},
   "cell_type": "code",
<<<<<<< HEAD
   "execution_count": 51,
   "metadata": {},
   "outputs": [
    {
     "data": {
      "text/plain": [
       "array([[0, 1],\n",
       "       [2, 3],\n",
       "       [4, 5],\n",
       "       [6, 7]])"
      ]
     },
     "execution_count": 51,
     "metadata": {},
     "output_type": "execute_result"
    }
   ],
   "source": [
    "arr2d = np.arange(8).reshape(4,2)"
   ]
  },
  {
   "cell_type": "code",
   "execution_count": 52,
   "metadata": {
    "collapsed": false
   },
   "outputs": [
    {
     "data": {
      "text/plain": [
       "array([[ 0,  2],\n",
       "       [ 4,  6],\n",
       "       [ 8, 10],\n",
       "       [12, 14]])"
      ]
     },
     "execution_count": 52,
     "metadata": {},
     "output_type": "execute_result"
    }
   ],
   "source": [
    "# between array operations\n",
    "arr2d = np.arange(8).reshape(4,2)\n",
    "arr2d + arr2d     # add arr2d to itself element-wise"
   ]
=======
   "source": [
    "arr3d = np.arange(8).reshape((2,2,2)) # 3-dimensional array\n",
    "arr3d"
   ],
   "id": "eba213dfe98a3d05",
   "outputs": [],
   "execution_count": null
>>>>>>> 0562cc1c7a2785312b97b18111f4360585aaea7a
  },
  {
   "metadata": {},
   "cell_type": "code",
<<<<<<< HEAD
   "execution_count": 53,
   "metadata": {
    "collapsed": false
   },
   "outputs": [
    {
     "data": {
      "text/plain": [
       "array([10, 11, 12, 13, 14])"
      ]
     },
     "execution_count": 53,
     "metadata": {},
     "output_type": "execute_result"
    }
   ],
   "source": [
    "# array and scalar\n",
    "np.arange(5) ** 2 # raise all values in range 0..4 to the power of 2\n",
    "np.arange(5) + 10 # add 10 to each element in the array\n"
   ]
=======
   "source": [
    "# systematically access subsets\n",
    "plane0, plane1 = arr3d\n",
    "vec0, vec1 = plane0\n",
    "vec2, vec3 = plane1\n",
    "# shortcut: layout the structure\n",
    "[[v0,v1],[v2,v3]] = arr3d"
   ],
   "id": "4aeee903d723cde3",
   "outputs": [],
   "execution_count": null
>>>>>>> 0562cc1c7a2785312b97b18111f4360585aaea7a
  },
  {
   "metadata": {},
   "cell_type": "markdown",
<<<<<<< HEAD
   "metadata": {
    "collapsed": false
   },
   "source": [
    "NumPy functions' are vectorised:"
   ]
=======
   "source": "**Matrix operations**",
   "id": "72af807e4ff82dd9"
>>>>>>> 0562cc1c7a2785312b97b18111f4360585aaea7a
  },
  {
   "metadata": {},
   "cell_type": "code",
<<<<<<< HEAD
   "execution_count": 54,
   "metadata": {
    "collapsed": false
   },
   "outputs": [
    {
     "data": {
      "text/plain": [
       "array([[0., 1.],\n",
       "       [2., 3.],\n",
       "       [4., 5.],\n",
       "       [6., 7.]])"
      ]
     },
     "execution_count": 54,
     "metadata": {},
     "output_type": "execute_result"
    }
   ],
   "source": [
    "np.sqrt( np.arange(8).reshape(4,2) ** 2) # the square-root of square"
   ]
=======
   "source": [
    "m1 = np.array([[1, 2], [3, 4]])\n",
    "m2 = np.array([[5, 6], [7, 8]])\n",
    "# element-wise operations\n",
    "m1 + m2 # as well as {-,*,/}\n",
    "# matrix multiplication\n",
    "np.dot(m1, m2)\n",
    "m1 @ m2\n",
    "# Transpose\n",
    "m1.T\n",
    "# Flatten\n",
    "m1.flatten() # copy\n",
    "m1.ravel()   # view"
   ],
   "id": "5e3564c12429fc8f",
   "outputs": [],
   "execution_count": null
>>>>>>> 0562cc1c7a2785312b97b18111f4360585aaea7a
  },
  {
   "metadata": {},
   "cell_type": "markdown",
<<<<<<< HEAD
   "metadata": {
    "collapsed": false
   },
   "source": [
    "**Broadcasting** enables carrying out operations between arrays with different shapes:"
   ]
  },
  {
   "cell_type": "code",
   "execution_count": 60,
   "metadata": {
    "collapsed": false
   },
   "outputs": [
    {
     "data": {
      "text/plain": [
       "array([[ 0,  2,  4,  6],\n",
       "       [ 8, 10, 12, 14]])"
      ]
     },
     "execution_count": 60,
     "metadata": {},
     "output_type": "execute_result"
    }
   ],
   "source": [
    "arr2d = np.arange(8).reshape(2,4)\n",
    "arr1d = np.array([2,2,2,2])\n",
    "arr1d * arr2d"
   ]
=======
   "source": [
    "## Exercise\n",
    "\n",
    "### Create arrays\n",
    "\n",
    "- 1-dimensional array over the range 11, 14, 17, 20, ..., 50. In addition show the type, size, shape and number of dimensions of the array.\n",
    "- 2-dimensional array of boolean type with shape=(5,3) and all set to False.\n",
    "- 2-dimensional array of shape=(9,3) of the alphabet a..z.\n",
    "- The two 3-dimensional arrays are filled with identical data but different orders. Without running the code predict the layout of the array.\n",
    "\n",
    "```Python\n",
    "arr_c = np.array([ 5,  9, 16, 12,  3, 14, 11, 13]).reshape((2,2,2), order='C')\n",
    "arr_f = np.array([ 5,  9, 16, 12,  3, 14, 11, 13]).reshape((2,2,2), order='F')\n",
    "```\n",
    "`order='C'`:\n",
    "\n",
    "```\n",
    "[...]\n",
    "```\n",
    "\n",
    "`order='F'`:\n",
    "\n",
    "```\n",
    "[...]\n",
    "```\n",
    "\n",
    "### Array indices\n",
    "\n",
    "- Given the 2-dimensional array *arr2d* below, fetch the following elements fetch:\n",
    "    - single elements:  'e', 'g'\n",
    "    - [e,f]\n",
    "    - [h,e,b]\n",
    "    - [h,i]\n",
    "    - [d,b,f,h]\n",
    "\n",
    "```Python\n",
    "arr2d = np.array(list(\"abcdefghi\")).reshape(3,3)\n",
    "arr3d = np.arange(3*3*3).reshape(3,3,3)\n",
    "```\n",
    "\n",
    "- Given the 3-dimensional array arr3d:\n",
    "    - fetch:\n",
    "        - [[19,20],[22,23]]\n",
    "        - [[9,12,15],[11,14,17]]\n",
    "    - swap\n",
    "        - on axis-0 the 2nd and the 3rd elements\n",
    "        - the 1st and the 3rd element of all elements on axis-0\n",
    "        - repeat the previous swap but now only on the 1st element of axis-0\n",
    "- Make a copy of `arr3d` from previous exercise and set its odd values to -1.\n",
    "- Implement the function *identity_(n)* that generates the identity matrix of size *n*. You can check you results with the build-in `numpy.identity` function.\n",
    "- Create the array [5, 5, 5, 3, 3, 3, 5, 7, 5, 7, 5, 7] (ref: numpy.repeat, numpy.tile)\n",
    "- Create a (8,8) two-dimensional array to represent a chessboard filled with 0 and 1 representing black and white squares respectively. Make sure the orientation is correct with leading diagonal set to white.\n",
    "- Implement the following function `grid_x` based on the description below. Make use of numpy functions and vectorisation capability to avoid looping.\n",
    "\n",
    "```\n",
    "Generates a 2D grid of specified size (n x n) with an 'X' shape pattern\n",
    "represented by \"#\" symbols. All other cells in the grid are represented\n",
    "by \".\". The function will return (n x n) numpy.ndarray containing the X\n",
    "pattern.\n",
    "```\n",
    "\n",
    "\n",
    "\n",
    "- (*) **Tic-tac-toe** is a classic two-player game played on a 3x3 grid. Players take turns marking empty squares, one with an \"X\" and the other with an \"O\". The objective is to be the first to form a horizontal, vertical, or diagonal line of three consecutive marks. If all squares are filled without achieving this, the game ends in a draw.\n",
    "\n",
    "- Implement the class TicTacToe with a method `play`. It is an interactive game, a possible scenario:\n",
    "\n",
    "```\n",
    "ttt = TicTacToe() # TicTacToe instance 'ttt'\n",
    "[out]\n",
    "0 | 0 | 0\n",
    "---------\n",
    "0 | 0 | 0\n",
    "---------\n",
    "0 | 0 | 0\n",
    "Player 1's turn:\n",
    "\n",
    "ttt.play((0,0)) # player 1\n",
    "[out]\n",
    "1 | 0 | 0\n",
    "---------\n",
    "0 | 0 | 0\n",
    "---------\n",
    "0 | 0 | 0\n",
    "Player 2's turn:\n",
    "\n",
    "ttt.play((0,1)) # player 2\n",
    "[out]\n",
    "1 | 2 | 0\n",
    "---------\n",
    "0 | 0 | 0\n",
    "---------\n",
    "0 | 0 | 0\n",
    "Player 1's turn:\n",
    "\n",
    "...\n",
    "...\n",
    "\n",
    "Player 1's turn:\n",
    "1 | 2 | 2\n",
    "---------\n",
    "0 | 1 | 0\n",
    "---------\n",
    "0 | 0 | 1\n",
    "Winner is player 1\n",
    "```\n",
    "\n",
    "- Upgrade the class to enable playing against the computer, a random move will suffice.\n",
    "\n",
    "\n",
    "(*) Optional."
   ],
   "id": "4685d319f09a08ac"
>>>>>>> 0562cc1c7a2785312b97b18111f4360585aaea7a
  },
  {
   "metadata": {},
   "cell_type": "markdown",
   "metadata": {
    "collapsed": false
   },
   "source": [
    "## Random number generation\n",
    "\n",
<<<<<<< HEAD
    "```\n",
    "arr2d : 2, 4\n",
    "arr1d :    4\n",
    "```\n"
   ]
=======
    "Numpy has `np.random` module has many functions for random number generation but they are superseded by [Random Generator](https://numpy.org/doc/stable/reference/random/generator.html). The `np.random.Generator` provides a more advanced and flexible random number generation functions than the legacy `np.random`. Below is a comparison:\n",
    "\n",
    "| **Legacy `np.random` (Global State)** | **Modern `np.random.Generator` (Recommended)** |\n",
    "|---------------------------------|----------------------------------|\n",
    "| `np.random.rand(d0, d1, …)` | `rng.random((d0, d1, …))` |\n",
    "| `np.random.randn(d0, d1, …)` | `rng.standard_normal((d0, d1, …))` |\n",
    "| `np.random.randint(low, high, size)` | `rng.integers(low, high, size)` |\n",
    "| `np.random.random(size)` | `rng.random(size)` |\n",
    "| `np.random.uniform(low, high, size)` | `rng.uniform(low, high, size)` |\n",
    "| `np.random.normal(loc, scale, size)` | `rng.normal(loc, scale, size)` |\n",
    "| `np.random.binomial(n, p, size)` | `rng.binomial(n, p, size)` |\n",
    "| `np.random.poisson(lam, size)` | `rng.poisson(lam, size)` |\n",
    "| `np.random.choice(a, size, replace)` | `rng.choice(a, size, replace)` |\n",
    "| `np.random.permutation(arr)` | `rng.permutation(arr)` |\n",
    "| `np.random.seed(seed)` | `rng = np.random.default_rng(seed)`|\n",
    "\n",
    "\n",
    "Major difference in terms of reproducibility:\n",
    "\n",
    "- `np.random` functions operate on a *global random state* (not recommended)."
   ],
   "id": "7ee8b49452dd75a3"
>>>>>>> 0562cc1c7a2785312b97b18111f4360585aaea7a
  },
  {
   "metadata": {
    "ExecuteTime": {
     "end_time": "2025-03-09T11:04:15.261870Z",
     "start_time": "2025-03-09T11:04:15.188399Z"
    }
   },
   "cell_type": "code",
   "source": [
    "# Example: plot distributions\n",
    "# Normal distribution: n=100, mean=0, sd=1\n",
    "#\n",
    "# np.random\n",
    "np.random.seed(12345)\n",
    "legacy = np.random.normal(loc=0.0, scale=1.0, size=100)\n",
    "# Generator\n",
    "rng = np.random.default_rng(12345)\n",
    "modern = rng.normal(loc=0.0, scale=1.0, size=100)\n",
    "\n",
    "# Plot histograms\n",
    "import seaborn as sns\n",
    "import matplotlib.pyplot as plt\n",
    "sns.histplot(legacy, label='legacy',bins=20)\n",
    "sns.histplot(modern, label='modern',bins=20)\n",
    "plt.legend()\n",
    "plt.show()"
   ],
   "id": "49d6f2860a810f6",
   "outputs": [
    {
     "data": {
      "text/plain": [
       "<Figure size 640x480 with 1 Axes>"
      ],
      "image/png": "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"
     },
     "metadata": {},
     "output_type": "display_data"
    }
   ],
   "execution_count": 47
  },
  {
   "metadata": {},
   "cell_type": "markdown",
   "metadata": {
    "collapsed": false
   },
   "source": [
    "## Indexing\n",
    "\n",
    "### Basic index\n",
    "\n",
<<<<<<< HEAD
    "Indexing 1-dimensional array is similar to python lists:"
   ]
=======
    "Indexing 1-dimensional array is similar to python lists:\n"
   ],
   "id": "a1ed3c51af697f95"
>>>>>>> 0562cc1c7a2785312b97b18111f4360585aaea7a
  },
  {
   "metadata": {},
   "cell_type": "code",
<<<<<<< HEAD
   "execution_count": 56,
   "metadata": {
    "collapsed": false
   },
   "outputs": [
    {
     "data": {
      "text/plain": [
       "array([3, 5, 7])"
      ]
     },
     "execution_count": 56,
     "metadata": {},
     "output_type": "execute_result"
    }
   ],
   "source": [
    "arr1 = np.arange(10)  # arr1 : 0..9\n",
    "arr1[3:8:2]           # fetch values from 3..8 in steps of 2"
   ]
=======
   "source": [
    "arr1 = np.arange(10)  # arr1 : 0..9\n",
    "arr1[3:8:2]           # fetch values from 3..8 in steps of 2"
   ],
   "id": "358138cdd0619fdb",
   "outputs": [],
   "execution_count": null
>>>>>>> 0562cc1c7a2785312b97b18111f4360585aaea7a
  },
  {
   "metadata": {},
   "cell_type": "markdown",
   "metadata": {
    "collapsed": false
   },
   "source": [
    "> Views: One major difference between lists and arrays is that array slices are `views` of the original array and list slices are copied.\n",
    "\n",
<<<<<<< HEAD
    "To illustrate, the following creates *arr2* array as a view to arr1 range $0..5$. Any change to *arr2* will change *arr1* and any change in arr1 will be reflected in arr2:\n"
   ]
=======
    "To illustrate, the following creates arr2 array as a view to arr1 range. Any change to arr2 will change arr1 and any change in arr1 will be reflected in arr2:"
   ],
   "id": "56f30cfb528dc4bd"
>>>>>>> 0562cc1c7a2785312b97b18111f4360585aaea7a
  },
  {
   "metadata": {},
   "cell_type": "code",
<<<<<<< HEAD
   "execution_count": 61,
   "metadata": {
    "collapsed": false
   },
   "outputs": [],
   "source": [
    "arr2 = arr1[0:5]  # arr2 : slice from  0 to 4th element\n",
    "arr2[2:] = 1234   # set arr2 values to 1234 over the range 2:"
   ]
  },
  {
   "cell_type": "code",
   "execution_count": 62,
   "metadata": {
    "collapsed": false
   },
   "outputs": [],
   "source": [
    "arr1[0:2] = 4321  # changes in arr1 are reflected in arr2 (view)"
   ]
=======
   "source": [
    "arr2 = arr1[0:5]  # arr2 : slice from  0 to 4th element\n",
    "arr2[2:] = 1234   # set arr2 values to 1234 over the range 2:\n",
    "arr1[0:2] = 4321  # changes in arr1 are reflected in arr2"
   ],
   "id": "a6405cfafb84df73",
   "outputs": [],
   "execution_count": null
>>>>>>> 0562cc1c7a2785312b97b18111f4360585aaea7a
  },
  {
   "metadata": {},
   "cell_type": "markdown",
<<<<<<< HEAD
   "metadata": {
    "collapsed": false
   },
   "source": [
    "If you prefer a copy instead of view use the method *copy* to create a new copy of the array slice:"
   ]
=======
   "source": "If you prefer a copy instead of view use the method copy to create a new copy of the array slice:",
   "id": "3ed513094b65c28"
>>>>>>> 0562cc1c7a2785312b97b18111f4360585aaea7a
  },
  {
   "metadata": {},
   "cell_type": "code",
<<<<<<< HEAD
   "execution_count": 63,
   "metadata": {
    "collapsed": false
   },
   "outputs": [],
   "source": [
    "arr2 = arr1[0:5].copy() # changes to **arr2** will not propagate to **arr1**."
   ]
  },
  {
   "cell_type": "code",
   "execution_count": 64,
   "metadata": {},
   "outputs": [
    {
     "data": {
      "text/plain": [
       "array([4321, 4321, 1234, 1234, 1234])"
      ]
     },
     "execution_count": 64,
     "metadata": {},
     "output_type": "execute_result"
    }
   ],
   "source": [
    "arr2"
   ]
  },
  {
   "cell_type": "code",
   "execution_count": 65,
   "metadata": {},
   "outputs": [
    {
     "data": {
      "text/plain": [
       "array([4321, 4321, 1234, 1234, 1234,    5,    6,    7,    8,    9])"
      ]
     },
     "execution_count": 65,
     "metadata": {},
     "output_type": "execute_result"
    }
   ],
   "source": [
    "arr1"
   ]
=======
   "source": "arr2 = arr1[0:5].copy() # changes to **arr2** will not propagate to **arr1**.",
   "id": "1797ff1383af101b",
   "outputs": [],
   "execution_count": null
>>>>>>> 0562cc1c7a2785312b97b18111f4360585aaea7a
  },
  {
   "metadata": {},
   "cell_type": "markdown",
<<<<<<< HEAD
   "metadata": {
    "collapsed": false
   },
   "source": [
    "Slice [:] signifies the entire arrays. The following assignment is valid in arrays but not in lists:"
   ]
=======
   "source": [
    "> Slice [:] signifies the entire arrays.\n",
    "\n",
    "The following assignment is valid in arrays but not in lists:\n",
    "\n"
   ],
   "id": "c61430e51975ba38"
>>>>>>> 0562cc1c7a2785312b97b18111f4360585aaea7a
  },
  {
   "metadata": {},
   "cell_type": "code",
<<<<<<< HEAD
   "execution_count": null,
   "metadata": {
    "collapsed": false
   },
   "outputs": [],
   "source": [
    "arr1 = np.arange(10)  # arr1 : 0..9\n",
    "arr1[:] = 10          # set the entire array arr1 to value 10"
   ]
=======
   "source": [
    "arr1 = np.arange(10)  # arr1 : 0..9\n",
    "arr1[:] = 10          # set the entire array arr1 to value 10"
   ],
   "id": "5e4dc8f2f5d30a50",
   "outputs": [],
   "execution_count": null
>>>>>>> 0562cc1c7a2785312b97b18111f4360585aaea7a
  },
  {
   "metadata": {},
   "cell_type": "markdown",
<<<<<<< HEAD
   "metadata": {
    "collapsed": false
   },
   "source": [
    "### Indexing in higher dimensions"
   ]
=======
   "source": "### Indexing in higher dimensions\n",
   "id": "494e2b4efd5782d5"
>>>>>>> 0562cc1c7a2785312b97b18111f4360585aaea7a
  },
  {
   "metadata": {},
   "cell_type": "code",
<<<<<<< HEAD
   "execution_count": 66,
   "metadata": {
    "collapsed": false
   },
   "outputs": [
    {
     "data": {
      "text/plain": [
       "array([[[0, 1],\n",
       "        [2, 3]],\n",
       "\n",
       "       [[4, 5],\n",
       "        [6, 7]]])"
      ]
     },
     "execution_count": 66,
     "metadata": {},
     "output_type": "execute_result"
    }
   ],
   "source": [
    "arr3d = np.arange(8).reshape(2,2,2)\n",
    "arr3d"
   ]
  },
  {
   "cell_type": "markdown",
   "metadata": {
    "collapsed": false
   },
   "source": [
    "Indexing in higher dimensions is done with square brackets with comma-separated indices over dimensions  $d_1,..,d_j$, with $1\\lt j \\leq n$. The results will be the dimensions $\\leq j$."
   ]
=======
   "source": [
    "arr3d = np.arange(8).reshape(2,2,2)\n",
    "arr3d"
   ],
   "id": "b7e09d09cbb6b098",
   "outputs": [],
   "execution_count": null
>>>>>>> 0562cc1c7a2785312b97b18111f4360585aaea7a
  },
  {
   "metadata": {},
   "cell_type": "markdown",
   "metadata": {
    "collapsed": false
   },
   "source": [
    "Indexing in higher dimensions is done with square brackets and comma-separated indices over dimensions\n",
    "$d_1,\\cdots,d_j$ with  $1 < j \\leq n$. The results will be the dimensions $\\leq j$.\n",
    "\n",
<<<<<<< HEAD
    "In the example blow only the first two axes 0 and 1 are considered"
   ]
=======
    "In the example below only the first two axes 0 and 1 are considered:"
   ],
   "id": "c7ebcbabc9e729b8"
>>>>>>> 0562cc1c7a2785312b97b18111f4360585aaea7a
  },
  {
   "metadata": {},
   "cell_type": "code",
<<<<<<< HEAD
   "execution_count": 68,
   "metadata": {},
   "outputs": [
    {
     "data": {
      "text/plain": [
       "array([[0, 1],\n",
       "       [2, 3]])"
      ]
     },
     "execution_count": 68,
     "metadata": {},
     "output_type": "execute_result"
    }
   ],
   "source": [
    "arr3d[0]"
   ]
  },
  {
   "cell_type": "code",
   "execution_count": 69,
   "metadata": {
    "collapsed": false
   },
   "outputs": [
    {
     "data": {
      "text/plain": [
       "array([4, 5])"
      ]
     },
     "execution_count": 69,
     "metadata": {},
     "output_type": "execute_result"
    }
   ],
   "source": [
    "arr3d[0]    # 0th element on axes 0\n",
    "arr3d[1,0]  # 1th element on axes 0, 0th element on axes 1"
   ]
=======
   "source": [
    "arr3d[0]    # 0th element on axes 0\n",
    "arr3d[0,1]  # 0st element on axes 0, 1st element on axis 1"
   ],
   "id": "ae2e4258e74c5f0e",
   "outputs": [],
   "execution_count": null
>>>>>>> 0562cc1c7a2785312b97b18111f4360585aaea7a
  },
  {
   "metadata": {},
   "cell_type": "markdown",
<<<<<<< HEAD
   "metadata": {
    "collapsed": false
   },
   "source": [
    "The above example *arr3d[1,0]* states: retrieve all values with indices (0,1) as their prefix, i.e. [0,1,0] and [0,1,1]:"
   ]
=======
   "source": "The above example arr3d[0,1] states: retrieve all values with indices (0,1) as their prefix, i.e. [0,1,0] and [0,1,1]:",
   "id": "f9b7fcb3b7d88246"
>>>>>>> 0562cc1c7a2785312b97b18111f4360585aaea7a
  },
  {
   "metadata": {},
   "cell_type": "code",
<<<<<<< HEAD
   "execution_count": 71,
   "metadata": {
    "collapsed": false
   },
   "outputs": [
    {
     "data": {
      "text/plain": [
       "(np.int64(2), np.int64(3))"
      ]
     },
     "execution_count": 71,
     "metadata": {},
     "output_type": "execute_result"
    }
   ],
   "source": [
    "arr3d[0,1,0], arr3d[0,1,1]"
   ]
=======
   "source": "arr3d[0,1,0], arr3d[0,1,1]",
   "id": "5db4407620126d1f",
   "outputs": [],
   "execution_count": null
>>>>>>> 0562cc1c7a2785312b97b18111f4360585aaea7a
  },
  {
   "metadata": {},
   "cell_type": "markdown",
<<<<<<< HEAD
   "metadata": {
    "collapsed": false
   },
   "source": [
    "Indexing with composition also works, but using comma-separated indices is more concise:"
   ]
=======
   "source": "Indexing with composition also works, but using comma-separated indices is more concise:",
   "id": "6fe94913f05d0f21"
>>>>>>> 0562cc1c7a2785312b97b18111f4360585aaea7a
  },
  {
   "metadata": {},
   "cell_type": "code",
<<<<<<< HEAD
   "execution_count": 72,
   "metadata": {
    "collapsed": false
   },
   "outputs": [
    {
     "data": {
      "text/plain": [
       "array([2, 3])"
      ]
     },
     "execution_count": 72,
     "metadata": {},
     "output_type": "execute_result"
    }
   ],
   "source": [
    "arr3d[0][1] # composition : first retrieve arr3d[0] array and access index 1"
   ]
=======
   "source": "arr3d[0][1] # composition : first retrieve arr3d[0] array and access index 1 ; <=> arr3d[0,1]",
   "id": "1aeb89236e260d6d",
   "outputs": [],
   "execution_count": null
>>>>>>> 0562cc1c7a2785312b97b18111f4360585aaea7a
  },
  {
   "metadata": {},
   "cell_type": "markdown",
   "metadata": {
    "collapsed": false
   },
   "source": [
    "Passing slices as indices in arrays with dimensions behaves in the similar way as basic indices. Below is a review of slices:\n",
    "\n",
    "\n",
    "| **slice** | **index**          |\n",
    "|-----------|--------------------|\n",
    "| `[:]`     | $0 .. (n-1)$       |\n",
    "| `[:i]`    | $0 .. (i-1)$       |\n",
    "| `[i:]`    | $i .. (n-1)$       |\n",
    "| `[i:j]`   | $i .. (j-1)$       |\n",
    "| `[i:j:k]` | $i\\times k.. j//k$ |\n",
    "| `[-i]`    | $n-i)$             |\n",
    "| `[-i:]`   | $(n-i) .. (n-1)$   |\n",
    "| `[:-i]`   | $0 .. (n-i)$       |\n",
    "| `[::-1]`  | $(n-1) .. 0$       |\n",
    "\n",
    "\n",
<<<<<<< HEAD
    "Slicing can be done over multiple dimensions with slices separated by comma:"
   ]
  },
  {
   "cell_type": "code",
   "execution_count": 77,
   "metadata": {},
   "outputs": [
    {
     "data": {
      "text/plain": [
       "array([[0, 1],\n",
       "       [2, 3],\n",
       "       [4, 5],\n",
       "       [6, 7]])"
      ]
     },
     "execution_count": 77,
     "metadata": {},
     "output_type": "execute_result"
    }
   ],
   "source": [
    "arr2d = np.arange(4*2).reshape(4,2)\n",
    "arr2d"
   ]
=======
    "Slicing can be done over multiple dimensions with slices separated by comma:\n"
   ],
   "id": "cb2b2f0756861f1e"
>>>>>>> 0562cc1c7a2785312b97b18111f4360585aaea7a
  },
  {
   "metadata": {},
   "cell_type": "code",
<<<<<<< HEAD
   "execution_count": 79,
   "metadata": {},
   "outputs": [
    {
     "data": {
      "text/plain": [
       "array([[0, 1],\n",
       "       [4, 5]])"
      ]
     },
     "execution_count": 79,
     "metadata": {},
     "output_type": "execute_result"
    }
   ],
   "source": [
    "arr2d[[0,2],:] # fetch 1st and 3rd element on axis-0 and all on axis-1"
   ]
  },
  {
   "cell_type": "code",
   "execution_count": 73,
   "metadata": {
    "collapsed": false
   },
   "outputs": [
    {
     "data": {
      "text/plain": [
       "array([[0, 1],\n",
       "       [4, 5]])"
      ]
     },
     "execution_count": 73,
     "metadata": {},
     "output_type": "execute_result"
    }
   ],
=======
>>>>>>> 0562cc1c7a2785312b97b18111f4360585aaea7a
   "source": [
    "arr2d = np.arange(4*2).reshape(4,2)\n",
    "arr2d[:,:]     # fetch all, same as arr2d\n",
    "arr2d[2:,1]    # fetch 2: on axis-0 and 2nd on axis-1\n",
<<<<<<< HEAD
    "arr2d[[0,2],:] # fetch 1st and 3rd element on axis-0 and all on axis-1"
   ]
=======
    "arr2d[[0,2],:] # fetch 1st and 3rd element on axis-0 and all on axis-1\n",
    "np.arange(4*2).reshape(4,2)[:,::-1] # reverse second dimension"
   ],
   "id": "6c37bb93c65bf51",
   "outputs": [],
   "execution_count": null
>>>>>>> 0562cc1c7a2785312b97b18111f4360585aaea7a
  },
  {
   "metadata": {},
   "cell_type": "markdown",
<<<<<<< HEAD
   "metadata": {
    "collapsed": false
   },
   "source": [
    "**Reverse** the order of an array with <tt>::-1</tt>:"
   ]
=======
   "source": [
    "###  Boolean index (mask)\n",
    "\n",
    "Comparing arrays with relational operators <, <=, =, !=, >, >= and ~ will result into a boolean array, also termed as a mask. It is used to get or set values in array as logical condition.\n",
    "\n",
    "Here we only show array and scaler comparison, higher dimension comparison follows the broadcasting rules."
   ],
   "id": "f8ea996b63b5ca01"
>>>>>>> 0562cc1c7a2785312b97b18111f4360585aaea7a
  },
  {
   "metadata": {},
   "cell_type": "code",
<<<<<<< HEAD
   "execution_count": 80,
   "metadata": {
    "collapsed": false
   },
   "outputs": [
    {
     "data": {
      "text/plain": [
       "array([[1, 0],\n",
       "       [3, 2],\n",
       "       [5, 4],\n",
       "       [7, 6]])"
      ]
     },
     "execution_count": 80,
     "metadata": {},
     "output_type": "execute_result"
    }
   ],
   "source": [
    "np.arange(5)[::-1]\n",
    "np.arange(4*2).reshape(4,2)[:,::-1]"
   ]
=======
   "source": [
    "arr1d = np.arange(10)\n",
    "arr1d[arr1d % 2 == 0]       # filter out even numbers\n",
    "arr1d[arr1d % 2 == 0] = -1  # set even numbers to -1"
   ],
   "id": "f935b0c97697c41",
   "outputs": [],
   "execution_count": null
>>>>>>> 0562cc1c7a2785312b97b18111f4360585aaea7a
  },
  {
   "metadata": {},
   "cell_type": "markdown",
   "metadata": {
    "collapsed": false
   },
   "source": [
<<<<<<< HEAD
    "## Boolean index (mask)\n",
    "\n",
    "Comparing arrays with relational operators <tt> <, <=, =, !=, >, >=</tt> and <tt>~</tt> will result into a boolean array, also termed as a *mask*.  It is used to get or set values in array as logical condition."
   ]
=======
    "### Fancy indexing\n",
    "Fancy indexing refers to a way to access elements in an array using arrays (or other sequences, e.g. nested lists) as indices, rather than simple slices or integers. It can be used to retrieve arbitrary subsets, not necessarily contiguous, as opposed to slices which return sub-regions. The result is new array an not a view.\n"
   ],
   "id": "e3c93063b7a1e3e6"
>>>>>>> 0562cc1c7a2785312b97b18111f4360585aaea7a
  },
  {
   "metadata": {},
   "cell_type": "code",
<<<<<<< HEAD
   "execution_count": 81,
   "metadata": {
    "collapsed": false
   },
   "outputs": [
    {
     "ename": "TypeError",
     "evalue": "arange() requires stop to be specified.",
     "output_type": "error",
     "traceback": [
      "\u001b[0;31m---------------------------------------------------------------------------\u001b[0m",
      "\u001b[0;31mTypeError\u001b[0m                                 Traceback (most recent call last)",
      "Cell \u001b[0;32mIn[81], line 1\u001b[0m\n\u001b[0;32m----> 1\u001b[0m \u001b[43mnp\u001b[49m\u001b[38;5;241;43m.\u001b[39;49m\u001b[43marange\u001b[49m\u001b[43m(\u001b[49m\u001b[43m)\u001b[49m\n",
      "\u001b[0;31mTypeError\u001b[0m: arange() requires stop to be specified."
     ]
    }
   ],
   "source": [
    "np.arange()"
   ]
  },
  {
   "cell_type": "code",
   "execution_count": 90,
   "metadata": {
    "collapsed": false
   },
   "outputs": [
    {
     "data": {
      "text/plain": [
       "array([0, 1, 2, 3, 4, 5, 6, 7, 8, 9])"
      ]
     },
     "execution_count": 90,
     "metadata": {},
     "output_type": "execute_result"
    }
   ],
   "source": [
    "arr1d = np.arange(10)\n",
    "arr1d"
   ]
  },
  {
   "cell_type": "code",
   "execution_count": 91,
   "metadata": {},
   "outputs": [
    {
     "data": {
      "text/plain": [
       "array([-1,  1, -1,  3, -1,  5, -1,  7, -1,  9])"
      ]
     },
     "execution_count": 91,
     "metadata": {},
     "output_type": "execute_result"
    }
   ],
   "source": [
    "arr1d[arr1d % 2 == 0]\n",
    "arr1d[arr1d % 2 == 0] = -1  # set even numbers to -1\n",
    "arr1d"
   ]
=======
   "source": [
    "arr = np.array([[10, 20, 30, 40],\n",
    "                [50, 60, 70, 80],\n",
    "                [90, 100, 110, 120]])\n",
    "\n",
    "arr[[0, 2, 1], [0, 2, 1]]"
   ],
   "id": "b54c3de1c533951e",
   "outputs": [],
   "execution_count": null
  },
  {
   "metadata": {},
   "cell_type": "markdown",
   "source": "Broadcasting is applied If shape of the indices do not match:",
   "id": "20594523529a67d"
>>>>>>> 0562cc1c7a2785312b97b18111f4360585aaea7a
  },
  {
   "metadata": {},
   "cell_type": "markdown",
   "metadata": {
    "collapsed": false
   },
   "source": [
    "## Combine arrays\n",
    "\n",
    "Combining array is carried out based on the axes and on the number of dimensions and/or shapes. NumPy provides several functions for this purpose.\n",
    "\n",
<<<<<<< HEAD
    "**Concatenate**  function takes a sequence of arrays and produces a combined array with the same number of dimensions but different shape. The following two 1-dimensional arrays:"
   ]
=======
    "Concatenate function takes a sequence of arrays and produces a combined array with the same number of dimensions but different shape. The following two 1-dimensional arrays:"
   ],
   "id": "681b190a574ff097"
>>>>>>> 0562cc1c7a2785312b97b18111f4360585aaea7a
  },
  {
   "metadata": {},
   "cell_type": "code",
<<<<<<< HEAD
   "execution_count": 92,
   "metadata": {
    "collapsed": false
   },
   "outputs": [
    {
     "data": {
      "text/plain": [
       "array([0, 1, 2, 3, 4, 5, 6, 7, 8, 9])"
      ]
     },
     "execution_count": 92,
     "metadata": {},
     "output_type": "execute_result"
    }
   ],
=======
>>>>>>> 0562cc1c7a2785312b97b18111f4360585aaea7a
   "source": [
    "arr1 = np.arange(0,5)\n",
    "arr2 = np.arange(5,10)\n",
    "np.concatenate((arr1,arr2))"
<<<<<<< HEAD
   ]
  },
  {
   "cell_type": "code",
   "execution_count": 93,
   "metadata": {},
   "outputs": [
    {
     "data": {
      "text/plain": [
       "array([0, 1, 2, 3, 4])"
      ]
     },
     "execution_count": 93,
     "metadata": {},
     "output_type": "execute_result"
    }
   ],
   "source": [
    "arr1"
   ]
  },
  {
   "cell_type": "code",
   "execution_count": 94,
   "metadata": {},
   "outputs": [
    {
     "data": {
      "text/plain": [
       "array([5, 6, 7, 8, 9])"
      ]
     },
     "execution_count": 94,
     "metadata": {},
     "output_type": "execute_result"
    }
   ],
   "source": [
    "arr2"
   ]
  },
  {
   "cell_type": "markdown",
   "metadata": {
    "collapsed": false
   },
   "source": [
    "In a 1-dimensional array there is only the axis 0 and the default choice to concatenate. With a 2-dimensional array we have the axes 0 (rows) and 1 (columns). The concatenation succeeds if the dimensions on the axis on which it takes place match."
   ]
=======
   ],
   "id": "5e25552983093e40",
   "outputs": [],
   "execution_count": null
  },
  {
   "metadata": {},
   "cell_type": "markdown",
   "source": "In a 1-dimensional array there is only the axis 0 and the default choice to concatenate. With a 2-dimensional array we have the axes 0 (rows) and 1 (columns). The concatenation succeeds if the dimensions on the axis on which it takes place match.",
   "id": "c6e88553472596a1"
>>>>>>> 0562cc1c7a2785312b97b18111f4360585aaea7a
  },
  {
   "metadata": {},
   "cell_type": "code",
<<<<<<< HEAD
   "execution_count": null,
   "metadata": {
    "collapsed": false
   },
   "outputs": [],
=======
>>>>>>> 0562cc1c7a2785312b97b18111f4360585aaea7a
   "source": [
    "arr1 = np.arange(0,8).reshape(4,2)\n",
    "arr2 = np.arange(8,16).reshape(4,2)\n",
    "np.concatenate((arr1, arr2))          # along axis=0 (default) ; alternatively use vstack\n",
    "np.concatenate((arr1, arr2), axis=1)  # along axis=1           ; alternatively use hstack"
   ]
  },
  {
   "cell_type": "code",
   "execution_count": 95,
   "metadata": {},
   "outputs": [
    {
     "data": {
      "text/plain": [
       "array([0, 1, 2, 3, 4])"
      ]
     },
     "execution_count": 95,
     "metadata": {},
     "output_type": "execute_result"
    }
   ],
<<<<<<< HEAD
   "source": [
    "arr1"
   ]
  },
  {
   "cell_type": "code",
   "execution_count": 96,
   "metadata": {},
   "outputs": [
    {
     "data": {
      "text/plain": [
       "array([5, 6, 7, 8, 9])"
      ]
     },
     "execution_count": 96,
     "metadata": {},
     "output_type": "execute_result"
    }
   ],
   "source": [
    "arr2"
   ]
  },
  {
   "cell_type": "code",
   "execution_count": 97,
   "metadata": {},
   "outputs": [
    {
     "data": {
      "text/plain": [
       "array([0, 1, 2, 3, 4, 5, 6, 7, 8, 9])"
      ]
     },
     "execution_count": 97,
     "metadata": {},
     "output_type": "execute_result"
    }
   ],
   "source": [
    "np.concatenate((arr1, arr2))          # along axis=0 (default) ; alternatively use vstack"
   ]
  },
  {
   "cell_type": "code",
   "execution_count": 98,
   "metadata": {},
   "outputs": [
    {
     "ename": "AxisError",
     "evalue": "axis 1 is out of bounds for array of dimension 1",
     "output_type": "error",
     "traceback": [
      "\u001b[0;31m---------------------------------------------------------------------------\u001b[0m",
      "\u001b[0;31mAxisError\u001b[0m                                 Traceback (most recent call last)",
      "Cell \u001b[0;32mIn[98], line 1\u001b[0m\n\u001b[0;32m----> 1\u001b[0m \u001b[43mnp\u001b[49m\u001b[38;5;241;43m.\u001b[39;49m\u001b[43mconcatenate\u001b[49m\u001b[43m(\u001b[49m\u001b[43m(\u001b[49m\u001b[43marr1\u001b[49m\u001b[43m,\u001b[49m\u001b[43m \u001b[49m\u001b[43marr2\u001b[49m\u001b[43m)\u001b[49m\u001b[43m,\u001b[49m\u001b[43m \u001b[49m\u001b[43maxis\u001b[49m\u001b[38;5;241;43m=\u001b[39;49m\u001b[38;5;241;43m1\u001b[39;49m\u001b[43m)\u001b[49m  \u001b[38;5;66;03m# along axis=1           ; alternatively use hstack\u001b[39;00m\n",
      "\u001b[0;31mAxisError\u001b[0m: axis 1 is out of bounds for array of dimension 1"
     ]
    }
   ],
   "source": [
    "np.concatenate((arr1, arr2), axis=1)  # along axis=1           ; alternatively use hstack"
   ]
  },
  {
   "cell_type": "markdown",
   "metadata": {
    "collapsed": false
   },
   "source": [
    "**stack** function combines arrays in a newly introduced dimension along the given axis (default axis=0):"
   ]
=======
   "id": "f9252f123671156a",
   "outputs": [],
   "execution_count": null
  },
  {
   "metadata": {},
   "cell_type": "markdown",
   "source": [
    "**numpy.stack** function combines arrays in a newly introduced dimension along the given axis (default axis=0):\n",
    "\n"
   ],
   "id": "50491d9af52ddcf7"
>>>>>>> 0562cc1c7a2785312b97b18111f4360585aaea7a
  },
  {
   "metadata": {},
   "cell_type": "code",
<<<<<<< HEAD
   "execution_count": 103,
   "metadata": {
    "collapsed": false
   },
   "outputs": [
    {
     "data": {
      "text/plain": [
       "array([[[0, 1],\n",
       "        [4, 5]],\n",
       "\n",
       "       [[2, 3],\n",
       "        [6, 7]]])"
      ]
     },
     "execution_count": 103,
     "metadata": {},
     "output_type": "execute_result"
    }
   ],
=======
>>>>>>> 0562cc1c7a2785312b97b18111f4360585aaea7a
   "source": [
    "arr1 = np.arange(0,4).reshape(2,2)\n",
    "arr2 = np.arange(4,8).reshape(2,2)\n",
    "np.stack((arr1, arr2), axis=1)"
<<<<<<< HEAD
   ]
  },
  {
   "cell_type": "code",
   "execution_count": 100,
   "metadata": {},
   "outputs": [
    {
     "data": {
      "text/plain": [
       "array([[0, 1],\n",
       "       [2, 3]])"
      ]
     },
     "execution_count": 100,
     "metadata": {},
     "output_type": "execute_result"
    }
   ],
   "source": [
    "arr1"
   ]
  },
  {
   "cell_type": "code",
   "execution_count": 101,
   "metadata": {},
   "outputs": [
    {
     "data": {
      "text/plain": [
       "array([[4, 5],\n",
       "       [6, 7]])"
      ]
     },
     "execution_count": 101,
     "metadata": {},
     "output_type": "execute_result"
    }
   ],
   "source": [
    "arr2"
   ]
=======
   ],
   "id": "ebcfa5ee9bca4f32",
   "outputs": [],
   "execution_count": null
>>>>>>> 0562cc1c7a2785312b97b18111f4360585aaea7a
  },
  {
   "metadata": {},
   "cell_type": "markdown",
   "metadata": {
    "collapsed": false
   },
   "source": [
    "## Numpy API Reference\n",
    "\n",
<<<<<<< HEAD
    "The NumPy solution for random variables is the [Random Generator](https://numpy.org/doc/stable/reference/random/generator.html). It is a container for various distributions, permutations, floats and integers. To access it you'll need to import *default_rng* function enabling you  to instantiate a random generator:\n"
   ]
  },
  {
   "cell_type": "code",
   "execution_count": 104,
   "metadata": {
    "collapsed": false
   },
   "outputs": [
    {
     "data": {
      "text/plain": [
       "array([[-0.26065487,  0.97192192,  0.77389546,  1.32234779, -1.33130276],\n",
       "       [-0.68677486, -0.82723532,  0.17079694,  1.29708425, -0.75116849],\n",
       "       [-0.87977449,  0.4048748 , -0.18284013,  0.26054027, -0.73718482],\n",
       "       [-1.25483645,  0.80972227,  0.92856557,  0.12706708,  0.60670676],\n",
       "       [-0.51871452,  0.02721841, -0.09681342,  2.09585545, -0.74155827]])"
      ]
     },
     "execution_count": 104,
     "metadata": {},
     "output_type": "execute_result"
    }
   ],
   "source": [
    "from numpy.random import default_rng  # import function default_rng\n",
    "rng = default_rng()                   # random number generator (without a seed)\n",
    "rng.integers(0,100,10)                # 10 randomly generated integers out of [0,100)\n",
    "rng.random((10,2))                    # 10x2 randomly generated floats out of [0.0,1.0)\n",
    "rng.normal(loc=0,scale=1,size=(5,5))  # 5x5  randomly generate"
   ]
=======
    "Under the [Mathematical function](https://numpy.org/doc/stable/reference/routines.math.html), [Statistics](https://numpy.org/doc/stable/reference/routines.statistics.html), [Linear algebra](https://numpy.org/doc/stable/reference/routines.linalg.html) sections of [NumPy API Reference](https://numpy.org/doc/stable/reference/index.html) you'll find many useful functions.\n"
   ],
   "id": "b31c784fc65ee6d5"
>>>>>>> 0562cc1c7a2785312b97b18111f4360585aaea7a
  },
  {
   "metadata": {},
   "cell_type": "markdown",
   "metadata": {
    "collapsed": false
   },
   "source": [
    "## Exercises\n",
    "\n",
    "- Create a 1-dimensional array of random integers, range [0,100), of size 20. Test (True or False) whether the array contains any odd integers. Finally, count the number of odd integers.\n",
    "\n",
    "- Summary\n",
    "\n",
<<<<<<< HEAD
    "with array of values *a* to choose from and *size* the size of selection. The *replace* is set to True by default, meaning that values may be selected multiple times.\n"
   ]
  },
  {
   "cell_type": "code",
   "execution_count": 108,
   "metadata": {
    "collapsed": false
   },
   "outputs": [
    {
     "data": {
      "text/plain": [
       "array(['aap', 'mies', 'mies', 'noot', 'noot'], dtype='<U4')"
      ]
     },
     "execution_count": 108,
     "metadata": {},
     "output_type": "execute_result"
    }
   ],
   "source": [
    "arr = np.array([True, False])\n",
    "rng.choice(arr, 10)\n",
    "arr = np.array([\"aap\", \"mies\", \"noot\"])\n",
    "rng.choice(arr, 5)"
   ]
  },
  {
   "cell_type": "markdown",
   "metadata": {
    "collapsed": false
   },
   "source": [
    "## Numpy functions and array methods\n",
    "\n",
    "Under the [Mathematical function](https://numpy.org/doc/stable/reference/routines.math.html) and [Statistics](https://numpy.org/doc/stable/reference/routines.statistics.html) sections of NumPy [APi reference](https://numpy.org/doc/stable/reference/index.html) you'll find many useful functions.\n"
   ]
  },
  {
   "cell_type": "markdown",
   "metadata": {
    "collapsed": false
   },
   "source": [
    "**aggregate function**\n",
    "\n",
    "Functions operating on a set of values and result in a single value, e.g. *mean, median, min, max, sum, std, var* and for logical values *all, any*. In addition, NumPy functions give you control with the *axis* argument to decide the direction of calculation. Take the function *mean*:"
   ]
  },
  {
   "cell_type": "code",
   "execution_count": 113,
   "metadata": {
    "collapsed": false
   },
   "outputs": [
    {
     "data": {
      "text/plain": [
       "array([[69, 22, 78, 31],\n",
       "       [20, 79, 64, 67],\n",
       "       [98, 39, 83, 33],\n",
       "       [56, 59, 21, 18],\n",
       "       [22, 67, 61, 94]])"
      ]
     },
     "execution_count": 113,
     "metadata": {},
     "output_type": "execute_result"
    }
   ],
   "source": [
    "# arr2d: a sample of size=20 from the range [0,100) with shape (5,4)\n",
    "rng = default_rng(12345)  # seed=12345\n",
    "arr2d = rng.integers(0,100,20).reshape(5,4)\n",
    "arr2d"
   ]
  },
  {
   "cell_type": "code",
   "execution_count": 117,
   "metadata": {
    "collapsed": false
   },
   "outputs": [
    {
     "data": {
      "text/plain": [
       "np.float64(54.05)"
      ]
     },
     "execution_count": 117,
     "metadata": {},
     "output_type": "execute_result"
    }
   ],
   "source": [
    "# NumPy function\n",
    "np.mean(arr2d)         # total mean"
   ]
  },
  {
   "cell_type": "code",
   "execution_count": 115,
   "metadata": {},
   "outputs": [
    {
     "data": {
      "text/plain": [
       "array([53. , 53.2, 61.4, 48.6])"
      ]
     },
     "execution_count": 115,
     "metadata": {},
     "output_type": "execute_result"
    }
   ],
   "source": [
    "np.mean(arr2d, axis=0) # mean along the 0-axis (1st dimension)"
   ]
  },
  {
   "cell_type": "code",
   "execution_count": 116,
   "metadata": {},
   "outputs": [
    {
     "data": {
      "text/plain": [
       "array([50.  , 57.5 , 63.25, 38.5 , 61.  ])"
      ]
     },
     "execution_count": 116,
     "metadata": {},
     "output_type": "execute_result"
    }
   ],
   "source": [
    "np.mean(arr2d, axis=1) # mean along the 1-axis (2nd dimension)"
   ]
  },
  {
   "cell_type": "markdown",
   "metadata": {
    "collapsed": false
   },
   "source": [
    "Some common methods are ported to array level methods:"
   ]
  },
  {
   "cell_type": "code",
   "execution_count": 118,
   "metadata": {
    "collapsed": false
   },
   "outputs": [
    {
     "data": {
      "text/plain": [
       "array([50.  , 57.5 , 63.25, 38.5 , 61.  ])"
      ]
     },
     "execution_count": 118,
     "metadata": {},
     "output_type": "execute_result"
    }
   ],
   "source": [
    "# Array method\n",
    "arr2d.mean(axis=1)"
   ]
  },
  {
   "cell_type": "markdown",
   "metadata": {
    "collapsed": false
   },
   "source": [
    "**Boolean** Two common boolean aggregate functions are *all* and *any*, testing whether all or any of the values are True respectively. For example, take the array below, we want to know whether there are values above a certain threshold, say 50:"
   ]
  },
  {
   "cell_type": "code",
   "execution_count": 119,
   "metadata": {
    "collapsed": false
   },
   "outputs": [
    {
     "data": {
      "text/plain": [
       "np.True_"
      ]
     },
     "execution_count": 119,
     "metadata": {},
     "output_type": "execute_result"
    }
   ],
   "source": [
    "arr1d = rng.integers(0,99,50) # [0,99)\n",
    "(arr1d > 50).any()            # Are there any values >50?"
   ]
  },
  {
   "cell_type": "code",
   "execution_count": 120,
   "metadata": {
    "collapsed": false
   },
   "outputs": [
    {
     "data": {
      "text/plain": [
       "np.False_"
      ]
     },
     "execution_count": 120,
     "metadata": {},
     "output_type": "execute_result"
    }
   ],
   "source": [
    "(arr1d > 50).all()            # Are all values >50?"
   ]
=======
    "1. Create a two-dimensional array of random integers over the range [0,100) with shape (8,4).\n",
    "2. Calculate the following summaries on axis=0:\n",
    "\n",
    "    - minimum, maximum, mean and median\n",
    "    - 1st and 3rd quartile.\n",
    "\n",
    "3. Write the function *summary* which takes a 2-dimensional array as input and produces an R like summary as shown below:\n",
    "\n",
    "```\n",
    "       0              1               2               3\n",
    " Min.   :13.0   Min.   :24.00   Min.   :10.00   Min.   :11.00\n",
    " 1st Qu.:42.5   1st Qu.:40.75   1st Qu.:46.00   1st Qu.:26.00\n",
    " Median :67.0   Median :76.50   Median :71.00   Median :34.50\n",
    " Mean   :60.0   Mean   :67.12   Mean   :64.75   Mean   :42.88\n",
    " 3rd Qu.:81.5   3rd Qu.:93.00   3rd Qu.:95.00   3rd Qu.:61.25\n",
    " Max.   :97.0   Max.   :97.00   Max.   :98.00   Max.   :86.00\n",
    "```"
   ],
   "id": "96cd00d570b2ebde"
>>>>>>> 0562cc1c7a2785312b97b18111f4360585aaea7a
  },
  {
   "metadata": {},
   "cell_type": "markdown",
<<<<<<< HEAD
   "metadata": {
    "collapsed": false
   },
   "source": [
    "Finally, the aggregate function *sum* can consume boolean array and interprets True as 1 and False as 0. We can continue with the threshold question and count the number of values $>50$:"
   ]
  },
  {
   "cell_type": "code",
   "execution_count": 121,
   "metadata": {
    "collapsed": false
   },
   "outputs": [
    {
     "data": {
      "text/plain": [
       "np.int64(23)"
      ]
     },
     "execution_count": 121,
     "metadata": {},
     "output_type": "execute_result"
    }
   ],
   "source": [
    "(arr1d > 50).sum()           # How many values >50"
   ]
=======
   "source": "- Implement the function *mat_mult* which takes two 2-dimensional arrays and produces their product. Compare your results with the NumPy built-in operator '@'. Make sure that the function raises an exception if the matrix dimensions are incompatible.",
   "id": "3348483210e9ada0"
>>>>>>> 0562cc1c7a2785312b97b18111f4360585aaea7a
  }
 ],
 "metadata": {
  "kernelspec": {
   "display_name": "Python 3",
   "language": "python",
   "name": "python3"
  },
  "language_info": {
   "codemirror_mode": {
    "name": "ipython",
    "version": 3
   },
   "file_extension": ".py",
   "mimetype": "text/x-python",
   "name": "python",
   "nbconvert_exporter": "python",
   "pygments_lexer": "ipython3",
   "version": "3.12.8"
  }
 },
 "nbformat": 4,
 "nbformat_minor": 5
}
