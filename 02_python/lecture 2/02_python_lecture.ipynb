{
 "cells": [
  {
   "cell_type": "code",
   "execution_count": null,
   "metadata": {},
   "outputs": [],
   "source": [
    "# Short summary: last week \n",
    "\n",
    "[ 1, 6, 7]  #direct list    \n",
    "list([1,6,7]) #indirect? iterable \n",
    "# the function list goes 1 by 1 (iterates over the elements) and creates a list over those elements"
   ]
  },
  {
   "cell_type": "code",
   "execution_count": null,
   "metadata": {},
   "outputs": [],
   "source": [
    "range(10)   #range of 10 -> 0, 1, ..., 9. \n",
    "list (range(10))  #list of 0, 1, ..., 9 \n",
    "\n",
    "#list takes argument that goes through 1 by 1 \n"
   ]
  },
  {
   "cell_type": "code",
   "execution_count": null,
   "metadata": {},
   "outputs": [],
   "source": [
    "## 1: SETS IN PYTHON\n",
    "\n",
    "# elements in a set do NOT have a fixed order (might differ in different python versions)\n",
    "# set(...) or {...}"
   ]
  },
  {
   "cell_type": "code",
   "execution_count": 1,
   "metadata": {},
   "outputs": [
    {
     "data": {
      "text/plain": [
       "set"
      ]
     },
     "execution_count": 1,
     "metadata": {},
     "output_type": "execute_result"
    }
   ],
   "source": [
    "elements = {\"a\", \"b\", \"a\", \"b\"}\n",
    "type( elements )"
   ]
  },
  {
   "cell_type": "code",
   "execution_count": 5,
   "metadata": {},
   "outputs": [
    {
     "data": {
      "text/plain": [
       "set"
      ]
     },
     "execution_count": 5,
     "metadata": {},
     "output_type": "execute_result"
    }
   ],
   "source": [
    "# creating an empty set \n",
    "set()"
   ]
  },
  {
   "cell_type": "code",
   "execution_count": 6,
   "metadata": {},
   "outputs": [
    {
     "data": {
      "text/plain": [
       "{2, 3}"
      ]
     },
     "execution_count": 6,
     "metadata": {},
     "output_type": "execute_result"
    }
   ],
   "source": [
    "# 1.1: Algebra with Sets\n",
    "firstNs = {1, 2, 3}\n",
    "secondNs = {2, 3, 4}\n",
    "firstNs & secondNs       #common elements (intersection) in the 2 sets "
   ]
  },
  {
   "cell_type": "code",
   "execution_count": 7,
   "metadata": {},
   "outputs": [
    {
     "data": {
      "text/plain": [
       "{1, 2, 3, 4}"
      ]
     },
     "execution_count": 7,
     "metadata": {},
     "output_type": "execute_result"
    }
   ],
   "source": [
    "firstNs | secondNs      #union of elements (adding all elements together)"
   ]
  },
  {
   "cell_type": "code",
   "execution_count": 8,
   "metadata": {},
   "outputs": [
    {
     "data": {
      "text/plain": [
       "{1}"
      ]
     },
     "execution_count": 8,
     "metadata": {},
     "output_type": "execute_result"
    }
   ],
   "source": [
    "firstNs - secondNs       #difference in elements "
   ]
  },
  {
   "cell_type": "code",
   "execution_count": 9,
   "metadata": {},
   "outputs": [
    {
     "data": {
      "text/plain": [
       "False"
      ]
     },
     "execution_count": 9,
     "metadata": {},
     "output_type": "execute_result"
    }
   ],
   "source": [
    "6 in firstNs         #is 6 in the firstNs set?"
   ]
  },
  {
   "cell_type": "code",
   "execution_count": 10,
   "metadata": {},
   "outputs": [
    {
     "data": {
      "text/plain": [
       "True"
      ]
     },
     "execution_count": 10,
     "metadata": {},
     "output_type": "execute_result"
    }
   ],
   "source": [
    "6 not in firstNs    #is 6 not in firstNs set?"
   ]
  },
  {
   "cell_type": "code",
   "execution_count": 12,
   "metadata": {},
   "outputs": [
    {
     "data": {
      "text/plain": [
       "{1, 2, 3, 100}"
      ]
     },
     "execution_count": 12,
     "metadata": {},
     "output_type": "execute_result"
    }
   ],
   "source": [
    "# 1.2: Adding & removing elements \n",
    "firstNs.add(100)    #adding 100 at end of set \n",
    "firstNs"
   ]
  },
  {
   "cell_type": "code",
   "execution_count": 16,
   "metadata": {},
   "outputs": [
    {
     "ename": "KeyError",
     "evalue": "100",
     "output_type": "error",
     "traceback": [
      "\u001b[0;31m---------------------------------------------------------------------------\u001b[0m",
      "\u001b[0;31mKeyError\u001b[0m                                  Traceback (most recent call last)",
      "Cell \u001b[0;32mIn[16], line 3\u001b[0m\n\u001b[1;32m      1\u001b[0m firstNs\u001b[38;5;241m.\u001b[39madd(\u001b[38;5;241m100\u001b[39m) \n\u001b[1;32m      2\u001b[0m firstNs\u001b[38;5;241m.\u001b[39mremove(\u001b[38;5;241m100\u001b[39m)\n\u001b[0;32m----> 3\u001b[0m \u001b[43mfirstNs\u001b[49m\u001b[38;5;241;43m.\u001b[39;49m\u001b[43mremove\u001b[49m\u001b[43m(\u001b[49m\u001b[38;5;241;43m100\u001b[39;49m\u001b[43m)\u001b[49m     \u001b[38;5;66;03m#100 no longer there -> error \u001b[39;00m\n\u001b[1;32m      4\u001b[0m firstNs\n",
      "\u001b[0;31mKeyError\u001b[0m: 100"
     ]
    }
   ],
   "source": [
    "firstNs.add(100) \n",
    "firstNs.remove(100)\n",
    "firstNs.remove(100)     #100 no longer there -> error \n",
    "firstNs"
   ]
  },
  {
   "cell_type": "code",
   "execution_count": 17,
   "metadata": {},
   "outputs": [
    {
     "data": {
      "text/plain": [
       "[2, 3, 4]"
      ]
     },
     "execution_count": 17,
     "metadata": {},
     "output_type": "execute_result"
    }
   ],
   "source": [
    "[n+1 for n in firstNs]  \n",
    "# a set can be iterated over but we cant make assumptions about the order of the set\n"
   ]
  },
  {
   "cell_type": "code",
   "execution_count": 21,
   "metadata": {},
   "outputs": [
    {
     "data": {
      "text/plain": [
       "{'Mon': 2330, 'Tue': 1990, 'Wed': 2150}"
      ]
     },
     "execution_count": 21,
     "metadata": {},
     "output_type": "execute_result"
    }
   ],
   "source": [
    "## 2: DICTIONARIES IN PYTHON\n",
    "\n",
    "# dictionary = for this value I should get that value ofz / zelfde als een list in R \n",
    "# bv: naam van leerlingen matchen aan hun height \n",
    "    #key = naam van leerling\n",
    "    #value = height\n",
    "#handig want snel proces om wat te zoeken ofzo\n",
    "\n",
    "day2KCal = { \"Mon\": 2330, \"Tue\": 1990, \"Wed\": 2150 }\n",
    "day2KCal"
   ]
  },
  {
   "cell_type": "code",
   "execution_count": 31,
   "metadata": {},
   "outputs": [
    {
     "data": {
      "text/plain": [
       "{'Mon': 2330,\n",
       " 'Tue': 1990,\n",
       " 'Wed': 2150,\n",
       " 'Thu': 2290,\n",
       " 'Fri': 1920,\n",
       " 'Sat': 2370,\n",
       " 'Sun': 2050}"
      ]
     },
     "execution_count": 31,
     "metadata": {},
     "output_type": "execute_result"
    }
   ],
   "source": [
    "# The following code allows to build a dictionary from two iterable objects:\n",
    "\n",
    "days = ( \"Mon\", \"Tue\", \"Wed\", \"Thu\", \"Fri\", \"Sat\", \"Sun\" )      # a tuple\n",
    "dayKCals = [ 2330, 1990, 2150, 2290, 1920, 2370, 2050 ]         # a list\n",
    "zip( days, dayKCals )           # a generator, iterable over tuples (day, dayKCal)\n",
    "list( zip( days, dayKCals ) )   # a list of tuples generated by the generator\n",
    "\n",
    "day2KCal = dict( zip( days, dayKCals ) )\n",
    "day2KCal"
   ]
  },
  {
   "cell_type": "code",
   "execution_count": 33,
   "metadata": {},
   "outputs": [
    {
     "data": {
      "text/plain": [
       "2050"
      ]
     },
     "execution_count": 33,
     "metadata": {},
     "output_type": "execute_result"
    }
   ],
   "source": [
    "day2KCal[\"Sun\"]\n",
    "\n",
    "#you can use keys only once in a dictionary (dus ni 2x monday)"
   ]
  },
  {
   "cell_type": "code",
   "execution_count": 34,
   "metadata": {},
   "outputs": [
    {
     "data": {
      "text/plain": [
       "[9748.720000000001,\n",
       " 8326.16,\n",
       " 8995.6,\n",
       " 9581.36,\n",
       " 8033.280000000001,\n",
       " 9916.08,\n",
       " 8577.2]"
      ]
     },
     "execution_count": 34,
     "metadata": {},
     "output_type": "execute_result"
    }
   ],
   "source": [
    "[KCal*4.184 for KCal in day2KCal.values()]\n",
    "# aangepaste list "
   ]
  },
  {
   "cell_type": "code",
   "execution_count": 38,
   "metadata": {},
   "outputs": [
    {
     "data": {
      "text/plain": [
       "{'Mon': 9748.720000000001,\n",
       " 'Tue': 8326.16,\n",
       " 'Wed': 8995.6,\n",
       " 'Thu': 9581.36,\n",
       " 'Fri': 8033.280000000001,\n",
       " 'Sat': 9916.08,\n",
       " 'Sun': 8577.2}"
      ]
     },
     "execution_count": 38,
     "metadata": {},
     "output_type": "execute_result"
    }
   ],
   "source": [
    "{day:KCal*4.184 for day, KCal in day2KCal.items()}  #dictionary {}"
   ]
  },
  {
   "cell_type": "code",
   "execution_count": 1,
   "metadata": {},
   "outputs": [],
   "source": [
    "## 3: FORMATTING STRINGS\n",
    "\n",
    "roomWidth = 3.5"
   ]
  },
  {
   "cell_type": "code",
   "execution_count": 3,
   "metadata": {},
   "outputs": [
    {
     "name": "stdout",
     "output_type": "stream",
     "text": [
      "The room width is 3.5 metres\n"
     ]
    }
   ],
   "source": [
    "print(\"The room width is\", roomWidth, \"metres\")"
   ]
  },
  {
   "cell_type": "code",
   "execution_count": 5,
   "metadata": {},
   "outputs": [
    {
     "name": "stdout",
     "output_type": "stream",
     "text": [
      "The room width is 3.5 meters\n"
     ]
    }
   ],
   "source": [
    "print(f\"The room width is {roomWidth} meters\") \n",
    "\n",
    "# F-string enables extra processing machinery\n",
    "# You can use mathematical operations inside the { } for example"
   ]
  },
  {
   "cell_type": "code",
   "execution_count": 6,
   "metadata": {},
   "outputs": [
    {
     "name": "stdout",
     "output_type": "stream",
     "text": [
      "The room width is 7.0 meters\n"
     ]
    }
   ],
   "source": [
    "print(f\"The room width is {roomWidth * 2 } meters\") \n"
   ]
  },
  {
   "cell_type": "code",
   "execution_count": 7,
   "metadata": {},
   "outputs": [
    {
     "name": "stdout",
     "output_type": "stream",
     "text": [
      "The room width is 7.00 meters\n"
     ]
    }
   ],
   "source": [
    "print(f\"The room width is {roomWidth * 2:.2f} meters\")"
   ]
  }
 ],
 "metadata": {
  "kernelspec": {
   "display_name": "Python 3",
   "language": "python",
   "name": "python3"
  },
  "language_info": {
   "codemirror_mode": {
    "name": "ipython",
    "version": 3
   },
   "file_extension": ".py",
   "mimetype": "text/x-python",
   "name": "python",
   "nbconvert_exporter": "python",
   "pygments_lexer": "ipython3",
   "version": "3.12.8"
  }
 },
 "nbformat": 4,
 "nbformat_minor": 2
}
