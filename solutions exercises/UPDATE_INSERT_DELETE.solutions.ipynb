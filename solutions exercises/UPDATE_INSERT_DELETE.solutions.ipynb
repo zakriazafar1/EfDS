{
 "cells": [
  {
   "cell_type": "markdown",
   "id": "b9ccf0cb",
   "metadata": {},
   "source": [
    "# SQL modification statements (exercises)"
   ]
  },
  {
   "cell_type": "markdown",
   "id": "289777c9",
   "metadata": {},
   "source": [
    "## Preparation"
   ]
  },
  {
   "cell_type": "markdown",
   "id": "b5d77242",
   "metadata": {},
   "source": [
    "For this section you need `chinook.db` database file and working `%sql` magic.  \n",
    "If you don't have it, please go back to the [previous section](../09_sql/connect_to_database.ipynb) and follow the instructions.  \n",
    "The following code should not produce any errors:"
   ]
  },
  {
   "cell_type": "code",
   "execution_count": null,
   "id": "89d64a98",
   "metadata": {},
   "outputs": [],
   "source": [
    "%load_ext sql\n",
    "%sql sqlite:///chinook.db"
   ]
  },
  {
   "cell_type": "markdown",
   "id": "c80e4174",
   "metadata": {},
   "source": [
    "## Exercise: updating rows"
   ]
  },
  {
   "cell_type": "markdown",
   "id": "6b275809",
   "metadata": {},
   "source": [
    "### Task"
   ]
  },
  {
   "cell_type": "markdown",
   "id": "e8a9235e",
   "metadata": {},
   "source": [
    "An employee `Park Margaret` has moved to a new address: \n",
    "- `City`: `Toronto`,\n",
    "- `State`: `NO`,\n",
    "- `Postcode`: `M5P 2N7`. \n",
    "\n",
    "Update the `employee` table accordingly.  \n",
    "To verify that the change indeed is made, show the content before and after the change."
   ]
  },
  {
   "cell_type": "markdown",
   "id": "8f5d0bb3",
   "metadata": {},
   "source": [
    "### Solution"
   ]
  },
  {
   "cell_type": "markdown",
   "id": "afcb7101",
   "metadata": {},
   "source": [
    "Let's find the data before the change:"
   ]
  },
  {
   "cell_type": "code",
   "execution_count": null,
   "id": "fb9c0199",
   "metadata": {},
   "outputs": [],
   "source": [
    "%sql SELECT * FROM employees WHERE LastName = \"Park\""
   ]
  },
  {
   "cell_type": "markdown",
   "id": "5c0d70b9",
   "metadata": {},
   "source": [
    "Changing the database:"
   ]
  },
  {
   "cell_type": "code",
   "execution_count": null,
   "id": "d65cf3cc",
   "metadata": {},
   "outputs": [],
   "source": [
    "%%sql\n",
    "UPDATE employees\n",
    "SET City = 'Toronto',\n",
    "    State = 'ON',\n",
    "    PostalCode = 'M5P 2N7'\n",
    "WHERE\n",
    "    LastName = \"Park\" AND FirstName = \"Margaret\""
   ]
  },
  {
   "cell_type": "markdown",
   "id": "34950c22",
   "metadata": {},
   "source": [
    "Let's check whether the data have changed:"
   ]
  },
  {
   "cell_type": "code",
   "execution_count": null,
   "id": "3abea71d",
   "metadata": {},
   "outputs": [],
   "source": [
    "%sql SELECT * FROM employees WHERE LastName = \"Park\""
   ]
  },
  {
   "cell_type": "markdown",
   "id": "fef08ac9",
   "metadata": {},
   "source": [
    "## Exercise: adding rows"
   ]
  },
  {
   "cell_type": "markdown",
   "id": "8be82b28",
   "metadata": {},
   "source": [
    "### Task"
   ]
  },
  {
   "cell_type": "markdown",
   "id": "9ae13873",
   "metadata": {},
   "source": [
    "In a single SQL command insert three new random persons into the `artists` table.  \n",
    "To verify that the change indeed is made, show the content before and after the change."
   ]
  },
  {
   "cell_type": "markdown",
   "id": "a6fb7972",
   "metadata": {},
   "source": [
    "### Solution"
   ]
  },
  {
   "cell_type": "markdown",
   "id": "3b920fe0",
   "metadata": {},
   "source": [
    "Let's see the end of the `artists` table before adding the new content:"
   ]
  },
  {
   "cell_type": "code",
   "execution_count": null,
   "id": "787010d0",
   "metadata": {},
   "outputs": [],
   "source": [
    "%sql SELECT * FROM artists ORDER BY ArtistId DESC LIMIT 5"
   ]
  },
  {
   "cell_type": "markdown",
   "id": "94183064",
   "metadata": {},
   "source": [
    "Adding the new rows:"
   ]
  },
  {
   "cell_type": "code",
   "execution_count": null,
   "id": "ce47fab0",
   "metadata": {},
   "outputs": [],
   "source": [
    "%%sql\n",
    "INSERT INTO artists (Name) VALUES\n",
    "\t(\"Thomas Acda\"),\n",
    "\t(\"Herman Brood\"),\n",
    "\t(\"Don Diablo\")"
   ]
  },
  {
   "cell_type": "markdown",
   "id": "563f0d7e",
   "metadata": {},
   "source": [
    "Let's see the end of the `artists` table after adding the new content:"
   ]
  },
  {
   "cell_type": "code",
   "execution_count": null,
   "id": "50e884e3",
   "metadata": {},
   "outputs": [],
   "source": [
    "%sql SELECT * FROM artists ORDER BY ArtistId DESC LIMIT 5"
   ]
  },
  {
   "cell_type": "markdown",
   "id": "9a5d8609",
   "metadata": {},
   "source": [
    "## Exercise: removing rows"
   ]
  },
  {
   "cell_type": "markdown",
   "id": "9971c72d",
   "metadata": {},
   "source": [
    "### Task"
   ]
  },
  {
   "cell_type": "markdown",
   "id": "d36bcbeb",
   "metadata": {},
   "source": [
    "Let's delete `artists` whose names contain the word `Santana`.  \n",
    "To verify that the change indeed is made, show the content before and after the change."
   ]
  },
  {
   "cell_type": "markdown",
   "id": "aeb6d3e8",
   "metadata": {},
   "source": [
    "### Solution"
   ]
  },
  {
   "cell_type": "markdown",
   "id": "0d68591e",
   "metadata": {},
   "source": [
    "Let's first show the rows to be deleted:"
   ]
  },
  {
   "cell_type": "code",
   "execution_count": null,
   "id": "6064be93",
   "metadata": {},
   "outputs": [],
   "source": [
    "%sql SELECT * FROM artists WHERE Name LIKE '%Santana%'"
   ]
  },
  {
   "cell_type": "markdown",
   "id": "f08ea315",
   "metadata": {},
   "source": [
    "Executing the delete operation:"
   ]
  },
  {
   "cell_type": "code",
   "execution_count": null,
   "id": "bddd560b",
   "metadata": {},
   "outputs": [],
   "source": [
    "%%sql\n",
    "DELETE FROM artists WHERE Name LIKE '%Santana%'"
   ]
  },
  {
   "cell_type": "markdown",
   "id": "4545c606",
   "metadata": {},
   "source": [
    "Let's check whether the rows are indeed deleted:"
   ]
  },
  {
   "cell_type": "code",
   "execution_count": null,
   "id": "c5747d33",
   "metadata": {},
   "outputs": [],
   "source": [
    "%sql SELECT * FROM artists WHERE Name LIKE '%Santana%'"
   ]
  }
 ],
 "metadata": {
  "kernelspec": {
   "display_name": "Python 3 (ipykernel)",
   "language": "python",
   "name": "python3"
  },
  "language_info": {
   "codemirror_mode": {
    "name": "ipython",
    "version": 3
   },
   "file_extension": ".py",
   "mimetype": "text/x-python",
   "name": "python",
   "nbconvert_exporter": "python",
   "pygments_lexer": "ipython3",
   "version": "3.12.1"
  }
 },
 "nbformat": 4,
 "nbformat_minor": 5
}
