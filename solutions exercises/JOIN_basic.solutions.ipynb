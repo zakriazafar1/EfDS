{
 "cells": [
  {
   "cell_type": "markdown",
   "metadata": {},
   "source": [
    "# SQL joining (merging) tables (exercises)"
   ]
  },
  {
   "cell_type": "markdown",
   "id": "c8ca724f",
   "metadata": {},
   "source": [
    "## Preparation"
   ]
  },
  {
   "cell_type": "markdown",
   "id": "b171e062",
   "metadata": {},
   "source": [
    "For this section you need `chinook.db` database file and working `%sql` magic.  \n",
    "If you don't have it, please go back to the [previous section](../09_sql/connect_to_database.ipynb) and follow the instructions.  \n",
    "The following code should not produce any errors:"
   ]
  },
  {
   "cell_type": "code",
   "execution_count": null,
   "id": "caf9845e",
   "metadata": {},
   "outputs": [],
   "source": [
    "%load_ext sql\n",
    "%sql sqlite:///chinook.db"
   ]
  },
  {
   "cell_type": "markdown",
   "metadata": {},
   "source": [
    "## Exercise: Customer invoices"
   ]
  },
  {
   "cell_type": "markdown",
   "metadata": {},
   "source": [
    "### Task"
   ]
  },
  {
   "cell_type": "markdown",
   "metadata": {},
   "source": [
    "Use `LEFT JOIN` of tables `customers` and `invoice` to build a table listing all invoices per a customer.  \n",
    "The table should have these columns:\n",
    "- `CustomerId`\n",
    "- `FirstName`\n",
    "- `LastName`\n",
    "- `InvoiceId`\n",
    "\n",
    "What would be the primary key for this table?"
   ]
  },
  {
   "cell_type": "markdown",
   "metadata": {},
   "source": [
    "### Solution"
   ]
  },
  {
   "cell_type": "code",
   "execution_count": null,
   "metadata": {},
   "outputs": [],
   "source": [
    "%%sql\n",
    "SELECT CustomerId, FirstName, LastName, InvoiceId FROM customers\n",
    "  LEFT JOIN invoices USING (CustomerId)\n",
    "  LIMIT 10"
   ]
  },
  {
   "cell_type": "markdown",
   "metadata": {},
   "source": [
    "## Exercise: Customers without invoices?"
   ]
  },
  {
   "cell_type": "markdown",
   "metadata": {},
   "source": [
    "### Task"
   ]
  },
  {
   "cell_type": "markdown",
   "metadata": {},
   "source": [
    "Would customers without any invoice be visible in the result table produced above?\n",
    "\n",
    "Check whether such customers exist there."
   ]
  },
  {
   "cell_type": "markdown",
   "metadata": {},
   "source": [
    "### Solution"
   ]
  },
  {
   "cell_type": "markdown",
   "metadata": {},
   "source": [
    "`LEFT JOIN` with `customers` on the left side produces all customers in the output.  \n",
    "Customers without any invoice would have `NULL` value in the `InvoiceId` field."
   ]
  },
  {
   "cell_type": "code",
   "execution_count": null,
   "metadata": {},
   "outputs": [],
   "source": [
    "%%sql\n",
    "SELECT CustomerId, FirstName, LastName, InvoiceId FROM customers\n",
    "  LEFT JOIN invoices USING (CustomerId)\n",
    "  WHERE InvoiceId IS NULL "
   ]
  },
  {
   "cell_type": "markdown",
   "metadata": {},
   "source": [
    "## Exercise: Double join"
   ]
  },
  {
   "cell_type": "markdown",
   "metadata": {},
   "source": [
    "### Task"
   ]
  },
  {
   "cell_type": "markdown",
   "metadata": {},
   "source": [
    "*In short:* For each customer we want to know totals: how many tracks were bought and for what total price.\n",
    "\n",
    "Build a temporary table `customer_summary` with the following columns:\n",
    "The table should have these columns:\n",
    "- `CustomerId` based on `customers`.\n",
    "- `TotalTracksNum` - total number of tracks bought by the customer.\n",
    "- `TotalPrice` - total sum of prices payed by the customer.\n",
    "\n",
    "Use tables `customers`, `invoice` and `invoice_items`."
   ]
  },
  {
   "cell_type": "markdown",
   "metadata": {},
   "source": [
    "### Solution"
   ]
  },
  {
   "cell_type": "markdown",
   "metadata": {},
   "source": [
    "Let's first take a solution of the first exercise - the table contains all customers and invoices corresponding to them.  \n",
    "We want to extend this table with columns containing the totals."
   ]
  },
  {
   "cell_type": "code",
   "execution_count": null,
   "metadata": {},
   "outputs": [],
   "source": [
    "%%sql\n",
    "SELECT CustomerId, InvoiceId FROM customers\n",
    "  LEFT JOIN invoices USING (CustomerId)\n",
    "  LIMIT 5"
   ]
  },
  {
   "cell_type": "markdown",
   "metadata": {},
   "source": [
    "Let's generate totals per invoice based on `invoice_items` .  \n",
    "This table will have a single row for each invoice:"
   ]
  },
  {
   "cell_type": "code",
   "execution_count": null,
   "metadata": {},
   "outputs": [],
   "source": [
    "%%sql\n",
    "SELECT \n",
    "    InvoiceId, \n",
    "    SUM(Quantity) AS InvoiceTracksNum, \n",
    "    SUM(UnitPrice) AS InvoiceTotalPrice \n",
    "  FROM invoice_items\n",
    "  GROUP BY InvoiceId\n",
    "  LIMIT 5"
   ]
  },
  {
   "cell_type": "markdown",
   "metadata": {},
   "source": [
    "Now, let's apply `LEFT JOIN` to the above two tables (adjusting properly the columns to be selected). Moreover, let's store the result in a temporary table `invoice_summary`:"
   ]
  },
  {
   "cell_type": "code",
   "execution_count": null,
   "metadata": {},
   "outputs": [],
   "source": [
    "%%sql\n",
    "DROP TABLE IF EXISTS invoice_summary;\n",
    "CREATE TEMP TABLE invoice_summary AS\n",
    "    SELECT CustomerId, InvoiceId, InvoiceTracksNum, InvoiceTotalPrice FROM customers\n",
    "      LEFT JOIN invoices USING (CustomerId)\n",
    "      LEFT JOIN (\n",
    "        SELECT \n",
    "            InvoiceId, \n",
    "            SUM(Quantity) AS InvoiceTracksNum, \n",
    "            SUM(UnitPrice) AS InvoiceTotalPrice \n",
    "          FROM invoice_items\n",
    "          GROUP BY InvoiceId\n",
    "      ) USING (InvoiceId);\n",
    "\n",
    "SELECT * FROM invoice_summary LIMIT 5"
   ]
  },
  {
   "cell_type": "markdown",
   "metadata": {},
   "source": [
    "Finally, let's aggregate per customer the data and store the result in the final temporary table:"
   ]
  },
  {
   "cell_type": "code",
   "execution_count": null,
   "metadata": {},
   "outputs": [],
   "source": [
    "%%sql\n",
    "DROP TABLE IF EXISTS customer_summary;\n",
    "CREATE TEMP TABLE customer_summary AS\n",
    "    SELECT \n",
    "        CustomerId,\n",
    "        SUM(InvoiceTotalPrice) AS TotalPrice,\n",
    "        SUM(InvoiceTracksNum) AS TotalTracksNum\n",
    "      FROM invoice_summary\n",
    "      GROUP BY CustomerId;\n",
    "\n",
    "SELECT * FROM customer_summary LIMIT 5"
   ]
  }
 ],
 "metadata": {
  "kernelspec": {
   "display_name": "EfDS2",
   "language": "python",
   "name": "python3"
  },
  "language_info": {
   "codemirror_mode": {
    "name": "ipython",
    "version": 3
   },
   "file_extension": ".py",
   "mimetype": "text/x-python",
   "name": "python",
   "nbconvert_exporter": "python",
   "pygments_lexer": "ipython3",
   "version": "3.12.1"
  }
 },
 "nbformat": 4,
 "nbformat_minor": 5
}
