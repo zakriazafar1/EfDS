{
 "cells": [
  {
   "cell_type": "markdown",
   "id": "418dbc66",
   "metadata": {},
   "source": [
    "# SQL querying and selecting data (exercises)"
   ]
  },
  {
   "cell_type": "markdown",
   "id": "e710fd5e",
   "metadata": {},
   "source": [
    "## Preparation"
   ]
  },
  {
   "cell_type": "markdown",
   "id": "fc48115f",
   "metadata": {},
   "source": [
    "For this section you need `chinook.db` database file and working `%sql` magic.  \n",
    "If you don't have it, please go back to the [previous section](connect_to_database.ipynb) and follow the instructions.  \n",
    "The following code should not produce any errors:"
   ]
  },
  {
   "cell_type": "code",
   "execution_count": null,
   "id": "43aaa7d6",
   "metadata": {},
   "outputs": [],
   "source": [
    "%load_ext sql\n",
    "%sql sqlite:///chinook.db"
   ]
  },
  {
   "cell_type": "markdown",
   "id": "173858f6",
   "metadata": {},
   "source": [
    "## Exercise: biggest tracks"
   ]
  },
  {
   "cell_type": "markdown",
   "id": "dd81da15",
   "metadata": {},
   "source": [
    "### Question"
   ]
  },
  {
   "cell_type": "markdown",
   "id": "2782b529",
   "metadata": {},
   "source": [
    "Print (select) the top 10 biggest `tracks` according to size in `Bytes` column."
   ]
  },
  {
   "cell_type": "markdown",
   "id": "e6672b8d",
   "metadata": {},
   "source": [
    "### Solution"
   ]
  },
  {
   "cell_type": "code",
   "execution_count": null,
   "id": "9aa86f7e",
   "metadata": {},
   "outputs": [],
   "source": [
    "%%sql\n",
    "SELECT TrackId, Name, Bytes\n",
    "  FROM tracks\n",
    "  ORDER BY bytes DESC\n",
    "  LIMIT 10"
   ]
  },
  {
   "cell_type": "markdown",
   "id": "b53b734f",
   "metadata": {},
   "source": [
    "## Exercise: simple filtering"
   ]
  },
  {
   "cell_type": "markdown",
   "id": "0dae08c4",
   "metadata": {},
   "source": [
    "### Question"
   ]
  },
  {
   "cell_type": "markdown",
   "id": "b5de19c1",
   "metadata": {},
   "source": [
    "Write statements to get `tracks` with: the `AlbumId` equal to `1` and the `Bytes` length greater than 200,000 milliseconds."
   ]
  },
  {
   "cell_type": "markdown",
   "id": "91fc95ae",
   "metadata": {},
   "source": [
    "### Solution"
   ]
  },
  {
   "cell_type": "code",
   "execution_count": null,
   "id": "69b1ed5d",
   "metadata": {},
   "outputs": [],
   "source": [
    "%%sql\n",
    "SELECT Name, Milliseconds, Bytes, AlbumId\n",
    "  FROM tracks\n",
    "  WHERE AlbumId = 1 AND Milliseconds > 250000"
   ]
  },
  {
   "cell_type": "markdown",
   "id": "c4377cc4",
   "metadata": {},
   "source": [
    "## Exercise: filter with `IN`"
   ]
  },
  {
   "cell_type": "markdown",
   "id": "71575da0",
   "metadata": {},
   "source": [
    "### Question"
   ]
  },
  {
   "cell_type": "markdown",
   "id": "14475996",
   "metadata": {},
   "source": [
    "Return `customers` from `State` of `FL` (Florida), `WA` (Washington), `CA` (California).  \n",
    "Use `IN`, not `AND`."
   ]
  },
  {
   "cell_type": "markdown",
   "id": "6474638b",
   "metadata": {},
   "source": [
    "### Solution"
   ]
  },
  {
   "cell_type": "code",
   "execution_count": null,
   "id": "49330d5e",
   "metadata": {},
   "outputs": [],
   "source": [
    "%%sql\n",
    "SELECT *\n",
    "  FROM customers\n",
    "  WHERE State IN ('FL', 'WA', 'CA')"
   ]
  },
  {
   "cell_type": "markdown",
   "id": "900d17ec",
   "metadata": {},
   "source": [
    "## Exercise: filter for numbers in range"
   ]
  },
  {
   "cell_type": "markdown",
   "id": "66b1645f",
   "metadata": {},
   "source": [
    "### Question"
   ]
  },
  {
   "cell_type": "markdown",
   "id": "4fc328df",
   "metadata": {},
   "source": [
    "Find `invoices` whose `Total` is between 14.96 and 18.86. Use `BETWEEN`.  \n",
    "Sort the output with increasing `Total`. Show only these columns: `InvoiceId`, `BillingAddress`, `Total`."
   ]
  },
  {
   "cell_type": "markdown",
   "id": "d310f907",
   "metadata": {},
   "source": [
    "### Solution"
   ]
  },
  {
   "cell_type": "code",
   "execution_count": null,
   "id": "b85bd5e9",
   "metadata": {},
   "outputs": [],
   "source": [
    "%%sql\n",
    "SELECT InvoiceId, BillingAddress, Total\n",
    "  FROM invoices\n",
    "  WHERE Total BETWEEN 14.91 AND 18.86    \n",
    "  ORDER BY Total"
   ]
  },
  {
   "cell_type": "markdown",
   "id": "876a5f87",
   "metadata": {},
   "source": [
    "## Exercise: filter partially matching words"
   ]
  },
  {
   "cell_type": "markdown",
   "id": "e835aa65",
   "metadata": {},
   "source": [
    "### Question"
   ]
  },
  {
   "cell_type": "markdown",
   "id": "dc34f541",
   "metadata": {},
   "source": [
    "Find the `tracks` whose `Name`s contain a substring: `Br` (two letters), one letter, `wn` (two letters)."
   ]
  },
  {
   "cell_type": "markdown",
   "id": "0da57059",
   "metadata": {},
   "source": [
    "### Solution"
   ]
  },
  {
   "cell_type": "code",
   "execution_count": null,
   "id": "4ff50eb5",
   "metadata": {},
   "outputs": [],
   "source": [
    "%%sql\n",
    "SELECT TrackId, Name\n",
    "  FROM tracks\n",
    "  WHERE Name LIKE '%Br_wn%'"
   ]
  },
  {
   "cell_type": "markdown",
   "id": "1dfd899f",
   "metadata": {},
   "source": [
    "## Exercise: filtering missing values"
   ]
  },
  {
   "cell_type": "markdown",
   "id": "542eb4f8",
   "metadata": {},
   "source": [
    "### Question"
   ]
  },
  {
   "cell_type": "markdown",
   "id": "0ae6824d",
   "metadata": {},
   "source": [
    "Find the `customers` who do not have phone numbers. In the result show only the name and the (missing) phone number."
   ]
  },
  {
   "cell_type": "markdown",
   "id": "5813035c",
   "metadata": {},
   "source": [
    "### Solution"
   ]
  },
  {
   "cell_type": "code",
   "execution_count": null,
   "id": "8859227a",
   "metadata": {},
   "outputs": [],
   "source": [
    "%%sql\n",
    "SELECT FirstName, LastName, Phone\n",
    "  FROM customers\n",
    "  WHERE Phone IS NULL"
   ]
  },
  {
   "cell_type": "markdown",
   "id": "d9e0d8d7",
   "metadata": {},
   "source": [
    "## Exercise: from the database to a Python list"
   ]
  },
  {
   "cell_type": "markdown",
   "id": "996c00ab",
   "metadata": {},
   "source": [
    "### Question"
   ]
  },
  {
   "cell_type": "markdown",
   "id": "245f69c0",
   "metadata": {},
   "source": [
    "Create a Python variable `bs` to be a list containing all `tracks` sizes as provided in the `Bytes` column.  \n",
    "Print the `type` of the `bs` variable. Print the first 10 elements of `bs`."
   ]
  },
  {
   "cell_type": "markdown",
   "id": "eb7b2f64",
   "metadata": {},
   "source": [
    "### Solution"
   ]
  },
  {
   "cell_type": "code",
   "execution_count": null,
   "id": "018bf710",
   "metadata": {},
   "outputs": [],
   "source": [
    "result = %sql SELECT Bytes FROM tracks\n",
    "bs = [row[0] for row in result]\n",
    "print(type(bs))\n",
    "print(bs[1:10])"
   ]
  },
  {
   "cell_type": "markdown",
   "id": "aba50815",
   "metadata": {},
   "source": [
    "## Exercise: from the database to a Pandas data frame"
   ]
  },
  {
   "cell_type": "markdown",
   "id": "f13aa134",
   "metadata": {},
   "source": [
    "### Question"
   ]
  },
  {
   "cell_type": "markdown",
   "id": "beded0f4",
   "metadata": {},
   "source": [
    "Create a Python variable `df` to be a Pandas `DataFrame` with two columns corresponding to `Milliseconds` and `Bytes` columns of the `tracks` table. Print `df`.  \n",
    "You will likely need to:\n",
    "- Import `pandas` package.\n",
    "- Use `read_sql` function from `pandas`.\n",
    "- Create a separate connection `engine` with `creeate_engine`."
   ]
  },
  {
   "cell_type": "markdown",
   "id": "1a2ed1ba",
   "metadata": {},
   "source": [
    "### Solution"
   ]
  },
  {
   "cell_type": "code",
   "execution_count": null,
   "id": "2119471d",
   "metadata": {},
   "outputs": [],
   "source": [
    "import pandas as pd\n",
    "import sqlalchemy as sa\n",
    "\n",
    "engine = sa.create_engine(\"sqlite:///chinook.db\")\n",
    "sql = sa.text(\"SELECT Milliseconds, Bytes FROM tracks\")\n",
    "df = pd.read_sql(sql, engine)\n",
    "df"
   ]
  }
 ],
 "metadata": {
  "kernelspec": {
   "display_name": "EfDS",
   "language": "python",
   "name": "python3"
  },
  "language_info": {
   "codemirror_mode": {
    "name": "ipython",
    "version": 3
   },
   "file_extension": ".py",
   "mimetype": "text/x-python",
   "name": "python",
   "nbconvert_exporter": "python",
   "pygments_lexer": "ipython3",
   "version": "3.12.1"
  }
 },
 "nbformat": 4,
 "nbformat_minor": 5
}
