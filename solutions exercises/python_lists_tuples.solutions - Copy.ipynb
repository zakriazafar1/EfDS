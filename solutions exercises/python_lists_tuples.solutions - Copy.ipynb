{
 "cells": [
  {
   "cell_type": "markdown",
   "id": "051067cd",
   "metadata": {},
   "source": [
    "# Python lists and tuples"
   ]
  },
  {
   "attachments": {},
   "cell_type": "markdown",
   "id": "9910ee8f",
   "metadata": {},
   "source": [
    "## Lists: simple, nested, empty"
   ]
  },
  {
   "attachments": {},
   "cell_type": "markdown",
   "id": "973f4dec",
   "metadata": {},
   "source": [
    "A **list** is a collection of any number (0, 1, 2, ...) of elements (possibly of different types).  \n",
    "In a list, each element has its position. The index numbers the positions. Note, that the first position has index zero.  \n",
    "**Lists are mutable.** After a list is created, it can be changed - elements can be added, removed or modified.\n",
    "\n",
    "Let's start with a list of elements of the same type:"
   ]
  },
  {
   "cell_type": "code",
   "execution_count": null,
   "id": "d68287f3",
   "metadata": {},
   "outputs": [],
   "source": [
    "dailyKCal = [ 2330, 1990, 2150, 2290, 1920, 2370, 2050 ]\n",
    "dailyKCal"
   ]
  },
  {
   "cell_type": "code",
   "execution_count": null,
   "id": "b8d697a1",
   "metadata": {},
   "outputs": [],
   "source": [
    "days = [ \"Mon\", \"Tue\", \"Wed\", \"Thu\", \"Fri\", \"Sat\", \"Sun\" ]\n",
    "days"
   ]
  },
  {
   "cell_type": "code",
   "execution_count": null,
   "id": "1383178f",
   "metadata": {},
   "outputs": [],
   "source": [
    "goodMoods = [ True, True, False, True, True, False, True ]\n",
    "goodMoods"
   ]
  },
  {
   "attachments": {},
   "cell_type": "markdown",
   "id": "9cc99632",
   "metadata": {},
   "source": [
    "The `type(...)` function can be used to check whether an object is of type `list`:"
   ]
  },
  {
   "cell_type": "code",
   "execution_count": null,
   "id": "1d379f90",
   "metadata": {},
   "outputs": [],
   "source": [
    "type( goodMoods )"
   ]
  },
  {
   "cell_type": "code",
   "execution_count": null,
   "id": "5070f455",
   "metadata": {},
   "outputs": [],
   "source": [
    "type( [ 2330, 1990, 2150 ] )"
   ]
  },
  {
   "cell_type": "markdown",
   "id": "8dc56a32",
   "metadata": {},
   "source": [
    "The number of elements in a list can be obtained with the `len(...)` function:"
   ]
  },
  {
   "cell_type": "code",
   "execution_count": null,
   "id": "230a415f",
   "metadata": {},
   "outputs": [],
   "source": [
    "len(days)"
   ]
  },
  {
   "cell_type": "markdown",
   "id": "fd8c1a11",
   "metadata": {},
   "source": [
    "A list may also contain elements of different types:"
   ]
  },
  {
   "cell_type": "code",
   "execution_count": null,
   "id": "6e7d56c7",
   "metadata": {},
   "outputs": [],
   "source": [
    "dataDay1 = [ 2330, \"Mon\", True ]"
   ]
  },
  {
   "cell_type": "markdown",
   "id": "18d024ca",
   "metadata": {},
   "source": [
    "In particular, lists can be nested. Here are two examples of lists containing other lists:"
   ]
  },
  {
   "cell_type": "code",
   "execution_count": null,
   "id": "e4e740e8",
   "metadata": {},
   "outputs": [],
   "source": [
    "dataByDays = [ [ 2330, \"Mon\", True ], [ 1990, \"Tue\", True ], [ 2150, \"Wed\", False ] ]\n",
    "print( len(dataByDays) )\n",
    "dataByDays"
   ]
  },
  {
   "cell_type": "code",
   "execution_count": null,
   "id": "4fb7e343",
   "metadata": {},
   "outputs": [],
   "source": [
    "dataByVars = [ dailyKCal, days, goodMoods ]\n",
    "print( len(dataByVars) )\n",
    "dataByVars"
   ]
  },
  {
   "attachments": {},
   "cell_type": "markdown",
   "id": "dcce802d",
   "metadata": {},
   "source": [
    "Note, a list can also be empty. A new empty list can be created as follows:"
   ]
  },
  {
   "cell_type": "code",
   "execution_count": null,
   "id": "4c67c528",
   "metadata": {},
   "outputs": [],
   "source": [
    "emptyList = []\n",
    "print( len(emptyList) )\n",
    "emptyList"
   ]
  },
  {
   "attachments": {},
   "cell_type": "markdown",
   "id": "b08dadbf",
   "metadata": {},
   "source": [
    "## Tuples"
   ]
  },
  {
   "attachments": {},
   "cell_type": "markdown",
   "id": "48e8abc6",
   "metadata": {},
   "source": [
    "A **tuple** is also a collection of any number (0, 1, 2, ...) of elements (possibly of different types).  \n",
    "In a tuple, each element has its position. The index numbers the positions. Note, that the first position has index zero.  \n",
    "**Tuples are immutable** - once a tuple is created, it is not possible to change its elements."
   ]
  },
  {
   "attachments": {},
   "cell_type": "markdown",
   "id": "d6f5f432",
   "metadata": {},
   "source": [
    "Tupes are created with a syntax similar to lists. For tuples use `(...)` instead of `[...]`:"
   ]
  },
  {
   "cell_type": "code",
   "execution_count": null,
   "id": "96a991d6",
   "metadata": {},
   "outputs": [],
   "source": [
    "dailyKCal = ( 2330, 1990, 2150, 2290, 1920, 2370, 2050 )\n",
    "dailyKCal"
   ]
  },
  {
   "cell_type": "code",
   "execution_count": null,
   "id": "91287f18",
   "metadata": {},
   "outputs": [],
   "source": [
    "type( dailyKCal )"
   ]
  },
  {
   "cell_type": "code",
   "execution_count": null,
   "id": "9d364019",
   "metadata": {},
   "outputs": [],
   "source": [
    "len( dailyKCal )"
   ]
  },
  {
   "attachments": {},
   "cell_type": "markdown",
   "id": "3f13c4a8",
   "metadata": {},
   "source": [
    "Because `(` and `)` are also used in arithmetics, a special notation (with an extra `,`) is needed to create a tuple with exactly one element:"
   ]
  },
  {
   "cell_type": "code",
   "execution_count": null,
   "id": "afdac0f1",
   "metadata": {},
   "outputs": [],
   "source": [
    "singleDayTuple = ( \"Mon\", )\n",
    "type( singleDayTuple )"
   ]
  },
  {
   "attachments": {},
   "cell_type": "markdown",
   "id": "8fc2fda6",
   "metadata": {},
   "source": [
    "Note, that omitting the extra `,` leads to an object of a different type. Compare:"
   ]
  },
  {
   "cell_type": "code",
   "execution_count": null,
   "id": "0f562c16",
   "metadata": {},
   "outputs": [],
   "source": [
    "type( ( 1 ) )      # int"
   ]
  },
  {
   "cell_type": "code",
   "execution_count": null,
   "id": "1ae52c8a",
   "metadata": {},
   "outputs": [],
   "source": [
    "type( ( 1, ) )     # tuple with one element"
   ]
  },
  {
   "attachments": {},
   "cell_type": "markdown",
   "id": "fee8708a",
   "metadata": {},
   "source": [
    "An empty tuple is `()`."
   ]
  },
  {
   "cell_type": "code",
   "execution_count": null,
   "id": "aa3ef7d8",
   "metadata": {},
   "outputs": [],
   "source": [
    "emptyTuple = ()\n",
    "print( type( emptyTuple ) )\n",
    "print( len( emptyTuple ) )\n",
    "emptyTuple"
   ]
  },
  {
   "attachments": {},
   "cell_type": "markdown",
   "id": "225e2669",
   "metadata": {},
   "source": [
    "Note the assignment of a tuple to multiple variables:"
   ]
  },
  {
   "cell_type": "code",
   "execution_count": null,
   "id": "e53d9d00",
   "metadata": {},
   "outputs": [],
   "source": [
    "x, y, z = ( \"a\", True, 0 )\n",
    "print( x )\n",
    "print( y )\n",
    "print( z )"
   ]
  },
  {
   "cell_type": "markdown",
   "id": "5136ab86",
   "metadata": {},
   "source": [
    "## Concatenation are repetition"
   ]
  },
  {
   "attachments": {},
   "cell_type": "markdown",
   "id": "3c5ef980",
   "metadata": {},
   "source": [
    "Let's assume that each list below describes some preparation steps:"
   ]
  },
  {
   "cell_type": "code",
   "execution_count": null,
   "id": "0727f4cf",
   "metadata": {},
   "outputs": [],
   "source": [
    "americano = [ \"espresso\", \"hot water\" ]\n",
    "caffe_latte = [ \"espresso\", \"steamed milk\" ]\n",
    "latte_macchiato = [ \"steamed milk\", \"espresso\" ]\n",
    "apple_pie_set = [ \"apple pie\", \"whipped cream\" ]\n"
   ]
  },
  {
   "attachments": {},
   "cell_type": "markdown",
   "id": "439c7ddf",
   "metadata": {},
   "source": [
    "Then, steps for a larger order can be combined using list concatentation (`+`) and list repetition (`*`) operators:"
   ]
  },
  {
   "cell_type": "code",
   "execution_count": null,
   "id": "ba65d470",
   "metadata": {},
   "outputs": [],
   "source": [
    "order_steps = 2 * americano + caffe_latte + 3 * apple_pie_set + latte_macchiato\n",
    "order_steps"
   ]
  },
  {
   "cell_type": "markdown",
   "id": "a140f13c",
   "metadata": {},
   "source": [
    "Concatenation of tuples and tuple repetition works.\n",
    "Concatenating a tuple with a list leads to an error."
   ]
  },
  {
   "cell_type": "code",
   "execution_count": null,
   "id": "e28e46bb",
   "metadata": {},
   "outputs": [],
   "source": [
    "# ( 1, ) + [ 2 ]     # Leads to TypeError"
   ]
  },
  {
   "attachments": {},
   "cell_type": "markdown",
   "id": "3052ca6f",
   "metadata": {},
   "source": [
    "## Access/change of a single element"
   ]
  },
  {
   "attachments": {},
   "cell_type": "markdown",
   "id": "fbe3e698",
   "metadata": {},
   "source": [
    "Let's define a list (or a tuple):"
   ]
  },
  {
   "cell_type": "code",
   "execution_count": null,
   "id": "ae899123",
   "metadata": {},
   "outputs": [],
   "source": [
    "days = [ \"Mon\", \"Tue\", \"Wed\", \"Thu\", \"Fri\", \"Sat\", \"Sun\" ]\n",
    "days"
   ]
  },
  {
   "attachments": {},
   "cell_type": "markdown",
   "id": "e0591c19",
   "metadata": {},
   "source": [
    "The first element of a list/tuple can be accessed at index zero:"
   ]
  },
  {
   "cell_type": "code",
   "execution_count": null,
   "id": "95216d1a",
   "metadata": {},
   "outputs": [],
   "source": [
    "days[0]"
   ]
  },
  {
   "attachments": {},
   "cell_type": "markdown",
   "id": "266102b4",
   "metadata": {},
   "source": [
    "To calculate the total number of elements (length) in a list/tuple use `len(...)`:"
   ]
  },
  {
   "cell_type": "code",
   "execution_count": null,
   "id": "e5bccfe3",
   "metadata": {},
   "outputs": [],
   "source": [
    "len( days )"
   ]
  },
  {
   "attachments": {},
   "cell_type": "markdown",
   "id": "1866e36c",
   "metadata": {},
   "source": [
    "Since the numbering of elements starts from zero, the last element of a list/tuple can be accessed as follows:"
   ]
  },
  {
   "cell_type": "code",
   "execution_count": null,
   "id": "440885a7",
   "metadata": {},
   "outputs": [],
   "source": [
    "days[ len(days)-1 ]"
   ]
  },
  {
   "attachments": {},
   "cell_type": "markdown",
   "id": "c0abd981",
   "metadata": {},
   "source": [
    "Negative index allows accessing elements relative to the end. Another way to access the last element is:"
   ]
  },
  {
   "cell_type": "code",
   "execution_count": null,
   "id": "edc02072",
   "metadata": {},
   "outputs": [],
   "source": [
    "days[ -1 ]"
   ]
  },
  {
   "attachments": {},
   "cell_type": "markdown",
   "id": "1af3f08b",
   "metadata": {},
   "source": [
    "Usage of an index beyond the range of elements present in a list/tuple raises an error exception:"
   ]
  },
  {
   "cell_type": "code",
   "execution_count": null,
   "id": "edfea46d",
   "metadata": {},
   "outputs": [],
   "source": [
    "# days[7]                # IndexError: tuple index out of range \n",
    "                         # valid indexes are 0,1,2,3,4,5,6"
   ]
  },
  {
   "attachments": {},
   "cell_type": "markdown",
   "id": "b963aa9a",
   "metadata": {},
   "source": [
    "In lists the elements can be modified:"
   ]
  },
  {
   "cell_type": "code",
   "execution_count": null,
   "id": "1d55b364",
   "metadata": {},
   "outputs": [],
   "source": [
    "days = [ \"Mon\", \"Tue\", \"Wed\", \"Thu\", \"Fri\", \"Sat\", \"Sun\" ]\n",
    "days[0] = \"MONDAY\"       # works fine, days is a list\n",
    "days"
   ]
  },
  {
   "attachments": {},
   "cell_type": "markdown",
   "id": "423fbc67",
   "metadata": {},
   "source": [
    "But the tuples are immutable - the following code raises an error exception:"
   ]
  },
  {
   "cell_type": "code",
   "execution_count": null,
   "id": "a407166e",
   "metadata": {},
   "outputs": [],
   "source": [
    "days = ( \"Mon\", \"Tue\", \"Wed\", \"Thu\", \"Fri\", \"Sat\", \"Sun\" )\n",
    "# days[0] = \"MONDAY\"     # TypeError: 'tuple' object does not support item assignment"
   ]
  },
  {
   "attachments": {},
   "cell_type": "markdown",
   "id": "42062f7c",
   "metadata": {},
   "source": [
    "## Access/change of multiple elements"
   ]
  },
  {
   "attachments": {},
   "cell_type": "markdown",
   "id": "2b616c96",
   "metadata": {},
   "source": [
    "The slice operator `[n:m]` applied to a list/tuple gets its elements from the positions `n`...`m-1` and creates a new list/tuple containing only them: "
   ]
  },
  {
   "cell_type": "code",
   "execution_count": null,
   "id": "b0f4905e",
   "metadata": {},
   "outputs": [],
   "source": [
    "# ----- the following few code cells work both for lists and tuples -----\n",
    "# days = ( \"Mon\", \"Tue\", \"Wed\", \"Thu\", \"Fri\", \"Sat\", \"Sun\" )\n",
    "days = [ \"Mon\", \"Tue\", \"Wed\", \"Thu\", \"Fri\", \"Sat\", \"Sun\" ]\n",
    "days[2:5]                # note: Elements with indexes 2,3 and 4 (but not 5).\n",
    "                         #       \"Mon\" has index 0."
   ]
  },
  {
   "attachments": {},
   "cell_type": "markdown",
   "id": "bd818706",
   "metadata": {},
   "source": [
    "`[:m]` denotes indexes from the beginning (`0`) till `m-1`:"
   ]
  },
  {
   "cell_type": "code",
   "execution_count": null,
   "id": "b9986163",
   "metadata": {},
   "outputs": [],
   "source": [
    "workingDays = days[:5]\n",
    "workingDays"
   ]
  },
  {
   "attachments": {},
   "cell_type": "markdown",
   "id": "33da4aff",
   "metadata": {},
   "source": [
    "Similarly, `[n:]` denotes indexes from `n` till the last:"
   ]
  },
  {
   "cell_type": "code",
   "execution_count": null,
   "id": "a2e02578",
   "metadata": {},
   "outputs": [],
   "source": [
    "weekendDays = days[5:]\n",
    "weekendDays"
   ]
  },
  {
   "attachments": {},
   "cell_type": "markdown",
   "id": "249651cd",
   "metadata": {},
   "source": [
    "Consequently, a slice `[:]` makes a separate copy of the whole list:"
   ]
  },
  {
   "cell_type": "code",
   "execution_count": null,
   "id": "2baa4a36",
   "metadata": {},
   "outputs": [],
   "source": [
    "copiedDays = days[:]"
   ]
  },
  {
   "attachments": {},
   "cell_type": "markdown",
   "id": "1d1be630",
   "metadata": {},
   "source": [
    "Slicing `[n:m:step]` can take an extra `step` argument: "
   ]
  },
  {
   "cell_type": "code",
   "execution_count": null,
   "id": "4e58b025",
   "metadata": {},
   "outputs": [],
   "source": [
    "days[1:6:2]"
   ]
  },
  {
   "attachments": {},
   "cell_type": "markdown",
   "id": "d5b79ccb",
   "metadata": {},
   "source": [
    "The `step` argument can be negative:"
   ]
  },
  {
   "cell_type": "code",
   "execution_count": null,
   "id": "d6883de8",
   "metadata": {},
   "outputs": [],
   "source": [
    "days[6:1:-2]"
   ]
  },
  {
   "attachments": {},
   "cell_type": "markdown",
   "id": "9eab2677",
   "metadata": {},
   "source": [
    "In lists, several elements can be modified as follows:"
   ]
  },
  {
   "cell_type": "code",
   "execution_count": null,
   "id": "132f82f2",
   "metadata": {},
   "outputs": [],
   "source": [
    "# ----- modification here, so it can't be a tuple -----\n",
    "days = [ \"Mon\", \"Tue\", \"Wed\", \"Thu\", \"Fri\", \"Sat\", \"Sun\" ]\n",
    "days[2:3] = [ \"TUESDAY\", \"WEDNESDAY\" ]\n",
    "days\n"
   ]
  },
  {
   "attachments": {},
   "cell_type": "markdown",
   "id": "a64858d3",
   "metadata": {},
   "source": [
    "Note, that elements can be not only modified but also added/removed (i.e. the total length of the list changes):"
   ]
  },
  {
   "cell_type": "code",
   "execution_count": null,
   "id": "71b5c1c2",
   "metadata": {},
   "outputs": [],
   "source": [
    "# ----- modification here, so it can't be a tuple -----\n",
    "days = [ \"Mon\", \"Tue\", \"Wed\", \"Thu\", \"Fri\", \"Sat\", \"Sun\" ]\n",
    "days[2:3] = [ \"TUESDAY\", \"moon-eclipse-night!!!\", \"WEDNESDAY\" ]\n",
    "days"
   ]
  },
  {
   "cell_type": "markdown",
   "id": "2f4513b7",
   "metadata": {},
   "source": [
    "## Shallow and deeper copying"
   ]
  },
  {
   "attachments": {},
   "cell_type": "markdown",
   "id": "57bca0d6",
   "metadata": {},
   "source": [
    "Study the following example:"
   ]
  },
  {
   "cell_type": "code",
   "execution_count": null,
   "id": "137f4992",
   "metadata": {},
   "outputs": [],
   "source": [
    "v = [ 1, 2, 3 ]   # []      allocates a new list\n",
    "                  # 1,2,3   fills the list with 1, 2, 3\n",
    "                  # v =     makes v point to the list\n",
    "w = v             # w = v   makes w point to the same thing as v\n",
    "v[0] = 100        #         changes the element of the list\n",
    "v"
   ]
  },
  {
   "attachments": {},
   "cell_type": "markdown",
   "id": "924e1f22",
   "metadata": {},
   "source": [
    "Because both `v` and `w` point to the same list, `w` has been also changed:"
   ]
  },
  {
   "cell_type": "code",
   "execution_count": null,
   "id": "e7f8262a",
   "metadata": {},
   "outputs": [],
   "source": [
    "w"
   ]
  },
  {
   "attachments": {},
   "cell_type": "markdown",
   "id": "c77ade04",
   "metadata": {},
   "source": [
    "When the above behaviour is not desired, a deeper `copy()` needs to be enforced:"
   ]
  },
  {
   "cell_type": "code",
   "execution_count": null,
   "id": "5bdf081a",
   "metadata": {},
   "outputs": [],
   "source": [
    "v = [ 1, 2, 3 ]\n",
    "w = v.copy()      # a new list is allocated, also possible: w = v[:]\n",
    "                  # the elements of v are appended to the new list\n",
    "v[0] = 100\n",
    "v"
   ]
  },
  {
   "attachments": {},
   "cell_type": "markdown",
   "id": "636e27fd",
   "metadata": {},
   "source": [
    "Now, the change of `v` has not affected `w`:"
   ]
  },
  {
   "cell_type": "code",
   "execution_count": null,
   "metadata": {},
   "outputs": [],
   "source": [
    "w"
   ]
  },
  {
   "attachments": {},
   "cell_type": "markdown",
   "id": "a996dfdd",
   "metadata": {},
   "source": [
    "## List comprehensions"
   ]
  },
  {
   "attachments": {},
   "cell_type": "markdown",
   "id": "fb445d20",
   "metadata": {},
   "source": [
    "Let's introduce a very powerful mechanisms allowing to perform operations on all elements of lists, tuples (or other iterable objects).  "
   ]
  },
  {
   "attachments": {},
   "cell_type": "markdown",
   "id": "2f881c9e",
   "metadata": {},
   "source": [
    "The following **list comprehension** code `[x**2 for x in someNums]`:\n",
    "- outputs a list: it is a list comprehension because of surrounding brackets `[` ... `]`\n",
    "- iterates through `someNums` (an object which can be iterated over)\n",
    "- in each iteration `x` is set to a subsequent element value (`for x in`)\n",
    "- the result of expression `x**2` is stored to the output list"
   ]
  },
  {
   "cell_type": "code",
   "execution_count": null,
   "id": "d85d3152",
   "metadata": {},
   "outputs": [],
   "source": [
    "someNums = [ 1, -2, 3, -4, 5 ]        # an iterable object\n",
    "[x**2 for x in someNums]              # a list comprehension"
   ]
  },
  {
   "attachments": {},
   "cell_type": "markdown",
   "id": "48cfa90e",
   "metadata": {},
   "source": [
    "Here, each iteration produces a tuple with two elements `(x, x**2)`. So the result is a list of tuples:"
   ]
  },
  {
   "cell_type": "code",
   "execution_count": null,
   "id": "a14b4ed1",
   "metadata": {},
   "outputs": [],
   "source": [
    "someNums = [ 1, -2, 3, -4, 5 ]        # an iterable object\n",
    "[(x,x**2) for x in someNums]          # each element is a tuple"
   ]
  },
  {
   "attachments": {},
   "cell_type": "markdown",
   "id": "7cba3337",
   "metadata": {},
   "source": [
    "Note, that the list comprehension notation also allows for filtering (here: `x<0`):"
   ]
  },
  {
   "cell_type": "code",
   "execution_count": null,
   "id": "8091bafc",
   "metadata": {},
   "outputs": [],
   "source": [
    "someNums = [ 1, -2, 3, -4, 5 ]        # an iterable object\n",
    "[x for x in someNums if x<0]          # only negative elements are processed"
   ]
  },
  {
   "cell_type": "markdown",
   "id": "3d3b3c9b",
   "metadata": {},
   "source": [
    "Finally, observe, that the variable `x` has the scope local to the list comprehension.  \n",
    "That local `x` never exists outside of the comprehension, and it does not affect the value of another variable `x` defined outside of the comprehension:"
   ]
  },
  {
   "cell_type": "code",
   "execution_count": null,
   "id": "ae7d87a5",
   "metadata": {},
   "outputs": [],
   "source": [
    "x = \"I am the outside x\"              # a global variable\n",
    "someNums = [ 1, -2, 3, -4, 5 ]        # an iterable object\n",
    "[x for x in someNums if x<0]          # local x is used, not the global one\n",
    "x                                     # the global x is not changed"
   ]
  },
  {
   "attachments": {},
   "cell_type": "markdown",
   "id": "b2398d07",
   "metadata": {},
   "source": [
    "## Self-study tasks"
   ]
  },
  {
   "attachments": {},
   "cell_type": "markdown",
   "id": "f8cd9adc",
   "metadata": {},
   "source": [
    "### Understand errors"
   ]
  },
  {
   "attachments": {},
   "cell_type": "markdown",
   "id": "d39bf2cd",
   "metadata": {},
   "source": [
    "Try the following cells to get familiar with error messages.  \n",
    "Explain the errors."
   ]
  },
  {
   "cell_type": "code",
   "execution_count": null,
   "id": "f9326d97",
   "metadata": {},
   "outputs": [],
   "source": [
    "nums = ( 1, 2, 3 )\n",
    "#nums[1] = 22              # what's wrong here?"
   ]
  },
  {
   "cell_type": "code",
   "execution_count": null,
   "id": "0f90c020",
   "metadata": {},
   "outputs": [],
   "source": [
    "# SOLUTION\n",
    "# a tuple can't be modified"
   ]
  },
  {
   "cell_type": "code",
   "execution_count": null,
   "id": "4bb0d1ae",
   "metadata": {},
   "outputs": [],
   "source": [
    "nums = [ 1, 2, 3 ]\n",
    "#nums[3] = 4               # what's wrong here?"
   ]
  },
  {
   "cell_type": "code",
   "execution_count": null,
   "id": "42764110",
   "metadata": {},
   "outputs": [],
   "source": [
    "# SOLUTION\n",
    "# There is no element at index 3. The valid indexes are 0,1,2."
   ]
  },
  {
   "cell_type": "code",
   "execution_count": null,
   "id": "c916dcfd",
   "metadata": {},
   "outputs": [],
   "source": [
    "txt = \"Statistics\"\n",
    "#txt[0] = \"s\"              # what's wrong here?"
   ]
  },
  {
   "cell_type": "code",
   "execution_count": null,
   "id": "4cc18a1a",
   "metadata": {},
   "outputs": [],
   "source": [
    "# SOLUTION\n",
    "# A str object (text) is immutable."
   ]
  },
  {
   "attachments": {},
   "cell_type": "markdown",
   "id": "3894eb4d",
   "metadata": {},
   "source": [
    "### Understand difference"
   ]
  },
  {
   "attachments": {},
   "cell_type": "markdown",
   "id": "8c4f9310",
   "metadata": {},
   "source": [
    "Why `a` differs from `b`?"
   ]
  },
  {
   "cell_type": "code",
   "execution_count": null,
   "id": "836347fc",
   "metadata": {},
   "outputs": [],
   "source": [
    "v = [ 1, 2, 3 ]\n",
    "a = v\n",
    "v = [ 4, 5, 6 ]\n",
    "a"
   ]
  },
  {
   "cell_type": "code",
   "execution_count": null,
   "id": "9b32d520",
   "metadata": {},
   "outputs": [],
   "source": [
    "v = [ 1, 2, 3 ]\n",
    "b = v\n",
    "v[:] = [ 4, 5, 6 ]\n",
    "b"
   ]
  },
  {
   "cell_type": "code",
   "execution_count": null,
   "id": "39771043",
   "metadata": {},
   "outputs": [],
   "source": [
    "# SOLUTION\n",
    "# A list consist of two parts, the list object and the list data.\n",
    "#\n",
    "# v = [ 1, 2, 3 ]         # this creates data 1,2,3; a list object pointing to these data; v points to the list object\n",
    "# a = v                   # a and v point to the same object\n",
    "# v = [ 4, 5, 6 ]         # this creates data 4,5,6; another list object pointing to 4,5,6; v points to the new list\n",
    "# a                       # a is no longer related to v\n",
    "#\n",
    "# v = [ 1, 2, 3 ]         # this creates data 1,2,3; a list object pointing to these data; v points to the list object\n",
    "# b = v                   # b and v point to the same object\n",
    "# v[:] = [ 4, 5, 6 ]      # inside of the list pointed by v, the data is changed to new data [4,5,6]\n",
    "# b                       # b and v still point to the same list object"
   ]
  },
  {
   "attachments": {},
   "cell_type": "markdown",
   "id": "3883d92b",
   "metadata": {},
   "source": [
    "### Changing (or not) lists"
   ]
  },
  {
   "attachments": {},
   "cell_type": "markdown",
   "id": "cf8d33eb",
   "metadata": {},
   "source": [
    "Let's assume that a vector `v` with several random numbers is given (an example below).  \n",
    "Check Python `list` manuals to find programmatic ways in place marked with `...` to produce the various goals requested below."
   ]
  },
  {
   "cell_type": "code",
   "execution_count": null,
   "id": "30409eb0",
   "metadata": {},
   "outputs": [],
   "source": [
    "v = [ 5, 2, 1, 4, 3 ]\n",
    "# ...\n",
    "# Here v should be sorted in ascending order [ 1, 2, 3, 4, 5 ]"
   ]
  },
  {
   "cell_type": "code",
   "execution_count": null,
   "id": "cd3c8e9c",
   "metadata": {},
   "outputs": [],
   "source": [
    "# SOLUTION\n",
    "v = [ 5, 2, 1, 4, 3 ]\n",
    "v.sort()\n",
    "v"
   ]
  },
  {
   "cell_type": "code",
   "execution_count": null,
   "id": "30409eb0",
   "metadata": {},
   "outputs": [],
   "source": [
    "v = [ 5, 2, 1, 4, 3 ]\n",
    "# ...\n",
    "# Here v should be sorted in descending order [ 5, 4, 3, 2, 1 ]"
   ]
  },
  {
   "cell_type": "code",
   "execution_count": null,
   "id": "6a439e3b",
   "metadata": {},
   "outputs": [],
   "source": [
    "# SOLUTION\n",
    "v = [ 5, 2, 1, 4, 3 ]\n",
    "v.sort(reverse=True)\n",
    "v"
   ]
  },
  {
   "cell_type": "code",
   "execution_count": null,
   "id": "30409eb0",
   "metadata": {},
   "outputs": [],
   "source": [
    "v = [ 5, 2, 1, 4, 3 ]\n",
    "w = v\n",
    "# ...\n",
    "# Here v should be sorted [ 1, 2, 3, 4, 5 ] but w should still be [ 5, 2, 1, 4, 3 ]"
   ]
  },
  {
   "cell_type": "code",
   "execution_count": null,
   "id": "69ab7abe",
   "metadata": {},
   "outputs": [],
   "source": [
    "# SOLUTION\n",
    "v = [ 5, 2, 1, 4, 3 ]\n",
    "w = v\n",
    "v = v.copy()\n",
    "v.sort()\n",
    "v"
   ]
  },
  {
   "cell_type": "code",
   "execution_count": null,
   "id": "13a83c88",
   "metadata": {},
   "outputs": [],
   "source": [
    "v = [ 5, 2, 1, 4, 3 ]\n",
    "# ...\n",
    "# Here v should be reversed [ 3, 4, 1, 2, 5 ]"
   ]
  },
  {
   "cell_type": "code",
   "execution_count": null,
   "id": "71c74a7a",
   "metadata": {},
   "outputs": [],
   "source": [
    "# SOLUTION\n",
    "v = [ 5, 2, 1, 4, 3 ]\n",
    "v.reverse()\n",
    "v"
   ]
  },
  {
   "cell_type": "code",
   "execution_count": null,
   "id": "c2c5f469",
   "metadata": {},
   "outputs": [],
   "source": [
    "v = [ 5, 2, 1, 4, 3 ]\n",
    "w = v\n",
    "# ...\n",
    "# Here v should be reversed [ 3, 4, 1, 2, 5 ] but w should still be [ 5, 2, 1, 4, 3 ]"
   ]
  },
  {
   "cell_type": "code",
   "execution_count": null,
   "id": "e1bbad58",
   "metadata": {},
   "outputs": [],
   "source": [
    "# SOLUTION\n",
    "v = [ 5, 2, 1, 4, 3 ]\n",
    "w = v\n",
    "v = v.copy()\n",
    "v.reverse()\n",
    "v"
   ]
  },
  {
   "cell_type": "code",
   "execution_count": null,
   "id": "78facd3a",
   "metadata": {},
   "outputs": [],
   "source": [
    "v = [ \"eeeee\", \"bb\", \"a\", \"dddd\", \"ccc\", \"bb\" ]\n",
    "# ...\n",
    "# Here, the third element should be deleted from v: [ \"eeeee\", \"bb\", \"dddd\", \"ccc\", \"bb\" ]"
   ]
  },
  {
   "cell_type": "code",
   "execution_count": 1,
   "id": "39f97c07",
   "metadata": {},
   "outputs": [
    {
     "data": {
      "text/plain": [
       "['eeeee', 'bb', 'dddd', 'ccc', 'bb']"
      ]
     },
     "execution_count": 1,
     "metadata": {},
     "output_type": "execute_result"
    }
   ],
   "source": [
    "# SOLUTION\n",
    "v = [ \"eeeee\", \"bb\", \"a\", \"dddd\", \"ccc\", \"bb\" ]\n",
    "v.pop(2)\n",
    "v"
   ]
  },
  {
   "cell_type": "code",
   "execution_count": null,
   "id": "6b59d765",
   "metadata": {},
   "outputs": [],
   "source": [
    "v = [ \"eeeee\", \"bb\", \"a\", \"dddd\", \"ccc\", \"bb\" ]\n",
    "# ...\n",
    "# Here, the first element with value \"bb\" should be removed from v: [ \"eeeee\", \"a\", \"dddd\", \"ccc\", \"bb\" ]\n",
    "# Any ideas how to filter out all \"bb\" elements?"
   ]
  },
  {
   "cell_type": "code",
   "execution_count": null,
   "id": "dcee0e1d",
   "metadata": {},
   "outputs": [],
   "source": [
    "# SOLUTION\n",
    "v = [ \"eeeee\", \"bb\", \"a\", \"dddd\", \"ccc\", \"bb\" ]\n",
    "v.remove(\"bb\")\n",
    "v"
   ]
  },
  {
   "cell_type": "code",
   "execution_count": null,
   "id": "22d4b331",
   "metadata": {},
   "outputs": [],
   "source": [
    "v = [ \"eeeee\", \"bb\", \"a\", \"dddd\", \"ccc\", \"bb\" ]\n",
    "# ...\n",
    "# Insert element \"F\" to v at index 2"
   ]
  },
  {
   "cell_type": "code",
   "execution_count": null,
   "id": "5fb778eb",
   "metadata": {},
   "outputs": [],
   "source": [
    "# SOLUTION\n",
    "v = [ \"eeeee\", \"bb\", \"a\", \"dddd\", \"ccc\", \"bb\" ]\n",
    "v.insert( 2, 'F' )\n",
    "v"
   ]
  },
  {
   "cell_type": "code",
   "execution_count": null,
   "id": "cbafc4d2",
   "metadata": {},
   "outputs": [],
   "source": [
    "v = [ \"eeeee\", \"bb\", \"a\", \"dddd\", \"ccc\", \"bb\" ]\n",
    "w = [ \"ffffff\", \"g\", \"ffffff\" ]\n",
    "# ...\n",
    "# Insert (\"slice in\") elements of w to v at index 2 (so, that v gets length 9 and v[2:5] has elements from w)."
   ]
  },
  {
   "cell_type": "code",
   "execution_count": 2,
   "id": "afb3439a",
   "metadata": {},
   "outputs": [
    {
     "data": {
      "text/plain": [
       "['eeeee', 'bb', 'ffffff', 'g', 'ffffff', 'a', 'dddd', 'ccc', 'bb']"
      ]
     },
     "execution_count": 2,
     "metadata": {},
     "output_type": "execute_result"
    }
   ],
   "source": [
    "# SOLUTION\n",
    "v = [ \"eeeee\", \"bb\", \"a\", \"dddd\", \"ccc\", \"bb\" ]\n",
    "w = [ \"ffffff\", \"g\", \"ffffff\" ]\n",
    "v[2:2] = w\n",
    "v"
   ]
  },
  {
   "cell_type": "code",
   "execution_count": 4,
   "id": "aad3c27b",
   "metadata": {},
   "outputs": [
    {
     "data": {
      "text/plain": [
       "['eeeee', 'bb', 'a', 'dddd', 'ccc', 'bb', 'F']"
      ]
     },
     "execution_count": 4,
     "metadata": {},
     "output_type": "execute_result"
    }
   ],
   "source": [
    "v = [ \"eeeee\", \"bb\", \"a\", \"dddd\", \"ccc\", \"bb\" ]\n",
    "v.append(\"F\")\n",
    "v\n",
    "# Here, a single new element \"F\" should be *appended* to the end of the list"
   ]
  },
  {
   "cell_type": "code",
   "execution_count": null,
   "id": "debb96ba",
   "metadata": {},
   "outputs": [],
   "source": [
    "# SOLUTION\n",
    "v = [ \"eeeee\", \"bb\", \"a\", \"dddd\", \"ccc\", \"bb\" ]\n",
    "v.append( \"F\" )\n",
    "v"
   ]
  },
  {
   "cell_type": "code",
   "execution_count": null,
   "metadata": {},
   "outputs": [],
   "source": [
    "v = [ \"eeeee\", \"bb\", \"a\", \"dddd\", \"ccc\", \"bb\" ]\n",
    "w = [ \"ffffff\", \"g\", \"ffffff\" ]\n",
    "# ...\n",
    "# Extend the list by append elements of w to v at the end of v. (so, length of v should be 9!)\n",
    "# What goes wrong with `append(w)` here?"
   ]
  },
  {
   "cell_type": "code",
   "execution_count": 5,
   "id": "8be4274d",
   "metadata": {},
   "outputs": [
    {
     "data": {
      "text/plain": [
       "['eeeee', 'bb', 'a', 'dddd', 'ccc', 'bb', 'ffffff', 'g', 'ffffff']"
      ]
     },
     "execution_count": 5,
     "metadata": {},
     "output_type": "execute_result"
    }
   ],
   "source": [
    "# SOLUTION\n",
    "v = [ \"eeeee\", \"bb\", \"a\", \"dddd\", \"ccc\", \"bb\" ]\n",
    "w = [ \"ffffff\", \"g\", \"ffffff\" ]\n",
    "v.extend(w)\n",
    "v"
   ]
  },
  {
   "attachments": {},
   "cell_type": "markdown",
   "id": "cb9cafae",
   "metadata": {},
   "source": [
    "### Checking membership"
   ]
  },
  {
   "cell_type": "code",
   "execution_count": 6,
   "id": "ce01a55b",
   "metadata": {},
   "outputs": [
    {
     "data": {
      "text/plain": [
       "True"
      ]
     },
     "execution_count": 6,
     "metadata": {},
     "output_type": "execute_result"
    }
   ],
   "source": [
    "v = [ \"ababab\", \"baaab\", \"bbbaa\", \"aabba\", \"aaaab\", \"abbaa\", \"aabbb\", \"abaaa\", \"aaaaa\", \"bbbab\", \"bbbqb\", \"aaaqb\", \"bbbbq\" ]\n",
    "w = \"bbbab\"\n",
    "w in v \n",
    "# How to programmatically find whether the value of w is *in* the iterable list v?\n",
    "# The result should be True or False"
   ]
  },
  {
   "cell_type": "code",
   "execution_count": 10,
   "id": "7de33218",
   "metadata": {},
   "outputs": [
    {
     "data": {
      "text/plain": [
       "True"
      ]
     },
     "execution_count": 10,
     "metadata": {},
     "output_type": "execute_result"
    }
   ],
   "source": [
    "# SOLUTION\n",
    "v = [ \"ababab\", \"baaab\", \"bbbaa\", \"aabba\", \"aaaab\", \"abbaa\", \"aabbb\", \"abaaa\", \"aaaaa\", \"bbbab\", \"bbbqb\", \"aaaqb\", \"bbbbq\" ]\n",
    "w = \"bbbab\"\n",
    "w in v "
   ]
  },
  {
   "cell_type": "code",
   "execution_count": null,
   "id": "64a154cb",
   "metadata": {},
   "outputs": [],
   "source": [
    "v = [ \"ababab\", \"baaab\", \"bbbaa\", \"aabba\", \"aaaab\", \"abbaa\", \"aabbb\", \"abaaa\", \"aaaaa\", \"bbbab\", \"bbbqb\", \"aaaqb\", \"bbbbq\" ]\n",
    "w = \"abaab\"\n",
    "# ...\n",
    "# How to programmatically find whether the value of w is *not in* the iterable list v?\n",
    "# The result should be True or False"
   ]
  },
  {
   "cell_type": "code",
   "execution_count": 11,
   "id": "c5175801",
   "metadata": {},
   "outputs": [
    {
     "data": {
      "text/plain": [
       "True"
      ]
     },
     "execution_count": 11,
     "metadata": {},
     "output_type": "execute_result"
    }
   ],
   "source": [
    "# SOLUTION\n",
    "v = [ \"ababab\", \"baaab\", \"bbbaa\", \"aabba\", \"aaaab\", \"abbaa\", \"aabbb\", \"abaaa\", \"aaaaa\", \"bbbab\", \"bbbqb\", \"aaaqb\", \"bbbbq\" ]\n",
    "w = \"abaab\"\n",
    "w not in v"
   ]
  },
  {
   "attachments": {},
   "cell_type": "markdown",
   "id": "c08332ca",
   "metadata": {},
   "source": [
    "### Understand conversions"
   ]
  },
  {
   "cell_type": "code",
   "execution_count": 12,
   "id": "f45e204a",
   "metadata": {},
   "outputs": [
    {
     "data": {
      "text/plain": [
       "(1, 2, 3, 'x', 'y', 'z')"
      ]
     },
     "execution_count": 12,
     "metadata": {},
     "output_type": "execute_result"
    }
   ],
   "source": [
    "lst = [1,2,3,\"x\",\"y\",\"z\"]\n",
    "tuple( lst )              # the argument can be any object which can be iterated over"
   ]
  },
  {
   "cell_type": "code",
   "execution_count": null,
   "id": "1820153b",
   "metadata": {},
   "outputs": [],
   "source": [
    "# SOLUTION\n",
    "# tuple(...) creates a tuple out of provided iterable"
   ]
  },
  {
   "cell_type": "code",
   "execution_count": 13,
   "id": "205dbd0a",
   "metadata": {},
   "outputs": [
    {
     "data": {
      "text/plain": [
       "[1, 2, 3, 'x', 'y', 'z']"
      ]
     },
     "execution_count": 13,
     "metadata": {},
     "output_type": "execute_result"
    }
   ],
   "source": [
    "tpl = (1,2,3,\"x\",\"y\",\"z\")\n",
    "list( tpl )               # the argument can be any object which can be iterated over"
   ]
  },
  {
   "cell_type": "code",
   "execution_count": null,
   "id": "995c0c23",
   "metadata": {},
   "outputs": [],
   "source": [
    "# SOLUTION\n",
    "# list(...) creates a list out of provided iterable"
   ]
  },
  {
   "cell_type": "code",
   "execution_count": 14,
   "id": "27072de5",
   "metadata": {},
   "outputs": [
    {
     "data": {
      "text/plain": [
       "('S', 't', 'a', 't', 'i', 's', 't', 'i', 'c', 's')"
      ]
     },
     "execution_count": 14,
     "metadata": {},
     "output_type": "execute_result"
    }
   ],
   "source": [
    "tuple( \"Statistics\" )     # \"Statistics\" can be iterated over"
   ]
  },
  {
   "cell_type": "code",
   "execution_count": null,
   "id": "6b364281",
   "metadata": {},
   "outputs": [],
   "source": [
    "# SOLUTION\n",
    "# Here str text is iterated. Iteration of text provides single characters. As tuple."
   ]
  },
  {
   "cell_type": "code",
   "execution_count": 15,
   "id": "f25272f0",
   "metadata": {},
   "outputs": [
    {
     "data": {
      "text/plain": [
       "['D', 'a', 't', 'a', ' ', 'S', 'c', 'i', 'e', 'n', 'c', 'e']"
      ]
     },
     "execution_count": 15,
     "metadata": {},
     "output_type": "execute_result"
    }
   ],
   "source": [
    "list( 'Data Science' )"
   ]
  },
  {
   "cell_type": "code",
   "execution_count": null,
   "id": "de43d1c7",
   "metadata": {},
   "outputs": [],
   "source": [
    "# SOLUTION\n",
    "# Here str text is iterated. Iteration of text provides single characters. As list."
   ]
  },
  {
   "attachments": {},
   "cell_type": "markdown",
   "id": "752caf67",
   "metadata": {},
   "source": [
    "### Practice comprehensions and try a generator"
   ]
  },
  {
   "attachments": {},
   "cell_type": "markdown",
   "id": "77ad45d4",
   "metadata": {},
   "source": [
    "Let's write a simple comprehension first:"
   ]
  },
  {
   "cell_type": "code",
   "execution_count": 16,
   "id": "f20f528a",
   "metadata": {},
   "outputs": [],
   "source": [
    "xs = [ 0, 1, 2, 3, 4, 5 ]\n",
    "# ys = [ ... ]            # write a comprehension to transform \n",
    "                          #   elements of xs according to formula:\n",
    "                          #   y = x^2 + x + 1\n"
   ]
  },
  {
   "cell_type": "code",
   "execution_count": 17,
   "id": "93d0211c",
   "metadata": {},
   "outputs": [
    {
     "data": {
      "text/plain": [
       "[1, 3, 7, 13, 21, 31]"
      ]
     },
     "execution_count": 17,
     "metadata": {},
     "output_type": "execute_result"
    }
   ],
   "source": [
    "# SOLUTION\n",
    "xs = [ 0, 1, 2, 3, 4, 5 ]\n",
    "ys = [x**2+x+1 for x in xs]\n",
    "ys"
   ]
  },
  {
   "attachments": {},
   "cell_type": "markdown",
   "id": "9bf8562b",
   "metadata": {},
   "source": [
    "Next, read about `range(...)` and use it to rewrite the definition of `xs` in the above code.  \n",
    "Check the type of `xs`. Note, that `xs` created by `range(...)` is not a list but the comprehesion still works (once).  \n",
    "Can you explain the mechanism (keyword: iterable)?"
   ]
  },
  {
   "cell_type": "code",
   "execution_count": null,
   "id": "cee615f8",
   "metadata": {},
   "outputs": [],
   "source": [
    "# xs = range( ... )      # it should correspond to these numbers [ 0, 1, 2, 3, 4, 5 ]\n",
    "# ys = [ ... ]           # as before: y = x^2 + x + 1"
   ]
  },
  {
   "cell_type": "code",
   "execution_count": 18,
   "id": "f04f51c9",
   "metadata": {},
   "outputs": [
    {
     "data": {
      "text/plain": [
       "[1, 3, 7, 13, 21, 31]"
      ]
     },
     "execution_count": 18,
     "metadata": {},
     "output_type": "execute_result"
    }
   ],
   "source": [
    "# SOLUTION\n",
    "xs = range(0,6)\n",
    "# type(xs)               # range, it is a generator\n",
    "ys = [x**2+x+1 for x in xs]\n",
    "ys"
   ]
  },
  {
   "attachments": {},
   "cell_type": "markdown",
   "id": "ef437646",
   "metadata": {},
   "source": [
    "Now, write a comprehension to remove all elements equal to `toRemove` from `v`:"
   ]
  },
  {
   "cell_type": "code",
   "execution_count": 20,
   "id": "df9ae087",
   "metadata": {},
   "outputs": [
    {
     "ename": "SyntaxError",
     "evalue": "expected 'else' after 'if' expression (1188581263.py, line 3)",
     "output_type": "error",
     "traceback": [
      "\u001b[0;36m  Cell \u001b[0;32mIn[20], line 3\u001b[0;36m\u001b[0m\n\u001b[0;31m    w = [ e for e if v in e != toRemove ]     # w should not have elements equal the value of toRemove\u001b[0m\n\u001b[0m                ^\u001b[0m\n\u001b[0;31mSyntaxError\u001b[0m\u001b[0;31m:\u001b[0m expected 'else' after 'if' expression\n"
     ]
    }
   ],
   "source": [
    "toRemove = \"bb\"\n",
    "v = [ \"eeeee\", \"bb\", \"a\", \"dddd\", \"ccc\", \"bb\" ]\n",
    "w = [ e for e if v in e != toRemove ]     # w should not have elements equal the value of toRemove"
   ]
  },
  {
   "cell_type": "code",
   "execution_count": null,
   "id": "08f2cb98",
   "metadata": {},
   "outputs": [],
   "source": [
    "# SOLUTION\n",
    "toRemove = \"bb\"\n",
    "v = [ \"eeeee\", \"bb\", \"a\", \"dddd\", \"ccc\", \"bb\" ]\n",
    "w = [ e for e in v if e != toRemove ]\n",
    "w"
   ]
  },
  {
   "cell_type": "markdown",
   "id": "aadbe663",
   "metadata": {},
   "source": [
    "Next, generalize the last comprehension to handle a situation when `toRemove` contains more than one element.  \n",
    "Read about the `in` operator for lists and about `not` logical operator."
   ]
  },
  {
   "cell_type": "code",
   "execution_count": null,
   "id": "832e8b07",
   "metadata": {},
   "outputs": [],
   "source": [
    "toRemove = [ \"bb\", \"a\" ]\n",
    "v = [ \"eeeee\", \"bb\", \"a\", \"dddd\", \"ccc\", \"bb\" ]\n",
    "# w = [ ... for ... if ... ]     # w should *not* have elements *in* toRemove list\n",
    "w"
   ]
  },
  {
   "cell_type": "code",
   "execution_count": null,
   "id": "cc812fa9",
   "metadata": {},
   "outputs": [],
   "source": [
    "# SOLUTION\n",
    "toRemove = [ \"bb\", \"a\" ]\n",
    "v = [ \"eeeee\", \"bb\", \"a\", \"dddd\", \"ccc\", \"bb\" ]\n",
    "w = [ e for e in v if e not in toRemove ]\n",
    "w"
   ]
  },
  {
   "cell_type": "code",
   "execution_count": null,
   "id": "5883ccdc",
   "metadata": {},
   "outputs": [],
   "source": [
    "v = [ \"ababab\", \"baaab\", \"bbbaa\", \"aabba\", \"aaaab\", \"abbaa\", \"aabbb\", \"abaaa\", \"aaaaa\", \"bbbab\", \"bbbqb\", \"aaaqb\", \"bbbbq\" ]\n",
    "w = [ \"aaaqb\", \"abbaa\", \"ababab\" ]\n",
    "# ...\n",
    "# Write a statement checking whether *all* elements of w are *in* v.\n",
    "# The result should be a single True or False value."
   ]
  },
  {
   "cell_type": "code",
   "execution_count": 21,
   "id": "7add5665",
   "metadata": {},
   "outputs": [
    {
     "data": {
      "text/plain": [
       "True"
      ]
     },
     "execution_count": 21,
     "metadata": {},
     "output_type": "execute_result"
    }
   ],
   "source": [
    "# SOLUTION\n",
    "v = [ \"ababab\", \"baaab\", \"bbbaa\", \"aabba\", \"aaaab\", \"abbaa\", \"aabbb\", \"abaaa\", \"aaaaa\", \"bbbab\", \"bbbqb\", \"aaaqb\", \"bbbbq\" ]\n",
    "w = [ \"aaaqb\", \"abbaa\", \"ababab\" ]\n",
    "all( (e in v for e in w) )"
   ]
  },
  {
   "cell_type": "code",
   "execution_count": null,
   "id": "033eda83",
   "metadata": {},
   "outputs": [],
   "source": [
    "v = [ \"ababab\", \"baaab\", \"bbbaa\", \"aabba\", \"aaaab\", \"abbaa\", \"aabbb\", \"abaaa\", \"aaaaa\", \"bbbab\", \"bbbqb\", \"aaaqb\", \"bbbbq\" ]\n",
    "w = [ \"abaaa\", \"bbbab\", \"qbbbq\" ]\n",
    "# ...\n",
    "# Write a statement checking whether *any* element of w is *not in* v.\n",
    "# The result should be a single True or False value."
   ]
  },
  {
   "cell_type": "code",
   "execution_count": null,
   "id": "b3dc9005",
   "metadata": {},
   "outputs": [],
   "source": [
    "# SOLUTION\n",
    "v = [ \"ababab\", \"baaab\", \"bbbaa\", \"aabba\", \"aaaab\", \"abbaa\", \"aabbb\", \"abaaa\", \"aaaaa\", \"bbbab\", \"bbbqb\", \"aaaqb\", \"bbbbq\" ]\n",
    "w = [ \"abaaa\", \"bbbab\", \"qbbbq\" ]\n",
    "any( (e not in v for e in w) )"
   ]
  },
  {
   "attachments": {},
   "cell_type": "markdown",
   "id": "2890b03b",
   "metadata": {},
   "source": [
    "### Comprehensions with tuple elements"
   ]
  },
  {
   "attachments": {},
   "cell_type": "markdown",
   "id": "1dd5caa8",
   "metadata": {},
   "source": [
    "`zip(...)` can be used to build tuples out of elements of two iterables. Tuples of elements at the same positions can be iterated over. It also works for more than two lists."
   ]
  },
  {
   "cell_type": "code",
   "execution_count": null,
   "id": "4db93e55",
   "metadata": {},
   "outputs": [],
   "source": [
    "heights = [ 173, 179, 167, 195, 173, 184, 162, 169 ]  # 8 persons\n",
    "weights = [ 57, 58, 62, 84, 64, 74, 57, 44 ]          # same 8 persons, same order\n",
    "zip( heights, weights )                # this is a generator of ( height, weight ) tuples\n",
    "list( zip( heights, weights ) )        # when converted to list you see the tuples\n",
    "# ...\n",
    "# Write a statement generating list of BMIs for the 8 persons.\n",
    "# Hint: [ ... for h, v in ... ]"
   ]
  },
  {
   "cell_type": "code",
   "execution_count": null,
   "id": "aefd415b",
   "metadata": {},
   "outputs": [],
   "source": [
    "# SOLUTION\n",
    "heights = [ 173, 179, 167, 195, 173, 184, 162, 169 ]  # 8 persons\n",
    "weights = [ 57, 58, 62, 84, 64, 74, 57, 44 ]          # same 8 persons, same order\n",
    "zip( heights, weights )                # this is a generator of ( height, weight ) tuples\n",
    "[w/((h/100)**2) for h, w in zip( heights, weights )]\n"
   ]
  },
  {
   "cell_type": "markdown",
   "id": "75668aa6",
   "metadata": {},
   "source": [
    "`enumerate(...)` adds information at which index an element is:"
   ]
  },
  {
   "cell_type": "code",
   "execution_count": null,
   "id": "5841eb5e",
   "metadata": {},
   "outputs": [],
   "source": [
    "heights = [ 173, 179, 167, 195, 173, 184, 162, 169 ]  # 8 persons\n",
    "enumerate( heights )                   # this is a generator of ( index, element ) tuple pairs\n",
    "tuple( enumerate( heights ) )          # do you understand this result?"
   ]
  },
  {
   "attachments": {},
   "cell_type": "markdown",
   "id": "bdb8d343",
   "metadata": {},
   "source": [
    "### Indexing nested list"
   ]
  },
  {
   "attachments": {},
   "cell_type": "markdown",
   "id": "bdb1fc21",
   "metadata": {},
   "source": [
    "Let's consider the following nested list:"
   ]
  },
  {
   "cell_type": "code",
   "execution_count": 23,
   "id": "9010b80c",
   "metadata": {},
   "outputs": [
    {
     "data": {
      "text/plain": [
       "['a',\n",
       " ['ba', ['bba', 'bbb'], 'bc', ['bda', 'bdb'], 'be'],\n",
       " 'c',\n",
       " [['daa', 'dab']]]"
      ]
     },
     "execution_count": 23,
     "metadata": {},
     "output_type": "execute_result"
    }
   ],
   "source": [
    "nestedList = [ \"a\", [ \"ba\", [ \"bba\", \"bbb\" ], \"bc\", [ \"bda\", \"bdb\" ], \"be\" ], \"c\", [ [ \"daa\", \"dab\" ] ] ]\n",
    "nestedList"
   ]
  },
  {
   "attachments": {},
   "cell_type": "markdown",
   "id": "f32063a7",
   "metadata": {},
   "source": [
    "Without running the code do you know what will be the result of each of the following indexing?"
   ]
  },
  {
   "cell_type": "code",
   "execution_count": null,
   "id": "b68e1fa3",
   "metadata": {},
   "outputs": [],
   "source": [
    "# SOLUTION\n",
    "# nestedList[2]\n",
    "# nestedList[1:2]\n",
    "# nestedList[1][1]\n",
    "# nestedList[3][0][1]\n",
    "# nestedList[2][0]\n",
    "# nestedList[3][0][0][2]\n",
    "# nestedList[3][0][0][2::-1]"
   ]
  },
  {
   "cell_type": "code",
   "execution_count": null,
   "id": "ec0f49ed",
   "metadata": {},
   "outputs": [],
   "source": []
  }
 ],
 "metadata": {
  "kernelspec": {
   "display_name": "Python 3",
   "language": "python",
   "name": "python3"
  },
  "language_info": {
   "codemirror_mode": {
    "name": "ipython",
    "version": 3
   },
   "file_extension": ".py",
   "mimetype": "text/x-python",
   "name": "python",
   "nbconvert_exporter": "python",
   "pygments_lexer": "ipython3",
   "version": "3.12.8"
  }
 },
 "nbformat": 4,
 "nbformat_minor": 5
}
