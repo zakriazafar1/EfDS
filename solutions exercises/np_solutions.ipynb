{
 "cells": [
  {
   "cell_type": "markdown",
   "metadata": {
    "collapsed": false
   },
   "source": [
    "## Exercises"
   ]
  },
  {
   "cell_type": "code",
   "execution_count": 19,
   "metadata": {
    "ExecuteTime": {
     "end_time": "2025-03-08T19:06:32.519637Z",
     "start_time": "2025-03-08T19:06:32.517098Z"
    },
    "collapsed": false
   },
   "outputs": [],
   "source": [
    "import numpy as np"
   ]
  },
  {
   "cell_type": "markdown",
   "metadata": {
    "collapsed": false
   },
   "source": [
    "### Create arrays\n",
    "\n",
    "- 1-dimensional array over the range 11, 14, 17, 20, ..., 50. In addition show the type, size, shape and number of dimensions of the array.\n"
   ]
  },
  {
   "cell_type": "code",
   "execution_count": 20,
   "metadata": {
    "ExecuteTime": {
     "end_time": "2025-03-08T19:06:53.150752Z",
     "start_time": "2025-03-08T19:06:53.147394Z"
    },
    "collapsed": false
   },
   "outputs": [
    {
     "data": {
      "text/plain": [
       "(dtype('int64'), 14, (14,), 1)"
      ]
     },
     "execution_count": 20,
     "metadata": {},
     "output_type": "execute_result"
    }
   ],
   "source": [
    "arr1d = np.arange(11, 51, 3)\n",
    "arr1d.dtype,arr1d.size, arr1d.shape, arr1d.ndim"
   ]
  },
  {
   "cell_type": "markdown",
   "metadata": {},
   "source": [
    "- 2-dimensional array of boolean type with shape=(5,3) and all set to False."
   ]
  },
  {
   "cell_type": "code",
   "execution_count": 21,
   "metadata": {
    "ExecuteTime": {
     "end_time": "2025-03-08T19:07:35.531772Z",
     "start_time": "2025-03-08T19:07:35.529236Z"
    },
    "collapsed": false
   },
   "outputs": [
    {
     "data": {
      "text/plain": [
       "array([[False, False, False],\n",
       "       [False, False, False],\n",
       "       [False, False, False],\n",
       "       [False, False, False],\n",
       "       [False, False, False]])"
      ]
     },
     "execution_count": 21,
     "metadata": {},
     "output_type": "execute_result"
    }
   ],
   "source": [
    "# 0 => False\n",
    "np.zeros((5,3),dtype=bool)\n",
    "# ~ (1 => True) => False\n",
    "~np.ones((5,3),dtype=bool)\n"
   ]
  },
  {
   "cell_type": "markdown",
   "metadata": {},
   "source": [
    "- 2-dimensional array of shape=(9,3) of the alphabet a..z."
   ]
  },
  {
   "cell_type": "code",
   "execution_count": 22,
   "metadata": {
    "ExecuteTime": {
     "end_time": "2025-03-08T19:12:47.087719Z",
     "start_time": "2025-03-08T19:12:47.084489Z"
    },
    "collapsed": false
   },
   "outputs": [
    {
     "data": {
      "text/plain": [
       "array([['a', 'b', 'c'],\n",
       "       ['d', 'e', 'f'],\n",
       "       ['g', 'h', 'i'],\n",
       "       ['j', 'k', 'l'],\n",
       "       ['m', 'n', 'o'],\n",
       "       ['p', 'q', 'r'],\n",
       "       ['s', 't', 'u'],\n",
       "       ['v', 'w', 'x'],\n",
       "       ['y', 'z', '']], dtype='<U1')"
      ]
     },
     "execution_count": 22,
     "metadata": {},
     "output_type": "execute_result"
    }
   ],
   "source": [
    "# You'll need to pad the list to fit the shape.\n",
    "np.array(list('abcdefghijklmnopqrstuvwxyz') + [\"\"]).reshape(9,3)"
   ]
  },
  {
   "cell_type": "markdown",
   "metadata": {},
   "source": [
    "\n",
    "- The two 3-dimensional arrays are filled with identical data but different orders. Without running the code predict the layout of the array."
   ]
  },
  {
   "cell_type": "code",
   "execution_count": 23,
   "metadata": {
    "ExecuteTime": {
     "end_time": "2025-03-06T15:27:15.991983Z",
     "start_time": "2025-03-06T15:27:15.989185Z"
    }
   },
   "outputs": [
    {
     "data": {
      "text/plain": [
       "array([[[ 5,  3],\n",
       "        [16, 11]],\n",
       "\n",
       "       [[ 9, 14],\n",
       "        [12, 13]]])"
      ]
     },
     "execution_count": 23,
     "metadata": {},
     "output_type": "execute_result"
    }
   ],
   "source": [
    "arr_c = np.array([ 5,  9, 16, 12,  3, 14, 11, 13]).reshape((2,2,2), order='C')\n",
    "arr_f = np.array([ 5,  9, 16, 12,  3, 14, 11, 13]).reshape((2,2,2), order='F')\n",
    "arr_f"
   ]
  },
  {
   "cell_type": "markdown",
   "metadata": {},
   "source": [
    "`order='C'`:\n",
    "\n",
    "```\n",
    "[...]\n",
    "```\n",
    "\n",
    "`order='F'`:\n",
    "\n",
    "```\n",
    "[...]\n",
    "```"
   ]
  },
  {
   "cell_type": "markdown",
   "metadata": {
    "collapsed": false
   },
   "source": [
    "## Array indices\n",
    "\n",
    "The exercises below cover array *access* and *assignments* using indices and slices."
   ]
  },
  {
   "cell_type": "markdown",
   "metadata": {
    "collapsed": false
   },
   "source": [
    "- Given the 2-dimensional array *arr2d* below, fetch the following elements fetch:\n",
    "    - single elements:  'e', 'g'\n",
    "    - [e,f]\n",
    "    - [h,e,b]\n",
    "    - [h,i]\n",
    "    - [d,b,f,h]"
   ]
  },
  {
   "cell_type": "code",
   "execution_count": 24,
   "metadata": {
    "ExecuteTime": {
     "end_time": "2025-03-08T19:26:34.623819Z",
     "start_time": "2025-03-08T19:26:34.620663Z"
    },
    "collapsed": false
   },
   "outputs": [
    {
     "data": {
      "text/plain": [
       "array(['d', 'b', 'f', 'h'], dtype='<U1')"
      ]
     },
     "execution_count": 24,
     "metadata": {},
     "output_type": "execute_result"
    }
   ],
   "source": [
    "arr2d = np.array(list(\"abcdefghi\")).reshape(3,3)\n",
    "arr2d[1,1], arr2d[2,0]\n",
    "arr2d[1,1:]\n",
    "arr2d[:,1][::-1]\n",
    "arr2d[-1,1:]\n",
    "arr2d[[1,0,1,2],[0,1,2,1]]"
   ]
  },
  {
   "cell_type": "markdown",
   "metadata": {
    "collapsed": false
   },
   "source": [
    "- Given the 3-dimensional array arr3d:\n",
    "    - fetch:\n",
    "        - [[19,20],[22,23]]\n",
    "        - [[9,12,15],[11,14,17]]\n",
    "    - swap\n",
    "        - on axis-0 the 2nd and the 3rd elements\n",
    "        - the 1st and the 3rd element of all elements on axis-0\n",
    "        - repeat the previous swap but now only on the 1st element of axis-0"
   ]
  },
  {
   "cell_type": "code",
   "execution_count": 25,
   "metadata": {
    "ExecuteTime": {
     "end_time": "2025-03-08T19:49:51.737758Z",
     "start_time": "2025-03-08T19:49:51.734253Z"
    },
    "collapsed": false
   },
   "outputs": [
    {
     "data": {
      "text/plain": [
       "array([[[ 0,  1,  2],\n",
       "        [ 3,  4,  5],\n",
       "        [ 6,  7,  8]],\n",
       "\n",
       "       [[15, 16, 17],\n",
       "        [12, 13, 14],\n",
       "        [ 9, 10, 11]],\n",
       "\n",
       "       [[18, 19, 20],\n",
       "        [21, 22, 23],\n",
       "        [24, 25, 26]]])"
      ]
     },
     "execution_count": 25,
     "metadata": {},
     "output_type": "execute_result"
    }
   ],
   "source": [
    "arr3d = np.arange(3*3*3).reshape(3,3,3)\n",
    "#\n",
    "arr3d[2,:2,1:]\n",
    "#\n",
    "arr3d[1,:,[0,2]]\n",
    "#\n",
    "np.stack([arr3d[1,:,i] for i in [0,2]])\n",
    "#\n",
    "arr3d[[0,2,1]]\n",
    "# alternatively\n",
    "# arr3d[:,[2,1,0],:]\n",
    "#\n",
    "np.stack([arr3d[0], arr3d[1,[2,1,0],:], arr3d[2]])"
   ]
  },
  {
   "cell_type": "markdown",
   "metadata": {},
   "source": [
    "- Make a copy of `arr3d` from previous exercise and set its odd values to -1."
   ]
  },
  {
   "cell_type": "code",
   "execution_count": 26,
   "metadata": {
    "ExecuteTime": {
     "end_time": "2025-03-09T09:34:10.254192Z",
     "start_time": "2025-03-09T09:34:10.250038Z"
    },
    "collapsed": false
   },
   "outputs": [
    {
     "data": {
      "text/plain": [
       "array([[[ 0, -1,  2],\n",
       "        [-1,  4, -1],\n",
       "        [ 6, -1,  8]],\n",
       "\n",
       "       [[-1, 10, -1],\n",
       "        [12, -1, 14],\n",
       "        [-1, 16, -1]],\n",
       "\n",
       "       [[18, -1, 20],\n",
       "        [-1, 22, -1],\n",
       "        [24, -1, 26]]])"
      ]
     },
     "execution_count": 26,
     "metadata": {},
     "output_type": "execute_result"
    }
   ],
   "source": [
    "arr3d_copy = arr3d.copy()\n",
    "arr3d_copy[arr3d % 2 != 0] = -1\n",
    "arr3d_copy"
   ]
  },
  {
   "cell_type": "markdown",
   "metadata": {
    "collapsed": false
   },
   "source": [
    "- Implement the function *identity_(n)* that generates the identity matrix of size *n*. You can check you results with the build-in `numpy.identity` function."
   ]
  },
  {
   "cell_type": "code",
   "execution_count": 27,
   "metadata": {
    "collapsed": false
   },
   "outputs": [],
   "source": [
    "def identity_(n):\n",
    "    \"\"\"\n",
    "    Generate an identity matrix of size n x n.\n",
    "\n",
    "    Returns:\n",
    "        (n x n) ndarray\n",
    "    \"\"\"\n",
    "    im = np.zeros((n,n))\n",
    "    im[np.arange(n),np.arange(n)] = 1\n",
    "    return im"
   ]
  },
  {
   "cell_type": "markdown",
   "metadata": {
    "collapsed": false
   },
   "source": [
    "- Create the array [5, 5, 5, 3, 3, 3, 5, 7, 5, 7, 5, 7] (ref: numpy.repeat, numpy.tile):"
   ]
  },
  {
   "cell_type": "code",
   "execution_count": 28,
   "metadata": {
    "ExecuteTime": {
     "end_time": "2025-03-09T09:41:17.198246Z",
     "start_time": "2025-03-09T09:41:17.195557Z"
    },
    "collapsed": false
   },
   "outputs": [
    {
     "data": {
      "text/plain": [
       "array([5, 5, 5, 3, 3, 3, 5, 7, 5, 7, 5, 7])"
      ]
     },
     "execution_count": 28,
     "metadata": {},
     "output_type": "execute_result"
    }
   ],
   "source": [
    "np.concatenate((np.repeat([5,3],3), np.tile([5,7],3)))"
   ]
  },
  {
   "cell_type": "markdown",
   "metadata": {},
   "source": [
    "- Create a (8,8) two-dimensional array to represent a chessboard filled with 0 and 1 representing black and white squares respectively. Make sure the orientation is correct with leading diagonal set to white."
   ]
  },
  {
   "cell_type": "code",
   "execution_count": 29,
   "metadata": {
    "ExecuteTime": {
     "end_time": "2025-03-08T12:02:20.769766Z",
     "start_time": "2025-03-08T12:02:20.765383Z"
    }
   },
   "outputs": [
    {
     "data": {
      "text/plain": [
       "array([[1, 0, 1, 0, 1, 0, 1, 0],\n",
       "       [0, 1, 0, 1, 0, 1, 0, 1],\n",
       "       [1, 0, 1, 0, 1, 0, 1, 0],\n",
       "       [0, 1, 0, 1, 0, 1, 0, 1],\n",
       "       [1, 0, 1, 0, 1, 0, 1, 0],\n",
       "       [0, 1, 0, 1, 0, 1, 0, 1],\n",
       "       [1, 0, 1, 0, 1, 0, 1, 0],\n",
       "       [0, 1, 0, 1, 0, 1, 0, 1]])"
      ]
     },
     "execution_count": 29,
     "metadata": {},
     "output_type": "execute_result"
    }
   ],
   "source": [
    "# Possible solutions\n",
    "#\n",
    "# (1) np.tile\n",
    "np.tile(np.array([[1,0],[0,1]] ),(4,4))\n",
    "# (2) np.repeat\n",
    "row = np.repeat(np.array([[0, 1]]),4, axis=0).flatten()\n",
    "np.array([row[::-1] if i%2==0 else row for i in range(8)])\n",
    "# (3) ???"
   ]
  },
  {
   "cell_type": "markdown",
   "metadata": {},
   "source": [
    "- Implement the function `grid_x(n)` based on the description below. Make use of numpy functions and vectorisation capability to avoid looping."
   ]
  },
  {
   "cell_type": "code",
   "execution_count": 30,
   "metadata": {
    "ExecuteTime": {
     "end_time": "2025-03-08T20:21:08.345015Z",
     "start_time": "2025-03-08T20:21:08.342737Z"
    }
   },
   "outputs": [],
   "source": [
    "def grid_x(n):\n",
    "    \"\"\"\n",
    "    Generates a 2D grid of specified size (n x n) with an 'X' shape pattern\n",
    "    represented by \"#\" symbols. All other cells in the grid are represented\n",
    "    by \".\".\n",
    "\n",
    "    Parameters\n",
    "    ----------\n",
    "    n : int\n",
    "        The size of the grid. Must be a positive integer.\n",
    "\n",
    "    Returns\n",
    "    -------\n",
    "    (n x n) numpy.ndarray containing the X pattern.\n",
    "\n",
    "    \"\"\"\n",
    "    cond = (np.identity(5,dtype=\"?\") | np.flip(np.identity(5, dtype=\"?\"),axis=1))\n",
    "    return np.where(cond,\"#\",\".\")"
   ]
  },
  {
   "cell_type": "markdown",
   "metadata": {},
   "source": [
    "## Tic-tac-toe\n",
    "\n",
    "Tic-tac-toe is a classic two-player game played on a 3x3 grid. Players take turns marking empty squares, one with an \"X\" and the other with an \"O\". The objective is to be the first to form a horizontal, vertical, or diagonal line of three consecutive marks. If all squares are filled without achieving this, the game ends in a draw.\n",
    "\n",
    "\n",
    "- Implement the class TicTacToe with a method `play`. It is an interactive game, a possible scenario:\n",
    "\n",
    "```\n",
    "ttt = TicTacToe() # TicTacToe instance 'ttt'\n",
    "[out]\n",
    "0 | 0 | 0\n",
    "---------\n",
    "0 | 0 | 0\n",
    "---------\n",
    "0 | 0 | 0\n",
    "Player 1's turn:\n",
    "\n",
    "ttt.play((0,0)) # player 1\n",
    "[out]\n",
    "1 | 0 | 0\n",
    "---------\n",
    "0 | 0 | 0\n",
    "---------\n",
    "0 | 0 | 0\n",
    "Player 2's turn:\n",
    "\n",
    "ttt.play((0,1)) # player 2\n",
    "[out]\n",
    "1 | 2 | 0\n",
    "---------\n",
    "0 | 0 | 0\n",
    "---------\n",
    "0 | 0 | 0\n",
    "Player 1's turn:\n",
    "\n",
    "...\n",
    "...\n",
    "\n",
    "Player 1's turn:\n",
    "1 | 2 | 2\n",
    "---------\n",
    "0 | 1 | 0\n",
    "---------\n",
    "0 | 0 | 1\n",
    "Winner is player 1\n",
    "```\n",
    "\n",
    "- Upgrade the class to enable playing against the computer, a random move will suffice.\n"
   ]
  },
  {
   "cell_type": "code",
   "execution_count": 31,
   "metadata": {
    "ExecuteTime": {
     "end_time": "2025-03-09T13:36:10.806042Z",
     "start_time": "2025-03-09T13:36:10.798021Z"
    }
   },
   "outputs": [
    {
     "name": "stdout",
     "output_type": "stream",
     "text": [
      "0 | 0 | 0\n",
      "---------\n",
      "0 | 0 | 0\n",
      "---------\n",
      "0 | 0 | 0\n",
      "1 | 0 | 0\n",
      "---------\n",
      "0 | 0 | 0\n",
      "---------\n",
      "0 | 0 | 0\n",
      "Player 2's turn:\n",
      "1 | 2 | 0\n",
      "---------\n",
      "0 | 0 | 0\n",
      "---------\n",
      "0 | 0 | 0\n",
      "Player 1's turn:\n",
      "1 | 2 | 0\n",
      "---------\n",
      "0 | 1 | 0\n",
      "---------\n",
      "0 | 0 | 0\n",
      "Player 2's turn:\n",
      "1 | 2 | 2\n",
      "---------\n",
      "0 | 1 | 0\n",
      "---------\n",
      "0 | 0 | 0\n",
      "Player 1's turn:\n",
      "1 | 2 | 2\n",
      "---------\n",
      "0 | 1 | 0\n",
      "---------\n",
      "0 | 0 | 1\n",
      "Winner is player 1\n"
     ]
    }
   ],
   "source": [
    "\n",
    "class TicTacToe:\n",
    "    \"\"\"\n",
    "    A class representing a Tic Tac Toe game.\n",
    "\n",
    "    This class provides functionality to play a game of Tic Tac Toe, including board management,\n",
    "    player turn alternation, move validation, winner determination, and the ability to reset the\n",
    "    game. The board is a 3x3 grid represented as a NumPy array, and the game can be played\n",
    "    interactively between two players. There is also an option to make random moves programmatically.\n",
    "    \"\"\"\n",
    "\n",
    "    def __init__(self, quiet=False):\n",
    "        self.board = np.zeros((3,3), dtype=int)\n",
    "        self.turn = self._alternate()\n",
    "        self.player = next(self.turn) # player 1 starts\n",
    "        self.winner = None\n",
    "        self.moves = 0\n",
    "        self.quiet = quiet\n",
    "\n",
    "        if not self.quiet:\n",
    "            self.display()\n",
    "\n",
    "    @staticmethod\n",
    "    def _alternate():\n",
    "        \"\"\"\n",
    "        This static method is a generator that alternates between the values 1 and 2 indefinitely. It\n",
    "        starts with 1, and each subsequent 'next' call to the generator will yield the next alternating value.\n",
    "\n",
    "        Returns:\n",
    "            A generator that yields alternating integers 1 and 2.\n",
    "        \"\"\"\n",
    "\n",
    "        while True:\n",
    "            yield 1\n",
    "            yield 2\n",
    "\n",
    "    def display(self):\n",
    "        \"\"\"\n",
    "        This method displays the current state of the game board, including all moves\n",
    "        made so far. It specifies how many moves have been made and which player has\n",
    "        just taken their turn. The board is presented in a formatted grid layout,\n",
    "        with rows separated by horizontal lines for better readability.\n",
    "\n",
    "        Example:\n",
    "\n",
    "            Current state of the board after 4 moves, player 2 has just played:\n",
    "            1 | 0 | 0\n",
    "            ---------\n",
    "            0 | 1 | 2\n",
    "            ---------\n",
    "            0 | 2 | 0\n",
    "\n",
    "        \"\"\"\n",
    "\n",
    "        r_ = [\" | \".join(map(str, row)) for row in self.board]\n",
    "        hl = \"\\n\" + \"-\" * len(r_[0]) + \"\\n\"\n",
    "        print(hl.join(r_))\n",
    "\n",
    "    def play(self, position: tuple[int, int]):\n",
    "        \"\"\"\n",
    "        Updates the game state with a new move at the given position.\n",
    "\n",
    "        The function performs checks to ensure the game is ongoing and the specified\n",
    "        move is valid. Based on the move's outcome, it updates the board, switches the\n",
    "        current player, evaluates for a winner, and displays the newly updated game\n",
    "        state.\n",
    "\n",
    "        Parameters:\n",
    "            position (tuple[int, int]): A tuple containing the row and column indices\n",
    "            of the board where the move is being made.\n",
    "\n",
    "        Raises:\n",
    "            Warning: If the specified move is invalid, such as choosing an occupied\n",
    "            cell or a position out of range.\n",
    "        \"\"\"\n",
    "\n",
    "\n",
    "        row, col = position\n",
    "        if self.winner is not None:\n",
    "            print(\"Game already over, reset the game to play again !\")\n",
    "        elif row < 3 or col < 3:\n",
    "            if self.board[row, col] == 0:\n",
    "                self.board[row, col] = self.player\n",
    "                self.moves += 1\n",
    "                self.player = next(self.turn)\n",
    "                if not self.quiet:\n",
    "                    self.display()\n",
    "                if self.check():\n",
    "                    if not self.quiet:\n",
    "                        print(f\"Winner is player {self.winner}\")\n",
    "                elif self.winner is None and self.moves == 9:\n",
    "                    self.winner = 0\n",
    "                    if not self.quiet:\n",
    "                        print(\"Draw\")\n",
    "                else:\n",
    "                    pass\n",
    "            else:\n",
    "                print(\"Invalid move, choose an empty cell !\")\n",
    "        else:\n",
    "            print(\"Invalid move, choose a position in range !\")\n",
    "\n",
    "    def check(self):\n",
    "        \"\"\"\n",
    "        Check if there is a winner in the game.\n",
    "\n",
    "        This method determines if there is a winner by checking rows, columns, and\n",
    "        diagonals for a consistent value representing a player.\n",
    "\n",
    "        The method iterates over each player (-1 and 1) and examines all rows, columns,\n",
    "        and both diagonals of the board to look for a winning sequence. When a winner\n",
    "        is found, the corresponding player is set as the winner, and the method exits\n",
    "        immediately with True. If no winner is detected, the method returns False.\n",
    "\n",
    "        Returns\n",
    "        -------\n",
    "        bool\n",
    "            True if a player has won, False otherwise.\n",
    "        \"\"\"\n",
    "        for player in [1, 2]:\n",
    "            for i in range(3):\n",
    "                if np.all(self.board[i, :] == player) or np.all(self.board[:, i] == player):\n",
    "                    self.winner = player\n",
    "                    return True\n",
    "            if np.all(self.board.diagonal() == player) or np.all(np.fliplr(self.board).diagonal() == player):\n",
    "                self.winner = player\n",
    "                return True\n",
    "        print(f\"Player {self.player}'s turn:\")\n",
    "        return False\n",
    "\n",
    "    def computer(self):\n",
    "        \"\"\"\n",
    "        Randomly selects an empty position on the board and updates it with a move.\n",
    "        Raises an exception if no positions are available.\n",
    "\n",
    "        Raises:\n",
    "            Exception: If there are no empty positions left on the board.\n",
    "        \"\"\"\n",
    "        pos = np.argwhere(self.board == 0)\n",
    "        if pos.size > 0:\n",
    "            row, col = pos[np.random.choice(pos.shape[0]), :]\n",
    "            self.play((row, col))\n",
    "        else:\n",
    "            raise Exception(\"No possible moves on the board !\")\n",
    "\n",
    "    def reset(self):\n",
    "        self.board = np.zeros((3,3), dtype=int)\n",
    "        self.turn = self._alternate()\n",
    "        self.player = next(self.turn) # player 1 starts\n",
    "        self.winner = None\n",
    "        self.moves = 0\n",
    "\n",
    "    def sim(self):\n",
    "        self.reset()\n",
    "        for i in range(9):\n",
    "            self.computer()\n",
    "        return self.winner\n",
    "\n",
    "\n",
    "np.random.seed(42)\n",
    "ttt = TicTacToe() # TicTacToe instance 'ttt'\n",
    "ttt.play((0,0)) # player 1\n",
    "ttt.play((0,1)) # player 2\n",
    "ttt.play((1,1)) # player 1\n",
    "ttt.play((0,2)) # player 2\n",
    "ttt.play((2,2)) # player 1"
   ]
  },
  {
   "cell_type": "markdown",
   "metadata": {
    "collapsed": false
   },
   "source": [
    "## Random generator"
   ]
  },
  {
   "cell_type": "code",
   "execution_count": 32,
   "metadata": {
    "ExecuteTime": {
     "end_time": "2025-03-09T09:57:04.878494Z",
     "start_time": "2025-03-09T09:57:04.875931Z"
    },
    "collapsed": false
   },
   "outputs": [],
   "source": [
    "from numpy.random import default_rng\n",
    "rng = default_rng(12345)"
   ]
  },
  {
   "cell_type": "markdown",
   "metadata": {
    "collapsed": false
   },
   "source": [
    "- Create a 1-dimensional array of random integers, range [0,100), of size 20. Test (True or False) whether the array contains any odd integers. Finally, count the number of odd integers."
   ]
  },
  {
   "cell_type": "code",
   "execution_count": 33,
   "metadata": {
    "ExecuteTime": {
     "end_time": "2025-03-09T09:50:39.252155Z",
     "start_time": "2025-03-09T09:50:39.249306Z"
    },
    "collapsed": false
   },
   "outputs": [
    {
     "data": {
      "text/plain": [
       "array([69, 22, 78, 31, 20, 79, 64, 67, 98, 39, 83, 33, 56, 59, 21, 18, 22,\n",
       "       67, 61, 94])"
      ]
     },
     "execution_count": 33,
     "metadata": {},
     "output_type": "execute_result"
    }
   ],
   "source": [
    "arr1d = rng.integers(100, size=20)  # 20 random integers out of [0,100)\n",
    "(arr1d % 2 != 0).any()              # any odd integer?\n",
    "(arr1d % 2 == 0).sum()              # count of even integers\n",
    "arr1d"
   ]
  },
  {
   "cell_type": "markdown",
   "metadata": {
    "collapsed": false
   },
   "source": [
    "## Summary\n",
    "\n",
    "1. Create a two-dimensional array of random integers over the range [0,100) with shape (8,4).\n",
    "2. Calculate the following summaries on axis=0:\n",
    "\n",
    "    - minimum, maximum, mean and median\n",
    "    - 1st and 3rd quartile.\n",
    "\n",
    "3. Write the function *summary* which takes a 2-dimensional array as input and produces an R like summary as shown below:\n",
    "\n",
    "```\n",
    "       0              1               2               3\n",
    " Min.   :13.0   Min.   :24.00   Min.   :10.00   Min.   :11.00\n",
    " 1st Qu.:42.5   1st Qu.:40.75   1st Qu.:46.00   1st Qu.:26.00\n",
    " Median :67.0   Median :76.50   Median :71.00   Median :34.50\n",
    " Mean   :60.0   Mean   :67.12   Mean   :64.75   Mean   :42.88\n",
    " 3rd Qu.:81.5   3rd Qu.:93.00   3rd Qu.:95.00   3rd Qu.:61.25\n",
    " Max.   :97.0   Max.   :97.00   Max.   :98.00   Max.   :86.00\n",
    "```"
   ]
  },
  {
   "cell_type": "code",
   "execution_count": 34,
   "metadata": {
    "ExecuteTime": {
     "end_time": "2025-03-09T09:57:12.667739Z",
     "start_time": "2025-03-09T09:57:12.662240Z"
    },
    "collapsed": false
   },
   "outputs": [
    {
     "data": {
      "text/plain": [
       "array([71.5 , 66.75, 60.5 , 82.75])"
      ]
     },
     "execution_count": 34,
     "metadata": {},
     "output_type": "execute_result"
    }
   ],
   "source": [
    "# 1)\n",
    "arr2d = rng.integers(0,100,size=(8,4))\n",
    "# 2)\n",
    "np.min(arr2d,axis=0)\n",
    "np.max(arr2d,axis=0)\n",
    "np.mean(arr2d,axis=0)\n",
    "np.median(arr2d,axis=0)\n",
    "np.quantile(arr2d,0.25, axis=0)\n",
    "np.quantile(arr2d,0.75, axis=0)"
   ]
  },
  {
   "cell_type": "code",
   "execution_count": 17,
   "metadata": {
    "ExecuteTime": {
     "end_time": "2025-03-09T09:53:19.646616Z",
     "start_time": "2025-03-09T09:53:19.641872Z"
    },
    "collapsed": false
   },
   "outputs": [],
   "source": [
    "# Solutions 1\n",
    "# Here only the NumPy aggregate functions part is implemented and the data is returned\n",
    "# as NumPy array.\n",
    "\n",
    "def summary(x):\n",
    "    \"\"\"\n",
    "    Report a summary for each variable (column) in the 2-dimensional array. The summary includes\n",
    "    minimum, first quartile, median, mean, third quartile and maximum.\n",
    "\n",
    "    :param x: 2-dimensional array\n",
    "    :return: 2-dimensional array of summaries per aggregate\n",
    "    \"\"\"\n",
    "    if x.ndim == 2:\n",
    "        aggregates = np.stack( [np.min(x,axis=0),              # minimum\n",
    "                                np.quantile(x, 0.25, axis=0),  # 1st quartile\n",
    "                                np.median(x,axis=0),           # 2nd quartile\n",
    "                                np.mean(x,axis=0),             # mean\n",
    "                                np.quantile(x, 0.75, axis=0),  # 3rd quartile\n",
    "                                np.max(x,axis=0)],             # maximum\n",
    "                               axis=0)\n",
    "\n",
    "        return aggregates\n",
    "    else:\n",
    "        raise Exception(\"Only 2-dimensional arrays are supported !\")"
   ]
  },
  {
   "cell_type": "code",
   "execution_count": null,
   "metadata": {
    "collapsed": false
   },
   "outputs": [],
   "source": [
    "# Solutions 2\n",
    "# Here the summaries are calculated and the results are formatted and printed on screen.\n",
    "#\n",
    "import math\n",
    "\n",
    "def summary(x):\n",
    "    \"\"\"\n",
    "    Report a summary for each variable (column) in the 2-dimensional array. The summary includes\n",
    "    minimum, first quartile, median, mean, third quartile and maximum.\n",
    "\n",
    "    :param x: 2-dimensional array\n",
    "    :return: None\n",
    "    \"\"\"\n",
    "    if x.ndim == 2:\n",
    "        tags = [\"Min.   \", \"1st Qu.\", \"Median \", \"Mean   \", \"3rd Qu.\", \"Max.   \"]\n",
    "        aggregates = np.stack( [np.min(x,axis=0),              # minimum\n",
    "                                np.quantile(x, 0.25, axis=0),  # 1st quartile\n",
    "                                np.median(x,axis=0),           # 2nd quartile\n",
    "                                np.mean(x,axis=0),             # mean\n",
    "                                np.quantile(x, 0.75, axis=0),  # 3rd quartile\n",
    "                                np.max(x,axis=0)],             # maximum\n",
    "                               axis=0)\n",
    "        \"\"\"\n",
    "        Format the output.\n",
    "        ------------------\n",
    "\n",
    "        Printing multiple variables (columns) side by side requires that they fit inside the the line width\n",
    "        of the output cell. Therefore with more variables you'll need to introduces steps and print per step\n",
    "        a  fixed set  of columns.\n",
    "        \"\"\"\n",
    "\n",
    "        size = x.shape[1]                                           # number of variables (columns)\n",
    "        decimal_part = 3\n",
    "        num_widths = [                                              # number widths of all columns\n",
    "                       len(str(round(max(aggregates[:,i])))) +      # maximum width aggregate values\n",
    "                       decimal_part                                 # decimal part width \".00\"\n",
    "                       for i in range(aggregates.shape[0])]\n",
    "        line_width = np.get_printoptions()[\"linewidth\"]             # line width to fit output\n",
    "        gap = 5                                                     # space between column summaries\n",
    "        label_width = len(\"Min.  :\")                                # label width\n",
    "        step = line_width // (label_width + gap + max(num_widths))  # number of variables to print per row\n",
    "\n",
    "        for row in range(math.ceil(size/step)):\n",
    "            header = [s for s in np.arange(row*step,min(row*step + step,size) ).astype(\"str\")]\n",
    "            for tid in range(len(tags)):\n",
    "                line = [f\"{tags[tid]}: \" +  (f\"{aggregates[tid,i]:.2f}\".rjust(num_widths[tid]))\n",
    "                        for i in range(row*step, min(row*step + step,size) )]\n",
    "                if tid==0:\n",
    "                    print((\" \"*gap).join([str(header[i]).center(len(line[i])) for i in range(len(line))]))\n",
    "                print( (\" \" * gap).join(line) )\n",
    "    else:\n",
    "        raise Exception(\"Only 2-dimensional arrays are supported !\")"
   ]
  },
  {
   "cell_type": "markdown",
   "metadata": {
    "collapsed": false
   },
   "source": [
    "## Matrix multiplication\n",
    "\n",
    "Implement the function *mat_mult* which takes two 2-dimensional arrays and produces their product. Compare your results with the NumPy built-in operator '@'. Make sure that the function raises an exception if the matrix dimensions are incompatible."
   ]
  },
  {
   "cell_type": "code",
   "execution_count": 35,
   "metadata": {
    "ExecuteTime": {
     "end_time": "2025-03-09T10:34:09.587912Z",
     "start_time": "2025-03-09T10:34:09.585174Z"
    },
    "collapsed": false
   },
   "outputs": [],
   "source": [
    "a = rng.integers(0,10,6).reshape(3,2)\n",
    "b = rng.integers(0,10,6).reshape(2,3)"
   ]
  },
  {
   "cell_type": "code",
   "execution_count": 36,
   "metadata": {
    "ExecuteTime": {
     "end_time": "2025-03-09T10:34:11.508083Z",
     "start_time": "2025-03-09T10:34:11.503691Z"
    },
    "collapsed": false
   },
   "outputs": [
    {
     "data": {
      "text/plain": [
       "True"
      ]
     },
     "execution_count": 36,
     "metadata": {},
     "output_type": "execute_result"
    }
   ],
   "source": [
    "def mat_mul(m1,m2):\n",
    "    \"\"\"\n",
    "    Use broadcast to speed up.\n",
    "    :param m1:\n",
    "    :param m2:\n",
    "    :return: matrix m1 multiplied by  m2\n",
    "    \"\"\"\n",
    "    if m1.shape[1]==m2.shape[0]:\n",
    "        return np.array([np.sum(x * m2.T, axis=1) for x in np.split(m1,m1.shape[0])])\n",
    "    else:\n",
    "        raise Exception(\"incompatible dimensions !\")\n",
    "\n",
    "m1 = rng.integers(0,100,size=(5,7))\n",
    "m2 = rng.integers(0,100,size=(7,10))\n",
    "np.array_equal(mat_mul(m1,m2),  m1 @ m2)"
   ]
  },
  {
   "cell_type": "code",
   "execution_count": 97,
   "metadata": {
    "ExecuteTime": {
     "end_time": "2025-03-09T10:34:27.084973Z",
     "start_time": "2025-03-09T10:34:14.844315Z"
    },
    "collapsed": false
   },
   "outputs": [
    {
     "name": "stdout",
     "output_type": "stream",
     "text": [
      "15.1 μs ± 260 ns per loop (mean ± std. dev. of 7 runs, 100,000 loops each)\n"
     ]
    }
   ],
   "source": [
    "%timeit mat_mul(m1,m2)"
   ]
  },
  {
   "cell_type": "code",
   "execution_count": 98,
   "metadata": {
    "ExecuteTime": {
     "end_time": "2025-03-09T10:34:51.333001Z",
     "start_time": "2025-03-09T10:34:46.339627Z"
    },
    "collapsed": false
   },
   "outputs": [
    {
     "name": "stdout",
     "output_type": "stream",
     "text": [
      "611 ns ± 5.27 ns per loop (mean ± std. dev. of 7 runs, 1,000,000 loops each)\n"
     ]
    }
   ],
   "source": [
    "# built-in matrix multiplication\n",
    "%timeit m1 @ m2"
   ]
  }
 ],
 "metadata": {
  "kernelspec": {
   "display_name": "Python 3",
   "language": "python",
   "name": "python3"
  },
  "language_info": {
   "codemirror_mode": {
    "name": "ipython",
    "version": 2
   },
   "file_extension": ".py",
   "mimetype": "text/x-python",
   "name": "python",
   "nbconvert_exporter": "python",
   "pygments_lexer": "ipython2",
   "version": "2.7.6"
  }
 },
 "nbformat": 4,
 "nbformat_minor": 0
}
