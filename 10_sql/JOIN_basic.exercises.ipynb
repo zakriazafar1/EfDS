{
 "cells": [
  {
   "cell_type": "markdown",
   "metadata": {},
   "source": [
    "# SQL joining (merging) tables (exercises)"
   ]
  },
  {
   "cell_type": "markdown",
   "id": "c8ca724f",
   "metadata": {},
   "source": [
    "## Preparation"
   ]
  },
  {
   "cell_type": "markdown",
   "id": "b171e062",
   "metadata": {},
   "source": [
    "For this section you need `chinook.db` database file and working `%sql` magic.  \n",
    "If you don't have it, please go back to the [previous section](../09_sql/connect_to_database.ipynb) and follow the instructions.  \n",
    "The following code should not produce any errors:"
   ]
  },
  {
   "cell_type": "code",
   "execution_count": 1,
   "id": "caf9845e",
   "metadata": {},
   "outputs": [
    {
     "data": {
      "text/html": [
       "<span style=\"None\">Connecting to &#x27;sqlite:///chinook.db&#x27;</span>"
      ],
      "text/plain": [
       "Connecting to 'sqlite:///chinook.db'"
      ]
     },
     "metadata": {},
     "output_type": "display_data"
    }
   ],
   "source": [
    "%load_ext sql\n",
    "%sql sqlite:///chinook.db"
   ]
  },
  {
   "cell_type": "markdown",
   "metadata": {},
   "source": [
    "## Exercise: Customer invoices"
   ]
  },
  {
   "cell_type": "markdown",
   "metadata": {},
   "source": [
    "Use `LEFT JOIN` of tables `customers` and `invoice` to build a table listing all invoices per a customer.  \n",
    "The table should have these columns:\n",
    "- `CustomerId`\n",
    "- `FirstName`\n",
    "- `LastName`\n",
    "- `InvoiceId`\n",
    "\n",
    "What would be the primary key for this table?"
   ]
  },
  {
   "cell_type": "markdown",
   "metadata": {},
   "source": [
    "## Exercise: Customers without invoices?"
   ]
  },
  {
   "cell_type": "markdown",
   "metadata": {},
   "source": [
    "Would customers without any invoice be visible in the result table produced above?\n",
    "\n",
    "Check whether such customers exist there."
   ]
  },
  {
   "cell_type": "markdown",
   "metadata": {},
   "source": [
    "## Exercise: Double join"
   ]
  },
  {
   "cell_type": "markdown",
   "metadata": {},
   "source": [
    "*In short:* For each customer we want to know totals: how many tracks were bought and for what total price.\n",
    "\n",
    "Build a temporary table `customer_summary` with the following columns:\n",
    "The table should have these columns:\n",
    "- `CustomerId` based on `customers`.\n",
    "- `TotalTracksNum` - total number of tracks bought by the customer.\n",
    "- `TotalPrice` - total sum of prices payed by the customer.\n",
    "\n",
    "Use tables `customers`, `invoice` and `invoice_items`."
   ]
  }
 ],
 "metadata": {
  "kernelspec": {
   "display_name": "Python 3",
   "language": "python",
   "name": "python3"
  },
  "language_info": {
   "codemirror_mode": {
    "name": "ipython",
    "version": 3
   },
   "file_extension": ".py",
   "mimetype": "text/x-python",
   "name": "python",
   "nbconvert_exporter": "python",
   "pygments_lexer": "ipython3",
   "version": "3.12.8"
  }
 },
 "nbformat": 4,
 "nbformat_minor": 5
}
