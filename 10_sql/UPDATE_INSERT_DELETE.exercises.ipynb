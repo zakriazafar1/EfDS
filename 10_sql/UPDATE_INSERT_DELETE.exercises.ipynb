{
 "cells": [
  {
   "cell_type": "markdown",
   "id": "b9ccf0cb",
   "metadata": {},
   "source": [
    "# SQL modification statements (exercises)"
   ]
  },
  {
   "cell_type": "markdown",
   "id": "289777c9",
   "metadata": {},
   "source": [
    "## Preparation"
   ]
  },
  {
   "cell_type": "markdown",
   "id": "b5d77242",
   "metadata": {},
   "source": [
    "For this section you need `chinook.db` database file and working `%sql` magic.  \n",
    "If you don't have it, please go back to the [previous section](../09_sql/connect_to_database.ipynb) and follow the instructions.  \n",
    "The following code should not produce any errors:"
   ]
  },
  {
   "cell_type": "code",
   "execution_count": 1,
   "id": "89d64a98",
   "metadata": {},
   "outputs": [
    {
     "data": {
      "text/html": [
       "<span style=\"None\">Connecting to &#x27;sqlite:///chinook.db&#x27;</span>"
      ],
      "text/plain": [
       "Connecting to 'sqlite:///chinook.db'"
      ]
     },
     "metadata": {},
     "output_type": "display_data"
    }
   ],
   "source": [
    "%load_ext sql\n",
    "%sql sqlite:///chinook.db"
   ]
  },
  {
   "cell_type": "markdown",
   "id": "c80e4174",
   "metadata": {},
   "source": [
    "## Exercise: updating rows"
   ]
  },
  {
   "cell_type": "markdown",
   "id": "e8a9235e",
   "metadata": {},
   "source": [
    "An employee `Park Margaret` has moved to a new address: \n",
    "- `City`: `Toronto`,\n",
    "- `State`: `NO`,\n",
    "- `Postcode`: `M5P 2N7`. \n",
    "\n",
    "Update the `employee` table accordingly.  \n",
    "To verify that the change indeed is made, show the content before and after the change."
   ]
  },
  {
   "cell_type": "markdown",
   "id": "fef08ac9",
   "metadata": {},
   "source": [
    "## Exercise: adding rows"
   ]
  },
  {
   "cell_type": "markdown",
   "id": "9ae13873",
   "metadata": {},
   "source": [
    "In a single SQL command insert three new random persons into the `artists` table.  \n",
    "To verify that the change indeed is made, show the content before and after the change."
   ]
  },
  {
   "cell_type": "markdown",
   "id": "9a5d8609",
   "metadata": {},
   "source": [
    "## Exercise: removing rows"
   ]
  },
  {
   "cell_type": "markdown",
   "id": "d36bcbeb",
   "metadata": {},
   "source": [
    "Let's delete `artists` whose names contain the word `Santana`.  \n",
    "To verify that the change indeed is made, show the content before and after the change."
   ]
  }
 ],
 "metadata": {
  "kernelspec": {
   "display_name": "Python 3",
   "language": "python",
   "name": "python3"
  },
  "language_info": {
   "codemirror_mode": {
    "name": "ipython",
    "version": 3
   },
   "file_extension": ".py",
   "mimetype": "text/x-python",
   "name": "python",
   "nbconvert_exporter": "python",
   "pygments_lexer": "ipython3",
   "version": "3.12.8"
  }
 },
 "nbformat": 4,
 "nbformat_minor": 5
}
