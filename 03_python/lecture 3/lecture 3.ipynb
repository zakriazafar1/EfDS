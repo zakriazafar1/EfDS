{
 "cells": [
  {
   "cell_type": "markdown",
   "metadata": {},
   "source": [
    "RECAP LAST LECTURE"
   ]
  },
  {
   "cell_type": "code",
   "execution_count": null,
   "metadata": {},
   "outputs": [
    {
     "data": {
      "text/plain": [
       "('Tom', 'Clara', 'Eva')"
      ]
     },
     "execution_count": 3,
     "metadata": {},
     "output_type": "execute_result"
    },
    {
     "data": {
      "text/plain": [
       "('Tom', 'Clara', 'Eva')"
      ]
     },
     "execution_count": 37,
     "metadata": {},
     "output_type": "execute_result"
    }
   ],
   "source": [
    "someNames = ( \"Tom\", \"Clara\", \"Eva\" )\n",
    "someNames"
   ]
  },
  {
   "cell_type": "code",
   "execution_count": null,
   "metadata": {},
   "outputs": [
    {
     "data": {
      "text/plain": [
       "[23, 19, 19]"
      ]
     },
     "execution_count": 5,
     "metadata": {},
     "output_type": "execute_result"
    }
   ],
   "source": [
    "someAges = [ 23, 19, 19 ]\n",
    "someAges"
   ]
  },
  {
   "cell_type": "code",
   "execution_count": null,
   "metadata": {},
   "outputs": [
    {
     "data": {
      "text/plain": [
       "{'Tom': 23, 'Clara': 19, 'Eva': 19}"
      ]
     },
     "execution_count": 18,
     "metadata": {},
     "output_type": "execute_result"
    }
   ],
   "source": [
    "zip(someNames, someAges) #zip produces a generator, so it is not what we want still\n",
    "list(zip(someNames, someAges)) #list that we wanted  \n",
    "dict(zip(someNames, someAges)) #dictionary that we wanted "
   ]
  },
  {
   "cell_type": "code",
   "execution_count": null,
   "metadata": {},
   "outputs": [
    {
     "data": {
      "text/plain": [
       "{'Tom': 23, 'Clara': 19, 'Eva': 19}"
      ]
     },
     "execution_count": 20,
     "metadata": {},
     "output_type": "execute_result"
    }
   ],
   "source": [
    "{ name:age for name, age in zip(someNames, someAges) } #another way to produce the dictionary"
   ]
  },
  {
   "cell_type": "code",
   "execution_count": null,
   "metadata": {},
   "outputs": [
    {
     "data": {
      "text/plain": [
       "dict_values([23, 19, 19])"
      ]
     },
     "execution_count": 22,
     "metadata": {},
     "output_type": "execute_result"
    }
   ],
   "source": [
    "# sets = containers which dont have repeated elements\n",
    "# might be used as a tool to check what are unique values in a larger collection\n",
    "\n",
    "n2a = dict(zip(someNames, someAges))\n",
    "n2a.values()    # to get the values only in the dictionary "
   ]
  },
  {
   "cell_type": "code",
   "execution_count": null,
   "metadata": {},
   "outputs": [
    {
     "data": {
      "text/plain": [
       "{19, 23}"
      ]
     },
     "execution_count": 23,
     "metadata": {},
     "output_type": "execute_result"
    }
   ],
   "source": [
    "# to get a set with the unique values from the dictionary:\n",
    "set ( n2a.values() )"
   ]
  },
  {
   "cell_type": "markdown",
   "metadata": {},
   "source": [
    "CONDITIONAL STATEMENTS"
   ]
  },
  {
   "cell_type": "code",
   "execution_count": null,
   "metadata": {},
   "outputs": [
    {
     "name": "stdout",
     "output_type": "stream",
     "text": [
      "\n"
     ]
    },
    {
     "data": {
      "text/plain": [
       "str"
      ]
     },
     "execution_count": 34,
     "metadata": {},
     "output_type": "execute_result"
    }
   ],
   "source": [
    "txt = input()\n",
    "print( txt )\n",
    "type( txt )\n",
    "# when we use input() and then type '10' -> it is still type = string, so still a text even though you type a number as input! "
   ]
  },
  {
   "cell_type": "code",
   "execution_count": null,
   "metadata": {},
   "outputs": [
    {
     "data": {
      "text/plain": [
       "9.5"
      ]
     },
     "execution_count": 33,
     "metadata": {},
     "output_type": "execute_result"
    }
   ],
   "source": [
    "float(\"9.5\")"
   ]
  },
  {
   "cell_type": "code",
   "execution_count": 45,
   "metadata": {},
   "outputs": [
    {
     "name": "stdout",
     "output_type": "stream",
     "text": [
      "Non-positive number\n"
     ]
    }
   ],
   "source": [
    "txt = input(\"Please type a number...\") #we get type string \n",
    "num = int( txt ) #convert string/text to a number \n",
    "\n",
    "if num > 0: \n",
    "    print(\"Positive number\")  \n",
    "elif: num == 0\n",
    "    print(\"Zero\")\n",
    "else:\n",
    "    print(\"Non-positive number\")\n",
    "\n",
    "#... -> "
   ]
  },
  {
   "cell_type": "code",
   "execution_count": 52,
   "metadata": {},
   "outputs": [
    {
     "data": {
      "text/plain": [
       "'Non-positive number'"
      ]
     },
     "execution_count": 52,
     "metadata": {},
     "output_type": "execute_result"
    }
   ],
   "source": [
    "# another way to put the if else statement (more common):\n",
    "num = float( input(\"Please type a number...\" ))\n",
    "txt = \"Positive number\" if num > 0 else \"Non-positive number\" \n",
    "txt"
   ]
  },
  {
   "cell_type": "code",
   "execution_count": 51,
   "metadata": {},
   "outputs": [
    {
     "data": {
      "text/plain": [
       "['negative', 'positive', 'positive', 'negative', 'positive']"
      ]
     },
     "execution_count": 51,
     "metadata": {},
     "output_type": "execute_result"
    }
   ],
   "source": [
    "# to check for all numbers in a list: \n",
    "ns = [ -1, 0, 0, 1, 1, -1, 0, 1 ]\n",
    "[\"positive\" if n > 0 else \"negative\" for n in ns if n != 0]\n",
    "# we can also do it with a for loop maar duurt langer enz en lelijker "
   ]
  },
  {
   "cell_type": "markdown",
   "metadata": {},
   "source": [
    "FOR LOOPS"
   ]
  },
  {
   "cell_type": "code",
   "execution_count": null,
   "metadata": {},
   "outputs": [],
   "source": [
    "# Examples of iterable objects \n",
    "\n",
    "ns1 = [\"Claire\", \"Phil\", \"Haley\", \"Alex\", \"Luke\"]\n",
    "ns2 = (0xFF000, 0x00FF00, 0x0000FF, 0xFFFF00, 0xFF00FF) #colors, 0xRRGGBB \n",
    "ns3 = { \"red\":0xFF000 , \"green\":0x00FF00, \"blue\":0x0000FF }\n",
    "ns4 = \"Statistics and Data Science!\"\n",
    "ns5 = range(10)"
   ]
  },
  {
   "cell_type": "code",
   "execution_count": 57,
   "metadata": {},
   "outputs": [
    {
     "name": "stdout",
     "output_type": "stream",
     "text": [
      "Claire\n",
      "Claire\n",
      "Phil\n",
      "Phil\n",
      "Haley\n",
      "Haley\n",
      "Alex\n",
      "Alex\n",
      "Luke\n",
      "Luke\n"
     ]
    }
   ],
   "source": [
    "ns = [\"Claire\", \"Phil\", \"Haley\", \"Alex\", \"Luke\"]\n",
    "for n in ns:\n",
    "    print(n)\n",
    "    print (n)\n",
    "    # last line of the for body \n"
   ]
  },
  {
   "cell_type": "code",
   "execution_count": 59,
   "metadata": {},
   "outputs": [
    {
     "name": "stdout",
     "output_type": "stream",
     "text": [
      "Claire\n",
      "Claire\n",
      "Phil\n",
      "Haley\n",
      "Haley\n",
      "Alex\n",
      "Alex\n",
      "Luke\n",
      "Luke\n"
     ]
    }
   ],
   "source": [
    "# sometimes we want to break the iteration at a certain object -> break\n",
    "# when we want the iteration to continue after the 'break' again -> continue (it only skips Phil)\n",
    "\n",
    "ns = [\"Claire\", \"Phil\", \"Haley\", \"Alex\", \"Luke\"]\n",
    "for n in ns:\n",
    "    print(n)\n",
    "    if n == \"Phil\":\n",
    "        continue \n",
    "    print (n)"
   ]
  },
  {
   "cell_type": "code",
   "execution_count": 60,
   "metadata": {},
   "outputs": [
    {
     "name": "stdout",
     "output_type": "stream",
     "text": [
      "Claire\n",
      "Claire\n",
      "Phil\n",
      "Haley\n",
      "Haley\n",
      "Alex\n",
      "Alex\n",
      "Luke\n",
      "Luke\n",
      "The loop is done.\n"
     ]
    }
   ],
   "source": [
    "# after a for loop, we can have 'else' -> it is ALWAYS executed UNLESS we have break in the for loop\n",
    "ns = [\"Claire\", \"Phil\", \"Haley\", \"Alex\", \"Luke\"]\n",
    "for n in ns:\n",
    "    print(n)\n",
    "    if n == \"Phil\":\n",
    "        continue \n",
    "    print (n)\n",
    "else: \n",
    "    print(\"The loop is done.\")"
   ]
  },
  {
   "cell_type": "code",
   "execution_count": 72,
   "metadata": {},
   "outputs": [
    {
     "name": "stdout",
     "output_type": "stream",
     "text": [
      "Try again! :(\n",
      "You guessed the number! :)\n"
     ]
    }
   ],
   "source": [
    "# for -> use when u know the nr of iterations \n",
    "# while construct -> when u want python to iterate as long as you break it \n",
    "\n",
    "from random import randint\n",
    "numberToGuess = randint(1,6) \n",
    "\n",
    "while True:     #repeat the code below forever \n",
    "    guessedNumber = int(input(\"Please guess a number 1..6\")) \n",
    "    if guessedNumber == numberToGuess:\n",
    "        print(\"You guessed the number! :)\")\n",
    "        break\n",
    "    else:\n",
    "        print(\"Try again! :(\")\n"
   ]
  },
  {
   "cell_type": "markdown",
   "metadata": {},
   "source": [
    "FUNCTIONS"
   ]
  },
  {
   "cell_type": "code",
   "execution_count": 76,
   "metadata": {},
   "outputs": [
    {
     "data": {
      "text/plain": [
       "3.0"
      ]
     },
     "execution_count": 76,
     "metadata": {},
     "output_type": "execute_result"
    }
   ],
   "source": [
    "def myMean( ns ): \n",
    "    mean = sum(ns) / len(ns)  #calculation\n",
    "    return mean\n",
    "\n",
    "myMean( [1, 2, 3, 4, 5] ) #using the fnc "
   ]
  },
  {
   "cell_type": "code",
   "execution_count": 77,
   "metadata": {},
   "outputs": [
    {
     "data": {
      "text/plain": [
       "{'math': 7.8, 'physics': 8.666666666666666, 'philosophy': 6.375}"
      ]
     },
     "execution_count": 77,
     "metadata": {},
     "output_type": "execute_result"
    }
   ],
   "source": [
    "course2grades = {\n",
    "    \"math\": ( 7, 9, 6.5, 8, 8.5 ),\n",
    "    \"physics\": ( 9, 8.5, 9.5, 8, 7.5, 9.5 ),\n",
    "    \"philosophy\": (6, 6.5, 6, 7 )\n",
    "}\n",
    "\n",
    "{course:myMean(grades) for course, grades in course2grades.items()}"
   ]
  },
  {
   "cell_type": "code",
   "execution_count": 85,
   "metadata": {},
   "outputs": [],
   "source": [
    "# geometric mean = multiply nrs & divide by square root of the nrs ofzo\n",
    "\n",
    "from math import log, exp\n",
    "def myMean ( ns, isGeom ) :\n",
    "    if isGeom:\n",
    "       logNs = [ log(n) for n in  ns ]    \n",
    "       mean = exp(sum(logNs) / len(ns) ) #geometric mean  \n",
    "    else: \n",
    "        mean = sum(ns)/len(ns)    #arithmetic mean\n",
    "    return mean\n",
    "        \n",
    "# pass = placeholder if you want to come back to the code later, doesnt do anything"
   ]
  },
  {
   "cell_type": "code",
   "execution_count": 91,
   "metadata": {},
   "outputs": [
    {
     "data": {
      "text/plain": [
       "4.0"
      ]
     },
     "execution_count": 91,
     "metadata": {},
     "output_type": "execute_result"
    }
   ],
   "source": [
    "myMean( [ 2, 4, 8 ], True ) #geometric mean"
   ]
  },
  {
   "cell_type": "code",
   "execution_count": 90,
   "metadata": {},
   "outputs": [
    {
     "data": {
      "text/plain": [
       "4.666666666666667"
      ]
     },
     "execution_count": 90,
     "metadata": {},
     "output_type": "execute_result"
    }
   ],
   "source": [
    "myMean( [ 2, 4, 8 ], False ) #arithmetic mean "
   ]
  },
  {
   "cell_type": "code",
   "execution_count": 92,
   "metadata": {},
   "outputs": [
    {
     "data": {
      "text/plain": [
       "4.0"
      ]
     },
     "execution_count": 92,
     "metadata": {},
     "output_type": "execute_result"
    }
   ],
   "source": [
    "myMean( isGeom = True, ns = [2, 4, 8]) #another way for arithmetic mean\n",
    "# better to use name of arguments explicitly like this so the code is more readable\n",
    "# for ur own functions or complex functions"
   ]
  },
  {
   "cell_type": "markdown",
   "metadata": {},
   "source": [
    "DESCRIBING A FUNCTION"
   ]
  },
  {
   "cell_type": "code",
   "execution_count": 95,
   "metadata": {},
   "outputs": [],
   "source": [
    "from math import log, exp\n",
    "def myMean ( ns, isGeom = False):\n",
    "    \"\"\"Calculates arithmetic or geometric mean of elements in x.\"\"\"\n",
    "    if len(ns) == 0:\n",
    "        raise RuntimeError(\"The list of numbers is empty.\")\n",
    "    \n",
    "    if isGeom:\n",
    "       logNs = [ log(n) for n in  ns ]    \n",
    "       mean = exp(sum(logNs) / len(ns) ) #geometric mean  \n",
    "    else: \n",
    "        mean = sum(ns)/len(ns)    #arithmetic mean\n",
    "    return mean\n",
    "        "
   ]
  },
  {
   "cell_type": "code",
   "execution_count": 96,
   "metadata": {},
   "outputs": [
    {
     "ename": "RuntimeError",
     "evalue": "The list of numbers is empty.",
     "output_type": "error",
     "traceback": [
      "\u001b[0;31m---------------------------------------------------------------------------\u001b[0m",
      "\u001b[0;31mRuntimeError\u001b[0m                              Traceback (most recent call last)",
      "Cell \u001b[0;32mIn[96], line 1\u001b[0m\n\u001b[0;32m----> 1\u001b[0m \u001b[43mmyMean\u001b[49m\u001b[43m(\u001b[49m\u001b[43m[\u001b[49m\u001b[43m]\u001b[49m\u001b[43m)\u001b[49m\n",
      "Cell \u001b[0;32mIn[95], line 5\u001b[0m, in \u001b[0;36mmyMean\u001b[0;34m(ns, isGeom)\u001b[0m\n\u001b[1;32m      3\u001b[0m \u001b[38;5;250m\u001b[39m\u001b[38;5;124;03m\"\"\"Calculates arithmetic or geometric mean of elements in x.\"\"\"\u001b[39;00m\n\u001b[1;32m      4\u001b[0m \u001b[38;5;28;01mif\u001b[39;00m \u001b[38;5;28mlen\u001b[39m(ns) \u001b[38;5;241m==\u001b[39m \u001b[38;5;241m0\u001b[39m:\n\u001b[0;32m----> 5\u001b[0m     \u001b[38;5;28;01mraise\u001b[39;00m \u001b[38;5;167;01mRuntimeError\u001b[39;00m(\u001b[38;5;124m\"\u001b[39m\u001b[38;5;124mThe list of numbers is empty.\u001b[39m\u001b[38;5;124m\"\u001b[39m)\n\u001b[1;32m      7\u001b[0m \u001b[38;5;28;01mif\u001b[39;00m isGeom:\n\u001b[1;32m      8\u001b[0m    logNs \u001b[38;5;241m=\u001b[39m [ log(n) \u001b[38;5;28;01mfor\u001b[39;00m n \u001b[38;5;129;01min\u001b[39;00m  ns ]    \n",
      "\u001b[0;31mRuntimeError\u001b[0m: The list of numbers is empty."
     ]
    }
   ],
   "source": [
    "myMean([])"
   ]
  }
 ],
 "metadata": {
  "kernelspec": {
   "display_name": "Python 3",
   "language": "python",
   "name": "python3"
  },
  "language_info": {
   "codemirror_mode": {
    "name": "ipython",
    "version": 3
   },
   "file_extension": ".py",
   "mimetype": "text/x-python",
   "name": "python",
   "nbconvert_exporter": "python",
   "pygments_lexer": "ipython3",
   "version": "3.12.8"
  }
 },
 "nbformat": 4,
 "nbformat_minor": 2
}
